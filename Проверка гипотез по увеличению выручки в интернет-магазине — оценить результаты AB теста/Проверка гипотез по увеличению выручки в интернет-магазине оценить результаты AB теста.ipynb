{
 "cells": [
  {
   "cell_type": "markdown",
   "metadata": {},
   "source": [
    "# Принятие решений в бизнесе на основе данных"
   ]
  },
  {
   "cell_type": "markdown",
   "metadata": {},
   "source": [
    "# Описание проекта:"
   ]
  },
  {
   "cell_type": "markdown",
   "metadata": {},
   "source": [
    "**Контекст** \n",
    "\n",
    "Мы — аналитик крупного интернет-магазина. Вместе с отделом маркетинга вы подготовили список гипотез для увеличения выручки.\n",
    "Приоритизируйте гипотезы, запустите A/B-тест и проанализируйте результаты."
   ]
  },
  {
   "cell_type": "markdown",
   "metadata": {},
   "source": [
    "**Проект выполнен на платформе Яндекс-Практикум, Вяжевым Даниилом Юрьевичом от 05.05.2022**"
   ]
  },
  {
   "cell_type": "markdown",
   "metadata": {},
   "source": [
    "# Оглавление:"
   ]
  },
  {
   "cell_type": "markdown",
   "metadata": {},
   "source": [
    "<a id='content'></a>\n",
    "**[1  Шаг. Подготовка данных к анализу](#part_1)** \n",
    "* [Вывод](#part_1.1)\n",
    "\n",
    "**[2 Шаг. Часть 1 Приоритезация гипотез](#part_2)**  \n",
    "* [Вывод](#part_2.1)\n",
    "\n",
    "**[3  Шаг. Часть 2 Анализ A/B тестаз](#part_3)**  \n",
    "* [Изучим количество посещений в каждой группе](#part_3.1)\n",
    "* [Изучим количество заказов в каждой группе](#part_3.2)\n",
    "* [Приготовим таблицу с кумулятивными данными по выручке и посещениям](#part_3.3)\n",
    "* [Построим графику кумулитивного среднего чека по группам](#part_3.4)\n",
    "* [Подготовим таблицу для графика относительного изменения кумулятивного чека и построим график](#part_3.5)\n",
    "* [Изучим аномалии](#part_3.6)\n",
    "* [Изучим количество заказов](#part_3.7)\n",
    "* [Вывод](#part_3.8)\n",
    "\n",
    "**[4  Шаг. Часть 2 Статистическая значимость](#part_4)**  \n",
    "* [Сформируем таблицы с пользователями без заказов](#part_4.1)\n",
    "* [Проведение очистки данных](#part_4.2)\n",
    "* [Подготовим данные для визуализации кумулятивной выручки](#part_4.3)\n",
    "\n",
    "**[5  Шаг. Вывод](#part_4)**  "
   ]
  },
  {
   "cell_type": "markdown",
   "metadata": {},
   "source": [
    "<a id='part_1'></a>\n",
    "## Шаг. Подготовка данных к анализу "
   ]
  },
  {
   "cell_type": "code",
   "execution_count": 1,
   "metadata": {},
   "outputs": [],
   "source": [
    "# импорт необходимых библиотек и настройка jupiter\n",
    "import pandas as pd\n",
    "import matplotlib.pyplot as plt\n",
    "import math\n",
    "import seaborn as sns\n",
    "from scipy import stats as st\n",
    "import numpy as np \n",
    "import datetime as dt\n",
    "import warnings\n",
    "warnings.filterwarnings('ignore')\n",
    "\n",
    "# для отображения в jupiter всех колонок и столбцов df + сокращу количество цифр после запятой\n",
    "pd.options.display.max_colwidth = 100\n",
    "pd.set_option('display.max_columns', None)\n",
    "pd.set_option('display.max_rows', None)\n",
    "pd.set_option('display.precision',2)"
   ]
  },
  {
   "cell_type": "code",
   "execution_count": 2,
   "metadata": {},
   "outputs": [],
   "source": [
    "# загрузим таблицы и проанализируем их содержимое\n",
    "hypothesis = pd.read_csv('/datasets/hypothesis.csv')\n",
    "orders = pd.read_csv('/datasets/orders.csv')\n",
    "visitors = pd.read_csv('/datasets/visitors.csv')"
   ]
  },
  {
   "cell_type": "code",
   "execution_count": 3,
   "metadata": {},
   "outputs": [
    {
     "data": {
      "text/html": [
       "<div>\n",
       "<style scoped>\n",
       "    .dataframe tbody tr th:only-of-type {\n",
       "        vertical-align: middle;\n",
       "    }\n",
       "\n",
       "    .dataframe tbody tr th {\n",
       "        vertical-align: top;\n",
       "    }\n",
       "\n",
       "    .dataframe thead th {\n",
       "        text-align: right;\n",
       "    }\n",
       "</style>\n",
       "<table border=\"1\" class=\"dataframe\">\n",
       "  <thead>\n",
       "    <tr style=\"text-align: right;\">\n",
       "      <th></th>\n",
       "      <th>Hypothesis</th>\n",
       "      <th>Reach</th>\n",
       "      <th>Impact</th>\n",
       "      <th>Confidence</th>\n",
       "      <th>Efforts</th>\n",
       "    </tr>\n",
       "  </thead>\n",
       "  <tbody>\n",
       "    <tr>\n",
       "      <th>0</th>\n",
       "      <td>Добавить два новых канала привлечения трафика, что позволит привлекать на 30% больше пользователей</td>\n",
       "      <td>3</td>\n",
       "      <td>10</td>\n",
       "      <td>8</td>\n",
       "      <td>6</td>\n",
       "    </tr>\n",
       "    <tr>\n",
       "      <th>1</th>\n",
       "      <td>Запустить собственную службу доставки, что сократит срок доставки заказов</td>\n",
       "      <td>2</td>\n",
       "      <td>5</td>\n",
       "      <td>4</td>\n",
       "      <td>10</td>\n",
       "    </tr>\n",
       "    <tr>\n",
       "      <th>2</th>\n",
       "      <td>Добавить блоки рекомендаций товаров на сайт интернет магазина, чтобы повысить конверсию и средни...</td>\n",
       "      <td>8</td>\n",
       "      <td>3</td>\n",
       "      <td>7</td>\n",
       "      <td>3</td>\n",
       "    </tr>\n",
       "    <tr>\n",
       "      <th>3</th>\n",
       "      <td>Изменить структура категорий, что увеличит конверсию, т.к. пользователи быстрее найдут нужный товар</td>\n",
       "      <td>8</td>\n",
       "      <td>3</td>\n",
       "      <td>3</td>\n",
       "      <td>8</td>\n",
       "    </tr>\n",
       "    <tr>\n",
       "      <th>4</th>\n",
       "      <td>Изменить цвет фона главной страницы, чтобы увеличить вовлеченность пользователей</td>\n",
       "      <td>3</td>\n",
       "      <td>1</td>\n",
       "      <td>1</td>\n",
       "      <td>1</td>\n",
       "    </tr>\n",
       "  </tbody>\n",
       "</table>\n",
       "</div>"
      ],
      "text/plain": [
       "                                                                                            Hypothesis  \\\n",
       "0   Добавить два новых канала привлечения трафика, что позволит привлекать на 30% больше пользователей   \n",
       "1                            Запустить собственную службу доставки, что сократит срок доставки заказов   \n",
       "2  Добавить блоки рекомендаций товаров на сайт интернет магазина, чтобы повысить конверсию и средни...   \n",
       "3  Изменить структура категорий, что увеличит конверсию, т.к. пользователи быстрее найдут нужный товар   \n",
       "4                     Изменить цвет фона главной страницы, чтобы увеличить вовлеченность пользователей   \n",
       "\n",
       "   Reach  Impact  Confidence  Efforts  \n",
       "0      3      10           8        6  \n",
       "1      2       5           4       10  \n",
       "2      8       3           7        3  \n",
       "3      8       3           3        8  \n",
       "4      3       1           1        1  "
      ]
     },
     "metadata": {},
     "output_type": "display_data"
    },
    {
     "name": "stdout",
     "output_type": "stream",
     "text": [
      "<class 'pandas.core.frame.DataFrame'>\n",
      "RangeIndex: 9 entries, 0 to 8\n",
      "Data columns (total 5 columns):\n",
      " #   Column      Non-Null Count  Dtype \n",
      "---  ------      --------------  ----- \n",
      " 0   Hypothesis  9 non-null      object\n",
      " 1   Reach       9 non-null      int64 \n",
      " 2   Impact      9 non-null      int64 \n",
      " 3   Confidence  9 non-null      int64 \n",
      " 4   Efforts     9 non-null      int64 \n",
      "dtypes: int64(4), object(1)\n",
      "memory usage: 488.0+ bytes\n"
     ]
    },
    {
     "data": {
      "text/plain": [
       "None"
      ]
     },
     "metadata": {},
     "output_type": "display_data"
    },
    {
     "data": {
      "text/html": [
       "<div>\n",
       "<style scoped>\n",
       "    .dataframe tbody tr th:only-of-type {\n",
       "        vertical-align: middle;\n",
       "    }\n",
       "\n",
       "    .dataframe tbody tr th {\n",
       "        vertical-align: top;\n",
       "    }\n",
       "\n",
       "    .dataframe thead th {\n",
       "        text-align: right;\n",
       "    }\n",
       "</style>\n",
       "<table border=\"1\" class=\"dataframe\">\n",
       "  <thead>\n",
       "    <tr style=\"text-align: right;\">\n",
       "      <th></th>\n",
       "      <th>Reach</th>\n",
       "      <th>Impact</th>\n",
       "      <th>Confidence</th>\n",
       "      <th>Efforts</th>\n",
       "    </tr>\n",
       "  </thead>\n",
       "  <tbody>\n",
       "    <tr>\n",
       "      <th>count</th>\n",
       "      <td>9.00</td>\n",
       "      <td>9.00</td>\n",
       "      <td>9.00</td>\n",
       "      <td>9.00</td>\n",
       "    </tr>\n",
       "    <tr>\n",
       "      <th>mean</th>\n",
       "      <td>4.78</td>\n",
       "      <td>4.78</td>\n",
       "      <td>5.56</td>\n",
       "      <td>4.89</td>\n",
       "    </tr>\n",
       "    <tr>\n",
       "      <th>std</th>\n",
       "      <td>3.15</td>\n",
       "      <td>3.19</td>\n",
       "      <td>3.05</td>\n",
       "      <td>2.80</td>\n",
       "    </tr>\n",
       "    <tr>\n",
       "      <th>min</th>\n",
       "      <td>1.00</td>\n",
       "      <td>1.00</td>\n",
       "      <td>1.00</td>\n",
       "      <td>1.00</td>\n",
       "    </tr>\n",
       "    <tr>\n",
       "      <th>25%</th>\n",
       "      <td>3.00</td>\n",
       "      <td>3.00</td>\n",
       "      <td>3.00</td>\n",
       "      <td>3.00</td>\n",
       "    </tr>\n",
       "    <tr>\n",
       "      <th>50%</th>\n",
       "      <td>3.00</td>\n",
       "      <td>3.00</td>\n",
       "      <td>7.00</td>\n",
       "      <td>5.00</td>\n",
       "    </tr>\n",
       "    <tr>\n",
       "      <th>75%</th>\n",
       "      <td>8.00</td>\n",
       "      <td>7.00</td>\n",
       "      <td>8.00</td>\n",
       "      <td>6.00</td>\n",
       "    </tr>\n",
       "    <tr>\n",
       "      <th>max</th>\n",
       "      <td>10.00</td>\n",
       "      <td>10.00</td>\n",
       "      <td>9.00</td>\n",
       "      <td>10.00</td>\n",
       "    </tr>\n",
       "  </tbody>\n",
       "</table>\n",
       "</div>"
      ],
      "text/plain": [
       "       Reach  Impact  Confidence  Efforts\n",
       "count   9.00    9.00        9.00     9.00\n",
       "mean    4.78    4.78        5.56     4.89\n",
       "std     3.15    3.19        3.05     2.80\n",
       "min     1.00    1.00        1.00     1.00\n",
       "25%     3.00    3.00        3.00     3.00\n",
       "50%     3.00    3.00        7.00     5.00\n",
       "75%     8.00    7.00        8.00     6.00\n",
       "max    10.00   10.00        9.00    10.00"
      ]
     },
     "metadata": {},
     "output_type": "display_data"
    },
    {
     "name": "stdout",
     "output_type": "stream",
     "text": [
      "Дубликатов: 0\n"
     ]
    }
   ],
   "source": [
    "display(hypothesis.head())\n",
    "display(hypothesis.info())\n",
    "display(hypothesis.describe())\n",
    "print('Дубликатов:', hypothesis.duplicated().sum())"
   ]
  },
  {
   "cell_type": "code",
   "execution_count": 4,
   "metadata": {},
   "outputs": [
    {
     "data": {
      "text/html": [
       "<div>\n",
       "<style scoped>\n",
       "    .dataframe tbody tr th:only-of-type {\n",
       "        vertical-align: middle;\n",
       "    }\n",
       "\n",
       "    .dataframe tbody tr th {\n",
       "        vertical-align: top;\n",
       "    }\n",
       "\n",
       "    .dataframe thead th {\n",
       "        text-align: right;\n",
       "    }\n",
       "</style>\n",
       "<table border=\"1\" class=\"dataframe\">\n",
       "  <thead>\n",
       "    <tr style=\"text-align: right;\">\n",
       "      <th></th>\n",
       "      <th>hypothesis</th>\n",
       "      <th>reach</th>\n",
       "      <th>impact</th>\n",
       "      <th>confidence</th>\n",
       "      <th>efforts</th>\n",
       "    </tr>\n",
       "  </thead>\n",
       "  <tbody>\n",
       "    <tr>\n",
       "      <th>0</th>\n",
       "      <td>Добавить два новых канала привлечения трафика, что позволит привлекать на 30% больше пользователей</td>\n",
       "      <td>3</td>\n",
       "      <td>10</td>\n",
       "      <td>8</td>\n",
       "      <td>6</td>\n",
       "    </tr>\n",
       "  </tbody>\n",
       "</table>\n",
       "</div>"
      ],
      "text/plain": [
       "                                                                                           hypothesis  \\\n",
       "0  Добавить два новых канала привлечения трафика, что позволит привлекать на 30% больше пользователей   \n",
       "\n",
       "   reach  impact  confidence  efforts  \n",
       "0      3      10           8        6  "
      ]
     },
     "execution_count": 4,
     "metadata": {},
     "output_type": "execute_result"
    }
   ],
   "source": [
    "# поменяем регистр заголовков\n",
    "hypothesis_columns = (hypothesis.columns).str.lower()\n",
    "hypothesis.columns=hypothesis_columns\n",
    "hypothesis.sample()"
   ]
  },
  {
   "cell_type": "code",
   "execution_count": 5,
   "metadata": {},
   "outputs": [
    {
     "data": {
      "text/html": [
       "<div>\n",
       "<style scoped>\n",
       "    .dataframe tbody tr th:only-of-type {\n",
       "        vertical-align: middle;\n",
       "    }\n",
       "\n",
       "    .dataframe tbody tr th {\n",
       "        vertical-align: top;\n",
       "    }\n",
       "\n",
       "    .dataframe thead th {\n",
       "        text-align: right;\n",
       "    }\n",
       "</style>\n",
       "<table border=\"1\" class=\"dataframe\">\n",
       "  <thead>\n",
       "    <tr style=\"text-align: right;\">\n",
       "      <th></th>\n",
       "      <th>transactionId</th>\n",
       "      <th>visitorId</th>\n",
       "      <th>date</th>\n",
       "      <th>revenue</th>\n",
       "      <th>group</th>\n",
       "    </tr>\n",
       "  </thead>\n",
       "  <tbody>\n",
       "    <tr>\n",
       "      <th>0</th>\n",
       "      <td>3667963787</td>\n",
       "      <td>3312258926</td>\n",
       "      <td>2019-08-15</td>\n",
       "      <td>1650</td>\n",
       "      <td>B</td>\n",
       "    </tr>\n",
       "    <tr>\n",
       "      <th>1</th>\n",
       "      <td>2804400009</td>\n",
       "      <td>3642806036</td>\n",
       "      <td>2019-08-15</td>\n",
       "      <td>730</td>\n",
       "      <td>B</td>\n",
       "    </tr>\n",
       "    <tr>\n",
       "      <th>2</th>\n",
       "      <td>2961555356</td>\n",
       "      <td>4069496402</td>\n",
       "      <td>2019-08-15</td>\n",
       "      <td>400</td>\n",
       "      <td>A</td>\n",
       "    </tr>\n",
       "    <tr>\n",
       "      <th>3</th>\n",
       "      <td>3797467345</td>\n",
       "      <td>1196621759</td>\n",
       "      <td>2019-08-15</td>\n",
       "      <td>9759</td>\n",
       "      <td>B</td>\n",
       "    </tr>\n",
       "    <tr>\n",
       "      <th>4</th>\n",
       "      <td>2282983706</td>\n",
       "      <td>2322279887</td>\n",
       "      <td>2019-08-15</td>\n",
       "      <td>2308</td>\n",
       "      <td>B</td>\n",
       "    </tr>\n",
       "  </tbody>\n",
       "</table>\n",
       "</div>"
      ],
      "text/plain": [
       "   transactionId   visitorId        date  revenue group\n",
       "0     3667963787  3312258926  2019-08-15     1650     B\n",
       "1     2804400009  3642806036  2019-08-15      730     B\n",
       "2     2961555356  4069496402  2019-08-15      400     A\n",
       "3     3797467345  1196621759  2019-08-15     9759     B\n",
       "4     2282983706  2322279887  2019-08-15     2308     B"
      ]
     },
     "metadata": {},
     "output_type": "display_data"
    },
    {
     "name": "stdout",
     "output_type": "stream",
     "text": [
      "<class 'pandas.core.frame.DataFrame'>\n",
      "RangeIndex: 1197 entries, 0 to 1196\n",
      "Data columns (total 5 columns):\n",
      " #   Column         Non-Null Count  Dtype \n",
      "---  ------         --------------  ----- \n",
      " 0   transactionId  1197 non-null   int64 \n",
      " 1   visitorId      1197 non-null   int64 \n",
      " 2   date           1197 non-null   object\n",
      " 3   revenue        1197 non-null   int64 \n",
      " 4   group          1197 non-null   object\n",
      "dtypes: int64(3), object(2)\n",
      "memory usage: 46.9+ KB\n"
     ]
    },
    {
     "data": {
      "text/plain": [
       "None"
      ]
     },
     "metadata": {},
     "output_type": "display_data"
    },
    {
     "data": {
      "text/html": [
       "<div>\n",
       "<style scoped>\n",
       "    .dataframe tbody tr th:only-of-type {\n",
       "        vertical-align: middle;\n",
       "    }\n",
       "\n",
       "    .dataframe tbody tr th {\n",
       "        vertical-align: top;\n",
       "    }\n",
       "\n",
       "    .dataframe thead th {\n",
       "        text-align: right;\n",
       "    }\n",
       "</style>\n",
       "<table border=\"1\" class=\"dataframe\">\n",
       "  <thead>\n",
       "    <tr style=\"text-align: right;\">\n",
       "      <th></th>\n",
       "      <th>transactionId</th>\n",
       "      <th>visitorId</th>\n",
       "      <th>revenue</th>\n",
       "    </tr>\n",
       "  </thead>\n",
       "  <tbody>\n",
       "    <tr>\n",
       "      <th>count</th>\n",
       "      <td>1.20e+03</td>\n",
       "      <td>1.20e+03</td>\n",
       "      <td>1.20e+03</td>\n",
       "    </tr>\n",
       "    <tr>\n",
       "      <th>mean</th>\n",
       "      <td>2.16e+09</td>\n",
       "      <td>2.17e+09</td>\n",
       "      <td>8.35e+03</td>\n",
       "    </tr>\n",
       "    <tr>\n",
       "      <th>std</th>\n",
       "      <td>1.23e+09</td>\n",
       "      <td>1.24e+09</td>\n",
       "      <td>3.92e+04</td>\n",
       "    </tr>\n",
       "    <tr>\n",
       "      <th>min</th>\n",
       "      <td>1.06e+06</td>\n",
       "      <td>5.11e+06</td>\n",
       "      <td>5.00e+01</td>\n",
       "    </tr>\n",
       "    <tr>\n",
       "      <th>25%</th>\n",
       "      <td>1.17e+09</td>\n",
       "      <td>1.11e+09</td>\n",
       "      <td>1.22e+03</td>\n",
       "    </tr>\n",
       "    <tr>\n",
       "      <th>50%</th>\n",
       "      <td>2.15e+09</td>\n",
       "      <td>2.22e+09</td>\n",
       "      <td>2.98e+03</td>\n",
       "    </tr>\n",
       "    <tr>\n",
       "      <th>75%</th>\n",
       "      <td>3.24e+09</td>\n",
       "      <td>3.18e+09</td>\n",
       "      <td>8.29e+03</td>\n",
       "    </tr>\n",
       "    <tr>\n",
       "      <th>max</th>\n",
       "      <td>4.29e+09</td>\n",
       "      <td>4.28e+09</td>\n",
       "      <td>1.29e+06</td>\n",
       "    </tr>\n",
       "  </tbody>\n",
       "</table>\n",
       "</div>"
      ],
      "text/plain": [
       "       transactionId  visitorId   revenue\n",
       "count       1.20e+03   1.20e+03  1.20e+03\n",
       "mean        2.16e+09   2.17e+09  8.35e+03\n",
       "std         1.23e+09   1.24e+09  3.92e+04\n",
       "min         1.06e+06   5.11e+06  5.00e+01\n",
       "25%         1.17e+09   1.11e+09  1.22e+03\n",
       "50%         2.15e+09   2.22e+09  2.98e+03\n",
       "75%         3.24e+09   3.18e+09  8.29e+03\n",
       "max         4.29e+09   4.28e+09  1.29e+06"
      ]
     },
     "metadata": {},
     "output_type": "display_data"
    },
    {
     "name": "stdout",
     "output_type": "stream",
     "text": [
      "Дубликаты: 0\n"
     ]
    }
   ],
   "source": [
    "display(orders.head())\n",
    "display(orders.info())\n",
    "display(orders.describe())\n",
    "print('Дубликаты:', orders.duplicated().sum())"
   ]
  },
  {
   "cell_type": "code",
   "execution_count": 6,
   "metadata": {},
   "outputs": [
    {
     "name": "stdout",
     "output_type": "stream",
     "text": [
      "<class 'pandas.core.frame.DataFrame'>\n",
      "RangeIndex: 1197 entries, 0 to 1196\n",
      "Data columns (total 5 columns):\n",
      " #   Column         Non-Null Count  Dtype         \n",
      "---  ------         --------------  -----         \n",
      " 0   transactionId  1197 non-null   int64         \n",
      " 1   visitorId      1197 non-null   int64         \n",
      " 2   date           1197 non-null   datetime64[ns]\n",
      " 3   revenue        1197 non-null   int64         \n",
      " 4   group          1197 non-null   object        \n",
      "dtypes: datetime64[ns](1), int64(3), object(1)\n",
      "memory usage: 46.9+ KB\n"
     ]
    }
   ],
   "source": [
    "orders['date'] = pd.to_datetime(orders['date'], format='%Y-%m-%d')\n",
    "orders.info()"
   ]
  },
  {
   "cell_type": "markdown",
   "metadata": {},
   "source": [
    "**Поменяли формат даты на коррректный.**"
   ]
  },
  {
   "cell_type": "code",
   "execution_count": 7,
   "metadata": {},
   "outputs": [
    {
     "data": {
      "text/html": [
       "<div>\n",
       "<style scoped>\n",
       "    .dataframe tbody tr th:only-of-type {\n",
       "        vertical-align: middle;\n",
       "    }\n",
       "\n",
       "    .dataframe tbody tr th {\n",
       "        vertical-align: top;\n",
       "    }\n",
       "\n",
       "    .dataframe thead th {\n",
       "        text-align: right;\n",
       "    }\n",
       "</style>\n",
       "<table border=\"1\" class=\"dataframe\">\n",
       "  <thead>\n",
       "    <tr style=\"text-align: right;\">\n",
       "      <th></th>\n",
       "      <th>date</th>\n",
       "      <th>group</th>\n",
       "      <th>visitors</th>\n",
       "    </tr>\n",
       "  </thead>\n",
       "  <tbody>\n",
       "    <tr>\n",
       "      <th>0</th>\n",
       "      <td>2019-08-01</td>\n",
       "      <td>A</td>\n",
       "      <td>719</td>\n",
       "    </tr>\n",
       "    <tr>\n",
       "      <th>1</th>\n",
       "      <td>2019-08-02</td>\n",
       "      <td>A</td>\n",
       "      <td>619</td>\n",
       "    </tr>\n",
       "    <tr>\n",
       "      <th>2</th>\n",
       "      <td>2019-08-03</td>\n",
       "      <td>A</td>\n",
       "      <td>507</td>\n",
       "    </tr>\n",
       "    <tr>\n",
       "      <th>3</th>\n",
       "      <td>2019-08-04</td>\n",
       "      <td>A</td>\n",
       "      <td>717</td>\n",
       "    </tr>\n",
       "    <tr>\n",
       "      <th>4</th>\n",
       "      <td>2019-08-05</td>\n",
       "      <td>A</td>\n",
       "      <td>756</td>\n",
       "    </tr>\n",
       "  </tbody>\n",
       "</table>\n",
       "</div>"
      ],
      "text/plain": [
       "         date group  visitors\n",
       "0  2019-08-01     A       719\n",
       "1  2019-08-02     A       619\n",
       "2  2019-08-03     A       507\n",
       "3  2019-08-04     A       717\n",
       "4  2019-08-05     A       756"
      ]
     },
     "metadata": {},
     "output_type": "display_data"
    },
    {
     "name": "stdout",
     "output_type": "stream",
     "text": [
      "<class 'pandas.core.frame.DataFrame'>\n",
      "RangeIndex: 62 entries, 0 to 61\n",
      "Data columns (total 3 columns):\n",
      " #   Column    Non-Null Count  Dtype \n",
      "---  ------    --------------  ----- \n",
      " 0   date      62 non-null     object\n",
      " 1   group     62 non-null     object\n",
      " 2   visitors  62 non-null     int64 \n",
      "dtypes: int64(1), object(2)\n",
      "memory usage: 1.6+ KB\n"
     ]
    },
    {
     "data": {
      "text/plain": [
       "None"
      ]
     },
     "metadata": {},
     "output_type": "display_data"
    },
    {
     "data": {
      "text/html": [
       "<div>\n",
       "<style scoped>\n",
       "    .dataframe tbody tr th:only-of-type {\n",
       "        vertical-align: middle;\n",
       "    }\n",
       "\n",
       "    .dataframe tbody tr th {\n",
       "        vertical-align: top;\n",
       "    }\n",
       "\n",
       "    .dataframe thead th {\n",
       "        text-align: right;\n",
       "    }\n",
       "</style>\n",
       "<table border=\"1\" class=\"dataframe\">\n",
       "  <thead>\n",
       "    <tr style=\"text-align: right;\">\n",
       "      <th></th>\n",
       "      <th>visitors</th>\n",
       "    </tr>\n",
       "  </thead>\n",
       "  <tbody>\n",
       "    <tr>\n",
       "      <th>count</th>\n",
       "      <td>62.00</td>\n",
       "    </tr>\n",
       "    <tr>\n",
       "      <th>mean</th>\n",
       "      <td>607.29</td>\n",
       "    </tr>\n",
       "    <tr>\n",
       "      <th>std</th>\n",
       "      <td>114.40</td>\n",
       "    </tr>\n",
       "    <tr>\n",
       "      <th>min</th>\n",
       "      <td>361.00</td>\n",
       "    </tr>\n",
       "    <tr>\n",
       "      <th>25%</th>\n",
       "      <td>534.00</td>\n",
       "    </tr>\n",
       "    <tr>\n",
       "      <th>50%</th>\n",
       "      <td>624.50</td>\n",
       "    </tr>\n",
       "    <tr>\n",
       "      <th>75%</th>\n",
       "      <td>710.50</td>\n",
       "    </tr>\n",
       "    <tr>\n",
       "      <th>max</th>\n",
       "      <td>770.00</td>\n",
       "    </tr>\n",
       "  </tbody>\n",
       "</table>\n",
       "</div>"
      ],
      "text/plain": [
       "       visitors\n",
       "count     62.00\n",
       "mean     607.29\n",
       "std      114.40\n",
       "min      361.00\n",
       "25%      534.00\n",
       "50%      624.50\n",
       "75%      710.50\n",
       "max      770.00"
      ]
     },
     "metadata": {},
     "output_type": "display_data"
    },
    {
     "name": "stdout",
     "output_type": "stream",
     "text": [
      "Дубликаты: 0\n"
     ]
    }
   ],
   "source": [
    "display(visitors.head())\n",
    "display(visitors.info())\n",
    "display(visitors.describe())\n",
    "print('Дубликаты:', visitors.duplicated().sum())"
   ]
  },
  {
   "cell_type": "code",
   "execution_count": 8,
   "metadata": {},
   "outputs": [
    {
     "name": "stdout",
     "output_type": "stream",
     "text": [
      "Дата начала теста: 2019-08-01 Дата окончания теста: 2019-08-31 \n",
      "\n",
      "Количество групп в A/B тесте: 62 \n",
      "\n",
      "<class 'pandas.core.frame.DataFrame'>\n",
      "RangeIndex: 62 entries, 0 to 61\n",
      "Data columns (total 3 columns):\n",
      " #   Column    Non-Null Count  Dtype         \n",
      "---  ------    --------------  -----         \n",
      " 0   date      62 non-null     datetime64[ns]\n",
      " 1   group     62 non-null     object        \n",
      " 2   visitors  62 non-null     int64         \n",
      "dtypes: datetime64[ns](1), int64(1), object(1)\n",
      "memory usage: 1.6+ KB\n"
     ]
    }
   ],
   "source": [
    "print('Дата начала теста:', visitors['date'].min(), 'Дата окончания теста:', visitors['date'].max(), '\\n')\n",
    "print('Количество групп в A/B тесте:', visitors['group'].count(),'\\n')\n",
    "visitors['date'] = visitors['date'].map(lambda x: dt.datetime.strptime(x, '%Y-%m-%d'))\n",
    "visitors['date'] = pd.to_datetime(visitors['date'], format='%Y-%m-%d')\n",
    "visitors.info() \n"
   ]
  },
  {
   "cell_type": "markdown",
   "metadata": {},
   "source": [
    "**Так же поменяли формат даты на коррректный.**"
   ]
  },
  {
   "cell_type": "code",
   "execution_count": 9,
   "metadata": {},
   "outputs": [
    {
     "name": "stdout",
     "output_type": "stream",
     "text": [
      "Количество пользователей в группе А - 18736\n",
      "Количество пользователей в группе B - 18916\n",
      "Всего пользователей: 37652\n"
     ]
    }
   ],
   "source": [
    "print ('Количество пользователей в группе А -', visitors.query('group == \"A\"')['visitors'].sum())\n",
    "print ('Количество пользователей в группе B -',visitors.query('group == \"B\"')['visitors'].sum())\n",
    "print('Всего пользователей:',visitors.query('group == \"A\"')['visitors'].sum() + visitors.query('group == \"B\"')['visitors'].sum() )"
   ]
  },
  {
   "cell_type": "markdown",
   "metadata": {},
   "source": [
    "<a id='part_1.1'></a>\n",
    "### Вывод:\n",
    "Данные подготовлены, проблем не возникло, дату перевели в нужный нам формат, изменили регистр.\n",
    "\n",
    "Определили дату начала и окончания теста - `2019-08-01` и `2019-08-31` соотвественно.\n",
    "\n",
    "Количество групп в A/B тесте: 62.\n",
    "\n",
    "Всего пользователей 37652, из них 18736 в группе А и В 18916. Так же нужно будет внимательно рассмотреть проблему неравенства групп и найти причины этой аномалии, на первое время, предположим, что в обеих группах могут быть одни и те же пользователи из двух групп одновременно."
   ]
  },
  {
   "cell_type": "markdown",
   "metadata": {},
   "source": [
    "<a id='part_2'></a>\n",
    "## Шаг. Часть 1 Приоритезация гипотез"
   ]
  },
  {
   "cell_type": "markdown",
   "metadata": {},
   "source": [
    "Определим приоритет гипотез при помощи `ICE ( Impact, Confidence, Efforts )` & `RICE ( Rearch, Impact, Confidence, Efforts )`"
   ]
  },
  {
   "cell_type": "markdown",
   "metadata": {},
   "source": [
    "Используем следующую формулу: `ICE = Impact * Confidence / Efforts` & `RICE = Rearch * Impact * Confidence / Efforts`"
   ]
  },
  {
   "cell_type": "code",
   "execution_count": 10,
   "metadata": {},
   "outputs": [
    {
     "data": {
      "text/html": [
       "<div>\n",
       "<style scoped>\n",
       "    .dataframe tbody tr th:only-of-type {\n",
       "        vertical-align: middle;\n",
       "    }\n",
       "\n",
       "    .dataframe tbody tr th {\n",
       "        vertical-align: top;\n",
       "    }\n",
       "\n",
       "    .dataframe thead th {\n",
       "        text-align: right;\n",
       "    }\n",
       "</style>\n",
       "<table border=\"1\" class=\"dataframe\">\n",
       "  <thead>\n",
       "    <tr style=\"text-align: right;\">\n",
       "      <th></th>\n",
       "      <th>hypothesis</th>\n",
       "      <th>reach</th>\n",
       "      <th>impact</th>\n",
       "      <th>confidence</th>\n",
       "      <th>efforts</th>\n",
       "      <th>ICE</th>\n",
       "    </tr>\n",
       "  </thead>\n",
       "  <tbody>\n",
       "    <tr>\n",
       "      <th>8</th>\n",
       "      <td>Запустить акцию, дающую скидку на товар в день рождения</td>\n",
       "      <td>1</td>\n",
       "      <td>9</td>\n",
       "      <td>9</td>\n",
       "      <td>5</td>\n",
       "      <td>16.20</td>\n",
       "    </tr>\n",
       "    <tr>\n",
       "      <th>0</th>\n",
       "      <td>Добавить два новых канала привлечения трафика, что позволит привлекать на 30% больше пользователей</td>\n",
       "      <td>3</td>\n",
       "      <td>10</td>\n",
       "      <td>8</td>\n",
       "      <td>6</td>\n",
       "      <td>13.33</td>\n",
       "    </tr>\n",
       "    <tr>\n",
       "      <th>7</th>\n",
       "      <td>Добавить форму подписки на все основные страницы, чтобы собрать базу клиентов для email-рассылок</td>\n",
       "      <td>10</td>\n",
       "      <td>7</td>\n",
       "      <td>8</td>\n",
       "      <td>5</td>\n",
       "      <td>11.20</td>\n",
       "    </tr>\n",
       "    <tr>\n",
       "      <th>6</th>\n",
       "      <td>Показать на главной странице баннеры с актуальными акциями и распродажами, чтобы увеличить конве...</td>\n",
       "      <td>5</td>\n",
       "      <td>3</td>\n",
       "      <td>8</td>\n",
       "      <td>3</td>\n",
       "      <td>8.00</td>\n",
       "    </tr>\n",
       "    <tr>\n",
       "      <th>2</th>\n",
       "      <td>Добавить блоки рекомендаций товаров на сайт интернет магазина, чтобы повысить конверсию и средни...</td>\n",
       "      <td>8</td>\n",
       "      <td>3</td>\n",
       "      <td>7</td>\n",
       "      <td>3</td>\n",
       "      <td>7.00</td>\n",
       "    </tr>\n",
       "    <tr>\n",
       "      <th>1</th>\n",
       "      <td>Запустить собственную службу доставки, что сократит срок доставки заказов</td>\n",
       "      <td>2</td>\n",
       "      <td>5</td>\n",
       "      <td>4</td>\n",
       "      <td>10</td>\n",
       "      <td>2.00</td>\n",
       "    </tr>\n",
       "    <tr>\n",
       "      <th>5</th>\n",
       "      <td>Добавить страницу отзывов клиентов о магазине, что позволит увеличить количество заказов</td>\n",
       "      <td>3</td>\n",
       "      <td>2</td>\n",
       "      <td>2</td>\n",
       "      <td>3</td>\n",
       "      <td>1.33</td>\n",
       "    </tr>\n",
       "    <tr>\n",
       "      <th>3</th>\n",
       "      <td>Изменить структура категорий, что увеличит конверсию, т.к. пользователи быстрее найдут нужный товар</td>\n",
       "      <td>8</td>\n",
       "      <td>3</td>\n",
       "      <td>3</td>\n",
       "      <td>8</td>\n",
       "      <td>1.12</td>\n",
       "    </tr>\n",
       "    <tr>\n",
       "      <th>4</th>\n",
       "      <td>Изменить цвет фона главной страницы, чтобы увеличить вовлеченность пользователей</td>\n",
       "      <td>3</td>\n",
       "      <td>1</td>\n",
       "      <td>1</td>\n",
       "      <td>1</td>\n",
       "      <td>1.00</td>\n",
       "    </tr>\n",
       "  </tbody>\n",
       "</table>\n",
       "</div>"
      ],
      "text/plain": [
       "                                                                                            hypothesis  \\\n",
       "8                                              Запустить акцию, дающую скидку на товар в день рождения   \n",
       "0   Добавить два новых канала привлечения трафика, что позволит привлекать на 30% больше пользователей   \n",
       "7     Добавить форму подписки на все основные страницы, чтобы собрать базу клиентов для email-рассылок   \n",
       "6  Показать на главной странице баннеры с актуальными акциями и распродажами, чтобы увеличить конве...   \n",
       "2  Добавить блоки рекомендаций товаров на сайт интернет магазина, чтобы повысить конверсию и средни...   \n",
       "1                            Запустить собственную службу доставки, что сократит срок доставки заказов   \n",
       "5             Добавить страницу отзывов клиентов о магазине, что позволит увеличить количество заказов   \n",
       "3  Изменить структура категорий, что увеличит конверсию, т.к. пользователи быстрее найдут нужный товар   \n",
       "4                     Изменить цвет фона главной страницы, чтобы увеличить вовлеченность пользователей   \n",
       "\n",
       "   reach  impact  confidence  efforts    ICE  \n",
       "8      1       9           9        5  16.20  \n",
       "0      3      10           8        6  13.33  \n",
       "7     10       7           8        5  11.20  \n",
       "6      5       3           8        3   8.00  \n",
       "2      8       3           7        3   7.00  \n",
       "1      2       5           4       10   2.00  \n",
       "5      3       2           2        3   1.33  \n",
       "3      8       3           3        8   1.12  \n",
       "4      3       1           1        1   1.00  "
      ]
     },
     "execution_count": 10,
     "metadata": {},
     "output_type": "execute_result"
    }
   ],
   "source": [
    "hypothesis['ICE'] = (hypothesis['impact'] *  hypothesis['confidence']) / hypothesis['efforts']\n",
    "hypothesis.sort_values(by='ICE', ascending=False, inplace=True)\n",
    "hypothesis"
   ]
  },
  {
   "cell_type": "markdown",
   "metadata": {},
   "source": [
    "**Приоритет на стороне 8, 0 и 7 гипотез.**"
   ]
  },
  {
   "cell_type": "code",
   "execution_count": 11,
   "metadata": {},
   "outputs": [
    {
     "data": {
      "text/html": [
       "<div>\n",
       "<style scoped>\n",
       "    .dataframe tbody tr th:only-of-type {\n",
       "        vertical-align: middle;\n",
       "    }\n",
       "\n",
       "    .dataframe tbody tr th {\n",
       "        vertical-align: top;\n",
       "    }\n",
       "\n",
       "    .dataframe thead th {\n",
       "        text-align: right;\n",
       "    }\n",
       "</style>\n",
       "<table border=\"1\" class=\"dataframe\">\n",
       "  <thead>\n",
       "    <tr style=\"text-align: right;\">\n",
       "      <th></th>\n",
       "      <th>hypothesis</th>\n",
       "      <th>reach</th>\n",
       "      <th>impact</th>\n",
       "      <th>confidence</th>\n",
       "      <th>efforts</th>\n",
       "      <th>ICE</th>\n",
       "      <th>RICE</th>\n",
       "    </tr>\n",
       "  </thead>\n",
       "  <tbody>\n",
       "    <tr>\n",
       "      <th>7</th>\n",
       "      <td>Добавить форму подписки на все основные страницы, чтобы собрать базу клиентов для email-рассылок</td>\n",
       "      <td>10</td>\n",
       "      <td>7</td>\n",
       "      <td>8</td>\n",
       "      <td>5</td>\n",
       "      <td>11.20</td>\n",
       "      <td>112.0</td>\n",
       "    </tr>\n",
       "    <tr>\n",
       "      <th>2</th>\n",
       "      <td>Добавить блоки рекомендаций товаров на сайт интернет магазина, чтобы повысить конверсию и средни...</td>\n",
       "      <td>8</td>\n",
       "      <td>3</td>\n",
       "      <td>7</td>\n",
       "      <td>3</td>\n",
       "      <td>7.00</td>\n",
       "      <td>56.0</td>\n",
       "    </tr>\n",
       "    <tr>\n",
       "      <th>0</th>\n",
       "      <td>Добавить два новых канала привлечения трафика, что позволит привлекать на 30% больше пользователей</td>\n",
       "      <td>3</td>\n",
       "      <td>10</td>\n",
       "      <td>8</td>\n",
       "      <td>6</td>\n",
       "      <td>13.33</td>\n",
       "      <td>40.0</td>\n",
       "    </tr>\n",
       "    <tr>\n",
       "      <th>6</th>\n",
       "      <td>Показать на главной странице баннеры с актуальными акциями и распродажами, чтобы увеличить конве...</td>\n",
       "      <td>5</td>\n",
       "      <td>3</td>\n",
       "      <td>8</td>\n",
       "      <td>3</td>\n",
       "      <td>8.00</td>\n",
       "      <td>40.0</td>\n",
       "    </tr>\n",
       "    <tr>\n",
       "      <th>8</th>\n",
       "      <td>Запустить акцию, дающую скидку на товар в день рождения</td>\n",
       "      <td>1</td>\n",
       "      <td>9</td>\n",
       "      <td>9</td>\n",
       "      <td>5</td>\n",
       "      <td>16.20</td>\n",
       "      <td>16.2</td>\n",
       "    </tr>\n",
       "    <tr>\n",
       "      <th>3</th>\n",
       "      <td>Изменить структура категорий, что увеличит конверсию, т.к. пользователи быстрее найдут нужный товар</td>\n",
       "      <td>8</td>\n",
       "      <td>3</td>\n",
       "      <td>3</td>\n",
       "      <td>8</td>\n",
       "      <td>1.12</td>\n",
       "      <td>9.0</td>\n",
       "    </tr>\n",
       "    <tr>\n",
       "      <th>1</th>\n",
       "      <td>Запустить собственную службу доставки, что сократит срок доставки заказов</td>\n",
       "      <td>2</td>\n",
       "      <td>5</td>\n",
       "      <td>4</td>\n",
       "      <td>10</td>\n",
       "      <td>2.00</td>\n",
       "      <td>4.0</td>\n",
       "    </tr>\n",
       "    <tr>\n",
       "      <th>5</th>\n",
       "      <td>Добавить страницу отзывов клиентов о магазине, что позволит увеличить количество заказов</td>\n",
       "      <td>3</td>\n",
       "      <td>2</td>\n",
       "      <td>2</td>\n",
       "      <td>3</td>\n",
       "      <td>1.33</td>\n",
       "      <td>4.0</td>\n",
       "    </tr>\n",
       "    <tr>\n",
       "      <th>4</th>\n",
       "      <td>Изменить цвет фона главной страницы, чтобы увеличить вовлеченность пользователей</td>\n",
       "      <td>3</td>\n",
       "      <td>1</td>\n",
       "      <td>1</td>\n",
       "      <td>1</td>\n",
       "      <td>1.00</td>\n",
       "      <td>3.0</td>\n",
       "    </tr>\n",
       "  </tbody>\n",
       "</table>\n",
       "</div>"
      ],
      "text/plain": [
       "                                                                                            hypothesis  \\\n",
       "7     Добавить форму подписки на все основные страницы, чтобы собрать базу клиентов для email-рассылок   \n",
       "2  Добавить блоки рекомендаций товаров на сайт интернет магазина, чтобы повысить конверсию и средни...   \n",
       "0   Добавить два новых канала привлечения трафика, что позволит привлекать на 30% больше пользователей   \n",
       "6  Показать на главной странице баннеры с актуальными акциями и распродажами, чтобы увеличить конве...   \n",
       "8                                              Запустить акцию, дающую скидку на товар в день рождения   \n",
       "3  Изменить структура категорий, что увеличит конверсию, т.к. пользователи быстрее найдут нужный товар   \n",
       "1                            Запустить собственную службу доставки, что сократит срок доставки заказов   \n",
       "5             Добавить страницу отзывов клиентов о магазине, что позволит увеличить количество заказов   \n",
       "4                     Изменить цвет фона главной страницы, чтобы увеличить вовлеченность пользователей   \n",
       "\n",
       "   reach  impact  confidence  efforts    ICE   RICE  \n",
       "7     10       7           8        5  11.20  112.0  \n",
       "2      8       3           7        3   7.00   56.0  \n",
       "0      3      10           8        6  13.33   40.0  \n",
       "6      5       3           8        3   8.00   40.0  \n",
       "8      1       9           9        5  16.20   16.2  \n",
       "3      8       3           3        8   1.12    9.0  \n",
       "1      2       5           4       10   2.00    4.0  \n",
       "5      3       2           2        3   1.33    4.0  \n",
       "4      3       1           1        1   1.00    3.0  "
      ]
     },
     "execution_count": 11,
     "metadata": {},
     "output_type": "execute_result"
    }
   ],
   "source": [
    "hypothesis['RICE'] = (hypothesis['reach'] * hypothesis['impact'] *  hypothesis['confidence']) / hypothesis['efforts']\n",
    "hypothesis.sort_values(by='RICE', ascending=False, inplace=True)\n",
    "hypothesis "
   ]
  },
  {
   "cell_type": "markdown",
   "metadata": {},
   "source": [
    "**Приоритет на стороне 7, 2 и 0 гипотез.**"
   ]
  },
  {
   "cell_type": "markdown",
   "metadata": {},
   "source": [
    "<a id='part_2.1'></a>\n",
    "### Вывод:\n",
    "В топ-3 гипотез выделим: 7, 2 и 0 гипотезу, поскольку охват у 8 гипотезы ничтожно мал."
   ]
  },
  {
   "cell_type": "markdown",
   "metadata": {},
   "source": [
    "<a id='part_3'></a>\n",
    "## Шаг. Часть 2 Анализ A/B теста"
   ]
  },
  {
   "cell_type": "markdown",
   "metadata": {},
   "source": [
    "<a id='part_3.1'></a>\n",
    "### Изучим количество посещений в каждой группе."
   ]
  },
  {
   "cell_type": "code",
   "execution_count": 12,
   "metadata": {},
   "outputs": [
    {
     "name": "stdout",
     "output_type": "stream",
     "text": [
      "Количество посещений в группе А - 18736\n",
      "Количество посещений в группе B - 18916\n",
      "Разница посещений в группах: 180\n"
     ]
    }
   ],
   "source": [
    "print ('Количество посещений в группе А -', visitors.query('group == \"A\"')['visitors'].sum())\n",
    "print ('Количество посещений в группе B -',visitors.query('group == \"B\"')['visitors'].sum())\n",
    "print ('Разница посещений в группах:',visitors.query('group == \"B\"')['visitors'].sum() - visitors.query('group == \"A\"')['visitors'].sum() )"
   ]
  },
  {
   "cell_type": "markdown",
   "metadata": {},
   "source": [
    "<a id='part_3.2'></a>\n",
    "### Изучим количество заказов в каждой группе."
   ]
  },
  {
   "cell_type": "code",
   "execution_count": 13,
   "metadata": {},
   "outputs": [
    {
     "name": "stdout",
     "output_type": "stream",
     "text": [
      "Количество заказов в группе А - 557\n",
      "Количество заказов в группе B - 640\n",
      "Разница заказов в группах: 83\n"
     ]
    }
   ],
   "source": [
    "print ('Количество заказов в группе А -', orders.query('group == \"A\"').shape[0])\n",
    "print ('Количество заказов в группе B -',orders.query('group == \"B\"').shape[0])\n",
    "print ('Разница заказов в группах:',orders.query('group == \"B\"').shape[0] - orders.query('group == \"A\"').shape[0])"
   ]
  },
  {
   "cell_type": "markdown",
   "metadata": {},
   "source": [
    "**Присутствует значительная разница посещений в группах. Проверим, не попали ли одни и те же пользователи в разные группы.**"
   ]
  },
  {
   "cell_type": "code",
   "execution_count": 14,
   "metadata": {},
   "outputs": [],
   "source": [
    "visitorsA = orders[orders['group']=='A']['visitorId']\n",
    "visitorsB = orders[orders['group']=='B']['visitorId']\n",
    "visitors_AB = orders.loc[orders['visitorId'].isin(visitorsA)& orders['visitorId'].isin(visitorsB),'visitorId'].unique()"
   ]
  },
  {
   "cell_type": "code",
   "execution_count": 15,
   "metadata": {},
   "outputs": [
    {
     "data": {
      "text/plain": [
       "1031"
      ]
     },
     "execution_count": 15,
     "metadata": {},
     "output_type": "execute_result"
    }
   ],
   "source": [
    "(orders.groupby('visitorId')['group'].nunique()>1).count()"
   ]
  },
  {
   "cell_type": "code",
   "execution_count": 16,
   "metadata": {},
   "outputs": [
    {
     "data": {
      "text/plain": [
       "973"
      ]
     },
     "execution_count": 16,
     "metadata": {},
     "output_type": "execute_result"
    }
   ],
   "source": [
    "orders = orders.loc[~orders['visitorId'].isin(visitors_AB)]\n",
    "(orders.groupby('visitorId')['group'].nunique()>1).count()"
   ]
  },
  {
   "cell_type": "code",
   "execution_count": 17,
   "metadata": {},
   "outputs": [
    {
     "name": "stdout",
     "output_type": "stream",
     "text": [
      "Количество заказов в группе А - 468\n",
      "Количество заказов в группе B - 548\n"
     ]
    }
   ],
   "source": [
    "print ('Количество заказов в группе А -', orders.query('group == \"A\"').shape[0])\n",
    "print ('Количество заказов в группе B -',orders.query('group == \"B\"').shape[0])"
   ]
  },
  {
   "cell_type": "markdown",
   "metadata": {},
   "source": [
    "Уменьшили разницу до 80, учтём эту разницу."
   ]
  },
  {
   "cell_type": "markdown",
   "metadata": {},
   "source": [
    "<a id='part_3.3'></a>\n",
    "### Приготовим таблицу с кумулятивными данными по выручке и посещениям:"
   ]
  },
  {
   "cell_type": "code",
   "execution_count": 18,
   "metadata": {},
   "outputs": [
    {
     "data": {
      "text/html": [
       "<div>\n",
       "<style scoped>\n",
       "    .dataframe tbody tr th:only-of-type {\n",
       "        vertical-align: middle;\n",
       "    }\n",
       "\n",
       "    .dataframe tbody tr th {\n",
       "        vertical-align: top;\n",
       "    }\n",
       "\n",
       "    .dataframe thead th {\n",
       "        text-align: right;\n",
       "    }\n",
       "</style>\n",
       "<table border=\"1\" class=\"dataframe\">\n",
       "  <thead>\n",
       "    <tr style=\"text-align: right;\">\n",
       "      <th></th>\n",
       "      <th>date</th>\n",
       "      <th>group</th>\n",
       "      <th>revenue</th>\n",
       "      <th>orders</th>\n",
       "    </tr>\n",
       "  </thead>\n",
       "  <tbody>\n",
       "    <tr>\n",
       "      <th>55</th>\n",
       "      <td>2019-08-01</td>\n",
       "      <td>A</td>\n",
       "      <td>142779</td>\n",
       "      <td>23</td>\n",
       "    </tr>\n",
       "    <tr>\n",
       "      <th>66</th>\n",
       "      <td>2019-08-01</td>\n",
       "      <td>B</td>\n",
       "      <td>59758</td>\n",
       "      <td>17</td>\n",
       "    </tr>\n",
       "    <tr>\n",
       "      <th>175</th>\n",
       "      <td>2019-08-02</td>\n",
       "      <td>A</td>\n",
       "      <td>234381</td>\n",
       "      <td>42</td>\n",
       "    </tr>\n",
       "    <tr>\n",
       "      <th>173</th>\n",
       "      <td>2019-08-02</td>\n",
       "      <td>B</td>\n",
       "      <td>221801</td>\n",
       "      <td>40</td>\n",
       "    </tr>\n",
       "    <tr>\n",
       "      <th>291</th>\n",
       "      <td>2019-08-03</td>\n",
       "      <td>A</td>\n",
       "      <td>346854</td>\n",
       "      <td>66</td>\n",
       "    </tr>\n",
       "  </tbody>\n",
       "</table>\n",
       "</div>"
      ],
      "text/plain": [
       "          date group  revenue  orders\n",
       "55  2019-08-01     A   142779      23\n",
       "66  2019-08-01     B    59758      17\n",
       "175 2019-08-02     A   234381      42\n",
       "173 2019-08-02     B   221801      40\n",
       "291 2019-08-03     A   346854      66"
      ]
     },
     "execution_count": 18,
     "metadata": {},
     "output_type": "execute_result"
    }
   ],
   "source": [
    "dates_groups = orders[['date','group']].drop_duplicates()\n",
    "orders_aggregated = (dates_groups\n",
    "                     .apply(lambda x: orders[np.logical_and(orders['date'] <= x['date']\n",
    "                                                            , orders['group'] ==  x['group'])]\n",
    "                    .agg({'date':'max', 'group':'max', 'revenue':'sum', 'transactionId':'nunique'}), axis=1) \n",
    "                    .sort_values(by=['date','group']))\n",
    "orders_aggregated.rename(columns={'transactionId':'orders'}, inplace=True)\n",
    "orders_aggregated.head()"
   ]
  },
  {
   "cell_type": "code",
   "execution_count": 19,
   "metadata": {},
   "outputs": [
    {
     "data": {
      "text/html": [
       "<div>\n",
       "<style scoped>\n",
       "    .dataframe tbody tr th:only-of-type {\n",
       "        vertical-align: middle;\n",
       "    }\n",
       "\n",
       "    .dataframe tbody tr th {\n",
       "        vertical-align: top;\n",
       "    }\n",
       "\n",
       "    .dataframe thead th {\n",
       "        text-align: right;\n",
       "    }\n",
       "</style>\n",
       "<table border=\"1\" class=\"dataframe\">\n",
       "  <thead>\n",
       "    <tr style=\"text-align: right;\">\n",
       "      <th></th>\n",
       "      <th>date</th>\n",
       "      <th>group</th>\n",
       "      <th>visitors</th>\n",
       "    </tr>\n",
       "  </thead>\n",
       "  <tbody>\n",
       "    <tr>\n",
       "      <th>55</th>\n",
       "      <td>2019-08-01</td>\n",
       "      <td>A</td>\n",
       "      <td>719</td>\n",
       "    </tr>\n",
       "    <tr>\n",
       "      <th>66</th>\n",
       "      <td>2019-08-01</td>\n",
       "      <td>B</td>\n",
       "      <td>713</td>\n",
       "    </tr>\n",
       "    <tr>\n",
       "      <th>175</th>\n",
       "      <td>2019-08-02</td>\n",
       "      <td>A</td>\n",
       "      <td>1338</td>\n",
       "    </tr>\n",
       "    <tr>\n",
       "      <th>173</th>\n",
       "      <td>2019-08-02</td>\n",
       "      <td>B</td>\n",
       "      <td>1294</td>\n",
       "    </tr>\n",
       "    <tr>\n",
       "      <th>291</th>\n",
       "      <td>2019-08-03</td>\n",
       "      <td>A</td>\n",
       "      <td>1845</td>\n",
       "    </tr>\n",
       "  </tbody>\n",
       "</table>\n",
       "</div>"
      ],
      "text/plain": [
       "          date group  visitors\n",
       "55  2019-08-01     A       719\n",
       "66  2019-08-01     B       713\n",
       "175 2019-08-02     A      1338\n",
       "173 2019-08-02     B      1294\n",
       "291 2019-08-03     A      1845"
      ]
     },
     "execution_count": 19,
     "metadata": {},
     "output_type": "execute_result"
    }
   ],
   "source": [
    "visitors_aggregated = (dates_groups\n",
    "                     .apply(lambda x: visitors[np.logical_and(visitors['date'] <= x['date']\n",
    "                                                            , visitors['group'] ==  x['group'])]\n",
    "                    .agg({'date':'max', 'group':'max', 'visitors':'sum'}), axis=1) \n",
    "                    .sort_values(by=['date','group']))\n",
    "visitors_aggregated.head()"
   ]
  },
  {
   "cell_type": "code",
   "execution_count": 20,
   "metadata": {},
   "outputs": [
    {
     "data": {
      "text/html": [
       "<div>\n",
       "<style scoped>\n",
       "    .dataframe tbody tr th:only-of-type {\n",
       "        vertical-align: middle;\n",
       "    }\n",
       "\n",
       "    .dataframe tbody tr th {\n",
       "        vertical-align: top;\n",
       "    }\n",
       "\n",
       "    .dataframe thead th {\n",
       "        text-align: right;\n",
       "    }\n",
       "</style>\n",
       "<table border=\"1\" class=\"dataframe\">\n",
       "  <thead>\n",
       "    <tr style=\"text-align: right;\">\n",
       "      <th></th>\n",
       "      <th>date</th>\n",
       "      <th>group</th>\n",
       "      <th>revenue</th>\n",
       "      <th>orders</th>\n",
       "      <th>visitors</th>\n",
       "    </tr>\n",
       "  </thead>\n",
       "  <tbody>\n",
       "    <tr>\n",
       "      <th>0</th>\n",
       "      <td>2019-08-01</td>\n",
       "      <td>A</td>\n",
       "      <td>142779</td>\n",
       "      <td>23</td>\n",
       "      <td>719</td>\n",
       "    </tr>\n",
       "    <tr>\n",
       "      <th>1</th>\n",
       "      <td>2019-08-01</td>\n",
       "      <td>B</td>\n",
       "      <td>59758</td>\n",
       "      <td>17</td>\n",
       "      <td>713</td>\n",
       "    </tr>\n",
       "    <tr>\n",
       "      <th>2</th>\n",
       "      <td>2019-08-02</td>\n",
       "      <td>A</td>\n",
       "      <td>234381</td>\n",
       "      <td>42</td>\n",
       "      <td>1338</td>\n",
       "    </tr>\n",
       "    <tr>\n",
       "      <th>3</th>\n",
       "      <td>2019-08-02</td>\n",
       "      <td>B</td>\n",
       "      <td>221801</td>\n",
       "      <td>40</td>\n",
       "      <td>1294</td>\n",
       "    </tr>\n",
       "    <tr>\n",
       "      <th>4</th>\n",
       "      <td>2019-08-03</td>\n",
       "      <td>A</td>\n",
       "      <td>346854</td>\n",
       "      <td>66</td>\n",
       "      <td>1845</td>\n",
       "    </tr>\n",
       "  </tbody>\n",
       "</table>\n",
       "</div>"
      ],
      "text/plain": [
       "        date group  revenue  orders  visitors\n",
       "0 2019-08-01     A   142779      23       719\n",
       "1 2019-08-01     B    59758      17       713\n",
       "2 2019-08-02     A   234381      42      1338\n",
       "3 2019-08-02     B   221801      40      1294\n",
       "4 2019-08-03     A   346854      66      1845"
      ]
     },
     "execution_count": 20,
     "metadata": {},
     "output_type": "execute_result"
    }
   ],
   "source": [
    "\n",
    "cumulative_data = orders_aggregated.merge(visitors_aggregated, on=['date','group'])\n",
    "cumulative_data.head()"
   ]
  },
  {
   "cell_type": "code",
   "execution_count": 21,
   "metadata": {},
   "outputs": [
    {
     "data": {
      "image/png": "[encoded data removed]",
      "text/plain": [
       "<Figure size 720x360 with 1 Axes>"
      ]
     },
     "metadata": {
      "needs_background": "light"
     },
     "output_type": "display_data"
    }
   ],
   "source": [
    "cumulative_a = cumulative_data.loc[cumulative_data['group'] == 'A',['date','revenue','orders','visitors']]\n",
    "cumulative_b = cumulative_data.loc[cumulative_data['group'] == 'B',['date','revenue','orders','visitors']]\n",
    "\n",
    "plt.figure(figsize=(10, 5))\n",
    "plt.plot(cumulative_a['date'], cumulative_a['revenue'], label='A')\n",
    "plt.plot(cumulative_b['date'], cumulative_b['revenue'], label='B')\n",
    "plt.xticks(rotation=45)\n",
    "plt.title('Кумулятивная выручка по группам')\n",
    "plt.legend();"
   ]
  },
  {
   "cell_type": "markdown",
   "metadata": {},
   "source": [
    "**Вывод:** Кумулятивная выручка в обоих группах постепенно росла, затем 17 августа был резкий всплеск, нужно проверить на наличие аномалий."
   ]
  },
  {
   "cell_type": "markdown",
   "metadata": {},
   "source": [
    "<a id='part_3.4'></a>\n",
    "### Построим графику кумулитивного среднего чека по группам:"
   ]
  },
  {
   "cell_type": "code",
   "execution_count": 22,
   "metadata": {},
   "outputs": [
    {
     "data": {
      "image/png": "[encoded data removed]",
      "text/plain": [
       "<Figure size 720x360 with 1 Axes>"
      ]
     },
     "metadata": {
      "needs_background": "light"
     },
     "output_type": "display_data"
    }
   ],
   "source": [
    "plt.figure(figsize=(10, 5))\n",
    "plt.plot(cumulative_a['date'], cumulative_a['revenue'] / cumulative_a['orders'], label='A')\n",
    "plt.plot(cumulative_b['date'], cumulative_b['revenue'] / cumulative_b['orders'], label='B')\n",
    "plt.xticks(rotation=45)\n",
    "plt.title('Кумулятивный средний чек по группам')\n",
    "plt.legend();"
   ]
  },
  {
   "cell_type": "markdown",
   "metadata": {},
   "source": [
    "Действительно, в группе В есть крупная покупка после 2019-08-17, после чего и происходит резкий всплеск."
   ]
  },
  {
   "cell_type": "markdown",
   "metadata": {},
   "source": [
    "<a id='part_3.5'></a>\n",
    "### Подготовим таблицу для графика относительного изменения кумулятивного чека и построим график:"
   ]
  },
  {
   "cell_type": "code",
   "execution_count": 23,
   "metadata": {},
   "outputs": [
    {
     "data": {
      "text/html": [
       "<div>\n",
       "<style scoped>\n",
       "    .dataframe tbody tr th:only-of-type {\n",
       "        vertical-align: middle;\n",
       "    }\n",
       "\n",
       "    .dataframe tbody tr th {\n",
       "        vertical-align: top;\n",
       "    }\n",
       "\n",
       "    .dataframe thead th {\n",
       "        text-align: right;\n",
       "    }\n",
       "</style>\n",
       "<table border=\"1\" class=\"dataframe\">\n",
       "  <thead>\n",
       "    <tr style=\"text-align: right;\">\n",
       "      <th></th>\n",
       "      <th>date</th>\n",
       "      <th>revenue_a</th>\n",
       "      <th>orders_a</th>\n",
       "      <th>visitors_a</th>\n",
       "      <th>revenue_b</th>\n",
       "      <th>orders_b</th>\n",
       "      <th>visitors_b</th>\n",
       "    </tr>\n",
       "  </thead>\n",
       "  <tbody>\n",
       "    <tr>\n",
       "      <th>13</th>\n",
       "      <td>2019-08-14</td>\n",
       "      <td>1601692</td>\n",
       "      <td>231</td>\n",
       "      <td>9058</td>\n",
       "      <td>1650268</td>\n",
       "      <td>263</td>\n",
       "      <td>9056</td>\n",
       "    </tr>\n",
       "  </tbody>\n",
       "</table>\n",
       "</div>"
      ],
      "text/plain": [
       "         date  revenue_a  orders_a  visitors_a  revenue_b  orders_b  \\\n",
       "13 2019-08-14    1601692       231        9058    1650268       263   \n",
       "\n",
       "    visitors_b  \n",
       "13        9056  "
      ]
     },
     "execution_count": 23,
     "metadata": {},
     "output_type": "execute_result"
    }
   ],
   "source": [
    "merged_cumulative = cumulative_a.merge(cumulative_b, on=['date'],suffixes=('_a', '_b'))\n",
    "merged_cumulative.sample()"
   ]
  },
  {
   "cell_type": "code",
   "execution_count": 24,
   "metadata": {},
   "outputs": [
    {
     "data": {
      "image/png": "[encoded data removed]",
      "text/plain": [
       "<Figure size 720x360 with 1 Axes>"
      ]
     },
     "metadata": {
      "needs_background": "light"
     },
     "output_type": "display_data"
    }
   ],
   "source": [
    "plt.figure(figsize=(10, 5))\n",
    "plt.plot(\n",
    "    merged_cumulative['date'],\n",
    "    (merged_cumulative['revenue_b'] / merged_cumulative['orders_b']) / (merged_cumulative['revenue_a'] / merged_cumulative['orders_a']) -1\n",
    ")\n",
    "plt.xticks(rotation=45)\n",
    "plt.title('Изменения относительного кумулятивного среднего чека')\n",
    "#plt.axis(ymin=-0.5, ymax=0.6)\n",
    "plt.axhline(y=0, color='grey', linestyle='-.');"
   ]
  },
  {
   "cell_type": "markdown",
   "metadata": {},
   "source": [
    "В данных действительно присутствуют аномально крупные заказы, но теперь нужно будет проверить и более рание даты."
   ]
  },
  {
   "cell_type": "code",
   "execution_count": 25,
   "metadata": {},
   "outputs": [
    {
     "data": {
      "image/png": "[encoded data removed]",
      "text/plain": [
       "<Figure size 720x360 with 1 Axes>"
      ]
     },
     "metadata": {
      "needs_background": "light"
     },
     "output_type": "display_data"
    }
   ],
   "source": [
    "plt.figure(figsize=(10, 5))\n",
    "plt.plot(cumulative_a['date'], cumulative_a['orders'] / cumulative_a['visitors'], label='A')\n",
    "plt.plot(cumulative_b['date'], cumulative_b['orders'] / cumulative_b['visitors'], label='B')\n",
    "plt.xticks(rotation=45)\n",
    "plt.title('Кумулятивная конверсия по группам')\n",
    "plt.axis(xmin=cumulative_a['date'].min(), xmax=cumulative_a['date'].max(), ymin=.020, ymax=0.04)\n",
    "plt.legend();"
   ]
  },
  {
   "cell_type": "markdown",
   "metadata": {},
   "source": [
    "Конверсия изначально имела выбросы, но по итогу выравнивалась. Группа В лидирует."
   ]
  },
  {
   "cell_type": "code",
   "execution_count": 26,
   "metadata": {},
   "outputs": [
    {
     "data": {
      "text/html": [
       "<div>\n",
       "<style scoped>\n",
       "    .dataframe tbody tr th:only-of-type {\n",
       "        vertical-align: middle;\n",
       "    }\n",
       "\n",
       "    .dataframe tbody tr th {\n",
       "        vertical-align: top;\n",
       "    }\n",
       "\n",
       "    .dataframe thead th {\n",
       "        text-align: right;\n",
       "    }\n",
       "</style>\n",
       "<table border=\"1\" class=\"dataframe\">\n",
       "  <thead>\n",
       "    <tr style=\"text-align: right;\">\n",
       "      <th></th>\n",
       "      <th>date</th>\n",
       "      <th>revenue_a</th>\n",
       "      <th>orders_a</th>\n",
       "      <th>visitors_a</th>\n",
       "      <th>revenue_b</th>\n",
       "      <th>orders_b</th>\n",
       "      <th>visitors_b</th>\n",
       "    </tr>\n",
       "  </thead>\n",
       "  <tbody>\n",
       "    <tr>\n",
       "      <th>5</th>\n",
       "      <td>2019-08-06</td>\n",
       "      <td>515332</td>\n",
       "      <td>114</td>\n",
       "      <td>3985</td>\n",
       "      <td>690490</td>\n",
       "      <td>112</td>\n",
       "      <td>3935</td>\n",
       "    </tr>\n",
       "  </tbody>\n",
       "</table>\n",
       "</div>"
      ],
      "text/plain": [
       "        date  revenue_a  orders_a  visitors_a  revenue_b  orders_b  visitors_b\n",
       "5 2019-08-06     515332       114        3985     690490       112        3935"
      ]
     },
     "execution_count": 26,
     "metadata": {},
     "output_type": "execute_result"
    }
   ],
   "source": [
    "merged_cumulative.sample()"
   ]
  },
  {
   "cell_type": "code",
   "execution_count": 27,
   "metadata": {},
   "outputs": [
    {
     "data": {
      "image/png": "[encoded data removed]",
      "text/plain": [
       "<Figure size 720x360 with 1 Axes>"
      ]
     },
     "metadata": {
      "needs_background": "light"
     },
     "output_type": "display_data"
    }
   ],
   "source": [
    "plt.figure(figsize=(10, 5))\n",
    "plt.plot(\n",
    "    merged_cumulative['date'],\n",
    "    (merged_cumulative['orders_b'] / merged_cumulative['visitors_b']) / (merged_cumulative['orders_a'] / merged_cumulative['visitors_a']) -1\n",
    ")\n",
    "plt.xticks(rotation=45)\n",
    "plt.title('График относительного изменения кумулятивной конверсии групп')\n",
    "plt.axis(xmin=merged_cumulative['date'].min(), xmax=merged_cumulative['date'].max(), ymin=-0.30, ymax=0.3)\n",
    "plt.axhline(y=0, color='grey', linestyle='-.')\n",
    "plt.axhline(y=0.15, color='black', linestyle='--');"
   ]
  },
  {
   "cell_type": "markdown",
   "metadata": {},
   "source": [
    "Группа В изначально пошла на обгон группы А и теперь стабильно находится в значениях выше группы А."
   ]
  },
  {
   "cell_type": "markdown",
   "metadata": {},
   "source": [
    "<a id='part_3.6'></a>\n",
    "### Изучим аномалии."
   ]
  },
  {
   "cell_type": "code",
   "execution_count": 28,
   "metadata": {},
   "outputs": [
    {
     "data": {
      "image/png": "[encoded data removed]",
      "text/plain": [
       "<Figure size 432x288 with 1 Axes>"
      ]
     },
     "metadata": {
      "needs_background": "light"
     },
     "output_type": "display_data"
    }
   ],
   "source": [
    "plt.hist(orders['revenue'])\n",
    "plt.title('Распределение revenue');"
   ]
  },
  {
   "cell_type": "code",
   "execution_count": 29,
   "metadata": {},
   "outputs": [
    {
     "data": {
      "image/png": "[encoded data removed]",
      "text/plain": [
       "<Figure size 720x360 with 1 Axes>"
      ]
     },
     "metadata": {
      "needs_background": "light"
     },
     "output_type": "display_data"
    }
   ],
   "source": [
    "x_values = pd.Series(range(0,orders['revenue'].count())) # сериес для \n",
    "\n",
    "plt.figure(figsize=(10, 5))\n",
    "sns.scatterplot(x=x_values, y=\"revenue\", hue=\"group\",\n",
    "                     data=orders)\n",
    "plt.grid()\n",
    "plt.title('Точечный график количества заказов');"
   ]
  },
  {
   "cell_type": "markdown",
   "metadata": {},
   "source": [
    "По второму графику можно заметить один аномальный заказ, который портит график целой группе, нужно будет от него избавиться."
   ]
  },
  {
   "cell_type": "code",
   "execution_count": 30,
   "metadata": {},
   "outputs": [
    {
     "name": "stdout",
     "output_type": "stream",
     "text": [
      "[26785. 53904.]\n"
     ]
    },
    {
     "data": {
      "image/png": "[encoded data removed]",
      "text/plain": [
       "<Figure size 720x360 with 1 Axes>"
      ]
     },
     "metadata": {
      "needs_background": "light"
     },
     "output_type": "display_data"
    }
   ],
   "source": [
    "orders_clean = orders.query('revenue<200000')\n",
    "x_values = pd.Series(range(0,orders_clean['revenue'].count())) # сериес для оси Х\n",
    "plt.figure(figsize=(10, 5))\n",
    "sns.scatterplot(x=x_values, y=\"revenue\", hue=\"group\",\n",
    "                     data=orders_clean)\n",
    "plt.grid()\n",
    "plt.title('Точечный график количества заказов');\n",
    "print(np.percentile(orders['revenue'], [95, 99]))"
   ]
  },
  {
   "cell_type": "markdown",
   "metadata": {},
   "source": [
    "В более детальном разборе всё в порядке, нужно удалить всё, что выше 95 перцентиля."
   ]
  },
  {
   "cell_type": "code",
   "execution_count": 31,
   "metadata": {},
   "outputs": [],
   "source": [
    "per_95 = np.percentile(orders['revenue'], [95])[0]\n",
    "orders_clean = orders.query('revenue<= @per_95')"
   ]
  },
  {
   "cell_type": "markdown",
   "metadata": {},
   "source": [
    "Удалили аномально дорогие заказы, проверим."
   ]
  },
  {
   "cell_type": "code",
   "execution_count": 32,
   "metadata": {},
   "outputs": [
    {
     "data": {
      "image/png": "[encoded data removed]",
      "text/plain": [
       "<Figure size 432x288 with 1 Axes>"
      ]
     },
     "metadata": {
      "needs_background": "light"
     },
     "output_type": "display_data"
    }
   ],
   "source": [
    "plt.hist(orders_clean['revenue'])\n",
    "plt.title('Распределение revenue');"
   ]
  },
  {
   "cell_type": "markdown",
   "metadata": {},
   "source": [
    "Таблица очищена от аномально дорогих заказов."
   ]
  },
  {
   "cell_type": "markdown",
   "metadata": {},
   "source": [
    "<a id='part_3.7'></a>\n",
    "### Изучим количество заказов."
   ]
  },
  {
   "cell_type": "code",
   "execution_count": 33,
   "metadata": {},
   "outputs": [],
   "source": [
    "orders_by_users = (orders.groupby('visitorId')['revenue'].count()\n",
    "                   .reset_index()\n",
    "                   .rename(columns={'revenue':'orders'}))"
   ]
  },
  {
   "cell_type": "code",
   "execution_count": 34,
   "metadata": {},
   "outputs": [
    {
     "data": {
      "image/png": "[encoded data removed]",
      "text/plain": [
       "<Figure size 432x288 with 1 Axes>"
      ]
     },
     "metadata": {
      "needs_background": "light"
     },
     "output_type": "display_data"
    }
   ],
   "source": [
    "\n",
    "orders_by_users['orders'].hist()\n",
    "plt.title('Распределение количества заказов');"
   ]
  },
  {
   "cell_type": "markdown",
   "metadata": {},
   "source": [
    "Клиенты делают обычно 1 заказ, редко 2 и еще реже 3."
   ]
  },
  {
   "cell_type": "code",
   "execution_count": 35,
   "metadata": {},
   "outputs": [
    {
     "name": "stdout",
     "output_type": "stream",
     "text": [
      "[1. 2.]\n"
     ]
    },
    {
     "data": {
      "image/png": "[encoded data removed]",
      "text/plain": [
       "<Figure size 432x288 with 1 Axes>"
      ]
     },
     "metadata": {
      "needs_background": "light"
     },
     "output_type": "display_data"
    }
   ],
   "source": [
    "x_values = pd.Series(range(0,orders_by_users['orders'].count())) # сериес для оси х\n",
    "plt.scatter(data=orders_by_users, x=x_values, y='orders') \n",
    "plt.grid()\n",
    "plt.title('Точечный график количества заказов на пользователя')\n",
    "plt.yticks([0,1,2,3,4]);\n",
    "print(np.percentile(orders_by_users['orders'], [95, 99]))"
   ]
  },
  {
   "cell_type": "markdown",
   "metadata": {},
   "source": [
    "На основе данных уберем пользователей которые делают более двух заказов.\n"
   ]
  },
  {
   "cell_type": "code",
   "execution_count": 36,
   "metadata": {},
   "outputs": [],
   "source": [
    "per_99 = np.percentile(orders_by_users['orders'], [99])[0]\n",
    "orders_by_users_clean = orders_by_users.query('orders<= @per_99')"
   ]
  },
  {
   "cell_type": "code",
   "execution_count": 37,
   "metadata": {},
   "outputs": [],
   "source": [
    "orders_clean = orders_clean.loc[orders_clean['visitorId'].isin(orders_by_users_clean['visitorId'])]"
   ]
  },
  {
   "cell_type": "code",
   "execution_count": 38,
   "metadata": {},
   "outputs": [
    {
     "data": {
      "image/png": "[encoded data removed]",
      "text/plain": [
       "<Figure size 432x288 with 1 Axes>"
      ]
     },
     "metadata": {
      "needs_background": "light"
     },
     "output_type": "display_data"
    }
   ],
   "source": [
    "orders_by_users_clean['orders'].hist()\n",
    "plt.title('Распределение количества заказов');"
   ]
  },
  {
   "cell_type": "markdown",
   "metadata": {},
   "source": [
    "<a id='part_3.8'></a>\n",
    "### Вывод:"
   ]
  },
  {
   "cell_type": "markdown",
   "metadata": {},
   "source": [
    "Таким образом мы анализировали результаты А/B теста, избавились от аномалий и подготовили итоговые таблицы. С учётом аномалий группа В казалась предпочтительнее. Проведем проверку на статистическую значимость, чтобы определить, какая из групп на самом деле преподчтительнее."
   ]
  },
  {
   "cell_type": "markdown",
   "metadata": {},
   "source": [
    "## Шаг. Часть 2 Статистическая значимость"
   ]
  },
  {
   "cell_type": "markdown",
   "metadata": {},
   "source": [
    "Используем критерий Манна-Уитни, поскольку с большой долей вероятности можно утверждать, что данные распределены ненормально."
   ]
  },
  {
   "cell_type": "code",
   "execution_count": 39,
   "metadata": {},
   "outputs": [],
   "source": [
    "orders_by_usersA = orders[orders['group']=='A'].groupby('visitorId')['transactionId'].nunique().reset_index()\n",
    "orders_by_usersA.columns=['visitorsId','orders']\n",
    "\n",
    "orders_by_usersB = orders[orders['group']=='B'].groupby('visitorId')['transactionId'].nunique().reset_index()\n",
    "orders_by_usersB.columns=['visitorsId','orders']"
   ]
  },
  {
   "cell_type": "markdown",
   "metadata": {},
   "source": [
    "### Сформируем таблицы с пользователями без заказов\n",
    "\n",
    "* Вычитаем из общего числа визитов число заказов, получаем количество пользователей, которые не совершили заказ\n",
    "* Формируем сериес, в котором все значения будут равны 0, а количество таких значений это как раз результат операции описанной выше.\n",
    "* Объединяем с пользователями, которые делали заказы"
   ]
  },
  {
   "cell_type": "code",
   "execution_count": 40,
   "metadata": {},
   "outputs": [],
   "source": [
    "freeloadersA = pd.Series(0, index=np.arange(visitors[visitors['group']=='A']['visitors'].sum() - len(orders_by_usersA['orders'])), name='orders')\n",
    "freeloadersB = pd.Series(0, index=np.arange(visitors[visitors['group']=='B']['visitors'].sum() - len(orders_by_usersB['orders'])), name='orders')\n",
    "# создаем выборки с сырыми данными для стат тестов\n",
    "sampleA = pd.concat([orders_by_usersA['orders'], freeloadersA])\n",
    "sampleB = pd.concat([orders_by_usersB['orders'], freeloadersB])"
   ]
  },
  {
   "cell_type": "markdown",
   "metadata": {},
   "source": [
    "`H0` - конверсия группы А = конверсии группы В\n",
    "\n",
    "`H1` - конверсии групп не равны\n",
    "\n",
    "Примем для себя уровень значимости alpha = .05"
   ]
  },
  {
   "cell_type": "code",
   "execution_count": 41,
   "metadata": {},
   "outputs": [
    {
     "name": "stdout",
     "output_type": "stream",
     "text": [
      "p_value: 0.01102\n",
      "Средняя конверсия группы А: 2.5%\n",
      "Средняя конверсия группы B: 2.9%\n"
     ]
    }
   ],
   "source": [
    "\n",
    "print('p_value: {:.5f}'.format(st.mannwhitneyu(sampleA, sampleB)[1]))\n",
    "print('Средняя конверсия группы А: {:.1%}'.format(sampleA.mean()))\n",
    "print('Средняя конверсия группы B: {:.1%}'.format(sampleB.mean()))"
   ]
  },
  {
   "cell_type": "markdown",
   "metadata": {},
   "source": [
    "Так как p_value меньше заданного значения alpha, то мы отвергаем гипотизу о равенстве средний конверсий. \n",
    "\n",
    "Далее изучим различие среднего чека по сырым данным.\n",
    "\n",
    "`H0` - средний чек группы А = чеку группы В\n",
    "\n",
    "`H1` - средний чек групп не равен\n",
    "\n",
    "Примем для себя уровень значимости alpha = .05"
   ]
  },
  {
   "cell_type": "code",
   "execution_count": 42,
   "metadata": {},
   "outputs": [
    {
     "name": "stdout",
     "output_type": "stream",
     "text": [
      "p_value: 0.82949\n",
      "Средний чек группы А: 7189.44\n",
      "Средний чек группы B: 9249.95\n"
     ]
    }
   ],
   "source": [
    "print('p_value: {:.5f}'.format(\n",
    "    st.mannwhitneyu(orders[orders['group']=='A']['revenue'], orders[orders['group']=='B']['revenue'])[1]\n",
    "))\n",
    "print('Средний чек группы А: {:.2f}'.format(orders[orders['group']=='A']['revenue'].mean()))\n",
    "print('Средний чек группы B: {:.2f}'.format(orders[orders['group']=='B']['revenue'].mean()))"
   ]
  },
  {
   "cell_type": "markdown",
   "metadata": {},
   "source": [
    "Несмотря на разницу среднего чека в 2000 у.е., тест показывает, что мы не можем отвергнуть нулевую гипотизу о равенстве средних. То есть, такое различие не статистически значимо.\n",
    "\n",
    "Это все были сырые данные, теперь посмотрим на очищенных."
   ]
  },
  {
   "cell_type": "markdown",
   "metadata": {},
   "source": [
    "### Проведение очистки данных."
   ]
  },
  {
   "cell_type": "code",
   "execution_count": 43,
   "metadata": {},
   "outputs": [
    {
     "name": "stdout",
     "output_type": "stream",
     "text": [
      "p_value: 0.01374\n",
      "Средняя конверсия (очищенная) группы А: 2.3%\n",
      "Средняя конверсия (очищенная) группы B: 2.7%\n"
     ]
    }
   ],
   "source": [
    "orders_by_usersA = orders_clean[orders_clean['group']=='A'].groupby('visitorId')['transactionId'].nunique().reset_index()\n",
    "orders_by_usersA.columns=['visitorsId','orders']\n",
    "\n",
    "orders_by_usersB = orders_clean[orders_clean['group']=='B'].groupby('visitorId')['transactionId'].nunique().reset_index()\n",
    "orders_by_usersB.columns=['visitorsId','orders']\n",
    "freeloadersA = pd.Series(0, index=np.arange(visitors[visitors['group']=='A']['visitors'].sum() - len(orders_by_usersA['orders'])), name='orders')\n",
    "freeloadersB = pd.Series(0, index=np.arange(visitors[visitors['group']=='B']['visitors'].sum() - len(orders_by_usersB['orders'])), name='orders')\n",
    "# создаем выборки с чистыми данными для стат тестов\n",
    "sampleA = pd.concat([orders_by_usersA['orders'], freeloadersA])\n",
    "sampleB = pd.concat([orders_by_usersB['orders'], freeloadersB])\n",
    "print('p_value: {:.5f}'.format(st.mannwhitneyu(sampleA, sampleB)[1]))\n",
    "print('Средняя конверсия (очищенная) группы А: {:.1%}'.format(sampleA.mean()))\n",
    "print('Средняя конверсия (очищенная) группы B: {:.1%}'.format(sampleB.mean()))"
   ]
  },
  {
   "cell_type": "markdown",
   "metadata": {},
   "source": [
    "На очищенных данных ситуация с конверсией почти не изменилась, только конверсия немного уменьшилась. Группа В, по прежнему, в лидерах по конверсии. Отвергаем H0 о равенстве конверсий."
   ]
  },
  {
   "cell_type": "code",
   "execution_count": 44,
   "metadata": {},
   "outputs": [
    {
     "name": "stdout",
     "output_type": "stream",
     "text": [
      "p_value: 0.60479\n",
      "Средний чек (очищенный) группы А: 5135.96\n",
      "Средний чек (очищенный) группы B: 4855.19\n"
     ]
    }
   ],
   "source": [
    "print('p_value: {:.5f}'.format(\n",
    "    st.mannwhitneyu(orders_clean[orders_clean['group']=='A']['revenue'], orders_clean[orders_clean['group']=='B']['revenue'])[1]\n",
    "))\n",
    "print('Средний чек (очищенный) группы А: {:.2f}'.format(orders_clean[orders_clean['group']=='A']['revenue'].mean()))\n",
    "print('Средний чек (очищенный) группы B: {:.2f}'.format(orders_clean[orders_clean['group']=='B']['revenue'].mean()))"
   ]
  },
  {
   "cell_type": "markdown",
   "metadata": {},
   "source": [
    "Мы по прежнему не можем отвергнуть нулевую гипотезу о равенстве среднего чека. Больше нет такой большой разницы между группа А и В по среднему чеку.\n"
   ]
  },
  {
   "cell_type": "markdown",
   "metadata": {},
   "source": [
    "### Подготовим данные для визуализации кумулятивной выручки."
   ]
  },
  {
   "cell_type": "code",
   "execution_count": 45,
   "metadata": {},
   "outputs": [
    {
     "data": {
      "image/png": "[encoded data removed]",
      "text/plain": [
       "<Figure size 1080x720 with 1 Axes>"
      ]
     },
     "metadata": {
      "needs_background": "light"
     },
     "output_type": "display_data"
    }
   ],
   "source": [
    "orders_aggregated = (dates_groups\n",
    "                     .apply(lambda x: orders_clean[np.logical_and(orders_clean['date'] <= x['date']\n",
    "                                                            , orders_clean['group'] ==  x['group'])]\n",
    "                    .agg({'date':'max', 'group':'max', 'revenue':'sum', 'transactionId':'nunique'}), axis=1) \n",
    "                    .sort_values(by=['date','group']))\n",
    "                    \n",
    "orders_aggregated.rename(columns={'transactionId':'orders_clean'}, inplace=True)\n",
    "\n",
    "visitors_aggregated = (dates_groups\n",
    "                     .apply(lambda x: visitors[np.logical_and(visitors['date'] <= x['date']\n",
    "                                                            , visitors['group'] ==  x['group'])]\n",
    "                    .agg({'date':'max', 'group':'max', 'visitors':'sum'}), axis=1) \n",
    "                    .sort_values(by=['date','group']))\n",
    "visitors_aggregated.head()\n",
    "\n",
    "cumulative_data = orders_aggregated.merge(visitors_aggregated, on=['date','group'])\n",
    "cumulative_data.head()\n",
    "\n",
    "\n",
    "\n",
    "from pandas.plotting import register_matplotlib_converters\n",
    "register_matplotlib_converters()\n",
    "# Построим график кумулятивной выручки по группам, предварительно изучив количество заказов в каждой из групп\n",
    "cumulative_a = cumulative_data.loc[cumulative_data['group'] == 'A',['date','revenue','orders_clean','visitors']]\n",
    "cumulative_b = cumulative_data.loc[cumulative_data['group'] == 'B',['date','revenue','orders_clean','visitors']]\n",
    "plt.style.use('seaborn-poster')\n",
    "plt.figure(figsize=(15, 10))\n",
    "plt.plot(cumulative_a['date'], cumulative_a['revenue'], label='A')\n",
    "plt.plot(cumulative_b['date'], cumulative_b['revenue'], label='B')\n",
    "plt.xticks(rotation=45)\n",
    "plt.title('Кумулятивная выручка по группам на чистых данных')\n",
    "plt.legend(loc='best');"
   ]
  },
  {
   "cell_type": "markdown",
   "metadata": {},
   "source": [
    "##  Шаг. Вывод:"
   ]
  },
  {
   "cell_type": "markdown",
   "metadata": {},
   "source": [
    "**По результатам проведенного исследования, можно выделить:**\n",
    "\n",
    "1) Группа В стабильно лучше группы А, даже при очистке данных от аномалий и выбросов.\n",
    "\n",
    "2) Средний чек не показал статистически значимых различий между группами. Но у группы В он выше.\n",
    "\n",
    "*На основе приведенных данных можно заканчивать тестирование и выделить победу группы В.*\n"
   ]
  },
  {
   "cell_type": "markdown",
   "metadata": {},
   "source": [
    "**Замечания разработчикам:**"
   ]
  },
  {
   "cell_type": "markdown",
   "metadata": {},
   "source": [
    "Одни и те же клиенты попадали в разные группы, что могло повлиять на результат тестирования."
   ]
  }
 ],
 "metadata": {
  "ExecuteTimeLog": [
   {
    "duration": 1412,
    "start_time": "2022-05-05T09:23:31.413Z"
   },
   {
    "duration": 5,
    "start_time": "2022-05-05T09:23:43.397Z"
   },
   {
    "duration": 41,
    "start_time": "2022-05-05T09:23:58.804Z"
   },
   {
    "duration": 37,
    "start_time": "2022-05-05T09:24:16.468Z"
   },
   {
    "duration": 9,
    "start_time": "2022-05-05T09:24:44.734Z"
   },
   {
    "duration": 31,
    "start_time": "2022-05-05T09:25:08.101Z"
   },
   {
    "duration": 15,
    "start_time": "2022-05-05T09:25:25.272Z"
   },
   {
    "duration": 26,
    "start_time": "2022-05-05T09:26:10.805Z"
   },
   {
    "duration": 14,
    "start_time": "2022-05-05T09:26:31.644Z"
   },
   {
    "duration": 15,
    "start_time": "2022-05-05T09:34:58.072Z"
   },
   {
    "duration": 12,
    "start_time": "2022-05-05T09:35:25.690Z"
   },
   {
    "duration": 9,
    "start_time": "2022-05-05T09:56:44.887Z"
   },
   {
    "duration": 8,
    "start_time": "2022-05-05T09:57:40.208Z"
   },
   {
    "duration": 12,
    "start_time": "2022-05-05T10:01:27.497Z"
   },
   {
    "duration": 3310,
    "start_time": "2022-05-05T10:01:51.073Z"
   },
   {
    "duration": 3751,
    "start_time": "2022-05-05T10:02:06.243Z"
   },
   {
    "duration": 9,
    "start_time": "2022-05-05T10:02:29.891Z"
   },
   {
    "duration": 26,
    "start_time": "2022-05-05T10:03:02.533Z"
   },
   {
    "duration": 7,
    "start_time": "2022-05-05T10:04:10.554Z"
   },
   {
    "duration": 7,
    "start_time": "2022-05-05T10:04:32.018Z"
   },
   {
    "duration": 7,
    "start_time": "2022-05-05T10:04:41.241Z"
   },
   {
    "duration": 8,
    "start_time": "2022-05-05T10:05:35.818Z"
   },
   {
    "duration": 147,
    "start_time": "2022-05-05T10:07:01.115Z"
   },
   {
    "duration": 125,
    "start_time": "2022-05-05T10:07:07.083Z"
   },
   {
    "duration": 14,
    "start_time": "2022-05-05T10:07:14.497Z"
   },
   {
    "duration": 276,
    "start_time": "2022-05-05T10:07:32.898Z"
   },
   {
    "duration": 281,
    "start_time": "2022-05-05T10:09:52.532Z"
   },
   {
    "duration": 12,
    "start_time": "2022-05-05T10:16:42.184Z"
   },
   {
    "duration": 279,
    "start_time": "2022-05-05T10:16:51.190Z"
   },
   {
    "duration": 167,
    "start_time": "2022-05-05T10:17:49.598Z"
   },
   {
    "duration": 9,
    "start_time": "2022-05-05T10:19:22.847Z"
   },
   {
    "duration": 244,
    "start_time": "2022-05-05T10:19:30.095Z"
   },
   {
    "duration": 165,
    "start_time": "2022-05-05T10:20:43.840Z"
   },
   {
    "duration": 111,
    "start_time": "2022-05-05T10:21:21.489Z"
   },
   {
    "duration": 197,
    "start_time": "2022-05-05T10:21:27.729Z"
   },
   {
    "duration": 297,
    "start_time": "2022-05-05T10:22:29.058Z"
   },
   {
    "duration": 6,
    "start_time": "2022-05-05T10:23:32.616Z"
   },
   {
    "duration": 7,
    "start_time": "2022-05-05T10:23:36.071Z"
   },
   {
    "duration": 117,
    "start_time": "2022-05-05T10:24:04.084Z"
   },
   {
    "duration": 119,
    "start_time": "2022-05-05T10:24:18.209Z"
   },
   {
    "duration": 33,
    "start_time": "2022-05-05T10:24:42.328Z"
   },
   {
    "duration": 7,
    "start_time": "2022-05-05T10:24:46.556Z"
   },
   {
    "duration": 6,
    "start_time": "2022-05-05T10:24:50.920Z"
   },
   {
    "duration": 111,
    "start_time": "2022-05-05T10:24:52.256Z"
   },
   {
    "duration": 5,
    "start_time": "2022-05-05T10:25:19.826Z"
   },
   {
    "duration": 112,
    "start_time": "2022-05-05T10:25:21.231Z"
   },
   {
    "duration": 6,
    "start_time": "2022-05-05T10:26:17.228Z"
   },
   {
    "duration": 125,
    "start_time": "2022-05-05T10:26:23.261Z"
   },
   {
    "duration": 104,
    "start_time": "2022-05-05T10:27:11.362Z"
   },
   {
    "duration": 7,
    "start_time": "2022-05-05T10:27:46.449Z"
   },
   {
    "duration": 6,
    "start_time": "2022-05-05T10:27:49.714Z"
   },
   {
    "duration": 5,
    "start_time": "2022-05-05T10:28:02.633Z"
   },
   {
    "duration": 114,
    "start_time": "2022-05-05T10:28:28.099Z"
   },
   {
    "duration": 2,
    "start_time": "2022-05-05T10:28:43.818Z"
   },
   {
    "duration": 11,
    "start_time": "2022-05-05T11:12:53.014Z"
   },
   {
    "duration": 10,
    "start_time": "2022-05-05T11:13:45.503Z"
   },
   {
    "duration": 26,
    "start_time": "2022-05-05T11:14:26.974Z"
   },
   {
    "duration": 10,
    "start_time": "2022-05-05T11:16:26.325Z"
   },
   {
    "duration": 37,
    "start_time": "2022-05-05T11:18:22.047Z"
   },
   {
    "duration": 12,
    "start_time": "2022-05-05T11:19:04.454Z"
   },
   {
    "duration": 446,
    "start_time": "2022-05-05T11:20:30.154Z"
   },
   {
    "duration": 494,
    "start_time": "2022-05-05T11:25:24.218Z"
   },
   {
    "duration": 4,
    "start_time": "2022-05-05T11:41:45.409Z"
   },
   {
    "duration": 55,
    "start_time": "2022-05-05T11:41:45.415Z"
   },
   {
    "duration": 35,
    "start_time": "2022-05-05T11:41:45.472Z"
   },
   {
    "duration": 9,
    "start_time": "2022-05-05T11:41:45.509Z"
   },
   {
    "duration": 61,
    "start_time": "2022-05-05T11:41:45.520Z"
   },
   {
    "duration": 13,
    "start_time": "2022-05-05T11:41:45.582Z"
   },
   {
    "duration": 166,
    "start_time": "2022-05-05T11:41:45.597Z"
   },
   {
    "duration": 12,
    "start_time": "2022-05-05T11:41:45.765Z"
   },
   {
    "duration": 26,
    "start_time": "2022-05-05T11:41:45.779Z"
   },
   {
    "duration": 24,
    "start_time": "2022-05-05T11:41:45.807Z"
   },
   {
    "duration": 37,
    "start_time": "2022-05-05T11:41:45.834Z"
   },
   {
    "duration": 32,
    "start_time": "2022-05-05T11:41:45.873Z"
   },
   {
    "duration": 20,
    "start_time": "2022-05-05T11:41:45.908Z"
   },
   {
    "duration": 19,
    "start_time": "2022-05-05T11:41:45.930Z"
   },
   {
    "duration": 16,
    "start_time": "2022-05-05T11:41:45.951Z"
   },
   {
    "duration": 16,
    "start_time": "2022-05-05T11:41:45.969Z"
   },
   {
    "duration": 164,
    "start_time": "2022-05-05T11:41:45.986Z"
   },
   {
    "duration": 131,
    "start_time": "2022-05-05T11:41:46.152Z"
   },
   {
    "duration": 17,
    "start_time": "2022-05-05T11:41:46.285Z"
   },
   {
    "duration": 205,
    "start_time": "2022-05-05T11:41:46.304Z"
   },
   {
    "duration": 208,
    "start_time": "2022-05-05T11:41:46.512Z"
   },
   {
    "duration": 13,
    "start_time": "2022-05-05T11:41:46.722Z"
   },
   {
    "duration": 305,
    "start_time": "2022-05-05T11:41:46.737Z"
   },
   {
    "duration": 210,
    "start_time": "2022-05-05T11:41:47.044Z"
   },
   {
    "duration": 9,
    "start_time": "2022-05-05T11:41:47.256Z"
   },
   {
    "duration": 291,
    "start_time": "2022-05-05T11:41:47.266Z"
   },
   {
    "duration": 167,
    "start_time": "2022-05-05T11:41:47.560Z"
   },
   {
    "duration": 235,
    "start_time": "2022-05-05T11:41:47.730Z"
   },
   {
    "duration": 247,
    "start_time": "2022-05-05T11:41:47.969Z"
   },
   {
    "duration": 6,
    "start_time": "2022-05-05T11:41:48.219Z"
   },
   {
    "duration": 165,
    "start_time": "2022-05-05T11:41:48.226Z"
   },
   {
    "duration": 7,
    "start_time": "2022-05-05T11:41:48.393Z"
   },
   {
    "duration": 175,
    "start_time": "2022-05-05T11:41:48.402Z"
   },
   {
    "duration": 162,
    "start_time": "2022-05-05T11:41:48.579Z"
   },
   {
    "duration": 14,
    "start_time": "2022-05-05T11:41:48.743Z"
   },
   {
    "duration": 7,
    "start_time": "2022-05-05T11:41:48.759Z"
   },
   {
    "duration": 262,
    "start_time": "2022-05-05T11:41:48.767Z"
   },
   {
    "duration": 12,
    "start_time": "2022-05-05T11:41:49.031Z"
   },
   {
    "duration": 9,
    "start_time": "2022-05-05T11:41:49.055Z"
   },
   {
    "duration": 53,
    "start_time": "2022-05-05T11:41:49.066Z"
   },
   {
    "duration": 10,
    "start_time": "2022-05-05T11:41:49.121Z"
   },
   {
    "duration": 33,
    "start_time": "2022-05-05T11:41:49.133Z"
   },
   {
    "duration": 10,
    "start_time": "2022-05-05T11:41:49.167Z"
   },
   {
    "duration": 525,
    "start_time": "2022-05-05T11:41:49.178Z"
   },
   {
    "duration": 1196,
    "start_time": "2022-05-06T11:30:00.015Z"
   },
   {
    "duration": 40,
    "start_time": "2022-05-06T11:30:01.213Z"
   },
   {
    "duration": 39,
    "start_time": "2022-05-06T11:30:01.255Z"
   },
   {
    "duration": 7,
    "start_time": "2022-05-06T11:30:01.298Z"
   },
   {
    "duration": 67,
    "start_time": "2022-05-06T11:30:01.307Z"
   },
   {
    "duration": 16,
    "start_time": "2022-05-06T11:30:01.377Z"
   },
   {
    "duration": 52,
    "start_time": "2022-05-06T11:30:01.395Z"
   },
   {
    "duration": 20,
    "start_time": "2022-05-06T11:30:01.452Z"
   },
   {
    "duration": 21,
    "start_time": "2022-05-06T11:30:01.476Z"
   },
   {
    "duration": 16,
    "start_time": "2022-05-06T11:30:01.499Z"
   },
   {
    "duration": 16,
    "start_time": "2022-05-06T11:30:01.517Z"
   },
   {
    "duration": 29,
    "start_time": "2022-05-06T11:30:01.535Z"
   },
   {
    "duration": 21,
    "start_time": "2022-05-06T11:30:01.565Z"
   },
   {
    "duration": 10,
    "start_time": "2022-05-06T11:30:01.587Z"
   },
   {
    "duration": 7,
    "start_time": "2022-05-06T11:30:01.599Z"
   },
   {
    "duration": 8,
    "start_time": "2022-05-06T11:30:01.608Z"
   },
   {
    "duration": 176,
    "start_time": "2022-05-06T11:30:01.618Z"
   },
   {
    "duration": 176,
    "start_time": "2022-05-06T11:30:01.796Z"
   },
   {
    "duration": 16,
    "start_time": "2022-05-06T11:30:01.975Z"
   },
   {
    "duration": 281,
    "start_time": "2022-05-06T11:30:01.993Z"
   },
   {
    "duration": 205,
    "start_time": "2022-05-06T11:30:02.275Z"
   },
   {
    "duration": 11,
    "start_time": "2022-05-06T11:30:02.482Z"
   },
   {
    "duration": 263,
    "start_time": "2022-05-06T11:30:02.495Z"
   },
   {
    "duration": 227,
    "start_time": "2022-05-06T11:30:02.759Z"
   },
   {
    "duration": 9,
    "start_time": "2022-05-06T11:30:02.988Z"
   },
   {
    "duration": 278,
    "start_time": "2022-05-06T11:30:02.999Z"
   },
   {
    "duration": 130,
    "start_time": "2022-05-06T11:30:03.279Z"
   },
   {
    "duration": 227,
    "start_time": "2022-05-06T11:30:03.413Z"
   },
   {
    "duration": 311,
    "start_time": "2022-05-06T11:30:03.641Z"
   },
   {
    "duration": 16,
    "start_time": "2022-05-06T11:30:03.955Z"
   },
   {
    "duration": 126,
    "start_time": "2022-05-06T11:30:03.974Z"
   },
   {
    "duration": 7,
    "start_time": "2022-05-06T11:30:04.102Z"
   },
   {
    "duration": 163,
    "start_time": "2022-05-06T11:30:04.111Z"
   },
   {
    "duration": 120,
    "start_time": "2022-05-06T11:30:04.277Z"
   },
   {
    "duration": 7,
    "start_time": "2022-05-06T11:30:04.399Z"
   },
   {
    "duration": 9,
    "start_time": "2022-05-06T11:30:04.408Z"
   },
   {
    "duration": 144,
    "start_time": "2022-05-06T11:30:04.419Z"
   },
   {
    "duration": 11,
    "start_time": "2022-05-06T11:30:04.565Z"
   },
   {
    "duration": 9,
    "start_time": "2022-05-06T11:30:04.578Z"
   },
   {
    "duration": 25,
    "start_time": "2022-05-06T11:30:04.589Z"
   },
   {
    "duration": 32,
    "start_time": "2022-05-06T11:30:04.615Z"
   },
   {
    "duration": 43,
    "start_time": "2022-05-06T11:30:04.652Z"
   },
   {
    "duration": 9,
    "start_time": "2022-05-06T11:30:04.697Z"
   },
   {
    "duration": 590,
    "start_time": "2022-05-06T11:30:04.707Z"
   },
   {
    "duration": 109,
    "start_time": "2022-05-06T11:46:51.667Z"
   },
   {
    "duration": 1273,
    "start_time": "2022-05-06T12:20:56.230Z"
   },
   {
    "duration": 35,
    "start_time": "2022-05-06T12:20:57.505Z"
   },
   {
    "duration": 36,
    "start_time": "2022-05-06T12:20:57.542Z"
   },
   {
    "duration": 7,
    "start_time": "2022-05-06T12:20:57.579Z"
   },
   {
    "duration": 45,
    "start_time": "2022-05-06T12:20:57.588Z"
   },
   {
    "duration": 12,
    "start_time": "2022-05-06T12:20:57.634Z"
   },
   {
    "duration": 24,
    "start_time": "2022-05-06T12:20:57.648Z"
   },
   {
    "duration": 11,
    "start_time": "2022-05-06T12:20:57.674Z"
   },
   {
    "duration": 45,
    "start_time": "2022-05-06T12:20:57.687Z"
   },
   {
    "duration": 9,
    "start_time": "2022-05-06T12:20:57.735Z"
   },
   {
    "duration": 15,
    "start_time": "2022-05-06T12:20:57.746Z"
   },
   {
    "duration": 10,
    "start_time": "2022-05-06T12:20:57.763Z"
   },
   {
    "duration": 5,
    "start_time": "2022-05-06T12:20:57.774Z"
   },
   {
    "duration": 5,
    "start_time": "2022-05-06T12:20:57.781Z"
   },
   {
    "duration": 37,
    "start_time": "2022-05-06T12:20:57.787Z"
   },
   {
    "duration": 8,
    "start_time": "2022-05-06T12:20:57.826Z"
   },
   {
    "duration": 159,
    "start_time": "2022-05-06T12:20:57.836Z"
   },
   {
    "duration": 129,
    "start_time": "2022-05-06T12:20:57.996Z"
   },
   {
    "duration": 13,
    "start_time": "2022-05-06T12:20:58.127Z"
   },
   {
    "duration": 256,
    "start_time": "2022-05-06T12:20:58.142Z"
   },
   {
    "duration": 180,
    "start_time": "2022-05-06T12:20:58.400Z"
   },
   {
    "duration": 11,
    "start_time": "2022-05-06T12:20:58.582Z"
   },
   {
    "duration": 339,
    "start_time": "2022-05-06T12:20:58.595Z"
   },
   {
    "duration": 174,
    "start_time": "2022-05-06T12:20:58.936Z"
   },
   {
    "duration": 12,
    "start_time": "2022-05-06T12:20:59.111Z"
   },
   {
    "duration": 262,
    "start_time": "2022-05-06T12:20:59.125Z"
   },
   {
    "duration": 119,
    "start_time": "2022-05-06T12:20:59.389Z"
   },
   {
    "duration": 193,
    "start_time": "2022-05-06T12:20:59.511Z"
   },
   {
    "duration": 283,
    "start_time": "2022-05-06T12:20:59.705Z"
   },
   {
    "duration": 7,
    "start_time": "2022-05-06T12:20:59.990Z"
   },
   {
    "duration": 105,
    "start_time": "2022-05-06T12:20:59.998Z"
   },
   {
    "duration": 5,
    "start_time": "2022-05-06T12:21:00.105Z"
   },
   {
    "duration": 132,
    "start_time": "2022-05-06T12:21:00.112Z"
   },
   {
    "duration": 123,
    "start_time": "2022-05-06T12:21:00.245Z"
   },
   {
    "duration": 6,
    "start_time": "2022-05-06T12:21:00.369Z"
   },
   {
    "duration": 14,
    "start_time": "2022-05-06T12:21:00.377Z"
   },
   {
    "duration": 119,
    "start_time": "2022-05-06T12:21:00.393Z"
   },
   {
    "duration": 15,
    "start_time": "2022-05-06T12:21:00.515Z"
   },
   {
    "duration": 10,
    "start_time": "2022-05-06T12:21:00.532Z"
   },
   {
    "duration": 45,
    "start_time": "2022-05-06T12:21:00.544Z"
   },
   {
    "duration": 9,
    "start_time": "2022-05-06T12:21:00.591Z"
   },
   {
    "duration": 39,
    "start_time": "2022-05-06T12:21:00.602Z"
   },
   {
    "duration": 10,
    "start_time": "2022-05-06T12:21:00.642Z"
   },
   {
    "duration": 472,
    "start_time": "2022-05-06T12:21:00.654Z"
   },
   {
    "duration": 556,
    "start_time": "2022-05-06T12:21:27.961Z"
   },
   {
    "duration": 488,
    "start_time": "2022-05-06T12:21:37.834Z"
   },
   {
    "duration": 137,
    "start_time": "2022-05-06T12:22:21.802Z"
   },
   {
    "duration": 4,
    "start_time": "2022-05-06T12:22:35.108Z"
   },
   {
    "duration": 39,
    "start_time": "2022-05-06T12:22:35.116Z"
   },
   {
    "duration": 32,
    "start_time": "2022-05-06T12:22:35.158Z"
   },
   {
    "duration": 8,
    "start_time": "2022-05-06T12:22:35.192Z"
   },
   {
    "duration": 44,
    "start_time": "2022-05-06T12:22:35.202Z"
   },
   {
    "duration": 12,
    "start_time": "2022-05-06T12:22:35.248Z"
   },
   {
    "duration": 61,
    "start_time": "2022-05-06T12:22:35.262Z"
   },
   {
    "duration": 14,
    "start_time": "2022-05-06T12:22:35.325Z"
   },
   {
    "duration": 12,
    "start_time": "2022-05-06T12:22:35.342Z"
   },
   {
    "duration": 14,
    "start_time": "2022-05-06T12:22:35.356Z"
   },
   {
    "duration": 52,
    "start_time": "2022-05-06T12:22:35.374Z"
   },
   {
    "duration": 15,
    "start_time": "2022-05-06T12:22:35.427Z"
   },
   {
    "duration": 6,
    "start_time": "2022-05-06T12:22:35.443Z"
   },
   {
    "duration": 10,
    "start_time": "2022-05-06T12:22:35.451Z"
   },
   {
    "duration": 11,
    "start_time": "2022-05-06T12:22:35.463Z"
   },
   {
    "duration": 8,
    "start_time": "2022-05-06T12:22:35.476Z"
   },
   {
    "duration": 183,
    "start_time": "2022-05-06T12:22:35.486Z"
   },
   {
    "duration": 128,
    "start_time": "2022-05-06T12:22:35.671Z"
   },
   {
    "duration": 11,
    "start_time": "2022-05-06T12:22:35.800Z"
   },
   {
    "duration": 189,
    "start_time": "2022-05-06T12:22:35.824Z"
   },
   {
    "duration": 201,
    "start_time": "2022-05-06T12:22:36.015Z"
   },
   {
    "duration": 15,
    "start_time": "2022-05-06T12:22:36.218Z"
   },
   {
    "duration": 277,
    "start_time": "2022-05-06T12:22:36.235Z"
   },
   {
    "duration": 207,
    "start_time": "2022-05-06T12:22:36.514Z"
   },
   {
    "duration": 8,
    "start_time": "2022-05-06T12:22:36.723Z"
   },
   {
    "duration": 376,
    "start_time": "2022-05-06T12:22:36.733Z"
   },
   {
    "duration": 161,
    "start_time": "2022-05-06T12:22:37.111Z"
   },
   {
    "duration": 220,
    "start_time": "2022-05-06T12:22:37.274Z"
   },
   {
    "duration": 230,
    "start_time": "2022-05-06T12:22:37.497Z"
   },
   {
    "duration": 6,
    "start_time": "2022-05-06T12:22:37.728Z"
   },
   {
    "duration": 152,
    "start_time": "2022-05-06T12:22:37.736Z"
   },
   {
    "duration": 5,
    "start_time": "2022-05-06T12:22:37.890Z"
   },
   {
    "duration": 162,
    "start_time": "2022-05-06T12:22:37.896Z"
   },
   {
    "duration": 147,
    "start_time": "2022-05-06T12:22:38.059Z"
   },
   {
    "duration": 6,
    "start_time": "2022-05-06T12:22:38.208Z"
   },
   {
    "duration": 11,
    "start_time": "2022-05-06T12:22:38.223Z"
   },
   {
    "duration": 150,
    "start_time": "2022-05-06T12:22:38.236Z"
   },
   {
    "duration": 10,
    "start_time": "2022-05-06T12:22:38.388Z"
   },
   {
    "duration": 27,
    "start_time": "2022-05-06T12:22:38.400Z"
   },
   {
    "duration": 22,
    "start_time": "2022-05-06T12:22:38.428Z"
   },
   {
    "duration": 11,
    "start_time": "2022-05-06T12:22:38.452Z"
   },
   {
    "duration": 32,
    "start_time": "2022-05-06T12:22:38.465Z"
   },
   {
    "duration": 12,
    "start_time": "2022-05-06T12:22:38.523Z"
   },
   {
    "duration": 519,
    "start_time": "2022-05-06T12:22:38.537Z"
   },
   {
    "duration": 188,
    "start_time": "2022-05-06T12:23:00.433Z"
   },
   {
    "duration": 566,
    "start_time": "2022-05-06T12:23:04.411Z"
   },
   {
    "duration": 4,
    "start_time": "2022-05-06T12:23:08.442Z"
   },
   {
    "duration": 38,
    "start_time": "2022-05-06T12:23:08.447Z"
   },
   {
    "duration": 30,
    "start_time": "2022-05-06T12:23:08.487Z"
   },
   {
    "duration": 7,
    "start_time": "2022-05-06T12:23:08.518Z"
   },
   {
    "duration": 33,
    "start_time": "2022-05-06T12:23:08.527Z"
   },
   {
    "duration": 12,
    "start_time": "2022-05-06T12:23:08.561Z"
   },
   {
    "duration": 57,
    "start_time": "2022-05-06T12:23:08.574Z"
   },
   {
    "duration": 14,
    "start_time": "2022-05-06T12:23:08.633Z"
   },
   {
    "duration": 17,
    "start_time": "2022-05-06T12:23:08.648Z"
   },
   {
    "duration": 14,
    "start_time": "2022-05-06T12:23:08.667Z"
   },
   {
    "duration": 47,
    "start_time": "2022-05-06T12:23:08.683Z"
   },
   {
    "duration": 12,
    "start_time": "2022-05-06T12:23:08.731Z"
   },
   {
    "duration": 10,
    "start_time": "2022-05-06T12:23:08.744Z"
   },
   {
    "duration": 8,
    "start_time": "2022-05-06T12:23:08.755Z"
   },
   {
    "duration": 7,
    "start_time": "2022-05-06T12:23:08.765Z"
   },
   {
    "duration": 8,
    "start_time": "2022-05-06T12:23:08.774Z"
   },
   {
    "duration": 186,
    "start_time": "2022-05-06T12:23:08.784Z"
   },
   {
    "duration": 131,
    "start_time": "2022-05-06T12:23:08.971Z"
   },
   {
    "duration": 20,
    "start_time": "2022-05-06T12:23:09.103Z"
   },
   {
    "duration": 193,
    "start_time": "2022-05-06T12:23:09.125Z"
   },
   {
    "duration": 226,
    "start_time": "2022-05-06T12:23:09.323Z"
   },
   {
    "duration": 15,
    "start_time": "2022-05-06T12:23:09.551Z"
   },
   {
    "duration": 375,
    "start_time": "2022-05-06T12:23:09.567Z"
   },
   {
    "duration": 195,
    "start_time": "2022-05-06T12:23:09.945Z"
   },
   {
    "duration": 11,
    "start_time": "2022-05-06T12:23:10.142Z"
   },
   {
    "duration": 283,
    "start_time": "2022-05-06T12:23:10.154Z"
   },
   {
    "duration": 160,
    "start_time": "2022-05-06T12:23:10.439Z"
   },
   {
    "duration": 213,
    "start_time": "2022-05-06T12:23:10.601Z"
   },
   {
    "duration": 219,
    "start_time": "2022-05-06T12:23:10.823Z"
   },
   {
    "duration": 5,
    "start_time": "2022-05-06T12:23:11.043Z"
   },
   {
    "duration": 146,
    "start_time": "2022-05-06T12:23:11.050Z"
   },
   {
    "duration": 4,
    "start_time": "2022-05-06T12:23:11.198Z"
   },
   {
    "duration": 157,
    "start_time": "2022-05-06T12:23:11.204Z"
   },
   {
    "duration": 148,
    "start_time": "2022-05-06T12:23:11.362Z"
   },
   {
    "duration": 11,
    "start_time": "2022-05-06T12:23:11.512Z"
   },
   {
    "duration": 5,
    "start_time": "2022-05-06T12:23:11.525Z"
   },
   {
    "duration": 140,
    "start_time": "2022-05-06T12:23:11.532Z"
   },
   {
    "duration": 9,
    "start_time": "2022-05-06T12:23:11.673Z"
   },
   {
    "duration": 9,
    "start_time": "2022-05-06T12:23:11.683Z"
   },
   {
    "duration": 30,
    "start_time": "2022-05-06T12:23:11.694Z"
   },
   {
    "duration": 9,
    "start_time": "2022-05-06T12:23:11.726Z"
   },
   {
    "duration": 28,
    "start_time": "2022-05-06T12:23:11.736Z"
   },
   {
    "duration": 9,
    "start_time": "2022-05-06T12:23:11.765Z"
   },
   {
    "duration": 494,
    "start_time": "2022-05-06T12:23:11.775Z"
   },
   {
    "duration": 56,
    "start_time": "2022-05-06T17:11:26.876Z"
   },
   {
    "duration": 1401,
    "start_time": "2022-05-06T17:11:36.832Z"
   },
   {
    "duration": 50,
    "start_time": "2022-05-06T17:11:38.235Z"
   },
   {
    "duration": 45,
    "start_time": "2022-05-06T17:11:38.287Z"
   },
   {
    "duration": 8,
    "start_time": "2022-05-06T17:11:38.335Z"
   },
   {
    "duration": 35,
    "start_time": "2022-05-06T17:11:38.344Z"
   },
   {
    "duration": 13,
    "start_time": "2022-05-06T17:11:38.381Z"
   },
   {
    "duration": 52,
    "start_time": "2022-05-06T17:11:38.395Z"
   },
   {
    "duration": 14,
    "start_time": "2022-05-06T17:11:38.450Z"
   },
   {
    "duration": 15,
    "start_time": "2022-05-06T17:11:38.465Z"
   },
   {
    "duration": 14,
    "start_time": "2022-05-06T17:11:38.483Z"
   },
   {
    "duration": 27,
    "start_time": "2022-05-06T17:11:38.499Z"
   },
   {
    "duration": 12,
    "start_time": "2022-05-06T17:11:38.527Z"
   },
   {
    "duration": 6,
    "start_time": "2022-05-06T17:11:38.540Z"
   },
   {
    "duration": 6,
    "start_time": "2022-05-06T17:11:38.547Z"
   },
   {
    "duration": 6,
    "start_time": "2022-05-06T17:11:38.554Z"
   },
   {
    "duration": 8,
    "start_time": "2022-05-06T17:11:38.562Z"
   },
   {
    "duration": 266,
    "start_time": "2022-05-06T17:11:38.571Z"
   },
   {
    "duration": 188,
    "start_time": "2022-05-06T17:11:38.839Z"
   },
   {
    "duration": 12,
    "start_time": "2022-05-06T17:11:39.029Z"
   },
   {
    "duration": 320,
    "start_time": "2022-05-06T17:11:39.043Z"
   },
   {
    "duration": 228,
    "start_time": "2022-05-06T17:11:39.365Z"
   },
   {
    "duration": 15,
    "start_time": "2022-05-06T17:11:39.595Z"
   },
   {
    "duration": 360,
    "start_time": "2022-05-06T17:11:39.612Z"
   },
   {
    "duration": 228,
    "start_time": "2022-05-06T17:11:39.975Z"
   },
   {
    "duration": 11,
    "start_time": "2022-05-06T17:11:40.206Z"
   },
   {
    "duration": 314,
    "start_time": "2022-05-06T17:11:40.218Z"
   },
   {
    "duration": 147,
    "start_time": "2022-05-06T17:11:40.534Z"
   },
   {
    "duration": 258,
    "start_time": "2022-05-06T17:11:40.685Z"
   },
   {
    "duration": 344,
    "start_time": "2022-05-06T17:11:40.944Z"
   },
   {
    "duration": 7,
    "start_time": "2022-05-06T17:11:41.289Z"
   },
   {
    "duration": 137,
    "start_time": "2022-05-06T17:11:41.297Z"
   },
   {
    "duration": 6,
    "start_time": "2022-05-06T17:11:41.436Z"
   },
   {
    "duration": 160,
    "start_time": "2022-05-06T17:11:41.444Z"
   },
   {
    "duration": 151,
    "start_time": "2022-05-06T17:11:41.606Z"
   },
   {
    "duration": 7,
    "start_time": "2022-05-06T17:11:41.759Z"
   },
   {
    "duration": 8,
    "start_time": "2022-05-06T17:11:41.768Z"
   },
   {
    "duration": 157,
    "start_time": "2022-05-06T17:11:41.777Z"
   },
   {
    "duration": 10,
    "start_time": "2022-05-06T17:11:41.935Z"
   },
   {
    "duration": 8,
    "start_time": "2022-05-06T17:11:41.947Z"
   },
   {
    "duration": 31,
    "start_time": "2022-05-06T17:11:41.957Z"
   },
   {
    "duration": 33,
    "start_time": "2022-05-06T17:11:41.990Z"
   },
   {
    "duration": 36,
    "start_time": "2022-05-06T17:11:42.025Z"
   },
   {
    "duration": 12,
    "start_time": "2022-05-06T17:11:42.063Z"
   },
   {
    "duration": 584,
    "start_time": "2022-05-06T17:11:42.077Z"
   },
   {
    "duration": 70,
    "start_time": "2022-05-06T17:12:10.473Z"
   },
   {
    "duration": 328,
    "start_time": "2022-05-06T17:12:14.630Z"
   },
   {
    "duration": 4,
    "start_time": "2022-05-06T17:12:21.469Z"
   },
   {
    "duration": 54,
    "start_time": "2022-05-06T17:12:21.476Z"
   },
   {
    "duration": 38,
    "start_time": "2022-05-06T17:12:21.532Z"
   },
   {
    "duration": 10,
    "start_time": "2022-05-06T17:12:21.572Z"
   },
   {
    "duration": 65,
    "start_time": "2022-05-06T17:12:21.584Z"
   },
   {
    "duration": 16,
    "start_time": "2022-05-06T17:12:21.651Z"
   },
   {
    "duration": 73,
    "start_time": "2022-05-06T17:12:21.669Z"
   },
   {
    "duration": 16,
    "start_time": "2022-05-06T17:12:21.744Z"
   },
   {
    "duration": 17,
    "start_time": "2022-05-06T17:12:21.762Z"
   },
   {
    "duration": 19,
    "start_time": "2022-05-06T17:12:21.807Z"
   },
   {
    "duration": 18,
    "start_time": "2022-05-06T17:12:21.830Z"
   },
   {
    "duration": 15,
    "start_time": "2022-05-06T17:12:21.850Z"
   },
   {
    "duration": 7,
    "start_time": "2022-05-06T17:12:21.868Z"
   },
   {
    "duration": 9,
    "start_time": "2022-05-06T17:12:21.916Z"
   },
   {
    "duration": 7,
    "start_time": "2022-05-06T17:12:21.927Z"
   },
   {
    "duration": 10,
    "start_time": "2022-05-06T17:12:21.936Z"
   },
   {
    "duration": 192,
    "start_time": "2022-05-06T17:12:21.948Z"
   },
   {
    "duration": 145,
    "start_time": "2022-05-06T17:12:22.141Z"
   },
   {
    "duration": 11,
    "start_time": "2022-05-06T17:12:22.288Z"
   },
   {
    "duration": 237,
    "start_time": "2022-05-06T17:12:22.312Z"
   },
   {
    "duration": 250,
    "start_time": "2022-05-06T17:12:22.551Z"
   },
   {
    "duration": 16,
    "start_time": "2022-05-06T17:12:22.803Z"
   },
   {
    "duration": 326,
    "start_time": "2022-05-06T17:12:22.821Z"
   },
   {
    "duration": 258,
    "start_time": "2022-05-06T17:12:23.150Z"
   },
   {
    "duration": 17,
    "start_time": "2022-05-06T17:12:23.410Z"
   },
   {
    "duration": 423,
    "start_time": "2022-05-06T17:12:23.429Z"
   },
   {
    "duration": 189,
    "start_time": "2022-05-06T17:12:23.853Z"
   },
   {
    "duration": 282,
    "start_time": "2022-05-06T17:12:24.044Z"
   },
   {
    "duration": 265,
    "start_time": "2022-05-06T17:12:24.330Z"
   },
   {
    "duration": 20,
    "start_time": "2022-05-06T17:12:24.597Z"
   },
   {
    "duration": 170,
    "start_time": "2022-05-06T17:12:24.618Z"
   },
   {
    "duration": 24,
    "start_time": "2022-05-06T17:12:24.790Z"
   },
   {
    "duration": 191,
    "start_time": "2022-05-06T17:12:24.816Z"
   },
   {
    "duration": 176,
    "start_time": "2022-05-06T17:12:25.009Z"
   },
   {
    "duration": 7,
    "start_time": "2022-05-06T17:12:25.187Z"
   },
   {
    "duration": 25,
    "start_time": "2022-05-06T17:12:25.196Z"
   },
   {
    "duration": 170,
    "start_time": "2022-05-06T17:12:25.224Z"
   },
   {
    "duration": 25,
    "start_time": "2022-05-06T17:12:25.396Z"
   },
   {
    "duration": 10,
    "start_time": "2022-05-06T17:12:25.422Z"
   },
   {
    "duration": 44,
    "start_time": "2022-05-06T17:12:25.434Z"
   },
   {
    "duration": 12,
    "start_time": "2022-05-06T17:12:25.480Z"
   },
   {
    "duration": 54,
    "start_time": "2022-05-06T17:12:25.494Z"
   },
   {
    "duration": 12,
    "start_time": "2022-05-06T17:12:25.550Z"
   },
   {
    "duration": 586,
    "start_time": "2022-05-06T17:12:25.564Z"
   },
   {
    "duration": 11,
    "start_time": "2022-05-06T17:17:36.510Z"
   },
   {
    "duration": 13,
    "start_time": "2022-05-06T17:18:14.665Z"
   },
   {
    "duration": 4,
    "start_time": "2022-05-06T17:28:55.340Z"
   },
   {
    "duration": 5,
    "start_time": "2022-05-06T17:29:44.911Z"
   },
   {
    "duration": 42,
    "start_time": "2022-05-06T17:29:44.922Z"
   },
   {
    "duration": 38,
    "start_time": "2022-05-06T17:29:44.966Z"
   },
   {
    "duration": 15,
    "start_time": "2022-05-06T17:29:45.008Z"
   },
   {
    "duration": 36,
    "start_time": "2022-05-06T17:29:45.026Z"
   },
   {
    "duration": 47,
    "start_time": "2022-05-06T17:29:45.063Z"
   },
   {
    "duration": 37,
    "start_time": "2022-05-06T17:29:45.112Z"
   },
   {
    "duration": 15,
    "start_time": "2022-05-06T17:29:45.151Z"
   },
   {
    "duration": 19,
    "start_time": "2022-05-06T17:29:45.208Z"
   },
   {
    "duration": 11,
    "start_time": "2022-05-06T17:29:45.229Z"
   },
   {
    "duration": 14,
    "start_time": "2022-05-06T17:29:45.243Z"
   },
   {
    "duration": 56,
    "start_time": "2022-05-06T17:29:45.258Z"
   },
   {
    "duration": 15,
    "start_time": "2022-05-06T17:29:45.316Z"
   },
   {
    "duration": 9,
    "start_time": "2022-05-06T17:29:45.334Z"
   },
   {
    "duration": 7,
    "start_time": "2022-05-06T17:29:45.345Z"
   },
   {
    "duration": 8,
    "start_time": "2022-05-06T17:29:45.354Z"
   },
   {
    "duration": 8,
    "start_time": "2022-05-06T17:29:45.364Z"
   },
   {
    "duration": 193,
    "start_time": "2022-05-06T17:29:45.409Z"
   },
   {
    "duration": 163,
    "start_time": "2022-05-06T17:29:45.608Z"
   },
   {
    "duration": 13,
    "start_time": "2022-05-06T17:29:45.773Z"
   },
   {
    "duration": 260,
    "start_time": "2022-05-06T17:29:45.790Z"
   },
   {
    "duration": 247,
    "start_time": "2022-05-06T17:29:46.052Z"
   },
   {
    "duration": 20,
    "start_time": "2022-05-06T17:29:46.301Z"
   },
   {
    "duration": 413,
    "start_time": "2022-05-06T17:29:46.324Z"
   },
   {
    "duration": 244,
    "start_time": "2022-05-06T17:29:46.739Z"
   },
   {
    "duration": 9,
    "start_time": "2022-05-06T17:29:46.985Z"
   },
   {
    "duration": 342,
    "start_time": "2022-05-06T17:29:47.011Z"
   },
   {
    "duration": 198,
    "start_time": "2022-05-06T17:29:47.355Z"
   },
   {
    "duration": 272,
    "start_time": "2022-05-06T17:29:47.558Z"
   },
   {
    "duration": 271,
    "start_time": "2022-05-06T17:29:47.832Z"
   },
   {
    "duration": 18,
    "start_time": "2022-05-06T17:29:48.105Z"
   },
   {
    "duration": 184,
    "start_time": "2022-05-06T17:29:48.127Z"
   },
   {
    "duration": 8,
    "start_time": "2022-05-06T17:29:48.313Z"
   },
   {
    "duration": 216,
    "start_time": "2022-05-06T17:29:48.324Z"
   },
   {
    "duration": 192,
    "start_time": "2022-05-06T17:29:48.543Z"
   },
   {
    "duration": 6,
    "start_time": "2022-05-06T17:29:48.737Z"
   },
   {
    "duration": 10,
    "start_time": "2022-05-06T17:29:48.745Z"
   },
   {
    "duration": 192,
    "start_time": "2022-05-06T17:29:48.757Z"
   },
   {
    "duration": 10,
    "start_time": "2022-05-06T17:29:48.951Z"
   },
   {
    "duration": 8,
    "start_time": "2022-05-06T17:29:48.963Z"
   },
   {
    "duration": 63,
    "start_time": "2022-05-06T17:29:48.973Z"
   },
   {
    "duration": 16,
    "start_time": "2022-05-06T17:29:49.039Z"
   },
   {
    "duration": 65,
    "start_time": "2022-05-06T17:29:49.058Z"
   },
   {
    "duration": 13,
    "start_time": "2022-05-06T17:29:49.125Z"
   },
   {
    "duration": 582,
    "start_time": "2022-05-06T17:29:49.140Z"
   },
   {
    "duration": 196,
    "start_time": "2022-05-07T11:21:49.547Z"
   },
   {
    "duration": 197,
    "start_time": "2022-05-07T11:21:51.132Z"
   },
   {
    "duration": 1226,
    "start_time": "2022-07-19T10:48:55.646Z"
   },
   {
    "duration": 174,
    "start_time": "2022-07-19T10:48:56.874Z"
   },
   {
    "duration": 40,
    "start_time": "2022-07-19T10:48:57.049Z"
   },
   {
    "duration": 8,
    "start_time": "2022-07-19T10:48:57.090Z"
   },
   {
    "duration": 35,
    "start_time": "2022-07-19T10:48:57.100Z"
   },
   {
    "duration": 14,
    "start_time": "2022-07-19T10:48:57.137Z"
   },
   {
    "duration": 31,
    "start_time": "2022-07-19T10:48:57.152Z"
   },
   {
    "duration": 42,
    "start_time": "2022-07-19T10:48:57.184Z"
   },
   {
    "duration": 18,
    "start_time": "2022-07-19T10:48:57.229Z"
   },
   {
    "duration": 11,
    "start_time": "2022-07-19T10:48:57.249Z"
   },
   {
    "duration": 17,
    "start_time": "2022-07-19T10:48:57.262Z"
   },
   {
    "duration": 20,
    "start_time": "2022-07-19T10:48:57.280Z"
   },
   {
    "duration": 34,
    "start_time": "2022-07-19T10:48:57.302Z"
   },
   {
    "duration": 10,
    "start_time": "2022-07-19T10:48:57.341Z"
   },
   {
    "duration": 17,
    "start_time": "2022-07-19T10:48:57.354Z"
   },
   {
    "duration": 14,
    "start_time": "2022-07-19T10:48:57.373Z"
   },
   {
    "duration": 17,
    "start_time": "2022-07-19T10:48:57.389Z"
   },
   {
    "duration": 169,
    "start_time": "2022-07-19T10:48:57.407Z"
   },
   {
    "duration": 137,
    "start_time": "2022-07-19T10:48:57.578Z"
   },
   {
    "duration": 23,
    "start_time": "2022-07-19T10:48:57.716Z"
   },
   {
    "duration": 308,
    "start_time": "2022-07-19T10:48:57.741Z"
   },
   {
    "duration": 225,
    "start_time": "2022-07-19T10:48:58.051Z"
   },
   {
    "duration": 11,
    "start_time": "2022-07-19T10:48:58.278Z"
   },
   {
    "duration": 358,
    "start_time": "2022-07-19T10:48:58.291Z"
   },
   {
    "duration": 221,
    "start_time": "2022-07-19T10:48:58.651Z"
   },
   {
    "duration": 8,
    "start_time": "2022-07-19T10:48:58.873Z"
   },
   {
    "duration": 409,
    "start_time": "2022-07-19T10:48:58.883Z"
   },
   {
    "duration": 165,
    "start_time": "2022-07-19T10:48:59.294Z"
   },
   {
    "duration": 237,
    "start_time": "2022-07-19T10:48:59.462Z"
   },
   {
    "duration": 365,
    "start_time": "2022-07-19T10:48:59.701Z"
   },
   {
    "duration": 6,
    "start_time": "2022-07-19T10:49:00.068Z"
   },
   {
    "duration": 155,
    "start_time": "2022-07-19T10:49:00.076Z"
   },
   {
    "duration": 7,
    "start_time": "2022-07-19T10:49:00.233Z"
   },
   {
    "duration": 152,
    "start_time": "2022-07-19T10:49:00.242Z"
   },
   {
    "duration": 140,
    "start_time": "2022-07-19T10:49:00.396Z"
   },
   {
    "duration": 9,
    "start_time": "2022-07-19T10:49:00.538Z"
   },
   {
    "duration": 11,
    "start_time": "2022-07-19T10:49:00.548Z"
   },
   {
    "duration": 148,
    "start_time": "2022-07-19T10:49:00.561Z"
   },
   {
    "duration": 16,
    "start_time": "2022-07-19T10:49:00.710Z"
   },
   {
    "duration": 9,
    "start_time": "2022-07-19T10:49:00.728Z"
   },
   {
    "duration": 92,
    "start_time": "2022-07-19T10:49:00.741Z"
   },
   {
    "duration": 11,
    "start_time": "2022-07-19T10:49:00.835Z"
   },
   {
    "duration": 65,
    "start_time": "2022-07-19T10:49:00.848Z"
   },
   {
    "duration": 11,
    "start_time": "2022-07-19T10:49:00.915Z"
   },
   {
    "duration": 549,
    "start_time": "2022-07-19T10:49:00.928Z"
   }
  ],
  "kernelspec": {
   "display_name": "Python 3 (ipykernel)",
   "language": "python",
   "name": "python3"
  },
  "language_info": {
   "codemirror_mode": {
    "name": "ipython",
    "version": 3
   },
   "file_extension": ".py",
   "mimetype": "text/x-python",
   "name": "python",
   "nbconvert_exporter": "python",
   "pygments_lexer": "ipython3",
   "version": "3.9.5"
  },
  "toc": {
   "base_numbering": 1,
   "nav_menu": {},
   "number_sections": true,
   "sideBar": true,
   "skip_h1_title": true,
   "title_cell": "Table of Contents",
   "title_sidebar": "Contents",
   "toc_cell": false,
   "toc_position": {},
   "toc_section_display": true,
   "toc_window_display": false
  }
 },
 "nbformat": 4,
 "nbformat_minor": 2
}
