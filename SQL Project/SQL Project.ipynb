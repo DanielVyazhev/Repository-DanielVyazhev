{
 "cells": [
  {
   "cell_type": "markdown",
   "metadata": {},
   "source": [
    "# Проект по SQL: Анализ базы данных."
   ]
  },
  {
   "cell_type": "markdown",
   "metadata": {},
   "source": [
    "***Проект выполнен Вяжевым Даниилом Юрьевичом от 01.07.2022 на платформе Яндекс Практикум.***\n",
    "\n",
    "# Описание проекта:\n",
    "\n",
    "Коронавирус застал мир врасплох, изменив привычный порядок вещей. В свободное время жители городов больше не выходят на улицу, не посещают кафе и торговые центры. Зато стало больше времени для книг. Это заметили стартаперы — и бросились создавать приложения для тех, кто любит читать.\n",
    "Ваша компания решила быть на волне и купила крупный сервис для чтения книг по подписке. Ваша первая задача как аналитика — проанализировать базу данных. В ней — информация о книгах, издательствах, авторах, а также пользовательские обзоры книг. Эти данные помогут сформулировать ценностное предложение для нового продукта.\n",
    "\n",
    "\n",
    "# Цели исследования:\n",
    "\n",
    "Проанализировать базу данных для того чтобы сформулировать ценностное предложение для нового продукта\n",
    "Изучить информацию о книгах, издательствах, авторах и пользовательских обзоров книг.\n",
    "Описание данных\n",
    "\n",
    "**Таблица `books`**\n",
    "\n",
    "Содержит данные о книгах:\n",
    "\n",
    "`book_id` — идентификатор книги;\n",
    "\n",
    "`author_id` — идентификатор автора;\n",
    "\n",
    "`title` — название книги;\n",
    "\n",
    "`num_pages` — количество страниц;\n",
    "\n",
    "`publication_date` — дата публикации книги;\n",
    "\n",
    "`publisher_id` — идентификатор издателя.\n",
    "\n",
    "\n",
    "**Таблица `authors`**\n",
    "\n",
    "Содержит данные об авторах:\n",
    "\n",
    "`author_id` — идентификатор автора;\n",
    "\n",
    "`author` — имя автора.\n",
    "\n",
    "\n",
    "**Таблица `publishers`**\n",
    "\n",
    "\n",
    "Содержит данные об издательствах:\n",
    "\n",
    "`publisher_id` — идентификатор издательства;\n",
    "\n",
    "`publisher` — название издательства;\n",
    "\n",
    "\n",
    "**Таблица `ratings`**\n",
    "\n",
    "Содержит данные о пользовательских оценках книг:\n",
    "\n",
    "`rating_id` — идентификатор оценки;\n",
    "\n",
    "`book_id` — идентификатор книги;\n",
    "\n",
    "`username` — имя пользователя, оставившего оценку;\n",
    "\n",
    "`rating` — оценка книги.\n",
    "\n",
    "**Таблица `reviews`**\n",
    "\n",
    "Содержит данные о пользовательских обзорах на книги:\n",
    "\n",
    "`review_id` — идентификатор обзора;\n",
    "\n",
    "`book_id `— идентификатор книги;\n",
    "\n",
    "`username` — имя пользователя, написавшего обзор;\n",
    "\n",
    "`text `— текст обзора."
   ]
  },
  {
   "cell_type": "markdown",
   "metadata": {},
   "source": [
    "# Содержание:\n",
    "<a id='content'></a>\n",
    "[1 Шаг. Импорт библиотек](#part_1)\n",
    "\n",
    "[2 Шаг. Изучение общей информации](#part_2)\n",
    "\n",
    "[3 Шаг. Задачи исследования](#part_3)\n",
    "\n",
    "[3.1  Посчитайте, сколько книг вышло после 1 января 2000 года;](#part_3.1)\n",
    "\n",
    "[3.2  Для каждой книги посчитайте количество обзоров и среднюю оценку;](#part_3.2)\n",
    "\n",
    "[3.3  Определите издательство, которое выпустило наибольшее число книг толще 50 страниц — так вы исключите из анализа брошюры;](#part_3.3)\n",
    "\n",
    "[3.4  Определите автора с самой высокой средней оценкой книг — учитывайте только книги с 50 и более оценками;](#part_3.4)\n",
    "\n",
    "[3.5  Посчитайте среднее количество обзоров от пользователей, которые поставили больше 50 оценок.](#part_3.5)\n",
    "\n",
    "[Вывод](#part_4)"
   ]
  },
  {
   "cell_type": "markdown",
   "metadata": {},
   "source": [
    "## Шаг. Импорт библиотек \n",
    "<a id='part_1'></a>"
   ]
  },
  {
   "cell_type": "code",
   "execution_count": 1,
   "metadata": {},
   "outputs": [],
   "source": [
    "import pandas as pd\n",
    "from sqlalchemy import create_engine"
   ]
  },
  {
   "cell_type": "code",
   "execution_count": 2,
   "metadata": {},
   "outputs": [],
   "source": [
    "db_config = {'user': 'praktikum_student',\n",
    "             'pwd': 'Sdf4$2;d-d30pp', \n",
    "             'host': 'rc1b-wcoijxj3yxfsf3fs.mdb.yandexcloud.net', 'port': 6432,\n",
    "             'db': 'data-analyst-final-project-db'} \n",
    "connection_string = 'postgresql://{}:{}@{}:{}/{}'.format(db_config['user'],  db_config['pwd'],  \n",
    "                                                         db_config['host'],  db_config['port'],  \n",
    "                                                         db_config['db'])"
   ]
  },
  {
   "cell_type": "code",
   "execution_count": 3,
   "metadata": {},
   "outputs": [],
   "source": [
    "engine = create_engine(connection_string, connect_args={'sslmode':'require'}) "
   ]
  },
  {
   "cell_type": "markdown",
   "metadata": {},
   "source": [
    "##  Шаг. Изучение общей информации \n",
    "<a id='part_2'></a>"
   ]
  },
  {
   "cell_type": "code",
   "execution_count": 4,
   "metadata": {},
   "outputs": [
    {
     "data": {
      "text/html": [
       "<div>\n",
       "<style scoped>\n",
       "    .dataframe tbody tr th:only-of-type {\n",
       "        vertical-align: middle;\n",
       "    }\n",
       "\n",
       "    .dataframe tbody tr th {\n",
       "        vertical-align: top;\n",
       "    }\n",
       "\n",
       "    .dataframe thead th {\n",
       "        text-align: right;\n",
       "    }\n",
       "</style>\n",
       "<table border=\"1\" class=\"dataframe\">\n",
       "  <thead>\n",
       "    <tr style=\"text-align: right;\">\n",
       "      <th></th>\n",
       "      <th>book_id</th>\n",
       "      <th>author_id</th>\n",
       "      <th>title</th>\n",
       "      <th>num_pages</th>\n",
       "      <th>publication_date</th>\n",
       "      <th>publisher_id</th>\n",
       "    </tr>\n",
       "  </thead>\n",
       "  <tbody>\n",
       "    <tr>\n",
       "      <th>0</th>\n",
       "      <td>1</td>\n",
       "      <td>546</td>\n",
       "      <td>'Salem's Lot</td>\n",
       "      <td>594</td>\n",
       "      <td>2005-11-01</td>\n",
       "      <td>93</td>\n",
       "    </tr>\n",
       "    <tr>\n",
       "      <th>1</th>\n",
       "      <td>2</td>\n",
       "      <td>465</td>\n",
       "      <td>1 000 Places to See Before You Die</td>\n",
       "      <td>992</td>\n",
       "      <td>2003-05-22</td>\n",
       "      <td>336</td>\n",
       "    </tr>\n",
       "    <tr>\n",
       "      <th>2</th>\n",
       "      <td>3</td>\n",
       "      <td>407</td>\n",
       "      <td>13 Little Blue Envelopes (Little Blue Envelope...</td>\n",
       "      <td>322</td>\n",
       "      <td>2010-12-21</td>\n",
       "      <td>135</td>\n",
       "    </tr>\n",
       "    <tr>\n",
       "      <th>3</th>\n",
       "      <td>4</td>\n",
       "      <td>82</td>\n",
       "      <td>1491: New Revelations of the Americas Before C...</td>\n",
       "      <td>541</td>\n",
       "      <td>2006-10-10</td>\n",
       "      <td>309</td>\n",
       "    </tr>\n",
       "    <tr>\n",
       "      <th>4</th>\n",
       "      <td>5</td>\n",
       "      <td>125</td>\n",
       "      <td>1776</td>\n",
       "      <td>386</td>\n",
       "      <td>2006-07-04</td>\n",
       "      <td>268</td>\n",
       "    </tr>\n",
       "  </tbody>\n",
       "</table>\n",
       "</div>"
      ],
      "text/plain": [
       "   book_id  author_id                                              title  \\\n",
       "0        1        546                                       'Salem's Lot   \n",
       "1        2        465                 1 000 Places to See Before You Die   \n",
       "2        3        407  13 Little Blue Envelopes (Little Blue Envelope...   \n",
       "3        4         82  1491: New Revelations of the Americas Before C...   \n",
       "4        5        125                                               1776   \n",
       "\n",
       "   num_pages publication_date  publisher_id  \n",
       "0        594       2005-11-01            93  \n",
       "1        992       2003-05-22           336  \n",
       "2        322       2010-12-21           135  \n",
       "3        541       2006-10-10           309  \n",
       "4        386       2006-07-04           268  "
      ]
     },
     "execution_count": 4,
     "metadata": {},
     "output_type": "execute_result"
    }
   ],
   "source": [
    "books = '''SELECT * FROM books LIMIT 5'''\n",
    "pd.io.sql.read_sql(books, con = engine)"
   ]
  },
  {
   "cell_type": "code",
   "execution_count": 5,
   "metadata": {},
   "outputs": [
    {
     "data": {
      "text/html": [
       "<div>\n",
       "<style scoped>\n",
       "    .dataframe tbody tr th:only-of-type {\n",
       "        vertical-align: middle;\n",
       "    }\n",
       "\n",
       "    .dataframe tbody tr th {\n",
       "        vertical-align: top;\n",
       "    }\n",
       "\n",
       "    .dataframe thead th {\n",
       "        text-align: right;\n",
       "    }\n",
       "</style>\n",
       "<table border=\"1\" class=\"dataframe\">\n",
       "  <thead>\n",
       "    <tr style=\"text-align: right;\">\n",
       "      <th></th>\n",
       "      <th>author_id</th>\n",
       "      <th>author</th>\n",
       "    </tr>\n",
       "  </thead>\n",
       "  <tbody>\n",
       "    <tr>\n",
       "      <th>0</th>\n",
       "      <td>1</td>\n",
       "      <td>A.S. Byatt</td>\n",
       "    </tr>\n",
       "    <tr>\n",
       "      <th>1</th>\n",
       "      <td>2</td>\n",
       "      <td>Aesop/Laura Harris/Laura Gibbs</td>\n",
       "    </tr>\n",
       "    <tr>\n",
       "      <th>2</th>\n",
       "      <td>3</td>\n",
       "      <td>Agatha Christie</td>\n",
       "    </tr>\n",
       "    <tr>\n",
       "      <th>3</th>\n",
       "      <td>4</td>\n",
       "      <td>Alan Brennert</td>\n",
       "    </tr>\n",
       "    <tr>\n",
       "      <th>4</th>\n",
       "      <td>5</td>\n",
       "      <td>Alan Moore/David   Lloyd</td>\n",
       "    </tr>\n",
       "  </tbody>\n",
       "</table>\n",
       "</div>"
      ],
      "text/plain": [
       "   author_id                          author\n",
       "0          1                      A.S. Byatt\n",
       "1          2  Aesop/Laura Harris/Laura Gibbs\n",
       "2          3                 Agatha Christie\n",
       "3          4                   Alan Brennert\n",
       "4          5        Alan Moore/David   Lloyd"
      ]
     },
     "execution_count": 5,
     "metadata": {},
     "output_type": "execute_result"
    }
   ],
   "source": [
    "authors = '''SELECT * FROM authors LIMIT 5'''\n",
    "pd.io.sql.read_sql(authors, con = engine)"
   ]
  },
  {
   "cell_type": "code",
   "execution_count": 6,
   "metadata": {},
   "outputs": [
    {
     "data": {
      "text/html": [
       "<div>\n",
       "<style scoped>\n",
       "    .dataframe tbody tr th:only-of-type {\n",
       "        vertical-align: middle;\n",
       "    }\n",
       "\n",
       "    .dataframe tbody tr th {\n",
       "        vertical-align: top;\n",
       "    }\n",
       "\n",
       "    .dataframe thead th {\n",
       "        text-align: right;\n",
       "    }\n",
       "</style>\n",
       "<table border=\"1\" class=\"dataframe\">\n",
       "  <thead>\n",
       "    <tr style=\"text-align: right;\">\n",
       "      <th></th>\n",
       "      <th>rating_id</th>\n",
       "      <th>book_id</th>\n",
       "      <th>username</th>\n",
       "      <th>rating</th>\n",
       "    </tr>\n",
       "  </thead>\n",
       "  <tbody>\n",
       "    <tr>\n",
       "      <th>0</th>\n",
       "      <td>1</td>\n",
       "      <td>1</td>\n",
       "      <td>ryanfranco</td>\n",
       "      <td>4</td>\n",
       "    </tr>\n",
       "    <tr>\n",
       "      <th>1</th>\n",
       "      <td>2</td>\n",
       "      <td>1</td>\n",
       "      <td>grantpatricia</td>\n",
       "      <td>2</td>\n",
       "    </tr>\n",
       "    <tr>\n",
       "      <th>2</th>\n",
       "      <td>3</td>\n",
       "      <td>1</td>\n",
       "      <td>brandtandrea</td>\n",
       "      <td>5</td>\n",
       "    </tr>\n",
       "    <tr>\n",
       "      <th>3</th>\n",
       "      <td>4</td>\n",
       "      <td>2</td>\n",
       "      <td>lorichen</td>\n",
       "      <td>3</td>\n",
       "    </tr>\n",
       "    <tr>\n",
       "      <th>4</th>\n",
       "      <td>5</td>\n",
       "      <td>2</td>\n",
       "      <td>mariokeller</td>\n",
       "      <td>2</td>\n",
       "    </tr>\n",
       "  </tbody>\n",
       "</table>\n",
       "</div>"
      ],
      "text/plain": [
       "   rating_id  book_id       username  rating\n",
       "0          1        1     ryanfranco       4\n",
       "1          2        1  grantpatricia       2\n",
       "2          3        1   brandtandrea       5\n",
       "3          4        2       lorichen       3\n",
       "4          5        2    mariokeller       2"
      ]
     },
     "execution_count": 6,
     "metadata": {},
     "output_type": "execute_result"
    }
   ],
   "source": [
    "ratings = '''SELECT * FROM ratings LIMIT 5'''\n",
    "pd.io.sql.read_sql(ratings, con = engine)"
   ]
  },
  {
   "cell_type": "code",
   "execution_count": 7,
   "metadata": {},
   "outputs": [
    {
     "data": {
      "text/html": [
       "<div>\n",
       "<style scoped>\n",
       "    .dataframe tbody tr th:only-of-type {\n",
       "        vertical-align: middle;\n",
       "    }\n",
       "\n",
       "    .dataframe tbody tr th {\n",
       "        vertical-align: top;\n",
       "    }\n",
       "\n",
       "    .dataframe thead th {\n",
       "        text-align: right;\n",
       "    }\n",
       "</style>\n",
       "<table border=\"1\" class=\"dataframe\">\n",
       "  <thead>\n",
       "    <tr style=\"text-align: right;\">\n",
       "      <th></th>\n",
       "      <th>review_id</th>\n",
       "      <th>book_id</th>\n",
       "      <th>username</th>\n",
       "      <th>text</th>\n",
       "    </tr>\n",
       "  </thead>\n",
       "  <tbody>\n",
       "    <tr>\n",
       "      <th>0</th>\n",
       "      <td>1</td>\n",
       "      <td>1</td>\n",
       "      <td>brandtandrea</td>\n",
       "      <td>Mention society tell send professor analysis. ...</td>\n",
       "    </tr>\n",
       "    <tr>\n",
       "      <th>1</th>\n",
       "      <td>2</td>\n",
       "      <td>1</td>\n",
       "      <td>ryanfranco</td>\n",
       "      <td>Foot glass pretty audience hit themselves. Amo...</td>\n",
       "    </tr>\n",
       "    <tr>\n",
       "      <th>2</th>\n",
       "      <td>3</td>\n",
       "      <td>2</td>\n",
       "      <td>lorichen</td>\n",
       "      <td>Listen treat keep worry. Miss husband tax but ...</td>\n",
       "    </tr>\n",
       "    <tr>\n",
       "      <th>3</th>\n",
       "      <td>4</td>\n",
       "      <td>3</td>\n",
       "      <td>johnsonamanda</td>\n",
       "      <td>Finally month interesting blue could nature cu...</td>\n",
       "    </tr>\n",
       "    <tr>\n",
       "      <th>4</th>\n",
       "      <td>5</td>\n",
       "      <td>3</td>\n",
       "      <td>scotttamara</td>\n",
       "      <td>Nation purpose heavy give wait song will. List...</td>\n",
       "    </tr>\n",
       "  </tbody>\n",
       "</table>\n",
       "</div>"
      ],
      "text/plain": [
       "   review_id  book_id       username  \\\n",
       "0          1        1   brandtandrea   \n",
       "1          2        1     ryanfranco   \n",
       "2          3        2       lorichen   \n",
       "3          4        3  johnsonamanda   \n",
       "4          5        3    scotttamara   \n",
       "\n",
       "                                                text  \n",
       "0  Mention society tell send professor analysis. ...  \n",
       "1  Foot glass pretty audience hit themselves. Amo...  \n",
       "2  Listen treat keep worry. Miss husband tax but ...  \n",
       "3  Finally month interesting blue could nature cu...  \n",
       "4  Nation purpose heavy give wait song will. List...  "
      ]
     },
     "execution_count": 7,
     "metadata": {},
     "output_type": "execute_result"
    }
   ],
   "source": [
    "reviews = '''SELECT * FROM reviews LIMIT 5'''\n",
    "pd.io.sql.read_sql(reviews, con = engine)"
   ]
  },
  {
   "cell_type": "code",
   "execution_count": 8,
   "metadata": {},
   "outputs": [
    {
     "data": {
      "text/html": [
       "<div>\n",
       "<style scoped>\n",
       "    .dataframe tbody tr th:only-of-type {\n",
       "        vertical-align: middle;\n",
       "    }\n",
       "\n",
       "    .dataframe tbody tr th {\n",
       "        vertical-align: top;\n",
       "    }\n",
       "\n",
       "    .dataframe thead th {\n",
       "        text-align: right;\n",
       "    }\n",
       "</style>\n",
       "<table border=\"1\" class=\"dataframe\">\n",
       "  <thead>\n",
       "    <tr style=\"text-align: right;\">\n",
       "      <th></th>\n",
       "      <th>publisher_id</th>\n",
       "      <th>publisher</th>\n",
       "    </tr>\n",
       "  </thead>\n",
       "  <tbody>\n",
       "    <tr>\n",
       "      <th>0</th>\n",
       "      <td>1</td>\n",
       "      <td>Ace</td>\n",
       "    </tr>\n",
       "    <tr>\n",
       "      <th>1</th>\n",
       "      <td>2</td>\n",
       "      <td>Ace Book</td>\n",
       "    </tr>\n",
       "    <tr>\n",
       "      <th>2</th>\n",
       "      <td>3</td>\n",
       "      <td>Ace Books</td>\n",
       "    </tr>\n",
       "    <tr>\n",
       "      <th>3</th>\n",
       "      <td>4</td>\n",
       "      <td>Ace Hardcover</td>\n",
       "    </tr>\n",
       "    <tr>\n",
       "      <th>4</th>\n",
       "      <td>5</td>\n",
       "      <td>Addison Wesley Publishing Company</td>\n",
       "    </tr>\n",
       "  </tbody>\n",
       "</table>\n",
       "</div>"
      ],
      "text/plain": [
       "   publisher_id                          publisher\n",
       "0             1                                Ace\n",
       "1             2                           Ace Book\n",
       "2             3                          Ace Books\n",
       "3             4                      Ace Hardcover\n",
       "4             5  Addison Wesley Publishing Company"
      ]
     },
     "execution_count": 8,
     "metadata": {},
     "output_type": "execute_result"
    }
   ],
   "source": [
    "publishers = '''SELECT * FROM publishers LIMIT 5'''\n",
    "pd.io.sql.read_sql(publishers, con = engine)"
   ]
  },
  {
   "cell_type": "markdown",
   "metadata": {},
   "source": [
    "Получили 5 таблиц: `books, authors, ratings, reviews и publishers`. В каждой из таблиц содержится информация о книгах, издательствах, авторах и пользовательских обзоров книг. "
   ]
  },
  {
   "cell_type": "markdown",
   "metadata": {},
   "source": [
    "## Шаг. Задачи исследования\n",
    "<a id='part_3'></a>"
   ]
  },
  {
   "cell_type": "markdown",
   "metadata": {},
   "source": [
    "### Посчитайте, сколько книг вышло после 1 января 2000 года;\n",
    "<a id='part_3.1'></a>"
   ]
  },
  {
   "cell_type": "code",
   "execution_count": 9,
   "metadata": {
    "scrolled": true
   },
   "outputs": [
    {
     "name": "stdout",
     "output_type": "stream",
     "text": [
      "Количество книг, вышедших после 1 января 2000 года: 821\n"
     ]
    }
   ],
   "source": [
    "task_1 = '''\n",
    "SELECT COUNT(publication_date)\n",
    "FROM books\n",
    "WHERE publication_date >= '2000-01-01'\n",
    "'''\n",
    "books_released = pd.io.sql.read_sql(task_1, con = engine)\n",
    "print('Количество книг, вышедших после 1 января 2000 года: {:.0f}'.format(books_released.iloc[0][0]))"
   ]
  },
  {
   "cell_type": "markdown",
   "metadata": {},
   "source": [
    "### Для каждой книги посчитайте количество обзоров и среднюю оценку;\n",
    "<a id='part_3.2'></a>"
   ]
  },
  {
   "cell_type": "markdown",
   "metadata": {},
   "source": [
    "Рассчитали топ-5 по средней оценке."
   ]
  },
  {
   "cell_type": "code",
   "execution_count": 10,
   "metadata": {
    "scrolled": true
   },
   "outputs": [
    {
     "data": {
      "text/html": [
       "<div>\n",
       "<style scoped>\n",
       "    .dataframe tbody tr th:only-of-type {\n",
       "        vertical-align: middle;\n",
       "    }\n",
       "\n",
       "    .dataframe tbody tr th {\n",
       "        vertical-align: top;\n",
       "    }\n",
       "\n",
       "    .dataframe thead th {\n",
       "        text-align: right;\n",
       "    }\n",
       "</style>\n",
       "<table border=\"1\" class=\"dataframe\">\n",
       "  <thead>\n",
       "    <tr style=\"text-align: right;\">\n",
       "      <th></th>\n",
       "      <th>book_id</th>\n",
       "      <th>title</th>\n",
       "      <th>avg_rating</th>\n",
       "      <th>reviews_count</th>\n",
       "    </tr>\n",
       "  </thead>\n",
       "  <tbody>\n",
       "    <tr>\n",
       "      <th>0</th>\n",
       "      <td>518</td>\n",
       "      <td>Pop Goes the Weasel (Alex Cross  #5)</td>\n",
       "      <td>5.00</td>\n",
       "      <td>2.0</td>\n",
       "    </tr>\n",
       "    <tr>\n",
       "      <th>1</th>\n",
       "      <td>732</td>\n",
       "      <td>The Ghost Map: The Story of London's Most Terr...</td>\n",
       "      <td>5.00</td>\n",
       "      <td>2.0</td>\n",
       "    </tr>\n",
       "    <tr>\n",
       "      <th>2</th>\n",
       "      <td>347</td>\n",
       "      <td>In the Hand of the Goddess (Song of the Liones...</td>\n",
       "      <td>5.00</td>\n",
       "      <td>2.0</td>\n",
       "    </tr>\n",
       "    <tr>\n",
       "      <th>3</th>\n",
       "      <td>610</td>\n",
       "      <td>Tai-Pan (Asian Saga  #2)</td>\n",
       "      <td>5.00</td>\n",
       "      <td>2.0</td>\n",
       "    </tr>\n",
       "    <tr>\n",
       "      <th>4</th>\n",
       "      <td>330</td>\n",
       "      <td>How to Be a Domestic Goddess: Baking and the A...</td>\n",
       "      <td>5.00</td>\n",
       "      <td>1.0</td>\n",
       "    </tr>\n",
       "    <tr>\n",
       "      <th>...</th>\n",
       "      <td>...</td>\n",
       "      <td>...</td>\n",
       "      <td>...</td>\n",
       "      <td>...</td>\n",
       "    </tr>\n",
       "    <tr>\n",
       "      <th>995</th>\n",
       "      <td>915</td>\n",
       "      <td>The World Is Flat: A Brief History of the Twen...</td>\n",
       "      <td>2.25</td>\n",
       "      <td>3.0</td>\n",
       "    </tr>\n",
       "    <tr>\n",
       "      <th>996</th>\n",
       "      <td>371</td>\n",
       "      <td>Junky</td>\n",
       "      <td>2.00</td>\n",
       "      <td>2.0</td>\n",
       "    </tr>\n",
       "    <tr>\n",
       "      <th>997</th>\n",
       "      <td>316</td>\n",
       "      <td>His Excellency: George Washington</td>\n",
       "      <td>2.00</td>\n",
       "      <td>2.0</td>\n",
       "    </tr>\n",
       "    <tr>\n",
       "      <th>998</th>\n",
       "      <td>202</td>\n",
       "      <td>Drowning Ruth</td>\n",
       "      <td>2.00</td>\n",
       "      <td>3.0</td>\n",
       "    </tr>\n",
       "    <tr>\n",
       "      <th>999</th>\n",
       "      <td>303</td>\n",
       "      <td>Harvesting the Heart</td>\n",
       "      <td>1.50</td>\n",
       "      <td>2.0</td>\n",
       "    </tr>\n",
       "  </tbody>\n",
       "</table>\n",
       "<p>1000 rows × 4 columns</p>\n",
       "</div>"
      ],
      "text/plain": [
       "     book_id                                              title  avg_rating  \\\n",
       "0        518               Pop Goes the Weasel (Alex Cross  #5)        5.00   \n",
       "1        732  The Ghost Map: The Story of London's Most Terr...        5.00   \n",
       "2        347  In the Hand of the Goddess (Song of the Liones...        5.00   \n",
       "3        610                           Tai-Pan (Asian Saga  #2)        5.00   \n",
       "4        330  How to Be a Domestic Goddess: Baking and the A...        5.00   \n",
       "..       ...                                                ...         ...   \n",
       "995      915  The World Is Flat: A Brief History of the Twen...        2.25   \n",
       "996      371                                              Junky        2.00   \n",
       "997      316                  His Excellency: George Washington        2.00   \n",
       "998      202                                      Drowning Ruth        2.00   \n",
       "999      303                               Harvesting the Heart        1.50   \n",
       "\n",
       "     reviews_count  \n",
       "0              2.0  \n",
       "1              2.0  \n",
       "2              2.0  \n",
       "3              2.0  \n",
       "4              1.0  \n",
       "..             ...  \n",
       "995            3.0  \n",
       "996            2.0  \n",
       "997            2.0  \n",
       "998            3.0  \n",
       "999            2.0  \n",
       "\n",
       "[1000 rows x 4 columns]"
      ]
     },
     "metadata": {},
     "output_type": "display_data"
    }
   ],
   "source": [
    "\n",
    "query = '''\n",
    "\n",
    "  SELECT books.book_id,\n",
    "         books.title, \n",
    "         ratings.avg_rating,\n",
    "         reviews.reviews_count\n",
    "  FROM books\n",
    "  LEFT JOIN (SELECT book_id,\n",
    "                    AVG(rating) as avg_rating\n",
    "             FROM ratings\n",
    "             GROUP BY book_id) as ratings ON books.book_id = ratings.book_id\n",
    "  LEFT JOIN (SELECT book_id,\n",
    "                    COUNT (review_id) as reviews_count\n",
    "                    FROM reviews\n",
    "                    GROUP BY book_id) as reviews ON books.book_id = reviews.book_id\n",
    "  ORDER BY ratings.avg_rating DESC\n",
    "  '''\n",
    "\n",
    "book_count_mean = pd.io.sql.read_sql(query, con = engine)\n",
    "display(book_count_mean)"
   ]
  },
  {
   "cell_type": "code",
   "execution_count": 11,
   "metadata": {},
   "outputs": [
    {
     "data": {
      "text/html": [
       "<div>\n",
       "<style scoped>\n",
       "    .dataframe tbody tr th:only-of-type {\n",
       "        vertical-align: middle;\n",
       "    }\n",
       "\n",
       "    .dataframe tbody tr th {\n",
       "        vertical-align: top;\n",
       "    }\n",
       "\n",
       "    .dataframe thead th {\n",
       "        text-align: right;\n",
       "    }\n",
       "</style>\n",
       "<table border=\"1\" class=\"dataframe\">\n",
       "  <thead>\n",
       "    <tr style=\"text-align: right;\">\n",
       "      <th></th>\n",
       "      <th>book_id</th>\n",
       "      <th>title</th>\n",
       "      <th>avg_rating</th>\n",
       "      <th>reviews_count</th>\n",
       "    </tr>\n",
       "  </thead>\n",
       "  <tbody>\n",
       "    <tr>\n",
       "      <th>0</th>\n",
       "      <td>518</td>\n",
       "      <td>Pop Goes the Weasel (Alex Cross  #5)</td>\n",
       "      <td>5.00</td>\n",
       "      <td>2.0</td>\n",
       "    </tr>\n",
       "    <tr>\n",
       "      <th>1</th>\n",
       "      <td>732</td>\n",
       "      <td>The Ghost Map: The Story of London's Most Terr...</td>\n",
       "      <td>5.00</td>\n",
       "      <td>2.0</td>\n",
       "    </tr>\n",
       "    <tr>\n",
       "      <th>2</th>\n",
       "      <td>347</td>\n",
       "      <td>In the Hand of the Goddess (Song of the Liones...</td>\n",
       "      <td>5.00</td>\n",
       "      <td>2.0</td>\n",
       "    </tr>\n",
       "    <tr>\n",
       "      <th>3</th>\n",
       "      <td>610</td>\n",
       "      <td>Tai-Pan (Asian Saga  #2)</td>\n",
       "      <td>5.00</td>\n",
       "      <td>2.0</td>\n",
       "    </tr>\n",
       "    <tr>\n",
       "      <th>4</th>\n",
       "      <td>330</td>\n",
       "      <td>How to Be a Domestic Goddess: Baking and the A...</td>\n",
       "      <td>5.00</td>\n",
       "      <td>1.0</td>\n",
       "    </tr>\n",
       "    <tr>\n",
       "      <th>...</th>\n",
       "      <td>...</td>\n",
       "      <td>...</td>\n",
       "      <td>...</td>\n",
       "      <td>...</td>\n",
       "    </tr>\n",
       "    <tr>\n",
       "      <th>995</th>\n",
       "      <td>915</td>\n",
       "      <td>The World Is Flat: A Brief History of the Twen...</td>\n",
       "      <td>2.25</td>\n",
       "      <td>3.0</td>\n",
       "    </tr>\n",
       "    <tr>\n",
       "      <th>996</th>\n",
       "      <td>371</td>\n",
       "      <td>Junky</td>\n",
       "      <td>2.00</td>\n",
       "      <td>2.0</td>\n",
       "    </tr>\n",
       "    <tr>\n",
       "      <th>997</th>\n",
       "      <td>316</td>\n",
       "      <td>His Excellency: George Washington</td>\n",
       "      <td>2.00</td>\n",
       "      <td>2.0</td>\n",
       "    </tr>\n",
       "    <tr>\n",
       "      <th>998</th>\n",
       "      <td>202</td>\n",
       "      <td>Drowning Ruth</td>\n",
       "      <td>2.00</td>\n",
       "      <td>3.0</td>\n",
       "    </tr>\n",
       "    <tr>\n",
       "      <th>999</th>\n",
       "      <td>303</td>\n",
       "      <td>Harvesting the Heart</td>\n",
       "      <td>1.50</td>\n",
       "      <td>2.0</td>\n",
       "    </tr>\n",
       "  </tbody>\n",
       "</table>\n",
       "<p>1000 rows × 4 columns</p>\n",
       "</div>"
      ],
      "text/plain": [
       "     book_id                                              title  avg_rating  \\\n",
       "0        518               Pop Goes the Weasel (Alex Cross  #5)        5.00   \n",
       "1        732  The Ghost Map: The Story of London's Most Terr...        5.00   \n",
       "2        347  In the Hand of the Goddess (Song of the Liones...        5.00   \n",
       "3        610                           Tai-Pan (Asian Saga  #2)        5.00   \n",
       "4        330  How to Be a Domestic Goddess: Baking and the A...        5.00   \n",
       "..       ...                                                ...         ...   \n",
       "995      915  The World Is Flat: A Brief History of the Twen...        2.25   \n",
       "996      371                                              Junky        2.00   \n",
       "997      316                  His Excellency: George Washington        2.00   \n",
       "998      202                                      Drowning Ruth        2.00   \n",
       "999      303                               Harvesting the Heart        1.50   \n",
       "\n",
       "     reviews_count  \n",
       "0              2.0  \n",
       "1              2.0  \n",
       "2              2.0  \n",
       "3              2.0  \n",
       "4              1.0  \n",
       "..             ...  \n",
       "995            3.0  \n",
       "996            2.0  \n",
       "997            2.0  \n",
       "998            3.0  \n",
       "999            2.0  \n",
       "\n",
       "[1000 rows x 4 columns]"
      ]
     },
     "execution_count": 11,
     "metadata": {},
     "output_type": "execute_result"
    }
   ],
   "source": [
    "pd.io.sql.read_sql(query, con = engine)"
   ]
  },
  {
   "cell_type": "markdown",
   "metadata": {},
   "source": [
    "Наибольшее количество обзоров вышло по книге Twilight. При этом рейтинг у этой книги ниже остальных."
   ]
  },
  {
   "cell_type": "markdown",
   "metadata": {},
   "source": [
    "Всего в данных присутсвует 1000 книг."
   ]
  },
  {
   "cell_type": "markdown",
   "metadata": {},
   "source": [
    "Рассмотрим вопрос более объективно и рассчитаем топ-5 по кол-ву обзоров."
   ]
  },
  {
   "cell_type": "code",
   "execution_count": 12,
   "metadata": {},
   "outputs": [],
   "source": [
    "query = '''\n",
    "\n",
    "  SELECT books.book_id,\n",
    "         books.title, \n",
    "         ratings.avg_rating,\n",
    "         reviews.reviews_count\n",
    "  FROM books\n",
    "  LEFT JOIN (SELECT book_id,\n",
    "                    AVG(rating) as avg_rating\n",
    "             FROM ratings\n",
    "             GROUP BY book_id) as ratings ON books.book_id = ratings.book_id\n",
    "  LEFT JOIN (SELECT book_id,\n",
    "                    COUNT (review_id) as reviews_count\n",
    "                    FROM reviews\n",
    "                    GROUP BY book_id) as reviews ON books.book_id = reviews.book_id\n",
    "  WHERE reviews.reviews_count != 'NaN'::NUMERIC\n",
    "  ORDER BY reviews.reviews_count DESC\n",
    "  '''"
   ]
  },
  {
   "cell_type": "code",
   "execution_count": 13,
   "metadata": {},
   "outputs": [
    {
     "data": {
      "text/html": [
       "<div>\n",
       "<style scoped>\n",
       "    .dataframe tbody tr th:only-of-type {\n",
       "        vertical-align: middle;\n",
       "    }\n",
       "\n",
       "    .dataframe tbody tr th {\n",
       "        vertical-align: top;\n",
       "    }\n",
       "\n",
       "    .dataframe thead th {\n",
       "        text-align: right;\n",
       "    }\n",
       "</style>\n",
       "<table border=\"1\" class=\"dataframe\">\n",
       "  <thead>\n",
       "    <tr style=\"text-align: right;\">\n",
       "      <th></th>\n",
       "      <th>book_id</th>\n",
       "      <th>title</th>\n",
       "      <th>avg_rating</th>\n",
       "      <th>reviews_count</th>\n",
       "    </tr>\n",
       "  </thead>\n",
       "  <tbody>\n",
       "    <tr>\n",
       "      <th>0</th>\n",
       "      <td>948</td>\n",
       "      <td>Twilight (Twilight  #1)</td>\n",
       "      <td>3.662500</td>\n",
       "      <td>7</td>\n",
       "    </tr>\n",
       "    <tr>\n",
       "      <th>1</th>\n",
       "      <td>656</td>\n",
       "      <td>The Book Thief</td>\n",
       "      <td>4.264151</td>\n",
       "      <td>6</td>\n",
       "    </tr>\n",
       "    <tr>\n",
       "      <th>2</th>\n",
       "      <td>497</td>\n",
       "      <td>Outlander (Outlander  #1)</td>\n",
       "      <td>4.125000</td>\n",
       "      <td>6</td>\n",
       "    </tr>\n",
       "    <tr>\n",
       "      <th>3</th>\n",
       "      <td>963</td>\n",
       "      <td>Water for Elephants</td>\n",
       "      <td>3.977273</td>\n",
       "      <td>6</td>\n",
       "    </tr>\n",
       "    <tr>\n",
       "      <th>4</th>\n",
       "      <td>696</td>\n",
       "      <td>The Da Vinci Code (Robert Langdon  #2)</td>\n",
       "      <td>3.830508</td>\n",
       "      <td>6</td>\n",
       "    </tr>\n",
       "  </tbody>\n",
       "</table>\n",
       "</div>"
      ],
      "text/plain": [
       "   book_id                                   title  avg_rating  reviews_count\n",
       "0      948                 Twilight (Twilight  #1)    3.662500              7\n",
       "1      656                          The Book Thief    4.264151              6\n",
       "2      497               Outlander (Outlander  #1)    4.125000              6\n",
       "3      963                     Water for Elephants    3.977273              6\n",
       "4      696  The Da Vinci Code (Robert Langdon  #2)    3.830508              6"
      ]
     },
     "metadata": {},
     "output_type": "display_data"
    },
    {
     "data": {
      "text/plain": [
       "book_id          994\n",
       "title            994\n",
       "avg_rating       994\n",
       "reviews_count    994\n",
       "dtype: int64"
      ]
     },
     "metadata": {},
     "output_type": "display_data"
    }
   ],
   "source": [
    "display(pd.io.sql.read_sql(query, con = engine).head())\n",
    "display(pd.io.sql.read_sql(query, con = engine).count())"
   ]
  },
  {
   "cell_type": "markdown",
   "metadata": {},
   "source": [
    "А здесь 995 книг, 5 книг где-то были потеряны."
   ]
  },
  {
   "cell_type": "markdown",
   "metadata": {},
   "source": [
    "И рассмотрим наши книги-потеряшки, которые остались без ревью:"
   ]
  },
  {
   "cell_type": "code",
   "execution_count": 14,
   "metadata": {},
   "outputs": [
    {
     "data": {
      "text/html": [
       "<div>\n",
       "<style scoped>\n",
       "    .dataframe tbody tr th:only-of-type {\n",
       "        vertical-align: middle;\n",
       "    }\n",
       "\n",
       "    .dataframe tbody tr th {\n",
       "        vertical-align: top;\n",
       "    }\n",
       "\n",
       "    .dataframe thead th {\n",
       "        text-align: right;\n",
       "    }\n",
       "</style>\n",
       "<table border=\"1\" class=\"dataframe\">\n",
       "  <thead>\n",
       "    <tr style=\"text-align: right;\">\n",
       "      <th></th>\n",
       "      <th>cnt_review</th>\n",
       "      <th>cnt</th>\n",
       "      <th>book</th>\n",
       "    </tr>\n",
       "  </thead>\n",
       "  <tbody>\n",
       "    <tr>\n",
       "      <th>0</th>\n",
       "      <td>0</td>\n",
       "      <td>1</td>\n",
       "      <td>Anne Rice's The Vampire Lestat: A Graphic Novel</td>\n",
       "    </tr>\n",
       "    <tr>\n",
       "      <th>1</th>\n",
       "      <td>0</td>\n",
       "      <td>1</td>\n",
       "      <td>Disney's Beauty and the Beast (A Little Golden...</td>\n",
       "    </tr>\n",
       "    <tr>\n",
       "      <th>2</th>\n",
       "      <td>0</td>\n",
       "      <td>1</td>\n",
       "      <td>Essential Tales and Poems</td>\n",
       "    </tr>\n",
       "    <tr>\n",
       "      <th>3</th>\n",
       "      <td>0</td>\n",
       "      <td>1</td>\n",
       "      <td>Leonardo's Notebooks</td>\n",
       "    </tr>\n",
       "    <tr>\n",
       "      <th>4</th>\n",
       "      <td>0</td>\n",
       "      <td>1</td>\n",
       "      <td>The Cat in the Hat and Other Dr. Seuss Favorites</td>\n",
       "    </tr>\n",
       "  </tbody>\n",
       "</table>\n",
       "</div>"
      ],
      "text/plain": [
       "   cnt_review  cnt                                               book\n",
       "0           0    1    Anne Rice's The Vampire Lestat: A Graphic Novel\n",
       "1           0    1  Disney's Beauty and the Beast (A Little Golden...\n",
       "2           0    1                          Essential Tales and Poems\n",
       "3           0    1                               Leonardo's Notebooks\n",
       "4           0    1   The Cat in the Hat and Other Dr. Seuss Favorites"
      ]
     },
     "metadata": {},
     "output_type": "display_data"
    }
   ],
   "source": [
    "query = '''\n",
    "\n",
    "  SELECT count(review_id) AS cnt_review,\n",
    "      COUNT(b.book_id) cnt,\n",
    "      b.title AS book\n",
    "  FROM books b\n",
    "  LEFT JOIN reviews rv ON b.book_id = rv.book_id\n",
    "  WHERE review_id IS null\n",
    "  GROUP BY book\n",
    "  ORDER BY 2 DESC\n",
    "  '''\n",
    "lost = pd.io.sql.read_sql(query, con = engine)\n",
    "display( lost.head())"
   ]
  },
  {
   "cell_type": "markdown",
   "metadata": {},
   "source": [
    "### Определите издательство, которое выпустило наибольшее число книг толще 50 страниц — так вы исключите из анализа брошюры;\n",
    "<a id='part_3.3'></a>"
   ]
  },
  {
   "cell_type": "code",
   "execution_count": 15,
   "metadata": {},
   "outputs": [
    {
     "name": "stdout",
     "output_type": "stream",
     "text": [
      "Издательство Penguin Books выпустило наибольшее число книг - 42 шт. толще 50 страниц.\n"
     ]
    }
   ],
   "source": [
    "task_3 = '''\n",
    "SELECT publisher AS publisher_name,\n",
    "    COUNT (books.book_id) AS cnt_books\n",
    "FROM books \n",
    "    INNER JOIN publishers ON books.publisher_id = publishers.publisher_id\n",
    "WHERE books.num_pages > 50\n",
    "GROUP  BY publisher\n",
    "ORDER  BY cnt_books DESC\n",
    "'''\n",
    "\n",
    "publisher_most_books = pd.io.sql.read_sql(task_3, con = engine)\n",
    "publisher_most_books\n",
    "print('Издательство', publisher_most_books.iloc[0, 0], 'выпустило наибольшее число книг -', \n",
    "      publisher_most_books.iloc[0, 1], 'шт. толще 50 страниц.'  )"
   ]
  },
  {
   "cell_type": "markdown",
   "metadata": {},
   "source": [
    "### Определите автора с самой высокой средней оценкой книг — учитывайте только книги с 50 и более оценками;\n",
    "<a id='part_3.4'></a>"
   ]
  },
  {
   "cell_type": "code",
   "execution_count": 16,
   "metadata": {},
   "outputs": [
    {
     "name": "stdout",
     "output_type": "stream",
     "text": [
      "Автор - J.K. Rowling/Mary GrandPré с самой высокой средней оценкой книг: 4.283844038868471\n"
     ]
    }
   ],
   "source": [
    "task_4 = '''\n",
    "SELECT authors.author AS author_name,\n",
    "AVG(r.average_rating) as avg_rating\n",
    "FROM books \n",
    "INNER JOIN (SELECT book_id, COUNT(rating) AS cnt,\n",
    "             AVG(rating) AS average_rating\n",
    "      FROM ratings\n",
    "      GROUP BY book_id) AS r\n",
    "ON r.book_id = books.book_id\n",
    "INNER JOIN authors ON authors.author_id = books.author_id\n",
    "WHERE r.cnt >= 50\n",
    "GROUP BY author_name\n",
    "ORDER BY avg_rating DESC\n",
    "LIMIT 1\n",
    "'''\n",
    "\n",
    "auth_books_avg_rating = pd.io.sql.read_sql(task_4, con = engine)\n",
    "print('Автор -', auth_books_avg_rating.iloc[0,0], 'с самой высокой средней оценкой книг:',\n",
    "      auth_books_avg_rating.iloc[0,1] )"
   ]
  },
  {
   "cell_type": "markdown",
   "metadata": {},
   "source": [
    "### Посчитайте среднее количество обзоров от пользователей, которые поставили больше 50 оценок.\n",
    "<a id='part_3.5'></a>"
   ]
  },
  {
   "cell_type": "code",
   "execution_count": 17,
   "metadata": {},
   "outputs": [
    {
     "name": "stdout",
     "output_type": "stream",
     "text": [
      "Среднее количество обзоров от пользователей, которые поставили больше 50 оценок равно: 24.0\n"
     ]
    }
   ],
   "source": [
    "task_5 = '''\n",
    "SELECT\n",
    "    AVG(sub.cnt_text)\n",
    "FROM\n",
    "(SELECT \n",
    "   reviews.username,\n",
    "   COUNT(DISTINCT reviews.text) AS cnt_text,\n",
    "   COUNT(DISTINCT ratings.book_id) AS cnt_book\n",
    "FROM reviews\n",
    "     INNER JOIN ratings ON ratings.username = reviews.username\n",
    "GROUP BY\n",
    "   reviews.username\n",
    "HAVING\n",
    "   COUNT(DISTINCT ratings.book_id)>50) AS sub\n",
    "'''\n",
    "\n",
    "avg_cnt_reviews = pd.io.sql.read_sql(task_5, con = engine)\n",
    "avg_cnt_reviews.head(10)\n",
    "print('Среднее количество обзоров от пользователей, которые поставили больше 50 оценок равно:', \n",
    "      avg_cnt_reviews.iloc[0][0].round())"
   ]
  },
  {
   "cell_type": "markdown",
   "metadata": {},
   "source": [
    "# Вывод:\n",
    "<a id='part_4'></a>"
   ]
  },
  {
   "cell_type": "markdown",
   "metadata": {},
   "source": [
    "* Количество книг, вышедших после 1 января 2000 года: 821;\n",
    "\n",
    "* Наибольшее количество обзоров вышло по книге Twilight. При этом рейтинг у этой книги ниже остальных;\n",
    "\n",
    "* Издательство Penguin Books выпустило наибольшее число книг - 42 шт. толще 50 страниц;\n",
    "\n",
    "* Автор - J.K. Rowling/Mary GrandPré с самой высокой средней оценкой книг: 4.283844038868471;\n",
    "\n",
    "* Среднее количество обзоров от пользователей, которые поставили больше 50 оценок равно: 24.333333333333332.\n"
   ]
  }
 ],
 "metadata": {
  "ExecuteTimeLog": [
   {
    "duration": 470,
    "start_time": "2022-07-01T13:19:15.696Z"
   },
   {
    "duration": 3,
    "start_time": "2022-07-01T13:19:50.957Z"
   },
   {
    "duration": 3,
    "start_time": "2022-07-01T13:20:14.195Z"
   },
   {
    "duration": 12439,
    "start_time": "2022-07-01T13:20:23.178Z"
   },
   {
    "duration": 64,
    "start_time": "2022-07-01T13:20:56.063Z"
   },
   {
    "duration": 12,
    "start_time": "2022-07-01T13:21:02.680Z"
   },
   {
    "duration": 13,
    "start_time": "2022-07-01T13:21:21.727Z"
   },
   {
    "duration": 13,
    "start_time": "2022-07-01T13:21:32.727Z"
   },
   {
    "duration": 11,
    "start_time": "2022-07-01T13:21:44.903Z"
   },
   {
    "duration": 9,
    "start_time": "2022-07-01T13:22:49.722Z"
   },
   {
    "duration": 95,
    "start_time": "2022-07-01T13:22:59.722Z"
   },
   {
    "duration": 28,
    "start_time": "2022-07-01T13:23:13.312Z"
   },
   {
    "duration": 11,
    "start_time": "2022-07-01T13:24:08.982Z"
   },
   {
    "duration": 13,
    "start_time": "2022-07-01T13:24:28.805Z"
   },
   {
    "duration": 107,
    "start_time": "2022-07-01T13:24:38.233Z"
   },
   {
    "duration": 63,
    "start_time": "2022-07-01T13:24:50.440Z"
   },
   {
    "duration": 46,
    "start_time": "2022-07-01T16:16:52.774Z"
   },
   {
    "duration": 573,
    "start_time": "2022-07-01T16:16:57.905Z"
   },
   {
    "duration": 4,
    "start_time": "2022-07-01T16:16:58.481Z"
   },
   {
    "duration": 7773,
    "start_time": "2022-07-01T16:16:58.487Z"
   },
   {
    "duration": 316,
    "start_time": "2022-07-01T16:17:06.263Z"
   },
   {
    "duration": 89,
    "start_time": "2022-07-01T16:17:06.581Z"
   },
   {
    "duration": 90,
    "start_time": "2022-07-01T16:17:06.672Z"
   },
   {
    "duration": 81,
    "start_time": "2022-07-01T16:17:06.764Z"
   },
   {
    "duration": 93,
    "start_time": "2022-07-01T16:17:06.847Z"
   },
   {
    "duration": 75,
    "start_time": "2022-07-01T16:17:06.942Z"
   },
   {
    "duration": 132,
    "start_time": "2022-07-01T16:17:07.018Z"
   },
   {
    "duration": 141,
    "start_time": "2022-07-01T16:17:49.801Z"
   },
   {
    "duration": 119,
    "start_time": "2022-07-01T16:18:02.871Z"
   },
   {
    "duration": 103,
    "start_time": "2022-07-01T16:19:39.942Z"
   },
   {
    "duration": 92,
    "start_time": "2022-07-01T16:20:00.650Z"
   },
   {
    "duration": 93,
    "start_time": "2022-07-01T16:22:56.363Z"
   },
   {
    "duration": 93,
    "start_time": "2022-07-01T16:23:12.867Z"
   },
   {
    "duration": 169,
    "start_time": "2022-07-01T16:30:35.118Z"
   },
   {
    "duration": 947,
    "start_time": "2022-07-01T16:31:46.766Z"
   },
   {
    "duration": 1020,
    "start_time": "2022-07-01T16:33:52.460Z"
   },
   {
    "duration": 91,
    "start_time": "2022-07-01T16:33:56.845Z"
   },
   {
    "duration": 192,
    "start_time": "2022-07-01T16:35:24.661Z"
   },
   {
    "duration": 157,
    "start_time": "2022-07-01T16:35:39.842Z"
   },
   {
    "duration": 83,
    "start_time": "2022-07-01T16:35:44.738Z"
   },
   {
    "duration": 132,
    "start_time": "2022-07-01T16:36:55.579Z"
   },
   {
    "duration": 1072,
    "start_time": "2022-07-01T16:37:05.487Z"
   },
   {
    "duration": 117,
    "start_time": "2022-07-01T16:37:38.654Z"
   },
   {
    "duration": 110,
    "start_time": "2022-07-01T16:37:44.856Z"
   },
   {
    "duration": 3,
    "start_time": "2022-07-01T16:38:32.862Z"
   },
   {
    "duration": 123,
    "start_time": "2022-07-01T16:38:42.415Z"
   },
   {
    "duration": 216,
    "start_time": "2022-07-01T16:40:49.567Z"
   },
   {
    "duration": 105,
    "start_time": "2022-07-01T16:40:59.780Z"
   },
   {
    "duration": 143,
    "start_time": "2022-07-01T16:45:07.794Z"
   },
   {
    "duration": 78,
    "start_time": "2022-07-01T16:45:25.651Z"
   },
   {
    "duration": 145,
    "start_time": "2022-07-01T16:46:16.842Z"
   },
   {
    "duration": 77,
    "start_time": "2022-07-01T16:46:27.392Z"
   },
   {
    "duration": 80,
    "start_time": "2022-07-01T16:46:28.856Z"
   },
   {
    "duration": 3,
    "start_time": "2022-07-01T16:46:31.729Z"
   },
   {
    "duration": 114,
    "start_time": "2022-07-01T16:46:32.183Z"
   },
   {
    "duration": 79,
    "start_time": "2022-07-01T16:46:33.979Z"
   },
   {
    "duration": 4,
    "start_time": "2022-07-01T16:46:36.417Z"
   },
   {
    "duration": 193,
    "start_time": "2022-07-01T16:46:50.353Z"
   },
   {
    "duration": 199,
    "start_time": "2022-07-01T16:47:07.257Z"
   },
   {
    "duration": 200,
    "start_time": "2022-07-01T16:47:12.825Z"
   },
   {
    "duration": 189,
    "start_time": "2022-07-01T16:47:18.297Z"
   },
   {
    "duration": 187,
    "start_time": "2022-07-01T16:47:22.666Z"
   },
   {
    "duration": 51,
    "start_time": "2022-07-02T10:53:33.081Z"
   },
   {
    "duration": 561,
    "start_time": "2022-07-02T10:53:37.025Z"
   },
   {
    "duration": 4,
    "start_time": "2022-07-02T10:53:37.588Z"
   },
   {
    "duration": 5926,
    "start_time": "2022-07-02T10:53:37.593Z"
   },
   {
    "duration": 298,
    "start_time": "2022-07-02T10:53:43.521Z"
   },
   {
    "duration": 76,
    "start_time": "2022-07-02T10:53:43.822Z"
   },
   {
    "duration": 76,
    "start_time": "2022-07-02T10:53:43.900Z"
   },
   {
    "duration": 78,
    "start_time": "2022-07-02T10:53:43.978Z"
   },
   {
    "duration": 76,
    "start_time": "2022-07-02T10:53:44.058Z"
   },
   {
    "duration": 80,
    "start_time": "2022-07-02T10:53:44.136Z"
   },
   {
    "duration": 111,
    "start_time": "2022-07-02T10:53:44.218Z"
   },
   {
    "duration": 99,
    "start_time": "2022-07-02T10:53:44.331Z"
   },
   {
    "duration": 4,
    "start_time": "2022-07-02T10:53:44.432Z"
   },
   {
    "duration": 194,
    "start_time": "2022-07-02T10:53:44.438Z"
   },
   {
    "duration": 76,
    "start_time": "2022-07-02T10:53:44.635Z"
   },
   {
    "duration": 71,
    "start_time": "2022-07-02T10:53:44.713Z"
   },
   {
    "duration": 75,
    "start_time": "2022-07-02T10:53:44.786Z"
   },
   {
    "duration": 134,
    "start_time": "2022-07-02T10:53:44.863Z"
   },
   {
    "duration": 133,
    "start_time": "2022-07-02T10:53:49.153Z"
   },
   {
    "duration": 3,
    "start_time": "2022-07-02T13:53:39.137Z"
   },
   {
    "duration": 6,
    "start_time": "2022-07-02T13:53:39.142Z"
   },
   {
    "duration": 5,
    "start_time": "2022-07-02T13:53:39.151Z"
   },
   {
    "duration": 63,
    "start_time": "2022-07-02T13:53:39.158Z"
   },
   {
    "duration": 12,
    "start_time": "2022-07-02T13:53:39.223Z"
   },
   {
    "duration": 14,
    "start_time": "2022-07-02T13:53:39.237Z"
   },
   {
    "duration": 13,
    "start_time": "2022-07-02T13:53:39.253Z"
   },
   {
    "duration": 13,
    "start_time": "2022-07-02T13:53:39.269Z"
   },
   {
    "duration": 10,
    "start_time": "2022-07-02T13:53:39.283Z"
   },
   {
    "duration": 28,
    "start_time": "2022-07-02T13:53:39.294Z"
   },
   {
    "duration": 27,
    "start_time": "2022-07-02T13:53:39.342Z"
   },
   {
    "duration": 4,
    "start_time": "2022-07-02T13:53:39.370Z"
   },
   {
    "duration": 49,
    "start_time": "2022-07-02T13:53:39.376Z"
   },
   {
    "duration": 14,
    "start_time": "2022-07-02T13:53:39.427Z"
   },
   {
    "duration": 11,
    "start_time": "2022-07-02T13:53:39.443Z"
   },
   {
    "duration": 13,
    "start_time": "2022-07-02T13:53:39.455Z"
   },
   {
    "duration": 72,
    "start_time": "2022-07-02T13:53:39.471Z"
   },
   {
    "duration": 506,
    "start_time": "2022-07-02T13:56:29.294Z"
   },
   {
    "duration": 4,
    "start_time": "2022-07-02T13:56:29.802Z"
   },
   {
    "duration": 13183,
    "start_time": "2022-07-02T13:56:29.807Z"
   },
   {
    "duration": 70,
    "start_time": "2022-07-02T13:56:42.992Z"
   },
   {
    "duration": 17,
    "start_time": "2022-07-02T13:56:43.064Z"
   },
   {
    "duration": 12,
    "start_time": "2022-07-02T13:56:43.083Z"
   },
   {
    "duration": 13,
    "start_time": "2022-07-02T13:56:43.097Z"
   },
   {
    "duration": 10,
    "start_time": "2022-07-02T13:56:43.113Z"
   },
   {
    "duration": 30,
    "start_time": "2022-07-02T13:56:43.125Z"
   },
   {
    "duration": 29,
    "start_time": "2022-07-02T13:56:43.157Z"
   },
   {
    "duration": 30,
    "start_time": "2022-07-02T13:56:43.188Z"
   },
   {
    "duration": 4,
    "start_time": "2022-07-02T13:56:43.220Z"
   },
   {
    "duration": 50,
    "start_time": "2022-07-02T13:56:43.226Z"
   },
   {
    "duration": 14,
    "start_time": "2022-07-02T13:56:43.278Z"
   },
   {
    "duration": 11,
    "start_time": "2022-07-02T13:56:43.293Z"
   },
   {
    "duration": 14,
    "start_time": "2022-07-02T13:56:43.305Z"
   },
   {
    "duration": 71,
    "start_time": "2022-07-02T13:56:43.321Z"
   }
  ],
  "kernelspec": {
   "display_name": "Python 3 (ipykernel)",
   "language": "python",
   "name": "python3"
  },
  "language_info": {
   "codemirror_mode": {
    "name": "ipython",
    "version": 3
   },
   "file_extension": ".py",
   "mimetype": "text/x-python",
   "name": "python",
   "nbconvert_exporter": "python",
   "pygments_lexer": "ipython3",
   "version": "3.9.5"
  },
  "toc": {
   "base_numbering": 1,
   "nav_menu": {},
   "number_sections": true,
   "sideBar": true,
   "skip_h1_title": true,
   "title_cell": "Table of Contents",
   "title_sidebar": "Contents",
   "toc_cell": false,
   "toc_position": {},
   "toc_section_display": true,
   "toc_window_display": false
  }
 },
 "nbformat": 4,
 "nbformat_minor": 2
}
