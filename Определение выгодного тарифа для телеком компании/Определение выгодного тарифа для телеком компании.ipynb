{
 "cells": [
  {
   "cell_type": "markdown",
   "id": "77426a7f",
   "metadata": {},
   "source": [
    "# Статистический анализ данных. Проектная работа."
   ]
  },
  {
   "cell_type": "markdown",
   "id": "be26ccdf",
   "metadata": {},
   "source": [
    "## Описание проекта:"
   ]
  },
  {
   "cell_type": "markdown",
   "id": "7a19ff38",
   "metadata": {},
   "source": [
    "Вы аналитик компании «Мегалайн» — федерального оператора сотовой связи. Клиентам предлагают два тарифных плана: «Смарт» и «Ультра». Чтобы скорректировать рекламный бюджет, коммерческий департамент хочет понять, какой тариф приносит больше денег.\n",
    "\n",
    "Вам предстоит сделать предварительный анализ тарифов на небольшой выборке клиентов. В вашем распоряжении данные 500 пользователей «Мегалайна»: кто они, откуда, каким тарифом пользуются, сколько звонков и сообщений каждый отправил за 2018 год. Нужно проанализировать поведение клиентов и сделать вывод — какой тариф лучше."
   ]
  },
  {
   "cell_type": "markdown",
   "id": "5dcdd08a",
   "metadata": {},
   "source": [
    "## Описание тарифов:"
   ]
  },
  {
   "cell_type": "markdown",
   "id": "61448dc4",
   "metadata": {},
   "source": [
    "### Тариф «Смарт»\n",
    "1. Ежемесячная плата: 550 рублей\n",
    "2. Включено 500 минут разговора, 50 сообщений и 15 Гб интернет-трафика\n",
    "3. Стоимость услуг сверх тарифного пакета:\n",
    "* минута разговора: 3 рубля\n",
    "* сообщение: 3 рубля\n",
    "* 1 Гб интернет-трафика: 200 рублей\n",
    "\n",
    "### Тариф «Ультра»\n",
    "1. Ежемесячная плата: 1950 рублей\n",
    "2. Включено 3000 минут разговора, 1000 сообщений и 30 Гб интернет-трафика\n",
    "3. Стоимость услуг сверх тарифного пакета:\n",
    "* минута разговора: 1 рубль\n",
    "* сообщение: 1 рубль\n",
    "* 1 Гб интернет-трафика: 150 рублей"
   ]
  },
  {
   "cell_type": "markdown",
   "id": "7fc7bba7",
   "metadata": {},
   "source": [
    "# План работы:"
   ]
  },
  {
   "cell_type": "markdown",
   "id": "8064ab12",
   "metadata": {},
   "source": [
    "#### Шаг 1. Открыть и изучить доступные данные.\n",
    "\n",
    "#### Шаг 2. Подготовить данные:\n",
    "* Привести данные к нужным типам.\n",
    "* Найти и исправить ошибки в данных, если они есть.\n",
    "\n",
    "Посчитать для каждого пользователя:\n",
    "* количество сделанных звонков и израсходованных минут разговора по месяцам;\n",
    "* количество отправленных сообщений по месяцам;\n",
    "* объем израсходованного интернет-трафика по месяцам;\n",
    "* помесячную выручку с каждого пользователя (вычтите бесплатный лимит из суммарного количества звонков, сообщений и интернет-трафика; остаток умножьте на значение из тарифного плана; прибавьте абонентскую плату, соответствующую тарифному плану).\n",
    "\n",
    "#### Шаг 3. Проанализировать данные.\n",
    "\n",
    "#### Шаг 4. Проверить гипотезы:\n",
    "\n",
    "* средняя выручка пользователей тарифов «Ультра» и «Смарт» различаются;\n",
    "* средняя выручка пользователей из Москвы отличается от выручки пользователей из других регионов.\n",
    "\n",
    "#### Шаг 5. Общий вывод.\n"
   ]
  },
  {
   "cell_type": "markdown",
   "id": "2b5ab670",
   "metadata": {},
   "source": [
    "# Шаг 1. Открыть и изучить доступные данные."
   ]
  },
  {
   "cell_type": "markdown",
   "id": "0cc412e9",
   "metadata": {},
   "source": [
    "Приступим к изучению данных, начнем с импорта нужных нам библиотек."
   ]
  },
  {
   "cell_type": "code",
   "execution_count": 1,
   "id": "902e1a05",
   "metadata": {},
   "outputs": [],
   "source": [
    "import pandas as pd\n",
    "import matplotlib.pyplot as plt\n",
    "import math\n",
    "import seaborn as sns\n",
    "from scipy import stats as st\n",
    "import numpy as np\n",
    "import warnings\n",
    "\n",
    "warnings.filterwarnings('ignore')\n",
    "\n",
    "# для отображения в jupiter всех колонок df + сокращу количество цифр после запятой\n",
    "pd.set_option('display.max_columns', None)\n",
    "pd.set_option('display.precision',2)"
   ]
  },
  {
   "cell_type": "code",
   "execution_count": 2,
   "id": "8953f6d7",
   "metadata": {},
   "outputs": [],
   "source": [
    "calls = pd.read_csv('/datasets/calls.csv')\n",
    "internet = pd.read_csv('/datasets/internet.csv', index_col=0)\n",
    "messages = pd.read_csv('/datasets/messages.csv')\n",
    "tariffs = pd.read_csv('/datasets/tariffs.csv')\n",
    "users = pd.read_csv('/datasets/users.csv')"
   ]
  },
  {
   "cell_type": "markdown",
   "id": "f86237e3",
   "metadata": {},
   "source": [
    "Так как предстоит множество однотипных действий по отношению к каждой таблице, придумаю функцию/цикл. Объединим название таблиц в словарь и выведем основные описательные методы."
   ]
  },
  {
   "cell_type": "code",
   "execution_count": 3,
   "id": "98d36d9a",
   "metadata": {
    "scrolled": true
   },
   "outputs": [
    {
     "name": "stdout",
     "output_type": "stream",
     "text": [
      "_____________________\n",
      "Данные по таблице: calls\n",
      "_____________________\n",
      "\n",
      "Применяем метод .sample\n"
     ]
    },
    {
     "data": {
      "text/html": [
       "<div>\n",
       "<style scoped>\n",
       "    .dataframe tbody tr th:only-of-type {\n",
       "        vertical-align: middle;\n",
       "    }\n",
       "\n",
       "    .dataframe tbody tr th {\n",
       "        vertical-align: top;\n",
       "    }\n",
       "\n",
       "    .dataframe thead th {\n",
       "        text-align: right;\n",
       "    }\n",
       "</style>\n",
       "<table border=\"1\" class=\"dataframe\">\n",
       "  <thead>\n",
       "    <tr style=\"text-align: right;\">\n",
       "      <th></th>\n",
       "      <th>id</th>\n",
       "      <th>call_date</th>\n",
       "      <th>duration</th>\n",
       "      <th>user_id</th>\n",
       "    </tr>\n",
       "  </thead>\n",
       "  <tbody>\n",
       "    <tr>\n",
       "      <th>200845</th>\n",
       "      <td>1495_232</td>\n",
       "      <td>2018-12-23</td>\n",
       "      <td>0.0</td>\n",
       "      <td>1495</td>\n",
       "    </tr>\n",
       "    <tr>\n",
       "      <th>20889</th>\n",
       "      <td>1055_382</td>\n",
       "      <td>2018-07-22</td>\n",
       "      <td>0.0</td>\n",
       "      <td>1055</td>\n",
       "    </tr>\n",
       "  </tbody>\n",
       "</table>\n",
       "</div>"
      ],
      "text/plain": [
       "              id   call_date  duration  user_id\n",
       "200845  1495_232  2018-12-23       0.0     1495\n",
       "20889   1055_382  2018-07-22       0.0     1055"
      ]
     },
     "metadata": {},
     "output_type": "display_data"
    },
    {
     "name": "stdout",
     "output_type": "stream",
     "text": [
      "Применяем метод .info\n",
      "<class 'pandas.core.frame.DataFrame'>\n",
      "RangeIndex: 202607 entries, 0 to 202606\n",
      "Data columns (total 4 columns):\n",
      " #   Column     Non-Null Count   Dtype  \n",
      "---  ------     --------------   -----  \n",
      " 0   id         202607 non-null  object \n",
      " 1   call_date  202607 non-null  object \n",
      " 2   duration   202607 non-null  float64\n",
      " 3   user_id    202607 non-null  int64  \n",
      "dtypes: float64(1), int64(1), object(2)\n",
      "memory usage: 6.2+ MB\n"
     ]
    },
    {
     "data": {
      "text/plain": [
       "None"
      ]
     },
     "metadata": {},
     "output_type": "display_data"
    },
    {
     "name": "stdout",
     "output_type": "stream",
     "text": [
      "Применяем метод .describe\n"
     ]
    },
    {
     "data": {
      "text/html": [
       "<div>\n",
       "<style scoped>\n",
       "    .dataframe tbody tr th:only-of-type {\n",
       "        vertical-align: middle;\n",
       "    }\n",
       "\n",
       "    .dataframe tbody tr th {\n",
       "        vertical-align: top;\n",
       "    }\n",
       "\n",
       "    .dataframe thead th {\n",
       "        text-align: right;\n",
       "    }\n",
       "</style>\n",
       "<table border=\"1\" class=\"dataframe\">\n",
       "  <thead>\n",
       "    <tr style=\"text-align: right;\">\n",
       "      <th></th>\n",
       "      <th>id</th>\n",
       "      <th>call_date</th>\n",
       "      <th>duration</th>\n",
       "      <th>user_id</th>\n",
       "    </tr>\n",
       "  </thead>\n",
       "  <tbody>\n",
       "    <tr>\n",
       "      <th>count</th>\n",
       "      <td>202607</td>\n",
       "      <td>202607</td>\n",
       "      <td>202607.00</td>\n",
       "      <td>202607.00</td>\n",
       "    </tr>\n",
       "    <tr>\n",
       "      <th>unique</th>\n",
       "      <td>202607</td>\n",
       "      <td>365</td>\n",
       "      <td>NaN</td>\n",
       "      <td>NaN</td>\n",
       "    </tr>\n",
       "    <tr>\n",
       "      <th>top</th>\n",
       "      <td>1068_299</td>\n",
       "      <td>2018-12-31</td>\n",
       "      <td>NaN</td>\n",
       "      <td>NaN</td>\n",
       "    </tr>\n",
       "    <tr>\n",
       "      <th>freq</th>\n",
       "      <td>1</td>\n",
       "      <td>1435</td>\n",
       "      <td>NaN</td>\n",
       "      <td>NaN</td>\n",
       "    </tr>\n",
       "    <tr>\n",
       "      <th>mean</th>\n",
       "      <td>NaN</td>\n",
       "      <td>NaN</td>\n",
       "      <td>6.76</td>\n",
       "      <td>1253.94</td>\n",
       "    </tr>\n",
       "    <tr>\n",
       "      <th>std</th>\n",
       "      <td>NaN</td>\n",
       "      <td>NaN</td>\n",
       "      <td>5.84</td>\n",
       "      <td>144.72</td>\n",
       "    </tr>\n",
       "    <tr>\n",
       "      <th>min</th>\n",
       "      <td>NaN</td>\n",
       "      <td>NaN</td>\n",
       "      <td>0.00</td>\n",
       "      <td>1000.00</td>\n",
       "    </tr>\n",
       "    <tr>\n",
       "      <th>25%</th>\n",
       "      <td>NaN</td>\n",
       "      <td>NaN</td>\n",
       "      <td>1.30</td>\n",
       "      <td>1126.00</td>\n",
       "    </tr>\n",
       "    <tr>\n",
       "      <th>50%</th>\n",
       "      <td>NaN</td>\n",
       "      <td>NaN</td>\n",
       "      <td>6.00</td>\n",
       "      <td>1260.00</td>\n",
       "    </tr>\n",
       "    <tr>\n",
       "      <th>75%</th>\n",
       "      <td>NaN</td>\n",
       "      <td>NaN</td>\n",
       "      <td>10.70</td>\n",
       "      <td>1379.00</td>\n",
       "    </tr>\n",
       "    <tr>\n",
       "      <th>max</th>\n",
       "      <td>NaN</td>\n",
       "      <td>NaN</td>\n",
       "      <td>38.00</td>\n",
       "      <td>1499.00</td>\n",
       "    </tr>\n",
       "  </tbody>\n",
       "</table>\n",
       "</div>"
      ],
      "text/plain": [
       "              id   call_date   duration    user_id\n",
       "count     202607      202607  202607.00  202607.00\n",
       "unique    202607         365        NaN        NaN\n",
       "top     1068_299  2018-12-31        NaN        NaN\n",
       "freq           1        1435        NaN        NaN\n",
       "mean         NaN         NaN       6.76    1253.94\n",
       "std          NaN         NaN       5.84     144.72\n",
       "min          NaN         NaN       0.00    1000.00\n",
       "25%          NaN         NaN       1.30    1126.00\n",
       "50%          NaN         NaN       6.00    1260.00\n",
       "75%          NaN         NaN      10.70    1379.00\n",
       "max          NaN         NaN      38.00    1499.00"
      ]
     },
     "metadata": {},
     "output_type": "display_data"
    },
    {
     "name": "stdout",
     "output_type": "stream",
     "text": [
      "Применяем метод .duplicated\n"
     ]
    },
    {
     "data": {
      "text/plain": [
       "0"
      ]
     },
     "metadata": {},
     "output_type": "display_data"
    },
    {
     "name": "stdout",
     "output_type": "stream",
     "text": [
      "_____________________\n",
      "Данные по таблице: internet\n",
      "_____________________\n",
      "\n",
      "Применяем метод .sample\n"
     ]
    },
    {
     "data": {
      "text/html": [
       "<div>\n",
       "<style scoped>\n",
       "    .dataframe tbody tr th:only-of-type {\n",
       "        vertical-align: middle;\n",
       "    }\n",
       "\n",
       "    .dataframe tbody tr th {\n",
       "        vertical-align: top;\n",
       "    }\n",
       "\n",
       "    .dataframe thead th {\n",
       "        text-align: right;\n",
       "    }\n",
       "</style>\n",
       "<table border=\"1\" class=\"dataframe\">\n",
       "  <thead>\n",
       "    <tr style=\"text-align: right;\">\n",
       "      <th></th>\n",
       "      <th>id</th>\n",
       "      <th>mb_used</th>\n",
       "      <th>session_date</th>\n",
       "      <th>user_id</th>\n",
       "    </tr>\n",
       "  </thead>\n",
       "  <tbody>\n",
       "    <tr>\n",
       "      <th>114021</th>\n",
       "      <td>1385_229</td>\n",
       "      <td>419.98</td>\n",
       "      <td>2018-08-21</td>\n",
       "      <td>1385</td>\n",
       "    </tr>\n",
       "    <tr>\n",
       "      <th>74425</th>\n",
       "      <td>1250_385</td>\n",
       "      <td>214.29</td>\n",
       "      <td>2018-05-30</td>\n",
       "      <td>1250</td>\n",
       "    </tr>\n",
       "  </tbody>\n",
       "</table>\n",
       "</div>"
      ],
      "text/plain": [
       "              id  mb_used session_date  user_id\n",
       "114021  1385_229   419.98   2018-08-21     1385\n",
       "74425   1250_385   214.29   2018-05-30     1250"
      ]
     },
     "metadata": {},
     "output_type": "display_data"
    },
    {
     "name": "stdout",
     "output_type": "stream",
     "text": [
      "Применяем метод .info\n",
      "<class 'pandas.core.frame.DataFrame'>\n",
      "Int64Index: 149396 entries, 0 to 149395\n",
      "Data columns (total 4 columns):\n",
      " #   Column        Non-Null Count   Dtype  \n",
      "---  ------        --------------   -----  \n",
      " 0   id            149396 non-null  object \n",
      " 1   mb_used       149396 non-null  float64\n",
      " 2   session_date  149396 non-null  object \n",
      " 3   user_id       149396 non-null  int64  \n",
      "dtypes: float64(1), int64(1), object(2)\n",
      "memory usage: 5.7+ MB\n"
     ]
    },
    {
     "data": {
      "text/plain": [
       "None"
      ]
     },
     "metadata": {},
     "output_type": "display_data"
    },
    {
     "name": "stdout",
     "output_type": "stream",
     "text": [
      "Применяем метод .describe\n"
     ]
    },
    {
     "data": {
      "text/html": [
       "<div>\n",
       "<style scoped>\n",
       "    .dataframe tbody tr th:only-of-type {\n",
       "        vertical-align: middle;\n",
       "    }\n",
       "\n",
       "    .dataframe tbody tr th {\n",
       "        vertical-align: top;\n",
       "    }\n",
       "\n",
       "    .dataframe thead th {\n",
       "        text-align: right;\n",
       "    }\n",
       "</style>\n",
       "<table border=\"1\" class=\"dataframe\">\n",
       "  <thead>\n",
       "    <tr style=\"text-align: right;\">\n",
       "      <th></th>\n",
       "      <th>id</th>\n",
       "      <th>mb_used</th>\n",
       "      <th>session_date</th>\n",
       "      <th>user_id</th>\n",
       "    </tr>\n",
       "  </thead>\n",
       "  <tbody>\n",
       "    <tr>\n",
       "      <th>count</th>\n",
       "      <td>149396</td>\n",
       "      <td>149396.00</td>\n",
       "      <td>149396</td>\n",
       "      <td>149396.00</td>\n",
       "    </tr>\n",
       "    <tr>\n",
       "      <th>unique</th>\n",
       "      <td>149396</td>\n",
       "      <td>NaN</td>\n",
       "      <td>365</td>\n",
       "      <td>NaN</td>\n",
       "    </tr>\n",
       "    <tr>\n",
       "      <th>top</th>\n",
       "      <td>1282_62</td>\n",
       "      <td>NaN</td>\n",
       "      <td>2018-12-31</td>\n",
       "      <td>NaN</td>\n",
       "    </tr>\n",
       "    <tr>\n",
       "      <th>freq</th>\n",
       "      <td>1</td>\n",
       "      <td>NaN</td>\n",
       "      <td>1057</td>\n",
       "      <td>NaN</td>\n",
       "    </tr>\n",
       "    <tr>\n",
       "      <th>mean</th>\n",
       "      <td>NaN</td>\n",
       "      <td>370.19</td>\n",
       "      <td>NaN</td>\n",
       "      <td>1252.10</td>\n",
       "    </tr>\n",
       "    <tr>\n",
       "      <th>std</th>\n",
       "      <td>NaN</td>\n",
       "      <td>278.30</td>\n",
       "      <td>NaN</td>\n",
       "      <td>144.05</td>\n",
       "    </tr>\n",
       "    <tr>\n",
       "      <th>min</th>\n",
       "      <td>NaN</td>\n",
       "      <td>0.00</td>\n",
       "      <td>NaN</td>\n",
       "      <td>1000.00</td>\n",
       "    </tr>\n",
       "    <tr>\n",
       "      <th>25%</th>\n",
       "      <td>NaN</td>\n",
       "      <td>138.19</td>\n",
       "      <td>NaN</td>\n",
       "      <td>1130.00</td>\n",
       "    </tr>\n",
       "    <tr>\n",
       "      <th>50%</th>\n",
       "      <td>NaN</td>\n",
       "      <td>348.01</td>\n",
       "      <td>NaN</td>\n",
       "      <td>1251.00</td>\n",
       "    </tr>\n",
       "    <tr>\n",
       "      <th>75%</th>\n",
       "      <td>NaN</td>\n",
       "      <td>559.55</td>\n",
       "      <td>NaN</td>\n",
       "      <td>1380.00</td>\n",
       "    </tr>\n",
       "    <tr>\n",
       "      <th>max</th>\n",
       "      <td>NaN</td>\n",
       "      <td>1724.83</td>\n",
       "      <td>NaN</td>\n",
       "      <td>1499.00</td>\n",
       "    </tr>\n",
       "  </tbody>\n",
       "</table>\n",
       "</div>"
      ],
      "text/plain": [
       "             id    mb_used session_date    user_id\n",
       "count    149396  149396.00       149396  149396.00\n",
       "unique   149396        NaN          365        NaN\n",
       "top     1282_62        NaN   2018-12-31        NaN\n",
       "freq          1        NaN         1057        NaN\n",
       "mean        NaN     370.19          NaN    1252.10\n",
       "std         NaN     278.30          NaN     144.05\n",
       "min         NaN       0.00          NaN    1000.00\n",
       "25%         NaN     138.19          NaN    1130.00\n",
       "50%         NaN     348.01          NaN    1251.00\n",
       "75%         NaN     559.55          NaN    1380.00\n",
       "max         NaN    1724.83          NaN    1499.00"
      ]
     },
     "metadata": {},
     "output_type": "display_data"
    },
    {
     "name": "stdout",
     "output_type": "stream",
     "text": [
      "Применяем метод .duplicated\n"
     ]
    },
    {
     "data": {
      "text/plain": [
       "0"
      ]
     },
     "metadata": {},
     "output_type": "display_data"
    },
    {
     "name": "stdout",
     "output_type": "stream",
     "text": [
      "_____________________\n",
      "Данные по таблице: messages\n",
      "_____________________\n",
      "\n",
      "Применяем метод .sample\n"
     ]
    },
    {
     "data": {
      "text/html": [
       "<div>\n",
       "<style scoped>\n",
       "    .dataframe tbody tr th:only-of-type {\n",
       "        vertical-align: middle;\n",
       "    }\n",
       "\n",
       "    .dataframe tbody tr th {\n",
       "        vertical-align: top;\n",
       "    }\n",
       "\n",
       "    .dataframe thead th {\n",
       "        text-align: right;\n",
       "    }\n",
       "</style>\n",
       "<table border=\"1\" class=\"dataframe\">\n",
       "  <thead>\n",
       "    <tr style=\"text-align: right;\">\n",
       "      <th></th>\n",
       "      <th>id</th>\n",
       "      <th>message_date</th>\n",
       "      <th>user_id</th>\n",
       "    </tr>\n",
       "  </thead>\n",
       "  <tbody>\n",
       "    <tr>\n",
       "      <th>1540</th>\n",
       "      <td>1004_594</td>\n",
       "      <td>2018-05-30</td>\n",
       "      <td>1004</td>\n",
       "    </tr>\n",
       "    <tr>\n",
       "      <th>67426</th>\n",
       "      <td>1285_614</td>\n",
       "      <td>2018-08-24</td>\n",
       "      <td>1285</td>\n",
       "    </tr>\n",
       "  </tbody>\n",
       "</table>\n",
       "</div>"
      ],
      "text/plain": [
       "             id message_date  user_id\n",
       "1540   1004_594   2018-05-30     1004\n",
       "67426  1285_614   2018-08-24     1285"
      ]
     },
     "metadata": {},
     "output_type": "display_data"
    },
    {
     "name": "stdout",
     "output_type": "stream",
     "text": [
      "Применяем метод .info\n",
      "<class 'pandas.core.frame.DataFrame'>\n",
      "RangeIndex: 123036 entries, 0 to 123035\n",
      "Data columns (total 3 columns):\n",
      " #   Column        Non-Null Count   Dtype \n",
      "---  ------        --------------   ----- \n",
      " 0   id            123036 non-null  object\n",
      " 1   message_date  123036 non-null  object\n",
      " 2   user_id       123036 non-null  int64 \n",
      "dtypes: int64(1), object(2)\n",
      "memory usage: 2.8+ MB\n"
     ]
    },
    {
     "data": {
      "text/plain": [
       "None"
      ]
     },
     "metadata": {},
     "output_type": "display_data"
    },
    {
     "name": "stdout",
     "output_type": "stream",
     "text": [
      "Применяем метод .describe\n"
     ]
    },
    {
     "data": {
      "text/html": [
       "<div>\n",
       "<style scoped>\n",
       "    .dataframe tbody tr th:only-of-type {\n",
       "        vertical-align: middle;\n",
       "    }\n",
       "\n",
       "    .dataframe tbody tr th {\n",
       "        vertical-align: top;\n",
       "    }\n",
       "\n",
       "    .dataframe thead th {\n",
       "        text-align: right;\n",
       "    }\n",
       "</style>\n",
       "<table border=\"1\" class=\"dataframe\">\n",
       "  <thead>\n",
       "    <tr style=\"text-align: right;\">\n",
       "      <th></th>\n",
       "      <th>id</th>\n",
       "      <th>message_date</th>\n",
       "      <th>user_id</th>\n",
       "    </tr>\n",
       "  </thead>\n",
       "  <tbody>\n",
       "    <tr>\n",
       "      <th>count</th>\n",
       "      <td>123036</td>\n",
       "      <td>123036</td>\n",
       "      <td>123036.00</td>\n",
       "    </tr>\n",
       "    <tr>\n",
       "      <th>unique</th>\n",
       "      <td>123036</td>\n",
       "      <td>364</td>\n",
       "      <td>NaN</td>\n",
       "    </tr>\n",
       "    <tr>\n",
       "      <th>top</th>\n",
       "      <td>1282_62</td>\n",
       "      <td>2018-12-31</td>\n",
       "      <td>NaN</td>\n",
       "    </tr>\n",
       "    <tr>\n",
       "      <th>freq</th>\n",
       "      <td>1</td>\n",
       "      <td>859</td>\n",
       "      <td>NaN</td>\n",
       "    </tr>\n",
       "    <tr>\n",
       "      <th>mean</th>\n",
       "      <td>NaN</td>\n",
       "      <td>NaN</td>\n",
       "      <td>1256.99</td>\n",
       "    </tr>\n",
       "    <tr>\n",
       "      <th>std</th>\n",
       "      <td>NaN</td>\n",
       "      <td>NaN</td>\n",
       "      <td>143.52</td>\n",
       "    </tr>\n",
       "    <tr>\n",
       "      <th>min</th>\n",
       "      <td>NaN</td>\n",
       "      <td>NaN</td>\n",
       "      <td>1000.00</td>\n",
       "    </tr>\n",
       "    <tr>\n",
       "      <th>25%</th>\n",
       "      <td>NaN</td>\n",
       "      <td>NaN</td>\n",
       "      <td>1134.00</td>\n",
       "    </tr>\n",
       "    <tr>\n",
       "      <th>50%</th>\n",
       "      <td>NaN</td>\n",
       "      <td>NaN</td>\n",
       "      <td>1271.00</td>\n",
       "    </tr>\n",
       "    <tr>\n",
       "      <th>75%</th>\n",
       "      <td>NaN</td>\n",
       "      <td>NaN</td>\n",
       "      <td>1381.00</td>\n",
       "    </tr>\n",
       "    <tr>\n",
       "      <th>max</th>\n",
       "      <td>NaN</td>\n",
       "      <td>NaN</td>\n",
       "      <td>1499.00</td>\n",
       "    </tr>\n",
       "  </tbody>\n",
       "</table>\n",
       "</div>"
      ],
      "text/plain": [
       "             id message_date    user_id\n",
       "count    123036       123036  123036.00\n",
       "unique   123036          364        NaN\n",
       "top     1282_62   2018-12-31        NaN\n",
       "freq          1          859        NaN\n",
       "mean        NaN          NaN    1256.99\n",
       "std         NaN          NaN     143.52\n",
       "min         NaN          NaN    1000.00\n",
       "25%         NaN          NaN    1134.00\n",
       "50%         NaN          NaN    1271.00\n",
       "75%         NaN          NaN    1381.00\n",
       "max         NaN          NaN    1499.00"
      ]
     },
     "metadata": {},
     "output_type": "display_data"
    },
    {
     "name": "stdout",
     "output_type": "stream",
     "text": [
      "Применяем метод .duplicated\n"
     ]
    },
    {
     "data": {
      "text/plain": [
       "0"
      ]
     },
     "metadata": {},
     "output_type": "display_data"
    },
    {
     "name": "stdout",
     "output_type": "stream",
     "text": [
      "_____________________\n",
      "Данные по таблице: tariffs\n",
      "_____________________\n",
      "\n",
      "Применяем метод .sample\n"
     ]
    },
    {
     "data": {
      "text/html": [
       "<div>\n",
       "<style scoped>\n",
       "    .dataframe tbody tr th:only-of-type {\n",
       "        vertical-align: middle;\n",
       "    }\n",
       "\n",
       "    .dataframe tbody tr th {\n",
       "        vertical-align: top;\n",
       "    }\n",
       "\n",
       "    .dataframe thead th {\n",
       "        text-align: right;\n",
       "    }\n",
       "</style>\n",
       "<table border=\"1\" class=\"dataframe\">\n",
       "  <thead>\n",
       "    <tr style=\"text-align: right;\">\n",
       "      <th></th>\n",
       "      <th>messages_included</th>\n",
       "      <th>mb_per_month_included</th>\n",
       "      <th>minutes_included</th>\n",
       "      <th>rub_monthly_fee</th>\n",
       "      <th>rub_per_gb</th>\n",
       "      <th>rub_per_message</th>\n",
       "      <th>rub_per_minute</th>\n",
       "      <th>tariff_name</th>\n",
       "    </tr>\n",
       "  </thead>\n",
       "  <tbody>\n",
       "    <tr>\n",
       "      <th>0</th>\n",
       "      <td>50</td>\n",
       "      <td>15360</td>\n",
       "      <td>500</td>\n",
       "      <td>550</td>\n",
       "      <td>200</td>\n",
       "      <td>3</td>\n",
       "      <td>3</td>\n",
       "      <td>smart</td>\n",
       "    </tr>\n",
       "    <tr>\n",
       "      <th>1</th>\n",
       "      <td>1000</td>\n",
       "      <td>30720</td>\n",
       "      <td>3000</td>\n",
       "      <td>1950</td>\n",
       "      <td>150</td>\n",
       "      <td>1</td>\n",
       "      <td>1</td>\n",
       "      <td>ultra</td>\n",
       "    </tr>\n",
       "  </tbody>\n",
       "</table>\n",
       "</div>"
      ],
      "text/plain": [
       "   messages_included  mb_per_month_included  minutes_included  \\\n",
       "0                 50                  15360               500   \n",
       "1               1000                  30720              3000   \n",
       "\n",
       "   rub_monthly_fee  rub_per_gb  rub_per_message  rub_per_minute tariff_name  \n",
       "0              550         200                3               3       smart  \n",
       "1             1950         150                1               1       ultra  "
      ]
     },
     "metadata": {},
     "output_type": "display_data"
    },
    {
     "name": "stdout",
     "output_type": "stream",
     "text": [
      "Применяем метод .info\n",
      "<class 'pandas.core.frame.DataFrame'>\n",
      "RangeIndex: 2 entries, 0 to 1\n",
      "Data columns (total 8 columns):\n",
      " #   Column                 Non-Null Count  Dtype \n",
      "---  ------                 --------------  ----- \n",
      " 0   messages_included      2 non-null      int64 \n",
      " 1   mb_per_month_included  2 non-null      int64 \n",
      " 2   minutes_included       2 non-null      int64 \n",
      " 3   rub_monthly_fee        2 non-null      int64 \n",
      " 4   rub_per_gb             2 non-null      int64 \n",
      " 5   rub_per_message        2 non-null      int64 \n",
      " 6   rub_per_minute         2 non-null      int64 \n",
      " 7   tariff_name            2 non-null      object\n",
      "dtypes: int64(7), object(1)\n",
      "memory usage: 256.0+ bytes\n"
     ]
    },
    {
     "data": {
      "text/plain": [
       "None"
      ]
     },
     "metadata": {},
     "output_type": "display_data"
    },
    {
     "name": "stdout",
     "output_type": "stream",
     "text": [
      "Применяем метод .describe\n"
     ]
    },
    {
     "data": {
      "text/html": [
       "<div>\n",
       "<style scoped>\n",
       "    .dataframe tbody tr th:only-of-type {\n",
       "        vertical-align: middle;\n",
       "    }\n",
       "\n",
       "    .dataframe tbody tr th {\n",
       "        vertical-align: top;\n",
       "    }\n",
       "\n",
       "    .dataframe thead th {\n",
       "        text-align: right;\n",
       "    }\n",
       "</style>\n",
       "<table border=\"1\" class=\"dataframe\">\n",
       "  <thead>\n",
       "    <tr style=\"text-align: right;\">\n",
       "      <th></th>\n",
       "      <th>messages_included</th>\n",
       "      <th>mb_per_month_included</th>\n",
       "      <th>minutes_included</th>\n",
       "      <th>rub_monthly_fee</th>\n",
       "      <th>rub_per_gb</th>\n",
       "      <th>rub_per_message</th>\n",
       "      <th>rub_per_minute</th>\n",
       "      <th>tariff_name</th>\n",
       "    </tr>\n",
       "  </thead>\n",
       "  <tbody>\n",
       "    <tr>\n",
       "      <th>count</th>\n",
       "      <td>2.00</td>\n",
       "      <td>2.00</td>\n",
       "      <td>2.00</td>\n",
       "      <td>2.00</td>\n",
       "      <td>2.00</td>\n",
       "      <td>2.00</td>\n",
       "      <td>2.00</td>\n",
       "      <td>2</td>\n",
       "    </tr>\n",
       "    <tr>\n",
       "      <th>unique</th>\n",
       "      <td>NaN</td>\n",
       "      <td>NaN</td>\n",
       "      <td>NaN</td>\n",
       "      <td>NaN</td>\n",
       "      <td>NaN</td>\n",
       "      <td>NaN</td>\n",
       "      <td>NaN</td>\n",
       "      <td>2</td>\n",
       "    </tr>\n",
       "    <tr>\n",
       "      <th>top</th>\n",
       "      <td>NaN</td>\n",
       "      <td>NaN</td>\n",
       "      <td>NaN</td>\n",
       "      <td>NaN</td>\n",
       "      <td>NaN</td>\n",
       "      <td>NaN</td>\n",
       "      <td>NaN</td>\n",
       "      <td>ultra</td>\n",
       "    </tr>\n",
       "    <tr>\n",
       "      <th>freq</th>\n",
       "      <td>NaN</td>\n",
       "      <td>NaN</td>\n",
       "      <td>NaN</td>\n",
       "      <td>NaN</td>\n",
       "      <td>NaN</td>\n",
       "      <td>NaN</td>\n",
       "      <td>NaN</td>\n",
       "      <td>1</td>\n",
       "    </tr>\n",
       "    <tr>\n",
       "      <th>mean</th>\n",
       "      <td>525.00</td>\n",
       "      <td>23040.00</td>\n",
       "      <td>1750.00</td>\n",
       "      <td>1250.00</td>\n",
       "      <td>175.00</td>\n",
       "      <td>2.00</td>\n",
       "      <td>2.00</td>\n",
       "      <td>NaN</td>\n",
       "    </tr>\n",
       "    <tr>\n",
       "      <th>std</th>\n",
       "      <td>671.75</td>\n",
       "      <td>10861.16</td>\n",
       "      <td>1767.77</td>\n",
       "      <td>989.95</td>\n",
       "      <td>35.36</td>\n",
       "      <td>1.41</td>\n",
       "      <td>1.41</td>\n",
       "      <td>NaN</td>\n",
       "    </tr>\n",
       "    <tr>\n",
       "      <th>min</th>\n",
       "      <td>50.00</td>\n",
       "      <td>15360.00</td>\n",
       "      <td>500.00</td>\n",
       "      <td>550.00</td>\n",
       "      <td>150.00</td>\n",
       "      <td>1.00</td>\n",
       "      <td>1.00</td>\n",
       "      <td>NaN</td>\n",
       "    </tr>\n",
       "    <tr>\n",
       "      <th>25%</th>\n",
       "      <td>287.50</td>\n",
       "      <td>19200.00</td>\n",
       "      <td>1125.00</td>\n",
       "      <td>900.00</td>\n",
       "      <td>162.50</td>\n",
       "      <td>1.50</td>\n",
       "      <td>1.50</td>\n",
       "      <td>NaN</td>\n",
       "    </tr>\n",
       "    <tr>\n",
       "      <th>50%</th>\n",
       "      <td>525.00</td>\n",
       "      <td>23040.00</td>\n",
       "      <td>1750.00</td>\n",
       "      <td>1250.00</td>\n",
       "      <td>175.00</td>\n",
       "      <td>2.00</td>\n",
       "      <td>2.00</td>\n",
       "      <td>NaN</td>\n",
       "    </tr>\n",
       "    <tr>\n",
       "      <th>75%</th>\n",
       "      <td>762.50</td>\n",
       "      <td>26880.00</td>\n",
       "      <td>2375.00</td>\n",
       "      <td>1600.00</td>\n",
       "      <td>187.50</td>\n",
       "      <td>2.50</td>\n",
       "      <td>2.50</td>\n",
       "      <td>NaN</td>\n",
       "    </tr>\n",
       "    <tr>\n",
       "      <th>max</th>\n",
       "      <td>1000.00</td>\n",
       "      <td>30720.00</td>\n",
       "      <td>3000.00</td>\n",
       "      <td>1950.00</td>\n",
       "      <td>200.00</td>\n",
       "      <td>3.00</td>\n",
       "      <td>3.00</td>\n",
       "      <td>NaN</td>\n",
       "    </tr>\n",
       "  </tbody>\n",
       "</table>\n",
       "</div>"
      ],
      "text/plain": [
       "        messages_included  mb_per_month_included  minutes_included  \\\n",
       "count                2.00                   2.00              2.00   \n",
       "unique                NaN                    NaN               NaN   \n",
       "top                   NaN                    NaN               NaN   \n",
       "freq                  NaN                    NaN               NaN   \n",
       "mean               525.00               23040.00           1750.00   \n",
       "std                671.75               10861.16           1767.77   \n",
       "min                 50.00               15360.00            500.00   \n",
       "25%                287.50               19200.00           1125.00   \n",
       "50%                525.00               23040.00           1750.00   \n",
       "75%                762.50               26880.00           2375.00   \n",
       "max               1000.00               30720.00           3000.00   \n",
       "\n",
       "        rub_monthly_fee  rub_per_gb  rub_per_message  rub_per_minute  \\\n",
       "count              2.00        2.00             2.00            2.00   \n",
       "unique              NaN         NaN              NaN             NaN   \n",
       "top                 NaN         NaN              NaN             NaN   \n",
       "freq                NaN         NaN              NaN             NaN   \n",
       "mean            1250.00      175.00             2.00            2.00   \n",
       "std              989.95       35.36             1.41            1.41   \n",
       "min              550.00      150.00             1.00            1.00   \n",
       "25%              900.00      162.50             1.50            1.50   \n",
       "50%             1250.00      175.00             2.00            2.00   \n",
       "75%             1600.00      187.50             2.50            2.50   \n",
       "max             1950.00      200.00             3.00            3.00   \n",
       "\n",
       "       tariff_name  \n",
       "count            2  \n",
       "unique           2  \n",
       "top          ultra  \n",
       "freq             1  \n",
       "mean           NaN  \n",
       "std            NaN  \n",
       "min            NaN  \n",
       "25%            NaN  \n",
       "50%            NaN  \n",
       "75%            NaN  \n",
       "max            NaN  "
      ]
     },
     "metadata": {},
     "output_type": "display_data"
    },
    {
     "name": "stdout",
     "output_type": "stream",
     "text": [
      "Применяем метод .duplicated\n"
     ]
    },
    {
     "data": {
      "text/plain": [
       "0"
      ]
     },
     "metadata": {},
     "output_type": "display_data"
    },
    {
     "name": "stdout",
     "output_type": "stream",
     "text": [
      "_____________________\n",
      "Данные по таблице: users\n",
      "_____________________\n",
      "\n",
      "Применяем метод .sample\n"
     ]
    },
    {
     "data": {
      "text/html": [
       "<div>\n",
       "<style scoped>\n",
       "    .dataframe tbody tr th:only-of-type {\n",
       "        vertical-align: middle;\n",
       "    }\n",
       "\n",
       "    .dataframe tbody tr th {\n",
       "        vertical-align: top;\n",
       "    }\n",
       "\n",
       "    .dataframe thead th {\n",
       "        text-align: right;\n",
       "    }\n",
       "</style>\n",
       "<table border=\"1\" class=\"dataframe\">\n",
       "  <thead>\n",
       "    <tr style=\"text-align: right;\">\n",
       "      <th></th>\n",
       "      <th>user_id</th>\n",
       "      <th>age</th>\n",
       "      <th>churn_date</th>\n",
       "      <th>city</th>\n",
       "      <th>first_name</th>\n",
       "      <th>last_name</th>\n",
       "      <th>reg_date</th>\n",
       "      <th>tariff</th>\n",
       "    </tr>\n",
       "  </thead>\n",
       "  <tbody>\n",
       "    <tr>\n",
       "      <th>242</th>\n",
       "      <td>1242</td>\n",
       "      <td>39</td>\n",
       "      <td>2018-12-21</td>\n",
       "      <td>Хабаровск</td>\n",
       "      <td>Радим</td>\n",
       "      <td>Федосеев</td>\n",
       "      <td>2018-11-18</td>\n",
       "      <td>smart</td>\n",
       "    </tr>\n",
       "    <tr>\n",
       "      <th>78</th>\n",
       "      <td>1078</td>\n",
       "      <td>70</td>\n",
       "      <td>NaN</td>\n",
       "      <td>Волгоград</td>\n",
       "      <td>Харитон</td>\n",
       "      <td>Литвинов</td>\n",
       "      <td>2018-06-19</td>\n",
       "      <td>ultra</td>\n",
       "    </tr>\n",
       "  </tbody>\n",
       "</table>\n",
       "</div>"
      ],
      "text/plain": [
       "     user_id  age  churn_date       city first_name last_name    reg_date  \\\n",
       "242     1242   39  2018-12-21  Хабаровск      Радим  Федосеев  2018-11-18   \n",
       "78      1078   70         NaN  Волгоград    Харитон  Литвинов  2018-06-19   \n",
       "\n",
       "    tariff  \n",
       "242  smart  \n",
       "78   ultra  "
      ]
     },
     "metadata": {},
     "output_type": "display_data"
    },
    {
     "name": "stdout",
     "output_type": "stream",
     "text": [
      "Применяем метод .info\n",
      "<class 'pandas.core.frame.DataFrame'>\n",
      "RangeIndex: 500 entries, 0 to 499\n",
      "Data columns (total 8 columns):\n",
      " #   Column      Non-Null Count  Dtype \n",
      "---  ------      --------------  ----- \n",
      " 0   user_id     500 non-null    int64 \n",
      " 1   age         500 non-null    int64 \n",
      " 2   churn_date  38 non-null     object\n",
      " 3   city        500 non-null    object\n",
      " 4   first_name  500 non-null    object\n",
      " 5   last_name   500 non-null    object\n",
      " 6   reg_date    500 non-null    object\n",
      " 7   tariff      500 non-null    object\n",
      "dtypes: int64(2), object(6)\n",
      "memory usage: 31.4+ KB\n"
     ]
    },
    {
     "data": {
      "text/plain": [
       "None"
      ]
     },
     "metadata": {},
     "output_type": "display_data"
    },
    {
     "name": "stdout",
     "output_type": "stream",
     "text": [
      "Применяем метод .describe\n"
     ]
    },
    {
     "data": {
      "text/html": [
       "<div>\n",
       "<style scoped>\n",
       "    .dataframe tbody tr th:only-of-type {\n",
       "        vertical-align: middle;\n",
       "    }\n",
       "\n",
       "    .dataframe tbody tr th {\n",
       "        vertical-align: top;\n",
       "    }\n",
       "\n",
       "    .dataframe thead th {\n",
       "        text-align: right;\n",
       "    }\n",
       "</style>\n",
       "<table border=\"1\" class=\"dataframe\">\n",
       "  <thead>\n",
       "    <tr style=\"text-align: right;\">\n",
       "      <th></th>\n",
       "      <th>user_id</th>\n",
       "      <th>age</th>\n",
       "      <th>churn_date</th>\n",
       "      <th>city</th>\n",
       "      <th>first_name</th>\n",
       "      <th>last_name</th>\n",
       "      <th>reg_date</th>\n",
       "      <th>tariff</th>\n",
       "    </tr>\n",
       "  </thead>\n",
       "  <tbody>\n",
       "    <tr>\n",
       "      <th>count</th>\n",
       "      <td>500.00</td>\n",
       "      <td>500.00</td>\n",
       "      <td>38</td>\n",
       "      <td>500</td>\n",
       "      <td>500</td>\n",
       "      <td>500</td>\n",
       "      <td>500</td>\n",
       "      <td>500</td>\n",
       "    </tr>\n",
       "    <tr>\n",
       "      <th>unique</th>\n",
       "      <td>NaN</td>\n",
       "      <td>NaN</td>\n",
       "      <td>33</td>\n",
       "      <td>76</td>\n",
       "      <td>246</td>\n",
       "      <td>419</td>\n",
       "      <td>270</td>\n",
       "      <td>2</td>\n",
       "    </tr>\n",
       "    <tr>\n",
       "      <th>top</th>\n",
       "      <td>NaN</td>\n",
       "      <td>NaN</td>\n",
       "      <td>2018-12-03</td>\n",
       "      <td>Москва</td>\n",
       "      <td>Радим</td>\n",
       "      <td>Андреенко</td>\n",
       "      <td>2018-05-28</td>\n",
       "      <td>smart</td>\n",
       "    </tr>\n",
       "    <tr>\n",
       "      <th>freq</th>\n",
       "      <td>NaN</td>\n",
       "      <td>NaN</td>\n",
       "      <td>2</td>\n",
       "      <td>99</td>\n",
       "      <td>6</td>\n",
       "      <td>5</td>\n",
       "      <td>8</td>\n",
       "      <td>351</td>\n",
       "    </tr>\n",
       "    <tr>\n",
       "      <th>mean</th>\n",
       "      <td>1249.50</td>\n",
       "      <td>46.59</td>\n",
       "      <td>NaN</td>\n",
       "      <td>NaN</td>\n",
       "      <td>NaN</td>\n",
       "      <td>NaN</td>\n",
       "      <td>NaN</td>\n",
       "      <td>NaN</td>\n",
       "    </tr>\n",
       "    <tr>\n",
       "      <th>std</th>\n",
       "      <td>144.48</td>\n",
       "      <td>16.67</td>\n",
       "      <td>NaN</td>\n",
       "      <td>NaN</td>\n",
       "      <td>NaN</td>\n",
       "      <td>NaN</td>\n",
       "      <td>NaN</td>\n",
       "      <td>NaN</td>\n",
       "    </tr>\n",
       "    <tr>\n",
       "      <th>min</th>\n",
       "      <td>1000.00</td>\n",
       "      <td>18.00</td>\n",
       "      <td>NaN</td>\n",
       "      <td>NaN</td>\n",
       "      <td>NaN</td>\n",
       "      <td>NaN</td>\n",
       "      <td>NaN</td>\n",
       "      <td>NaN</td>\n",
       "    </tr>\n",
       "    <tr>\n",
       "      <th>25%</th>\n",
       "      <td>1124.75</td>\n",
       "      <td>32.00</td>\n",
       "      <td>NaN</td>\n",
       "      <td>NaN</td>\n",
       "      <td>NaN</td>\n",
       "      <td>NaN</td>\n",
       "      <td>NaN</td>\n",
       "      <td>NaN</td>\n",
       "    </tr>\n",
       "    <tr>\n",
       "      <th>50%</th>\n",
       "      <td>1249.50</td>\n",
       "      <td>46.00</td>\n",
       "      <td>NaN</td>\n",
       "      <td>NaN</td>\n",
       "      <td>NaN</td>\n",
       "      <td>NaN</td>\n",
       "      <td>NaN</td>\n",
       "      <td>NaN</td>\n",
       "    </tr>\n",
       "    <tr>\n",
       "      <th>75%</th>\n",
       "      <td>1374.25</td>\n",
       "      <td>62.00</td>\n",
       "      <td>NaN</td>\n",
       "      <td>NaN</td>\n",
       "      <td>NaN</td>\n",
       "      <td>NaN</td>\n",
       "      <td>NaN</td>\n",
       "      <td>NaN</td>\n",
       "    </tr>\n",
       "    <tr>\n",
       "      <th>max</th>\n",
       "      <td>1499.00</td>\n",
       "      <td>75.00</td>\n",
       "      <td>NaN</td>\n",
       "      <td>NaN</td>\n",
       "      <td>NaN</td>\n",
       "      <td>NaN</td>\n",
       "      <td>NaN</td>\n",
       "      <td>NaN</td>\n",
       "    </tr>\n",
       "  </tbody>\n",
       "</table>\n",
       "</div>"
      ],
      "text/plain": [
       "        user_id     age  churn_date    city first_name  last_name    reg_date  \\\n",
       "count    500.00  500.00          38     500        500        500         500   \n",
       "unique      NaN     NaN          33      76        246        419         270   \n",
       "top         NaN     NaN  2018-12-03  Москва      Радим  Андреенко  2018-05-28   \n",
       "freq        NaN     NaN           2      99          6          5           8   \n",
       "mean    1249.50   46.59         NaN     NaN        NaN        NaN         NaN   \n",
       "std      144.48   16.67         NaN     NaN        NaN        NaN         NaN   \n",
       "min     1000.00   18.00         NaN     NaN        NaN        NaN         NaN   \n",
       "25%     1124.75   32.00         NaN     NaN        NaN        NaN         NaN   \n",
       "50%     1249.50   46.00         NaN     NaN        NaN        NaN         NaN   \n",
       "75%     1374.25   62.00         NaN     NaN        NaN        NaN         NaN   \n",
       "max     1499.00   75.00         NaN     NaN        NaN        NaN         NaN   \n",
       "\n",
       "       tariff  \n",
       "count     500  \n",
       "unique      2  \n",
       "top     smart  \n",
       "freq      351  \n",
       "mean      NaN  \n",
       "std       NaN  \n",
       "min       NaN  \n",
       "25%       NaN  \n",
       "50%       NaN  \n",
       "75%       NaN  \n",
       "max       NaN  "
      ]
     },
     "metadata": {},
     "output_type": "display_data"
    },
    {
     "name": "stdout",
     "output_type": "stream",
     "text": [
      "Применяем метод .duplicated\n"
     ]
    },
    {
     "data": {
      "text/plain": [
       "0"
      ]
     },
     "metadata": {},
     "output_type": "display_data"
    }
   ],
   "source": [
    "df_list = {'calls':calls,'internet':internet,'messages':messages,'tariffs':tariffs,'users':users}\n",
    "for df in df_list:\n",
    "    print('_____________________')\n",
    "    print('Данные по таблице: {}'.format(df))\n",
    "    print('_____________________')\n",
    "    print()\n",
    "    print('Применяем метод .sample')\n",
    "    display(df_list[df].sample(2))\n",
    "    print('Применяем метод .info')\n",
    "    display(df_list[df].info())\n",
    "    print('Применяем метод .describe')\n",
    "    display(df_list[df].describe(include= 'all'))\n",
    "    print('Применяем метод .duplicated')\n",
    "    display(df_list[df].duplicated().sum())\n",
    "    "
   ]
  },
  {
   "cell_type": "code",
   "execution_count": 4,
   "id": "a2ac330b",
   "metadata": {},
   "outputs": [
    {
     "data": {
      "text/plain": [
       "array(['Краснодар', 'Москва', 'Стерлитамак', 'Новокузнецк',\n",
       "       'Набережные Челны', 'Ульяновск', 'Челябинск', 'Пермь', 'Тюмень',\n",
       "       'Самара', 'Санкт-Петербург', 'Иваново', 'Чебоксары', 'Омск', 'Уфа',\n",
       "       'Томск', 'Чита', 'Мурманск', 'Петрозаводск', 'Тверь',\n",
       "       'Екатеринбург', 'Махачкала', 'Вологда', 'Череповец', 'Ярославль',\n",
       "       'Сочи', 'Хабаровск', 'Ставрополь', 'Рязань', 'Улан-Удэ', 'Тула',\n",
       "       'Саратов', 'Ростов-на-Дону', 'Казань', 'Иркутск', 'Курск',\n",
       "       'Калуга', 'Якутск', 'Астрахань', 'Химки', 'Владикавказ',\n",
       "       'Волгоград', 'Саранск', 'Ижевск', 'Новосибирск', 'Брянск',\n",
       "       'Тольятти', 'Нижний Тагил', 'Орёл', 'Белгород', 'Воронеж',\n",
       "       'Волжский', 'Курган', 'Барнаул', 'Красноярск', 'Архангельск',\n",
       "       'Липецк', 'Кемерово', 'Киров', 'Сургут', 'Пенза', 'Магнитогорск',\n",
       "       'Нижний Новгород', 'Кострома', 'Владивосток', 'Тамбов', 'Балашиха',\n",
       "       'Севастополь', 'Калининград', 'Оренбург', 'Смоленск',\n",
       "       'Нижневартовск', 'Владимир', 'Новороссийск', 'Грозный', 'Подольск'],\n",
       "      dtype=object)"
      ]
     },
     "execution_count": 4,
     "metadata": {},
     "output_type": "execute_result"
    }
   ],
   "source": [
    "users['city'].unique()"
   ]
  },
  {
   "cell_type": "markdown",
   "id": "e521fbba",
   "metadata": {},
   "source": [
    "## Вывод\n",
    "\n",
    "* `Calls`\n",
    "Как было отмечено в задании, есть нулевые значения - пропущенный звонок. В следующем шаге необходимо избавить от этих записей, так как они будут размывать среднее значение длительности разговора, в то время как разговора и не было. Пропусков, в классичеком понимании - нет. Любопытное, но в тоже время очевидное наблюдение из анализа таблицы - в какой праздник люди звонят чаще всего? В Новый Год\n",
    "\n",
    "* `Internet`\n",
    "Присутствовал лишний столбец (Unnamed: 0), который дублирует индекс записи, нужно будет удалить на этапе чтения csv файла. Пропусков нет, но как и в случае со звонками есть сессии, в которых не было потрачено ни одного мб. Раз небыло потрачено, значит не было сессии. Такие сессии удалим, чтобы они не размывали среднеею\n",
    "\n",
    "* `Messages`\n",
    "Дублей и пропусков нет\n",
    "\n",
    "* `Tarrifs`\n",
    "В таблице указана стоимость за траты сверх тарифа, и тут вспоминается важный момент касательно типов данных. Нужно будет округлить количество потраченных минут и мб в calls & internet. Так как наша компания считает, например, 0.1 мб за 1 мб, а 30 сек. разговора за минуту.\n",
    "\n",
    "* `Users`\n",
    "Как и было заявлено в описании, пропуск есть в churn_date, трогать их не будем. Раз не ушел, значит не ушел) Клиенты из нашей выборки проживают в 76 городах, большая часть в Москве и у большинства тариф smart. Дублей нет. Кроме того, наблюдаем практически идентичное значение средней и медианы по возрасту.\n",
    "\n",
    "Для каждой таблицы с данным по расходу минут/смс/трафика нужно будет добавить столбец с месяцем расхода. Для пользователей месяц регистрации и месяц ухода.\n",
    "\n",
    "Отдельно отмечу, что максимальный и минимальный user_id по всем таблицам совпадает, следовательно считаю что у данные в таблицах содержат данные по интересующим нас клиентам."
   ]
  },
  {
   "cell_type": "markdown",
   "id": "8d9c5b2a",
   "metadata": {},
   "source": [
    "# Шаг 2. Подготовка данных к анализу."
   ]
  },
  {
   "cell_type": "markdown",
   "id": "591fcdb1",
   "metadata": {},
   "source": [
    "`Calls`\n",
    "\n",
    "Начнем с удаления нулевой длительности разговора, округления этого параметра, сменой типа и добавление столбца с месяцем."
   ]
  },
  {
   "cell_type": "code",
   "execution_count": 5,
   "id": "6f8028d3",
   "metadata": {},
   "outputs": [
    {
     "data": {
      "text/html": [
       "<div>\n",
       "<style scoped>\n",
       "    .dataframe tbody tr th:only-of-type {\n",
       "        vertical-align: middle;\n",
       "    }\n",
       "\n",
       "    .dataframe tbody tr th {\n",
       "        vertical-align: top;\n",
       "    }\n",
       "\n",
       "    .dataframe thead th {\n",
       "        text-align: right;\n",
       "    }\n",
       "</style>\n",
       "<table border=\"1\" class=\"dataframe\">\n",
       "  <thead>\n",
       "    <tr style=\"text-align: right;\">\n",
       "      <th></th>\n",
       "      <th>duration</th>\n",
       "      <th>user_id</th>\n",
       "    </tr>\n",
       "  </thead>\n",
       "  <tbody>\n",
       "    <tr>\n",
       "      <th>count</th>\n",
       "      <td>162994.00</td>\n",
       "      <td>162994.00</td>\n",
       "    </tr>\n",
       "    <tr>\n",
       "      <th>mean</th>\n",
       "      <td>8.40</td>\n",
       "      <td>1254.15</td>\n",
       "    </tr>\n",
       "    <tr>\n",
       "      <th>std</th>\n",
       "      <td>5.35</td>\n",
       "      <td>144.75</td>\n",
       "    </tr>\n",
       "    <tr>\n",
       "      <th>min</th>\n",
       "      <td>0.01</td>\n",
       "      <td>1000.00</td>\n",
       "    </tr>\n",
       "    <tr>\n",
       "      <th>25%</th>\n",
       "      <td>4.17</td>\n",
       "      <td>1126.00</td>\n",
       "    </tr>\n",
       "    <tr>\n",
       "      <th>50%</th>\n",
       "      <td>7.74</td>\n",
       "      <td>1261.00</td>\n",
       "    </tr>\n",
       "    <tr>\n",
       "      <th>75%</th>\n",
       "      <td>11.85</td>\n",
       "      <td>1379.00</td>\n",
       "    </tr>\n",
       "    <tr>\n",
       "      <th>max</th>\n",
       "      <td>38.00</td>\n",
       "      <td>1499.00</td>\n",
       "    </tr>\n",
       "  </tbody>\n",
       "</table>\n",
       "</div>"
      ],
      "text/plain": [
       "        duration    user_id\n",
       "count  162994.00  162994.00\n",
       "mean        8.40    1254.15\n",
       "std         5.35     144.75\n",
       "min         0.01    1000.00\n",
       "25%         4.17    1126.00\n",
       "50%         7.74    1261.00\n",
       "75%        11.85    1379.00\n",
       "max        38.00    1499.00"
      ]
     },
     "execution_count": 5,
     "metadata": {},
     "output_type": "execute_result"
    }
   ],
   "source": [
    "calls = calls.query('duration != 0')\n",
    "calls.describe()"
   ]
  },
  {
   "cell_type": "code",
   "execution_count": 6,
   "id": "553ec513",
   "metadata": {},
   "outputs": [
    {
     "data": {
      "text/html": [
       "<div>\n",
       "<style scoped>\n",
       "    .dataframe tbody tr th:only-of-type {\n",
       "        vertical-align: middle;\n",
       "    }\n",
       "\n",
       "    .dataframe tbody tr th {\n",
       "        vertical-align: top;\n",
       "    }\n",
       "\n",
       "    .dataframe thead th {\n",
       "        text-align: right;\n",
       "    }\n",
       "</style>\n",
       "<table border=\"1\" class=\"dataframe\">\n",
       "  <thead>\n",
       "    <tr style=\"text-align: right;\">\n",
       "      <th></th>\n",
       "      <th>duration</th>\n",
       "      <th>user_id</th>\n",
       "    </tr>\n",
       "  </thead>\n",
       "  <tbody>\n",
       "    <tr>\n",
       "      <th>count</th>\n",
       "      <td>162994.00</td>\n",
       "      <td>162994.00</td>\n",
       "    </tr>\n",
       "    <tr>\n",
       "      <th>mean</th>\n",
       "      <td>8.90</td>\n",
       "      <td>1254.15</td>\n",
       "    </tr>\n",
       "    <tr>\n",
       "      <th>std</th>\n",
       "      <td>5.35</td>\n",
       "      <td>144.75</td>\n",
       "    </tr>\n",
       "    <tr>\n",
       "      <th>min</th>\n",
       "      <td>1.00</td>\n",
       "      <td>1000.00</td>\n",
       "    </tr>\n",
       "    <tr>\n",
       "      <th>25%</th>\n",
       "      <td>5.00</td>\n",
       "      <td>1126.00</td>\n",
       "    </tr>\n",
       "    <tr>\n",
       "      <th>50%</th>\n",
       "      <td>8.00</td>\n",
       "      <td>1261.00</td>\n",
       "    </tr>\n",
       "    <tr>\n",
       "      <th>75%</th>\n",
       "      <td>12.00</td>\n",
       "      <td>1379.00</td>\n",
       "    </tr>\n",
       "    <tr>\n",
       "      <th>max</th>\n",
       "      <td>38.00</td>\n",
       "      <td>1499.00</td>\n",
       "    </tr>\n",
       "  </tbody>\n",
       "</table>\n",
       "</div>"
      ],
      "text/plain": [
       "        duration    user_id\n",
       "count  162994.00  162994.00\n",
       "mean        8.90    1254.15\n",
       "std         5.35     144.75\n",
       "min         1.00    1000.00\n",
       "25%         5.00    1126.00\n",
       "50%         8.00    1261.00\n",
       "75%        12.00    1379.00\n",
       "max        38.00    1499.00"
      ]
     },
     "execution_count": 6,
     "metadata": {},
     "output_type": "execute_result"
    }
   ],
   "source": [
    "# округлим продолжительность разговора вверх до целого и проверим\n",
    "calls['duration'] = calls['duration'].apply(np.ceil).astype('int64')\n",
    "calls.describe()"
   ]
  },
  {
   "cell_type": "code",
   "execution_count": 7,
   "id": "18eb3233",
   "metadata": {},
   "outputs": [
    {
     "data": {
      "text/html": [
       "<div>\n",
       "<style scoped>\n",
       "    .dataframe tbody tr th:only-of-type {\n",
       "        vertical-align: middle;\n",
       "    }\n",
       "\n",
       "    .dataframe tbody tr th {\n",
       "        vertical-align: top;\n",
       "    }\n",
       "\n",
       "    .dataframe thead th {\n",
       "        text-align: right;\n",
       "    }\n",
       "</style>\n",
       "<table border=\"1\" class=\"dataframe\">\n",
       "  <thead>\n",
       "    <tr style=\"text-align: right;\">\n",
       "      <th></th>\n",
       "      <th>id</th>\n",
       "      <th>call_date</th>\n",
       "      <th>duration</th>\n",
       "      <th>user_id</th>\n",
       "      <th>month</th>\n",
       "    </tr>\n",
       "  </thead>\n",
       "  <tbody>\n",
       "    <tr>\n",
       "      <th>95406</th>\n",
       "      <td>1243_53</td>\n",
       "      <td>2018-10-02</td>\n",
       "      <td>15</td>\n",
       "      <td>1243</td>\n",
       "      <td>10</td>\n",
       "    </tr>\n",
       "    <tr>\n",
       "      <th>52058</th>\n",
       "      <td>1130_346</td>\n",
       "      <td>2018-05-13</td>\n",
       "      <td>10</td>\n",
       "      <td>1130</td>\n",
       "      <td>5</td>\n",
       "    </tr>\n",
       "    <tr>\n",
       "      <th>109964</th>\n",
       "      <td>1282_858</td>\n",
       "      <td>2018-07-09</td>\n",
       "      <td>1</td>\n",
       "      <td>1282</td>\n",
       "      <td>7</td>\n",
       "    </tr>\n",
       "  </tbody>\n",
       "</table>\n",
       "</div>"
      ],
      "text/plain": [
       "              id   call_date  duration  user_id  month\n",
       "95406    1243_53  2018-10-02        15     1243     10\n",
       "52058   1130_346  2018-05-13        10     1130      5\n",
       "109964  1282_858  2018-07-09         1     1282      7"
      ]
     },
     "execution_count": 7,
     "metadata": {},
     "output_type": "execute_result"
    }
   ],
   "source": [
    "# добавляю столбец с месяцем звонка\n",
    "calls['month'] = pd.DatetimeIndex(calls['call_date']).month\n",
    "calls.sample(3)"
   ]
  },
  {
   "cell_type": "markdown",
   "id": "5cd17d97",
   "metadata": {},
   "source": [
    "`Internet`\n",
    "\n"
   ]
  },
  {
   "cell_type": "code",
   "execution_count": 8,
   "id": "b49d77b6",
   "metadata": {},
   "outputs": [
    {
     "data": {
      "text/html": [
       "<div>\n",
       "<style scoped>\n",
       "    .dataframe tbody tr th:only-of-type {\n",
       "        vertical-align: middle;\n",
       "    }\n",
       "\n",
       "    .dataframe tbody tr th {\n",
       "        vertical-align: top;\n",
       "    }\n",
       "\n",
       "    .dataframe thead th {\n",
       "        text-align: right;\n",
       "    }\n",
       "</style>\n",
       "<table border=\"1\" class=\"dataframe\">\n",
       "  <thead>\n",
       "    <tr style=\"text-align: right;\">\n",
       "      <th></th>\n",
       "      <th>id</th>\n",
       "      <th>mb_used</th>\n",
       "      <th>session_date</th>\n",
       "      <th>user_id</th>\n",
       "    </tr>\n",
       "  </thead>\n",
       "  <tbody>\n",
       "  </tbody>\n",
       "</table>\n",
       "</div>"
      ],
      "text/plain": [
       "Empty DataFrame\n",
       "Columns: [id, mb_used, session_date, user_id]\n",
       "Index: []"
      ]
     },
     "execution_count": 8,
     "metadata": {},
     "output_type": "execute_result"
    }
   ],
   "source": [
    "# уберем сессии без траты трафика\n",
    "internet = internet.query('mb_used != 0')\n",
    "internet.query('mb_used == 0')"
   ]
  },
  {
   "cell_type": "code",
   "execution_count": 9,
   "id": "62b68ff1",
   "metadata": {},
   "outputs": [
    {
     "data": {
      "text/html": [
       "<div>\n",
       "<style scoped>\n",
       "    .dataframe tbody tr th:only-of-type {\n",
       "        vertical-align: middle;\n",
       "    }\n",
       "\n",
       "    .dataframe tbody tr th {\n",
       "        vertical-align: top;\n",
       "    }\n",
       "\n",
       "    .dataframe thead th {\n",
       "        text-align: right;\n",
       "    }\n",
       "</style>\n",
       "<table border=\"1\" class=\"dataframe\">\n",
       "  <thead>\n",
       "    <tr style=\"text-align: right;\">\n",
       "      <th></th>\n",
       "      <th>id</th>\n",
       "      <th>mb_used</th>\n",
       "      <th>session_date</th>\n",
       "      <th>user_id</th>\n",
       "      <th>month</th>\n",
       "    </tr>\n",
       "  </thead>\n",
       "  <tbody>\n",
       "    <tr>\n",
       "      <th>147982</th>\n",
       "      <td>1495_184</td>\n",
       "      <td>538.16</td>\n",
       "      <td>2018-10-15</td>\n",
       "      <td>1495</td>\n",
       "      <td>10</td>\n",
       "    </tr>\n",
       "    <tr>\n",
       "      <th>38608</th>\n",
       "      <td>1135_88</td>\n",
       "      <td>118.10</td>\n",
       "      <td>2018-08-20</td>\n",
       "      <td>1135</td>\n",
       "      <td>8</td>\n",
       "    </tr>\n",
       "    <tr>\n",
       "      <th>66586</th>\n",
       "      <td>1227_183</td>\n",
       "      <td>888.32</td>\n",
       "      <td>2018-01-20</td>\n",
       "      <td>1227</td>\n",
       "      <td>1</td>\n",
       "    </tr>\n",
       "  </tbody>\n",
       "</table>\n",
       "</div>"
      ],
      "text/plain": [
       "              id  mb_used session_date  user_id  month\n",
       "147982  1495_184   538.16   2018-10-15     1495     10\n",
       "38608    1135_88   118.10   2018-08-20     1135      8\n",
       "66586   1227_183   888.32   2018-01-20     1227      1"
      ]
     },
     "execution_count": 9,
     "metadata": {},
     "output_type": "execute_result"
    }
   ],
   "source": [
    "# добавим месяц сессии\n",
    "internet['month'] = pd.DatetimeIndex(internet['session_date']).month\n",
    "internet.sample(3)"
   ]
  },
  {
   "cell_type": "markdown",
   "id": "3162be37",
   "metadata": {},
   "source": [
    "`Messages`\n",
    "\n",
    "Добавляю столбец с месяцем отправки смс."
   ]
  },
  {
   "cell_type": "code",
   "execution_count": 10,
   "id": "8f1cb425",
   "metadata": {},
   "outputs": [
    {
     "data": {
      "text/html": [
       "<div>\n",
       "<style scoped>\n",
       "    .dataframe tbody tr th:only-of-type {\n",
       "        vertical-align: middle;\n",
       "    }\n",
       "\n",
       "    .dataframe tbody tr th {\n",
       "        vertical-align: top;\n",
       "    }\n",
       "\n",
       "    .dataframe thead th {\n",
       "        text-align: right;\n",
       "    }\n",
       "</style>\n",
       "<table border=\"1\" class=\"dataframe\">\n",
       "  <thead>\n",
       "    <tr style=\"text-align: right;\">\n",
       "      <th></th>\n",
       "      <th>id</th>\n",
       "      <th>message_date</th>\n",
       "      <th>user_id</th>\n",
       "      <th>month</th>\n",
       "    </tr>\n",
       "  </thead>\n",
       "  <tbody>\n",
       "    <tr>\n",
       "      <th>106510</th>\n",
       "      <td>1431_252</td>\n",
       "      <td>2018-05-29</td>\n",
       "      <td>1431</td>\n",
       "      <td>5</td>\n",
       "    </tr>\n",
       "    <tr>\n",
       "      <th>23165</th>\n",
       "      <td>1096_445</td>\n",
       "      <td>2018-10-20</td>\n",
       "      <td>1096</td>\n",
       "      <td>10</td>\n",
       "    </tr>\n",
       "    <tr>\n",
       "      <th>43596</th>\n",
       "      <td>1188_59</td>\n",
       "      <td>2018-05-07</td>\n",
       "      <td>1188</td>\n",
       "      <td>5</td>\n",
       "    </tr>\n",
       "  </tbody>\n",
       "</table>\n",
       "</div>"
      ],
      "text/plain": [
       "              id message_date  user_id  month\n",
       "106510  1431_252   2018-05-29     1431      5\n",
       "23165   1096_445   2018-10-20     1096     10\n",
       "43596    1188_59   2018-05-07     1188      5"
      ]
     },
     "execution_count": 10,
     "metadata": {},
     "output_type": "execute_result"
    }
   ],
   "source": [
    "messages['month'] = pd.DatetimeIndex(messages['message_date']).month\n",
    "messages.sample(3)"
   ]
  },
  {
   "cell_type": "markdown",
   "id": "a60384fc",
   "metadata": {},
   "source": [
    "`Users`\n",
    "\n",
    "Добавляю столбцы с месяцами подписания и расторжения контракта"
   ]
  },
  {
   "cell_type": "code",
   "execution_count": 11,
   "id": "68a96525",
   "metadata": {},
   "outputs": [
    {
     "data": {
      "text/html": [
       "<div>\n",
       "<style scoped>\n",
       "    .dataframe tbody tr th:only-of-type {\n",
       "        vertical-align: middle;\n",
       "    }\n",
       "\n",
       "    .dataframe tbody tr th {\n",
       "        vertical-align: top;\n",
       "    }\n",
       "\n",
       "    .dataframe thead th {\n",
       "        text-align: right;\n",
       "    }\n",
       "</style>\n",
       "<table border=\"1\" class=\"dataframe\">\n",
       "  <thead>\n",
       "    <tr style=\"text-align: right;\">\n",
       "      <th></th>\n",
       "      <th>user_id</th>\n",
       "      <th>age</th>\n",
       "      <th>churn_date</th>\n",
       "      <th>city</th>\n",
       "      <th>first_name</th>\n",
       "      <th>last_name</th>\n",
       "      <th>reg_date</th>\n",
       "      <th>tariff</th>\n",
       "      <th>churn_month</th>\n",
       "      <th>reg_month</th>\n",
       "    </tr>\n",
       "  </thead>\n",
       "  <tbody>\n",
       "    <tr>\n",
       "      <th>276</th>\n",
       "      <td>1276</td>\n",
       "      <td>30</td>\n",
       "      <td>NaN</td>\n",
       "      <td>Москва</td>\n",
       "      <td>Михаил</td>\n",
       "      <td>Крюков</td>\n",
       "      <td>2018-10-05</td>\n",
       "      <td>ultra</td>\n",
       "      <td>NaN</td>\n",
       "      <td>10</td>\n",
       "    </tr>\n",
       "    <tr>\n",
       "      <th>208</th>\n",
       "      <td>1208</td>\n",
       "      <td>69</td>\n",
       "      <td>NaN</td>\n",
       "      <td>Пермь</td>\n",
       "      <td>Ева</td>\n",
       "      <td>Сахарова</td>\n",
       "      <td>2018-03-24</td>\n",
       "      <td>ultra</td>\n",
       "      <td>NaN</td>\n",
       "      <td>3</td>\n",
       "    </tr>\n",
       "    <tr>\n",
       "      <th>227</th>\n",
       "      <td>1227</td>\n",
       "      <td>66</td>\n",
       "      <td>NaN</td>\n",
       "      <td>Санкт-Петербург</td>\n",
       "      <td>Раиса</td>\n",
       "      <td>Калинина</td>\n",
       "      <td>2018-01-09</td>\n",
       "      <td>smart</td>\n",
       "      <td>NaN</td>\n",
       "      <td>1</td>\n",
       "    </tr>\n",
       "    <tr>\n",
       "      <th>432</th>\n",
       "      <td>1432</td>\n",
       "      <td>48</td>\n",
       "      <td>NaN</td>\n",
       "      <td>Улан-Удэ</td>\n",
       "      <td>Анвар</td>\n",
       "      <td>Кочетков</td>\n",
       "      <td>2018-08-04</td>\n",
       "      <td>smart</td>\n",
       "      <td>NaN</td>\n",
       "      <td>8</td>\n",
       "    </tr>\n",
       "    <tr>\n",
       "      <th>7</th>\n",
       "      <td>1007</td>\n",
       "      <td>65</td>\n",
       "      <td>NaN</td>\n",
       "      <td>Москва</td>\n",
       "      <td>Юна</td>\n",
       "      <td>Березина</td>\n",
       "      <td>2018-04-19</td>\n",
       "      <td>smart</td>\n",
       "      <td>NaN</td>\n",
       "      <td>4</td>\n",
       "    </tr>\n",
       "    <tr>\n",
       "      <th>396</th>\n",
       "      <td>1396</td>\n",
       "      <td>23</td>\n",
       "      <td>NaN</td>\n",
       "      <td>Пенза</td>\n",
       "      <td>Эльга</td>\n",
       "      <td>Савельева</td>\n",
       "      <td>2018-01-12</td>\n",
       "      <td>ultra</td>\n",
       "      <td>NaN</td>\n",
       "      <td>1</td>\n",
       "    </tr>\n",
       "    <tr>\n",
       "      <th>11</th>\n",
       "      <td>1011</td>\n",
       "      <td>44</td>\n",
       "      <td>NaN</td>\n",
       "      <td>Самара</td>\n",
       "      <td>Веселина</td>\n",
       "      <td>Алёшко</td>\n",
       "      <td>2018-03-19</td>\n",
       "      <td>smart</td>\n",
       "      <td>NaN</td>\n",
       "      <td>3</td>\n",
       "    </tr>\n",
       "    <tr>\n",
       "      <th>68</th>\n",
       "      <td>1068</td>\n",
       "      <td>34</td>\n",
       "      <td>NaN</td>\n",
       "      <td>Москва</td>\n",
       "      <td>Ким</td>\n",
       "      <td>Демьянов</td>\n",
       "      <td>2018-07-16</td>\n",
       "      <td>smart</td>\n",
       "      <td>NaN</td>\n",
       "      <td>7</td>\n",
       "    </tr>\n",
       "  </tbody>\n",
       "</table>\n",
       "</div>"
      ],
      "text/plain": [
       "     user_id  age churn_date             city first_name  last_name  \\\n",
       "276     1276   30        NaN           Москва     Михаил     Крюков   \n",
       "208     1208   69        NaN            Пермь        Ева   Сахарова   \n",
       "227     1227   66        NaN  Санкт-Петербург      Раиса   Калинина   \n",
       "432     1432   48        NaN         Улан-Удэ      Анвар   Кочетков   \n",
       "7       1007   65        NaN           Москва        Юна   Березина   \n",
       "396     1396   23        NaN            Пенза      Эльга  Савельева   \n",
       "11      1011   44        NaN           Самара   Веселина     Алёшко   \n",
       "68      1068   34        NaN           Москва        Ким   Демьянов   \n",
       "\n",
       "       reg_date tariff  churn_month  reg_month  \n",
       "276  2018-10-05  ultra          NaN         10  \n",
       "208  2018-03-24  ultra          NaN          3  \n",
       "227  2018-01-09  smart          NaN          1  \n",
       "432  2018-08-04  smart          NaN          8  \n",
       "7    2018-04-19  smart          NaN          4  \n",
       "396  2018-01-12  ultra          NaN          1  \n",
       "11   2018-03-19  smart          NaN          3  \n",
       "68   2018-07-16  smart          NaN          7  "
      ]
     },
     "execution_count": 11,
     "metadata": {},
     "output_type": "execute_result"
    }
   ],
   "source": [
    "users['churn_month'] = pd.DatetimeIndex(users['churn_date']).month\n",
    "users['reg_month'] = pd.DatetimeIndex(users['reg_date']).month\n",
    "users.sample(8)"
   ]
  },
  {
   "cell_type": "markdown",
   "id": "e105667e",
   "metadata": {},
   "source": [
    "## Вывод\n",
    "Проблем с данными оказалось немного, удалили пропущенные/несостоявшиеся звонки и интернет-сессии без затрат трафика, добавили пару столбцов для последующих более сложных расчетов, поменяли формат и округлили расход минут и интернет - трафика, теперь приступаем к следующему шагу."
   ]
  },
  {
   "cell_type": "markdown",
   "id": "66a14968",
   "metadata": {},
   "source": [
    "# Шаг 3. Расчеты для каждого пользователя"
   ]
  },
  {
   "cell_type": "markdown",
   "id": "e47203c1",
   "metadata": {},
   "source": [
    "Создадим новую таблицу, в которую поместим данные по потреблению наших пользователей и выручку компании с каждого клиента по месяцам"
   ]
  },
  {
   "cell_type": "code",
   "execution_count": 12,
   "id": "508e7242",
   "metadata": {},
   "outputs": [
    {
     "data": {
      "text/html": [
       "<div>\n",
       "<style scoped>\n",
       "    .dataframe tbody tr th:only-of-type {\n",
       "        vertical-align: middle;\n",
       "    }\n",
       "\n",
       "    .dataframe tbody tr th {\n",
       "        vertical-align: top;\n",
       "    }\n",
       "\n",
       "    .dataframe thead th {\n",
       "        text-align: right;\n",
       "    }\n",
       "</style>\n",
       "<table border=\"1\" class=\"dataframe\">\n",
       "  <thead>\n",
       "    <tr style=\"text-align: right;\">\n",
       "      <th></th>\n",
       "      <th>id</th>\n",
       "      <th>call_date</th>\n",
       "      <th>duration</th>\n",
       "      <th>user_id</th>\n",
       "      <th>month</th>\n",
       "    </tr>\n",
       "  </thead>\n",
       "  <tbody>\n",
       "    <tr>\n",
       "      <th>34672</th>\n",
       "      <td>1086_221</td>\n",
       "      <td>2018-06-11</td>\n",
       "      <td>9</td>\n",
       "      <td>1086</td>\n",
       "      <td>6</td>\n",
       "    </tr>\n",
       "  </tbody>\n",
       "</table>\n",
       "</div>"
      ],
      "text/plain": [
       "             id   call_date  duration  user_id  month\n",
       "34672  1086_221  2018-06-11         9     1086      6"
      ]
     },
     "execution_count": 12,
     "metadata": {},
     "output_type": "execute_result"
    }
   ],
   "source": [
    "calls.sample()"
   ]
  },
  {
   "cell_type": "code",
   "execution_count": 13,
   "id": "8ed9d824",
   "metadata": {},
   "outputs": [
    {
     "data": {
      "text/html": [
       "<div>\n",
       "<style scoped>\n",
       "    .dataframe tbody tr th:only-of-type {\n",
       "        vertical-align: middle;\n",
       "    }\n",
       "\n",
       "    .dataframe tbody tr th {\n",
       "        vertical-align: top;\n",
       "    }\n",
       "\n",
       "    .dataframe thead th {\n",
       "        text-align: right;\n",
       "    }\n",
       "</style>\n",
       "<table border=\"1\" class=\"dataframe\">\n",
       "  <thead>\n",
       "    <tr style=\"text-align: right;\">\n",
       "      <th></th>\n",
       "      <th>user_id</th>\n",
       "      <th>month</th>\n",
       "      <th>calls_duration</th>\n",
       "      <th>calls_count</th>\n",
       "    </tr>\n",
       "  </thead>\n",
       "  <tbody>\n",
       "    <tr>\n",
       "      <th>0</th>\n",
       "      <td>1000</td>\n",
       "      <td>5</td>\n",
       "      <td>159</td>\n",
       "      <td>17</td>\n",
       "    </tr>\n",
       "    <tr>\n",
       "      <th>1</th>\n",
       "      <td>1000</td>\n",
       "      <td>6</td>\n",
       "      <td>172</td>\n",
       "      <td>28</td>\n",
       "    </tr>\n",
       "    <tr>\n",
       "      <th>2</th>\n",
       "      <td>1000</td>\n",
       "      <td>7</td>\n",
       "      <td>340</td>\n",
       "      <td>41</td>\n",
       "    </tr>\n",
       "    <tr>\n",
       "      <th>3</th>\n",
       "      <td>1000</td>\n",
       "      <td>8</td>\n",
       "      <td>408</td>\n",
       "      <td>42</td>\n",
       "    </tr>\n",
       "    <tr>\n",
       "      <th>4</th>\n",
       "      <td>1000</td>\n",
       "      <td>9</td>\n",
       "      <td>466</td>\n",
       "      <td>46</td>\n",
       "    </tr>\n",
       "  </tbody>\n",
       "</table>\n",
       "</div>"
      ],
      "text/plain": [
       "   user_id  month  calls_duration  calls_count\n",
       "0     1000      5             159           17\n",
       "1     1000      6             172           28\n",
       "2     1000      7             340           41\n",
       "3     1000      8             408           42\n",
       "4     1000      9             466           46"
      ]
     },
     "execution_count": 13,
     "metadata": {},
     "output_type": "execute_result"
    }
   ],
   "source": [
    "calls_grouped = pd.pivot_table(calls, index=['user_id','month']\n",
    "                               ,values=['duration','id']\n",
    "                               , aggfunc={'duration':sum,'id':'count'}\n",
    "                ).reset_index()\n",
    "calls_grouped.rename(columns={'id':'calls_count','duration':'calls_duration'}, inplace=True)\n",
    "calls_grouped.head()"
   ]
  },
  {
   "cell_type": "code",
   "execution_count": 14,
   "id": "2d585a84",
   "metadata": {},
   "outputs": [
    {
     "data": {
      "text/html": [
       "<div>\n",
       "<style scoped>\n",
       "    .dataframe tbody tr th:only-of-type {\n",
       "        vertical-align: middle;\n",
       "    }\n",
       "\n",
       "    .dataframe tbody tr th {\n",
       "        vertical-align: top;\n",
       "    }\n",
       "\n",
       "    .dataframe thead th {\n",
       "        text-align: right;\n",
       "    }\n",
       "</style>\n",
       "<table border=\"1\" class=\"dataframe\">\n",
       "  <thead>\n",
       "    <tr style=\"text-align: right;\">\n",
       "      <th></th>\n",
       "      <th>id</th>\n",
       "      <th>message_date</th>\n",
       "      <th>user_id</th>\n",
       "      <th>month</th>\n",
       "    </tr>\n",
       "  </thead>\n",
       "  <tbody>\n",
       "    <tr>\n",
       "      <th>94803</th>\n",
       "      <td>1386_132</td>\n",
       "      <td>2018-11-16</td>\n",
       "      <td>1386</td>\n",
       "      <td>11</td>\n",
       "    </tr>\n",
       "  </tbody>\n",
       "</table>\n",
       "</div>"
      ],
      "text/plain": [
       "             id message_date  user_id  month\n",
       "94803  1386_132   2018-11-16     1386     11"
      ]
     },
     "execution_count": 14,
     "metadata": {},
     "output_type": "execute_result"
    }
   ],
   "source": [
    "# считаем количество смс\n",
    "messages.sample()"
   ]
  },
  {
   "cell_type": "code",
   "execution_count": 15,
   "id": "eb99d972",
   "metadata": {},
   "outputs": [
    {
     "data": {
      "text/html": [
       "<div>\n",
       "<style scoped>\n",
       "    .dataframe tbody tr th:only-of-type {\n",
       "        vertical-align: middle;\n",
       "    }\n",
       "\n",
       "    .dataframe tbody tr th {\n",
       "        vertical-align: top;\n",
       "    }\n",
       "\n",
       "    .dataframe thead th {\n",
       "        text-align: right;\n",
       "    }\n",
       "</style>\n",
       "<table border=\"1\" class=\"dataframe\">\n",
       "  <thead>\n",
       "    <tr style=\"text-align: right;\">\n",
       "      <th></th>\n",
       "      <th>user_id</th>\n",
       "      <th>month</th>\n",
       "      <th>messages_count</th>\n",
       "    </tr>\n",
       "  </thead>\n",
       "  <tbody>\n",
       "    <tr>\n",
       "      <th>0</th>\n",
       "      <td>1000</td>\n",
       "      <td>5</td>\n",
       "      <td>22</td>\n",
       "    </tr>\n",
       "    <tr>\n",
       "      <th>1</th>\n",
       "      <td>1000</td>\n",
       "      <td>6</td>\n",
       "      <td>60</td>\n",
       "    </tr>\n",
       "    <tr>\n",
       "      <th>2</th>\n",
       "      <td>1000</td>\n",
       "      <td>7</td>\n",
       "      <td>75</td>\n",
       "    </tr>\n",
       "    <tr>\n",
       "      <th>3</th>\n",
       "      <td>1000</td>\n",
       "      <td>8</td>\n",
       "      <td>81</td>\n",
       "    </tr>\n",
       "    <tr>\n",
       "      <th>4</th>\n",
       "      <td>1000</td>\n",
       "      <td>9</td>\n",
       "      <td>57</td>\n",
       "    </tr>\n",
       "  </tbody>\n",
       "</table>\n",
       "</div>"
      ],
      "text/plain": [
       "   user_id  month  messages_count\n",
       "0     1000      5              22\n",
       "1     1000      6              60\n",
       "2     1000      7              75\n",
       "3     1000      8              81\n",
       "4     1000      9              57"
      ]
     },
     "execution_count": 15,
     "metadata": {},
     "output_type": "execute_result"
    }
   ],
   "source": [
    "messages_grouped = pd.pivot_table(messages, index=['user_id','month']\n",
    "                               ,values=['id']\n",
    "                               , aggfunc='count'\n",
    "                ).reset_index()\n",
    "messages_grouped.rename(columns={'id':'messages_count'}, inplace=True)\n",
    "messages_grouped.head()"
   ]
  },
  {
   "cell_type": "code",
   "execution_count": 16,
   "id": "0051006f",
   "metadata": {},
   "outputs": [
    {
     "data": {
      "text/html": [
       "<div>\n",
       "<style scoped>\n",
       "    .dataframe tbody tr th:only-of-type {\n",
       "        vertical-align: middle;\n",
       "    }\n",
       "\n",
       "    .dataframe tbody tr th {\n",
       "        vertical-align: top;\n",
       "    }\n",
       "\n",
       "    .dataframe thead th {\n",
       "        text-align: right;\n",
       "    }\n",
       "</style>\n",
       "<table border=\"1\" class=\"dataframe\">\n",
       "  <thead>\n",
       "    <tr style=\"text-align: right;\">\n",
       "      <th></th>\n",
       "      <th>id</th>\n",
       "      <th>mb_used</th>\n",
       "      <th>session_date</th>\n",
       "      <th>user_id</th>\n",
       "      <th>month</th>\n",
       "    </tr>\n",
       "  </thead>\n",
       "  <tbody>\n",
       "    <tr>\n",
       "      <th>96693</th>\n",
       "      <td>1326_56</td>\n",
       "      <td>230.03</td>\n",
       "      <td>2018-11-06</td>\n",
       "      <td>1326</td>\n",
       "      <td>11</td>\n",
       "    </tr>\n",
       "  </tbody>\n",
       "</table>\n",
       "</div>"
      ],
      "text/plain": [
       "            id  mb_used session_date  user_id  month\n",
       "96693  1326_56   230.03   2018-11-06     1326     11"
      ]
     },
     "execution_count": 16,
     "metadata": {},
     "output_type": "execute_result"
    }
   ],
   "source": [
    "# считаем сумму трафика\n",
    "internet.sample()"
   ]
  },
  {
   "cell_type": "code",
   "execution_count": 17,
   "id": "fe44ee73",
   "metadata": {},
   "outputs": [
    {
     "data": {
      "text/html": [
       "<div>\n",
       "<style scoped>\n",
       "    .dataframe tbody tr th:only-of-type {\n",
       "        vertical-align: middle;\n",
       "    }\n",
       "\n",
       "    .dataframe tbody tr th {\n",
       "        vertical-align: top;\n",
       "    }\n",
       "\n",
       "    .dataframe thead th {\n",
       "        text-align: right;\n",
       "    }\n",
       "</style>\n",
       "<table border=\"1\" class=\"dataframe\">\n",
       "  <thead>\n",
       "    <tr style=\"text-align: right;\">\n",
       "      <th></th>\n",
       "      <th>user_id</th>\n",
       "      <th>month</th>\n",
       "      <th>mb_used</th>\n",
       "    </tr>\n",
       "  </thead>\n",
       "  <tbody>\n",
       "    <tr>\n",
       "      <th>0</th>\n",
       "      <td>1000</td>\n",
       "      <td>5</td>\n",
       "      <td>2253.49</td>\n",
       "    </tr>\n",
       "    <tr>\n",
       "      <th>1</th>\n",
       "      <td>1000</td>\n",
       "      <td>6</td>\n",
       "      <td>23233.77</td>\n",
       "    </tr>\n",
       "    <tr>\n",
       "      <th>2</th>\n",
       "      <td>1000</td>\n",
       "      <td>7</td>\n",
       "      <td>14003.64</td>\n",
       "    </tr>\n",
       "    <tr>\n",
       "      <th>3</th>\n",
       "      <td>1000</td>\n",
       "      <td>8</td>\n",
       "      <td>14055.93</td>\n",
       "    </tr>\n",
       "    <tr>\n",
       "      <th>4</th>\n",
       "      <td>1000</td>\n",
       "      <td>9</td>\n",
       "      <td>14568.91</td>\n",
       "    </tr>\n",
       "  </tbody>\n",
       "</table>\n",
       "</div>"
      ],
      "text/plain": [
       "   user_id  month   mb_used\n",
       "0     1000      5   2253.49\n",
       "1     1000      6  23233.77\n",
       "2     1000      7  14003.64\n",
       "3     1000      8  14055.93\n",
       "4     1000      9  14568.91"
      ]
     },
     "execution_count": 17,
     "metadata": {},
     "output_type": "execute_result"
    }
   ],
   "source": [
    "internet_grouped = pd.pivot_table(internet, index=['user_id','month']\n",
    "                               ,values=['mb_used']\n",
    "                               , aggfunc=sum\n",
    "                ).reset_index()\n",
    "internet_grouped.head()"
   ]
  },
  {
   "cell_type": "markdown",
   "id": "b327e1a5",
   "metadata": {},
   "source": [
    "Объединим полученные данные в одну таблицу, добавим тариф и город каждого пользователя, и заменим пропуски на 0. Так как пустое значение соответсвует нулевому потребленю смс/трафика/сообещний в конкретном месяце. Для дальнейшего анализатам понадобиться учитывать и нулевое потребление, например при расчете средней (ведь nan в расчете средней не участвует)"
   ]
  },
  {
   "cell_type": "code",
   "execution_count": 18,
   "id": "76a1b231",
   "metadata": {},
   "outputs": [
    {
     "data": {
      "text/html": [
       "<div>\n",
       "<style scoped>\n",
       "    .dataframe tbody tr th:only-of-type {\n",
       "        vertical-align: middle;\n",
       "    }\n",
       "\n",
       "    .dataframe tbody tr th {\n",
       "        vertical-align: top;\n",
       "    }\n",
       "\n",
       "    .dataframe thead th {\n",
       "        text-align: right;\n",
       "    }\n",
       "</style>\n",
       "<table border=\"1\" class=\"dataframe\">\n",
       "  <thead>\n",
       "    <tr style=\"text-align: right;\">\n",
       "      <th></th>\n",
       "      <th>user_id</th>\n",
       "      <th>month</th>\n",
       "      <th>calls_duration</th>\n",
       "      <th>calls_count</th>\n",
       "      <th>mb_used</th>\n",
       "      <th>messages_count</th>\n",
       "      <th>tariff</th>\n",
       "      <th>city</th>\n",
       "    </tr>\n",
       "  </thead>\n",
       "  <tbody>\n",
       "    <tr>\n",
       "      <th>0</th>\n",
       "      <td>1000</td>\n",
       "      <td>5</td>\n",
       "      <td>159.0</td>\n",
       "      <td>17.0</td>\n",
       "      <td>2253.49</td>\n",
       "      <td>22.0</td>\n",
       "      <td>ultra</td>\n",
       "      <td>Краснодар</td>\n",
       "    </tr>\n",
       "    <tr>\n",
       "      <th>1</th>\n",
       "      <td>1000</td>\n",
       "      <td>6</td>\n",
       "      <td>172.0</td>\n",
       "      <td>28.0</td>\n",
       "      <td>23233.77</td>\n",
       "      <td>60.0</td>\n",
       "      <td>ultra</td>\n",
       "      <td>Краснодар</td>\n",
       "    </tr>\n",
       "    <tr>\n",
       "      <th>2</th>\n",
       "      <td>1000</td>\n",
       "      <td>7</td>\n",
       "      <td>340.0</td>\n",
       "      <td>41.0</td>\n",
       "      <td>14003.64</td>\n",
       "      <td>75.0</td>\n",
       "      <td>ultra</td>\n",
       "      <td>Краснодар</td>\n",
       "    </tr>\n",
       "    <tr>\n",
       "      <th>3</th>\n",
       "      <td>1000</td>\n",
       "      <td>8</td>\n",
       "      <td>408.0</td>\n",
       "      <td>42.0</td>\n",
       "      <td>14055.93</td>\n",
       "      <td>81.0</td>\n",
       "      <td>ultra</td>\n",
       "      <td>Краснодар</td>\n",
       "    </tr>\n",
       "    <tr>\n",
       "      <th>4</th>\n",
       "      <td>1000</td>\n",
       "      <td>9</td>\n",
       "      <td>466.0</td>\n",
       "      <td>46.0</td>\n",
       "      <td>14568.91</td>\n",
       "      <td>57.0</td>\n",
       "      <td>ultra</td>\n",
       "      <td>Краснодар</td>\n",
       "    </tr>\n",
       "  </tbody>\n",
       "</table>\n",
       "</div>"
      ],
      "text/plain": [
       "   user_id  month  calls_duration  calls_count   mb_used  messages_count  \\\n",
       "0     1000      5           159.0         17.0   2253.49            22.0   \n",
       "1     1000      6           172.0         28.0  23233.77            60.0   \n",
       "2     1000      7           340.0         41.0  14003.64            75.0   \n",
       "3     1000      8           408.0         42.0  14055.93            81.0   \n",
       "4     1000      9           466.0         46.0  14568.91            57.0   \n",
       "\n",
       "  tariff       city  \n",
       "0  ultra  Краснодар  \n",
       "1  ultra  Краснодар  \n",
       "2  ultra  Краснодар  \n",
       "3  ultra  Краснодар  \n",
       "4  ultra  Краснодар  "
      ]
     },
     "execution_count": 18,
     "metadata": {},
     "output_type": "execute_result"
    }
   ],
   "source": [
    "users_consumption = calls_grouped.merge(internet_grouped, on=['user_id','month'], how ='outer')\n",
    "users_consumption = users_consumption.merge(messages_grouped, on=['user_id','month'], how ='outer')\n",
    "users_consumption = users_consumption.merge(users[['user_id','tariff']], on=['user_id'], how ='left')\n",
    "users_consumption = users_consumption.merge(users[['user_id','city']], on=['user_id'], how ='left')\n",
    "users_consumption.fillna(0, inplace=True)\n",
    "users_consumption.head(5)"
   ]
  },
  {
   "cell_type": "code",
   "execution_count": 19,
   "id": "6f99f5ef",
   "metadata": {},
   "outputs": [],
   "source": [
    "users_consumption.reset_index(inplace=True)"
   ]
  },
  {
   "cell_type": "markdown",
   "id": "8f8bcae5",
   "metadata": {},
   "source": [
    "Посчитаю доход от клиентов, сначала добавлю столбец с доходом от клиента, затем помесячную выручку с каждого клиента"
   ]
  },
  {
   "cell_type": "code",
   "execution_count": 20,
   "id": "ce12b822",
   "metadata": {},
   "outputs": [],
   "source": [
    "# функция для расчета прибыли\n",
    "def users_revenue(row):       \n",
    "    tariff = tariffs.loc[tariffs['tariff_name'] == row['tariff']]\n",
    "    # считаем сколько за месяц потратил пользователь исходя из его тарифа\n",
    "    revenue = 0\n",
    "    monthly_fee = tariff.iloc[0,3]\n",
    "    revenue += monthly_fee\n",
    "    # минуты \n",
    "    if row['calls_duration'] > tariff.iloc[0,2]:\n",
    "        extra_minutes_cost = (row['calls_duration'] - tariff.iloc[0,2]) * tariff.iloc[0,-2]\n",
    "        revenue += extra_minutes_cost\n",
    "    # сообщения\n",
    "\n",
    "    if row['messages_count'] > tariff.iloc[0,0]:\n",
    "        extra_message_cost = (row['messages_count'] - tariff.iloc[0,0]) * tariff.iloc[0,-3]\n",
    "        revenue += extra_message_cost\n",
    "     \n",
    "    # трафик\n",
    "    if row['mb_used'] > tariff.iloc[0,1]:\n",
    "        # так как клиент может докупать только гигабайты а не мб, рассчитаем сколько гб докупил пользовател\n",
    "        # и исходя из этого рассчитаем стоимость доп трафика\n",
    "        extra_gb_used = np.ceil((row['mb_used'] - tariff.iloc[0,1]) / 1024)\n",
    "        extra_traffic_cost = extra_gb_used * tariff.iloc[0,-4]\n",
    "        revenue += extra_traffic_cost\n",
    "\n",
    "    return revenue"
   ]
  },
  {
   "cell_type": "code",
   "execution_count": 21,
   "id": "f681f0a4",
   "metadata": {},
   "outputs": [],
   "source": [
    "users_consumption['company_revenue'] = users_consumption.apply(users_revenue, axis=1)"
   ]
  },
  {
   "cell_type": "code",
   "execution_count": 22,
   "id": "7dd4c413",
   "metadata": {},
   "outputs": [
    {
     "data": {
      "text/html": [
       "<div>\n",
       "<style scoped>\n",
       "    .dataframe tbody tr th:only-of-type {\n",
       "        vertical-align: middle;\n",
       "    }\n",
       "\n",
       "    .dataframe tbody tr th {\n",
       "        vertical-align: top;\n",
       "    }\n",
       "\n",
       "    .dataframe thead th {\n",
       "        text-align: right;\n",
       "    }\n",
       "</style>\n",
       "<table border=\"1\" class=\"dataframe\">\n",
       "  <thead>\n",
       "    <tr style=\"text-align: right;\">\n",
       "      <th></th>\n",
       "      <th>index</th>\n",
       "      <th>user_id</th>\n",
       "      <th>month</th>\n",
       "      <th>calls_duration</th>\n",
       "      <th>calls_count</th>\n",
       "      <th>mb_used</th>\n",
       "      <th>messages_count</th>\n",
       "      <th>tariff</th>\n",
       "      <th>city</th>\n",
       "      <th>company_revenue</th>\n",
       "    </tr>\n",
       "  </thead>\n",
       "  <tbody>\n",
       "    <tr>\n",
       "      <th>919</th>\n",
       "      <td>919</td>\n",
       "      <td>1148</td>\n",
       "      <td>7</td>\n",
       "      <td>936.0</td>\n",
       "      <td>94.0</td>\n",
       "      <td>35124.89</td>\n",
       "      <td>20.0</td>\n",
       "      <td>ultra</td>\n",
       "      <td>Тольятти</td>\n",
       "      <td>2700.0</td>\n",
       "    </tr>\n",
       "    <tr>\n",
       "      <th>2735</th>\n",
       "      <td>2735</td>\n",
       "      <td>1430</td>\n",
       "      <td>7</td>\n",
       "      <td>322.0</td>\n",
       "      <td>35.0</td>\n",
       "      <td>21354.66</td>\n",
       "      <td>46.0</td>\n",
       "      <td>ultra</td>\n",
       "      <td>Тверь</td>\n",
       "      <td>1950.0</td>\n",
       "    </tr>\n",
       "    <tr>\n",
       "      <th>367</th>\n",
       "      <td>367</td>\n",
       "      <td>1057</td>\n",
       "      <td>10</td>\n",
       "      <td>960.0</td>\n",
       "      <td>105.0</td>\n",
       "      <td>14302.06</td>\n",
       "      <td>28.0</td>\n",
       "      <td>ultra</td>\n",
       "      <td>Москва</td>\n",
       "      <td>1950.0</td>\n",
       "    </tr>\n",
       "    <tr>\n",
       "      <th>746</th>\n",
       "      <td>746</td>\n",
       "      <td>1119</td>\n",
       "      <td>10</td>\n",
       "      <td>214.0</td>\n",
       "      <td>25.0</td>\n",
       "      <td>25838.86</td>\n",
       "      <td>61.0</td>\n",
       "      <td>smart</td>\n",
       "      <td>Петрозаводск</td>\n",
       "      <td>2783.0</td>\n",
       "    </tr>\n",
       "    <tr>\n",
       "      <th>3099</th>\n",
       "      <td>3099</td>\n",
       "      <td>1486</td>\n",
       "      <td>11</td>\n",
       "      <td>764.0</td>\n",
       "      <td>84.0</td>\n",
       "      <td>36266.11</td>\n",
       "      <td>96.0</td>\n",
       "      <td>smart</td>\n",
       "      <td>Нижний Новгород</td>\n",
       "      <td>5680.0</td>\n",
       "    </tr>\n",
       "  </tbody>\n",
       "</table>\n",
       "</div>"
      ],
      "text/plain": [
       "      index  user_id  month  calls_duration  calls_count   mb_used  \\\n",
       "919     919     1148      7           936.0         94.0  35124.89   \n",
       "2735   2735     1430      7           322.0         35.0  21354.66   \n",
       "367     367     1057     10           960.0        105.0  14302.06   \n",
       "746     746     1119     10           214.0         25.0  25838.86   \n",
       "3099   3099     1486     11           764.0         84.0  36266.11   \n",
       "\n",
       "      messages_count tariff             city  company_revenue  \n",
       "919             20.0  ultra         Тольятти           2700.0  \n",
       "2735            46.0  ultra            Тверь           1950.0  \n",
       "367             28.0  ultra           Москва           1950.0  \n",
       "746             61.0  smart     Петрозаводск           2783.0  \n",
       "3099            96.0  smart  Нижний Новгород           5680.0  "
      ]
     },
     "execution_count": 22,
     "metadata": {},
     "output_type": "execute_result"
    }
   ],
   "source": [
    "# выведем несколько строк и проверим в ручную корректность расчетов \n",
    "users_consumption.sample(5)"
   ]
  },
  {
   "cell_type": "code",
   "execution_count": 23,
   "id": "3eb24ee0",
   "metadata": {},
   "outputs": [],
   "source": [
    "#  удалим лишний столбец index и поменяем формат на целочисленный\n",
    "users_consumption.drop(axis='columns', labels=['index'], inplace=True)"
   ]
  },
  {
   "cell_type": "code",
   "execution_count": 24,
   "id": "023a172e",
   "metadata": {},
   "outputs": [
    {
     "name": "stdout",
     "output_type": "stream",
     "text": [
      "<class 'pandas.core.frame.DataFrame'>\n",
      "RangeIndex: 3214 entries, 0 to 3213\n",
      "Data columns (total 9 columns):\n",
      " #   Column           Non-Null Count  Dtype \n",
      "---  ------           --------------  ----- \n",
      " 0   user_id          3214 non-null   int64 \n",
      " 1   month            3214 non-null   int64 \n",
      " 2   calls_duration   3214 non-null   int64 \n",
      " 3   calls_count      3214 non-null   int64 \n",
      " 4   mb_used          3214 non-null   int64 \n",
      " 5   messages_count   3214 non-null   int64 \n",
      " 6   tariff           3214 non-null   object\n",
      " 7   city             3214 non-null   object\n",
      " 8   company_revenue  3214 non-null   int64 \n",
      "dtypes: int64(7), object(2)\n",
      "memory usage: 226.1+ KB\n"
     ]
    }
   ],
   "source": [
    "columns_to_change_type=['calls_duration','calls_count','mb_used','messages_count','company_revenue']\n",
    "users_consumption[columns_to_change_type] = users_consumption[columns_to_change_type].astype('int64')\n",
    "users_consumption.info()"
   ]
  },
  {
   "cell_type": "code",
   "execution_count": 25,
   "id": "8820287b",
   "metadata": {},
   "outputs": [
    {
     "data": {
      "text/html": [
       "<div>\n",
       "<style scoped>\n",
       "    .dataframe tbody tr th:only-of-type {\n",
       "        vertical-align: middle;\n",
       "    }\n",
       "\n",
       "    .dataframe tbody tr th {\n",
       "        vertical-align: top;\n",
       "    }\n",
       "\n",
       "    .dataframe thead th {\n",
       "        text-align: right;\n",
       "    }\n",
       "</style>\n",
       "<table border=\"1\" class=\"dataframe\">\n",
       "  <thead>\n",
       "    <tr style=\"text-align: right;\">\n",
       "      <th></th>\n",
       "      <th>calls_duration</th>\n",
       "      <th>calls_count</th>\n",
       "      <th>mb_used</th>\n",
       "      <th>messages_count</th>\n",
       "      <th>company_revenue</th>\n",
       "    </tr>\n",
       "  </thead>\n",
       "  <tbody>\n",
       "    <tr>\n",
       "      <th>0</th>\n",
       "      <td>159</td>\n",
       "      <td>17</td>\n",
       "      <td>2253</td>\n",
       "      <td>22</td>\n",
       "      <td>1950</td>\n",
       "    </tr>\n",
       "    <tr>\n",
       "      <th>1</th>\n",
       "      <td>172</td>\n",
       "      <td>28</td>\n",
       "      <td>23233</td>\n",
       "      <td>60</td>\n",
       "      <td>1950</td>\n",
       "    </tr>\n",
       "    <tr>\n",
       "      <th>2</th>\n",
       "      <td>340</td>\n",
       "      <td>41</td>\n",
       "      <td>14003</td>\n",
       "      <td>75</td>\n",
       "      <td>1950</td>\n",
       "    </tr>\n",
       "    <tr>\n",
       "      <th>3</th>\n",
       "      <td>408</td>\n",
       "      <td>42</td>\n",
       "      <td>14055</td>\n",
       "      <td>81</td>\n",
       "      <td>1950</td>\n",
       "    </tr>\n",
       "    <tr>\n",
       "      <th>4</th>\n",
       "      <td>466</td>\n",
       "      <td>46</td>\n",
       "      <td>14568</td>\n",
       "      <td>57</td>\n",
       "      <td>1950</td>\n",
       "    </tr>\n",
       "    <tr>\n",
       "      <th>...</th>\n",
       "      <td>...</td>\n",
       "      <td>...</td>\n",
       "      <td>...</td>\n",
       "      <td>...</td>\n",
       "      <td>...</td>\n",
       "    </tr>\n",
       "    <tr>\n",
       "      <th>3209</th>\n",
       "      <td>0</td>\n",
       "      <td>0</td>\n",
       "      <td>11050</td>\n",
       "      <td>17</td>\n",
       "      <td>550</td>\n",
       "    </tr>\n",
       "    <tr>\n",
       "      <th>3210</th>\n",
       "      <td>0</td>\n",
       "      <td>0</td>\n",
       "      <td>17206</td>\n",
       "      <td>32</td>\n",
       "      <td>950</td>\n",
       "    </tr>\n",
       "    <tr>\n",
       "      <th>3211</th>\n",
       "      <td>0</td>\n",
       "      <td>0</td>\n",
       "      <td>19559</td>\n",
       "      <td>21</td>\n",
       "      <td>1550</td>\n",
       "    </tr>\n",
       "    <tr>\n",
       "      <th>3212</th>\n",
       "      <td>0</td>\n",
       "      <td>0</td>\n",
       "      <td>17491</td>\n",
       "      <td>20</td>\n",
       "      <td>1150</td>\n",
       "    </tr>\n",
       "    <tr>\n",
       "      <th>3213</th>\n",
       "      <td>0</td>\n",
       "      <td>0</td>\n",
       "      <td>17322</td>\n",
       "      <td>35</td>\n",
       "      <td>950</td>\n",
       "    </tr>\n",
       "  </tbody>\n",
       "</table>\n",
       "<p>3214 rows × 5 columns</p>\n",
       "</div>"
      ],
      "text/plain": [
       "      calls_duration  calls_count  mb_used  messages_count  company_revenue\n",
       "0                159           17     2253              22             1950\n",
       "1                172           28    23233              60             1950\n",
       "2                340           41    14003              75             1950\n",
       "3                408           42    14055              81             1950\n",
       "4                466           46    14568              57             1950\n",
       "...              ...          ...      ...             ...              ...\n",
       "3209               0            0    11050              17              550\n",
       "3210               0            0    17206              32              950\n",
       "3211               0            0    19559              21             1550\n",
       "3212               0            0    17491              20             1150\n",
       "3213               0            0    17322              35              950\n",
       "\n",
       "[3214 rows x 5 columns]"
      ]
     },
     "execution_count": 25,
     "metadata": {},
     "output_type": "execute_result"
    }
   ],
   "source": [
    "users_consumption[['calls_duration','calls_count','mb_used','messages_count','company_revenue']]"
   ]
  },
  {
   "cell_type": "code",
   "execution_count": 26,
   "id": "33ba14b1",
   "metadata": {},
   "outputs": [
    {
     "data": {
      "text/plain": [
       "(3214, 9)"
      ]
     },
     "execution_count": 26,
     "metadata": {},
     "output_type": "execute_result"
    }
   ],
   "source": [
    "# ручные расчеты подтвердили корректность работы функции\n",
    "# оценим размер получившейся таблицы\n",
    "users_consumption.shape"
   ]
  },
  {
   "cell_type": "markdown",
   "id": "e3211dc6",
   "metadata": {},
   "source": [
    "## Вывод\n",
    "Посчитали количество звонков, сообщений и потраченных мб по месяцам для каждого клиента. Рассчитали выручку компании от каждого клиента по месяцам и удалил лишний звонок."
   ]
  },
  {
   "cell_type": "markdown",
   "id": "37049abb",
   "metadata": {},
   "source": [
    "# Шаг 4. Анализ данных\n",
    "Основная таблица для анализа users_consumption сформирована, приступим к её анализу. Построим boxplot-ы и изучим меры центральной тенденции (.describe), изученим значение минут разговора, сообщений и трафика. Поработаем с выбросами, чтобы в нашей выборке осталось только наиболее типичное поведение пользователей."
   ]
  },
  {
   "cell_type": "code",
   "execution_count": 27,
   "id": "3b4c59d3",
   "metadata": {},
   "outputs": [
    {
     "data": {
      "text/plain": [
       "calls_duration       AxesSubplot(0.125,0.125;0.227941x0.755)\n",
       "mb_used           AxesSubplot(0.398529,0.125;0.227941x0.755)\n",
       "messages_count    AxesSubplot(0.672059,0.125;0.227941x0.755)\n",
       "dtype: object"
      ]
     },
     "execution_count": 27,
     "metadata": {},
     "output_type": "execute_result"
    },
    {
     "data": {
      "image/png": "[encoded data removed]",
      "text/plain": [
       "<Figure size 1080x288 with 3 Axes>"
      ]
     },
     "metadata": {
      "needs_background": "light"
     },
     "output_type": "display_data"
    }
   ],
   "source": [
    "columns_list = ['calls_duration', 'mb_used', 'messages_count']\n",
    "users_consumption[columns_list].plot(subplots=True, layout=(1, 3), \n",
    "                                    kind = 'box' \n",
    "                                   ,figsize=(15, 4)\n",
    "                                   ,grid=True\n",
    "                                      )"
   ]
  },
  {
   "cell_type": "code",
   "execution_count": 28,
   "id": "b862d54f",
   "metadata": {},
   "outputs": [
    {
     "name": "stdout",
     "output_type": "stream",
     "text": [
      "------------------------\n",
      "Данные столбца calls_duration\n",
      "------------------------\n",
      "Верхняя граница 1049.5\n"
     ]
    },
    {
     "data": {
      "text/plain": [
       "count    3214.00\n",
       "mean      451.24\n",
       "std       241.91\n",
       "min         0.00\n",
       "25%       282.00\n",
       "50%       443.00\n",
       "75%       589.00\n",
       "max      1673.00\n",
       "Name: calls_duration, dtype: float64"
      ]
     },
     "metadata": {},
     "output_type": "display_data"
    },
    {
     "name": "stdout",
     "output_type": "stream",
     "text": [
      "------------------------\n",
      "Данные столбца mb_used\n",
      "------------------------\n",
      "Верхняя граница 34823.125\n"
     ]
    },
    {
     "data": {
      "text/plain": [
       "count     3214.00\n",
       "mean     17207.11\n",
       "std       7570.96\n",
       "min          0.00\n",
       "25%      12491.25\n",
       "50%      16942.50\n",
       "75%      21424.00\n",
       "max      49745.00\n",
       "Name: mb_used, dtype: float64"
      ]
     },
     "metadata": {},
     "output_type": "display_data"
    },
    {
     "name": "stdout",
     "output_type": "stream",
     "text": [
      "------------------------\n",
      "Данные столбца messages_count\n",
      "------------------------\n",
      "Верхняя граница 129.0\n"
     ]
    },
    {
     "data": {
      "text/plain": [
       "count    3214.00\n",
       "mean       38.28\n",
       "std        36.15\n",
       "min         0.00\n",
       "25%         9.00\n",
       "50%        30.00\n",
       "75%        57.00\n",
       "max       224.00\n",
       "Name: messages_count, dtype: float64"
      ]
     },
     "metadata": {},
     "output_type": "display_data"
    }
   ],
   "source": [
    "# рассчитаем границы для выбросов\n",
    "for column in columns_list:\n",
    "    print('------------------------\\nДанные столбца {}\\n------------------------'.format(column))\n",
    "    q1=users_consumption[column].describe()[4]\n",
    "    q3=users_consumption[column].describe()[6]\n",
    "    iqr = q3 - q1\n",
    "    top_edge = q3 + 1.5 * iqr\n",
    "    print ('Верхняя граница {}'.format(top_edge))\n",
    "    display(users_consumption[column].describe())"
   ]
  },
  {
   "cell_type": "markdown",
   "id": "a396a1ab",
   "metadata": {},
   "source": [
    "Отметим, что средняя и медиана по каждому столбцу находятся достаточно близко, после удаления выбросов станут еще ближе\n",
    "\n",
    "Чтобы в нашей выборке остались наиболее типичные значения, уберем следующие значения\n",
    "\n",
    "* `calls_duration` Считаем выбросами все что выше 1049 минут\n",
    "* `mb_used` Считаем выбросами все что выше 34867 мб\n",
    "* `messages_count` Считаем выбросами все что выше 129 сообщений"
   ]
  },
  {
   "cell_type": "code",
   "execution_count": 29,
   "id": "e9c125a1",
   "metadata": {},
   "outputs": [],
   "source": [
    "users_consumption_clean = users_consumption.query('calls_duration < 1049 and mb_used < 34867 and messages_count < 129')"
   ]
  },
  {
   "cell_type": "code",
   "execution_count": 30,
   "id": "0c74d12f",
   "metadata": {},
   "outputs": [
    {
     "data": {
      "text/plain": [
       "calls_duration       AxesSubplot(0.125,0.125;0.227941x0.755)\n",
       "mb_used           AxesSubplot(0.398529,0.125;0.227941x0.755)\n",
       "messages_count    AxesSubplot(0.672059,0.125;0.227941x0.755)\n",
       "dtype: object"
      ]
     },
     "execution_count": 30,
     "metadata": {},
     "output_type": "execute_result"
    },
    {
     "data": {
      "image/png": "[encoded data removed]",
      "text/plain": [
       "<Figure size 1080x288 with 3 Axes>"
      ]
     },
     "metadata": {
      "needs_background": "light"
     },
     "output_type": "display_data"
    }
   ],
   "source": [
    "users_consumption_clean[columns_list].plot(subplots=True, layout=(1, 3), \n",
    "                                    kind = 'box' \n",
    "                                   ,figsize=(15, 4)\n",
    "                                   ,grid=True\n",
    "                                      )"
   ]
  },
  {
   "cell_type": "code",
   "execution_count": 31,
   "id": "3e3f6bc5",
   "metadata": {},
   "outputs": [
    {
     "data": {
      "text/plain": [
       "206"
      ]
     },
     "execution_count": 31,
     "metadata": {},
     "output_type": "execute_result"
    }
   ],
   "source": [
    "# избавились от 206 строк с ярковыраженными выбросами + поменяем тип данных у анализируемых колонок\n",
    "users_consumption_clean[columns_list] = users_consumption_clean[columns_list].astype('int64')\n",
    "users_consumption.shape[0] - users_consumption_clean.shape[0]"
   ]
  },
  {
   "cell_type": "code",
   "execution_count": 32,
   "id": "b6e14978",
   "metadata": {},
   "outputs": [
    {
     "data": {
      "text/html": [
       "<div>\n",
       "<style scoped>\n",
       "    .dataframe tbody tr th:only-of-type {\n",
       "        vertical-align: middle;\n",
       "    }\n",
       "\n",
       "    .dataframe tbody tr th {\n",
       "        vertical-align: top;\n",
       "    }\n",
       "\n",
       "    .dataframe thead th {\n",
       "        text-align: right;\n",
       "    }\n",
       "</style>\n",
       "<table border=\"1\" class=\"dataframe\">\n",
       "  <thead>\n",
       "    <tr style=\"text-align: right;\">\n",
       "      <th></th>\n",
       "      <th>calls_duration</th>\n",
       "      <th>mb_used</th>\n",
       "      <th>messages_count</th>\n",
       "    </tr>\n",
       "    <tr>\n",
       "      <th>month</th>\n",
       "      <th></th>\n",
       "      <th></th>\n",
       "      <th></th>\n",
       "    </tr>\n",
       "  </thead>\n",
       "  <tbody>\n",
       "    <tr>\n",
       "      <th>1</th>\n",
       "      <td>6931</td>\n",
       "      <td>289448</td>\n",
       "      <td>620</td>\n",
       "    </tr>\n",
       "    <tr>\n",
       "      <th>2</th>\n",
       "      <td>17324</td>\n",
       "      <td>672598</td>\n",
       "      <td>1397</td>\n",
       "    </tr>\n",
       "    <tr>\n",
       "      <th>3</th>\n",
       "      <td>30034</td>\n",
       "      <td>1162983</td>\n",
       "      <td>2453</td>\n",
       "    </tr>\n",
       "    <tr>\n",
       "      <th>4</th>\n",
       "      <td>41119</td>\n",
       "      <td>1507706</td>\n",
       "      <td>3443</td>\n",
       "    </tr>\n",
       "    <tr>\n",
       "      <th>5</th>\n",
       "      <td>54618</td>\n",
       "      <td>2228458</td>\n",
       "      <td>4762</td>\n",
       "    </tr>\n",
       "    <tr>\n",
       "      <th>6</th>\n",
       "      <td>64128</td>\n",
       "      <td>2564272</td>\n",
       "      <td>5344</td>\n",
       "    </tr>\n",
       "    <tr>\n",
       "      <th>7</th>\n",
       "      <td>81360</td>\n",
       "      <td>3144184</td>\n",
       "      <td>6647</td>\n",
       "    </tr>\n",
       "    <tr>\n",
       "      <th>8</th>\n",
       "      <td>98263</td>\n",
       "      <td>3879842</td>\n",
       "      <td>7771</td>\n",
       "    </tr>\n",
       "    <tr>\n",
       "      <th>9</th>\n",
       "      <td>110724</td>\n",
       "      <td>4215270</td>\n",
       "      <td>8610</td>\n",
       "    </tr>\n",
       "    <tr>\n",
       "      <th>10</th>\n",
       "      <td>124446</td>\n",
       "      <td>4899547</td>\n",
       "      <td>9788</td>\n",
       "    </tr>\n",
       "    <tr>\n",
       "      <th>11</th>\n",
       "      <td>136780</td>\n",
       "      <td>5302615</td>\n",
       "      <td>10672</td>\n",
       "    </tr>\n",
       "    <tr>\n",
       "      <th>12</th>\n",
       "      <td>152355</td>\n",
       "      <td>5773684</td>\n",
       "      <td>11480</td>\n",
       "    </tr>\n",
       "  </tbody>\n",
       "</table>\n",
       "</div>"
      ],
      "text/plain": [
       "       calls_duration  mb_used  messages_count\n",
       "month                                         \n",
       "1                6931   289448             620\n",
       "2               17324   672598            1397\n",
       "3               30034  1162983            2453\n",
       "4               41119  1507706            3443\n",
       "5               54618  2228458            4762\n",
       "6               64128  2564272            5344\n",
       "7               81360  3144184            6647\n",
       "8               98263  3879842            7771\n",
       "9              110724  4215270            8610\n",
       "10             124446  4899547            9788\n",
       "11             136780  5302615           10672\n",
       "12             152355  5773684           11480"
      ]
     },
     "execution_count": 32,
     "metadata": {},
     "output_type": "execute_result"
    }
   ],
   "source": [
    "users_consumption_summary_smart = pd.pivot_table(\n",
    "    data=users_consumption_clean.loc[users_consumption_clean['tariff']=='smart'],\n",
    "    index = 'month', values=columns_list , aggfunc=sum)\n",
    "users_consumption_summary_smart"
   ]
  },
  {
   "cell_type": "code",
   "execution_count": 33,
   "id": "88f1126b",
   "metadata": {},
   "outputs": [
    {
     "data": {
      "text/html": [
       "<div>\n",
       "<style scoped>\n",
       "    .dataframe tbody tr th:only-of-type {\n",
       "        vertical-align: middle;\n",
       "    }\n",
       "\n",
       "    .dataframe tbody tr th {\n",
       "        vertical-align: top;\n",
       "    }\n",
       "\n",
       "    .dataframe thead th {\n",
       "        text-align: right;\n",
       "    }\n",
       "</style>\n",
       "<table border=\"1\" class=\"dataframe\">\n",
       "  <thead>\n",
       "    <tr style=\"text-align: right;\">\n",
       "      <th></th>\n",
       "      <th>user_id</th>\n",
       "    </tr>\n",
       "    <tr>\n",
       "      <th>month</th>\n",
       "      <th></th>\n",
       "    </tr>\n",
       "  </thead>\n",
       "  <tbody>\n",
       "    <tr>\n",
       "      <th>1</th>\n",
       "      <td>34</td>\n",
       "    </tr>\n",
       "    <tr>\n",
       "      <th>2</th>\n",
       "      <td>58</td>\n",
       "    </tr>\n",
       "    <tr>\n",
       "      <th>3</th>\n",
       "      <td>77</td>\n",
       "    </tr>\n",
       "    <tr>\n",
       "      <th>4</th>\n",
       "      <td>112</td>\n",
       "    </tr>\n",
       "    <tr>\n",
       "      <th>5</th>\n",
       "      <td>141</td>\n",
       "    </tr>\n",
       "    <tr>\n",
       "      <th>6</th>\n",
       "      <td>163</td>\n",
       "    </tr>\n",
       "    <tr>\n",
       "      <th>7</th>\n",
       "      <td>200</td>\n",
       "    </tr>\n",
       "    <tr>\n",
       "      <th>8</th>\n",
       "      <td>234</td>\n",
       "    </tr>\n",
       "    <tr>\n",
       "      <th>9</th>\n",
       "      <td>259</td>\n",
       "    </tr>\n",
       "    <tr>\n",
       "      <th>10</th>\n",
       "      <td>293</td>\n",
       "    </tr>\n",
       "    <tr>\n",
       "      <th>11</th>\n",
       "      <td>315</td>\n",
       "    </tr>\n",
       "    <tr>\n",
       "      <th>12</th>\n",
       "      <td>326</td>\n",
       "    </tr>\n",
       "  </tbody>\n",
       "</table>\n",
       "</div>"
      ],
      "text/plain": [
       "       user_id\n",
       "month         \n",
       "1           34\n",
       "2           58\n",
       "3           77\n",
       "4          112\n",
       "5          141\n",
       "6          163\n",
       "7          200\n",
       "8          234\n",
       "9          259\n",
       "10         293\n",
       "11         315\n",
       "12         326"
      ]
     },
     "execution_count": 33,
     "metadata": {},
     "output_type": "execute_result"
    }
   ],
   "source": [
    " pd.pivot_table(data=users_consumption_clean.loc[users_consumption_clean['tariff']=='smart'],\n",
    "    index = 'month', values='user_id' , aggfunc='count')"
   ]
  },
  {
   "cell_type": "markdown",
   "id": "610e89a9",
   "metadata": {},
   "source": [
    "Действительно, у нас становится больше пользователей с каждым месяцем\n",
    "\n",
    "Теперь рассчитаем среднюю, дисперсию и стандартное отклонение, но уже без группировки по месяцам.\n",
    "\n",
    "Простым способом (describe) и чуть сложным."
   ]
  },
  {
   "cell_type": "code",
   "execution_count": 34,
   "id": "34cf9ee4",
   "metadata": {},
   "outputs": [],
   "source": [
    "users_consumption_clean_smart = users_consumption_clean.loc[users_consumption_clean['tariff']=='smart']"
   ]
  },
  {
   "cell_type": "code",
   "execution_count": 35,
   "id": "90cbc5ad",
   "metadata": {},
   "outputs": [
    {
     "name": "stdout",
     "output_type": "stream",
     "text": [
      "|Проверка с помощью .describe()|\n",
      "--------------------------------\n"
     ]
    },
    {
     "data": {
      "text/html": [
       "<div>\n",
       "<style scoped>\n",
       "    .dataframe tbody tr th:only-of-type {\n",
       "        vertical-align: middle;\n",
       "    }\n",
       "\n",
       "    .dataframe tbody tr th {\n",
       "        vertical-align: top;\n",
       "    }\n",
       "\n",
       "    .dataframe thead th {\n",
       "        text-align: right;\n",
       "    }\n",
       "</style>\n",
       "<table border=\"1\" class=\"dataframe\">\n",
       "  <thead>\n",
       "    <tr style=\"text-align: right;\">\n",
       "      <th></th>\n",
       "      <th>user_id</th>\n",
       "      <th>month</th>\n",
       "      <th>calls_duration</th>\n",
       "      <th>calls_count</th>\n",
       "      <th>mb_used</th>\n",
       "      <th>messages_count</th>\n",
       "      <th>company_revenue</th>\n",
       "    </tr>\n",
       "  </thead>\n",
       "  <tbody>\n",
       "    <tr>\n",
       "      <th>count</th>\n",
       "      <td>2212</td>\n",
       "      <td>2212</td>\n",
       "      <td>2212</td>\n",
       "      <td>2212</td>\n",
       "      <td>2212</td>\n",
       "      <td>2212</td>\n",
       "      <td>2212</td>\n",
       "    </tr>\n",
       "    <tr>\n",
       "      <th>mean</th>\n",
       "      <td>1246</td>\n",
       "      <td>8</td>\n",
       "      <td>415</td>\n",
       "      <td>46</td>\n",
       "      <td>16112</td>\n",
       "      <td>32</td>\n",
       "      <td>1266</td>\n",
       "    </tr>\n",
       "    <tr>\n",
       "      <th>std</th>\n",
       "      <td>146</td>\n",
       "      <td>2</td>\n",
       "      <td>186</td>\n",
       "      <td>20</td>\n",
       "      <td>5756</td>\n",
       "      <td>27</td>\n",
       "      <td>769</td>\n",
       "    </tr>\n",
       "    <tr>\n",
       "      <th>min</th>\n",
       "      <td>1001</td>\n",
       "      <td>1</td>\n",
       "      <td>0</td>\n",
       "      <td>0</td>\n",
       "      <td>0</td>\n",
       "      <td>0</td>\n",
       "      <td>550</td>\n",
       "    </tr>\n",
       "    <tr>\n",
       "      <th>25%</th>\n",
       "      <td>1121</td>\n",
       "      <td>6</td>\n",
       "      <td>281</td>\n",
       "      <td>32</td>\n",
       "      <td>12615</td>\n",
       "      <td>10</td>\n",
       "      <td>550</td>\n",
       "    </tr>\n",
       "    <tr>\n",
       "      <th>50%</th>\n",
       "      <td>1239</td>\n",
       "      <td>9</td>\n",
       "      <td>420</td>\n",
       "      <td>47</td>\n",
       "      <td>16457</td>\n",
       "      <td>28</td>\n",
       "      <td>1012</td>\n",
       "    </tr>\n",
       "    <tr>\n",
       "      <th>75%</th>\n",
       "      <td>1376</td>\n",
       "      <td>11</td>\n",
       "      <td>543</td>\n",
       "      <td>61</td>\n",
       "      <td>19974</td>\n",
       "      <td>50</td>\n",
       "      <td>1750</td>\n",
       "    </tr>\n",
       "    <tr>\n",
       "      <th>max</th>\n",
       "      <td>1499</td>\n",
       "      <td>12</td>\n",
       "      <td>1022</td>\n",
       "      <td>109</td>\n",
       "      <td>33886</td>\n",
       "      <td>127</td>\n",
       "      <td>4664</td>\n",
       "    </tr>\n",
       "  </tbody>\n",
       "</table>\n",
       "</div>"
      ],
      "text/plain": [
       "       user_id  month  calls_duration  calls_count  mb_used  messages_count  \\\n",
       "count     2212   2212            2212         2212     2212            2212   \n",
       "mean      1246      8             415           46    16112              32   \n",
       "std        146      2             186           20     5756              27   \n",
       "min       1001      1               0            0        0               0   \n",
       "25%       1121      6             281           32    12615              10   \n",
       "50%       1239      9             420           47    16457              28   \n",
       "75%       1376     11             543           61    19974              50   \n",
       "max       1499     12            1022          109    33886             127   \n",
       "\n",
       "       company_revenue  \n",
       "count             2212  \n",
       "mean              1266  \n",
       "std                769  \n",
       "min                550  \n",
       "25%                550  \n",
       "50%               1012  \n",
       "75%               1750  \n",
       "max               4664  "
      ]
     },
     "metadata": {},
     "output_type": "display_data"
    },
    {
     "name": "stdout",
     "output_type": "stream",
     "text": [
      "|Ручная проверка|\n",
      "-----------------\n",
      "Среднее значение в столбце calls_duration - 415.0\n",
      "Дисперсия в столбце calls_duration - 34946.9\n",
      "Стандартное отклонение в столбце calls_duration - 186.9\n",
      "----------------\n",
      "Среднее значение в столбце mb_used - 16112.4\n",
      "Дисперсия в столбце mb_used - 33136778.2\n",
      "Стандартное отклонение в столбце mb_used - 5756.5\n",
      "----------------\n",
      "Среднее значение в столбце messages_count - 33.0\n",
      "Дисперсия в столбце messages_count - 763.5\n",
      "Стандартное отклонение в столбце messages_count - 27.6\n",
      "----------------\n"
     ]
    }
   ],
   "source": [
    "print('|Проверка с помощью .describe()|\\n--------------------------------')\n",
    "display(users_consumption_clean_smart.describe().astype('int64'))\n",
    "print('|Ручная проверка|\\n-----------------')\n",
    "for column in columns_list:\n",
    "    mean = round(users_consumption_clean_smart[column].mean(),ndigits=1)\n",
    "    print('Среднее значение в столбце {} - {}'.format(column,mean))\n",
    "    var = round(sum([(i - mean)**2 for i in users_consumption_clean_smart[column]]) / (len(users_consumption_clean_smart[column]) - 1),ndigits=1)\n",
    "    print('Дисперсия в столбце {} - {}'.format(column,var))\n",
    "    std = round(np.sqrt(var),ndigits=1)\n",
    "    print('Стандартное отклонение в столбце {} - {}\\n----------------'.format(column,std))    "
   ]
  },
  {
   "cell_type": "markdown",
   "id": "b5bca420",
   "metadata": {},
   "source": [
    "Метод describe и ручная проверка выдают одинаковые значения. Средние значения для каждого месяца тарифа `smart` определены.\n",
    "\n",
    "Расчитаем помесячное потребление минут/трафика/смс для ultra\n",
    "\n",
    "Затем выведем статистические данные, на этот раз только с помощью метода describe."
   ]
  },
  {
   "cell_type": "code",
   "execution_count": 36,
   "id": "ed63bcca",
   "metadata": {},
   "outputs": [
    {
     "data": {
      "text/html": [
       "<div>\n",
       "<style scoped>\n",
       "    .dataframe tbody tr th:only-of-type {\n",
       "        vertical-align: middle;\n",
       "    }\n",
       "\n",
       "    .dataframe tbody tr th {\n",
       "        vertical-align: top;\n",
       "    }\n",
       "\n",
       "    .dataframe thead th {\n",
       "        text-align: right;\n",
       "    }\n",
       "</style>\n",
       "<table border=\"1\" class=\"dataframe\">\n",
       "  <thead>\n",
       "    <tr style=\"text-align: right;\">\n",
       "      <th></th>\n",
       "      <th>calls_duration</th>\n",
       "      <th>mb_used</th>\n",
       "      <th>messages_count</th>\n",
       "    </tr>\n",
       "    <tr>\n",
       "      <th>month</th>\n",
       "      <th></th>\n",
       "      <th></th>\n",
       "      <th></th>\n",
       "    </tr>\n",
       "  </thead>\n",
       "  <tbody>\n",
       "    <tr>\n",
       "      <th>1</th>\n",
       "      <td>3853</td>\n",
       "      <td>118263</td>\n",
       "      <td>304</td>\n",
       "    </tr>\n",
       "    <tr>\n",
       "      <th>2</th>\n",
       "      <td>7131</td>\n",
       "      <td>282610</td>\n",
       "      <td>527</td>\n",
       "    </tr>\n",
       "    <tr>\n",
       "      <th>3</th>\n",
       "      <td>13149</td>\n",
       "      <td>513603</td>\n",
       "      <td>741</td>\n",
       "    </tr>\n",
       "    <tr>\n",
       "      <th>4</th>\n",
       "      <td>22821</td>\n",
       "      <td>813361</td>\n",
       "      <td>1446</td>\n",
       "    </tr>\n",
       "    <tr>\n",
       "      <th>5</th>\n",
       "      <td>29244</td>\n",
       "      <td>1060482</td>\n",
       "      <td>2030</td>\n",
       "    </tr>\n",
       "    <tr>\n",
       "      <th>6</th>\n",
       "      <td>33770</td>\n",
       "      <td>1292630</td>\n",
       "      <td>2534</td>\n",
       "    </tr>\n",
       "    <tr>\n",
       "      <th>7</th>\n",
       "      <td>34729</td>\n",
       "      <td>1143313</td>\n",
       "      <td>2617</td>\n",
       "    </tr>\n",
       "    <tr>\n",
       "      <th>8</th>\n",
       "      <td>41478</td>\n",
       "      <td>1517158</td>\n",
       "      <td>3512</td>\n",
       "    </tr>\n",
       "    <tr>\n",
       "      <th>9</th>\n",
       "      <td>45351</td>\n",
       "      <td>1688649</td>\n",
       "      <td>3732</td>\n",
       "    </tr>\n",
       "    <tr>\n",
       "      <th>10</th>\n",
       "      <td>48293</td>\n",
       "      <td>1740456</td>\n",
       "      <td>4345</td>\n",
       "    </tr>\n",
       "    <tr>\n",
       "      <th>11</th>\n",
       "      <td>51037</td>\n",
       "      <td>1793083</td>\n",
       "      <td>4594</td>\n",
       "    </tr>\n",
       "    <tr>\n",
       "      <th>12</th>\n",
       "      <td>53861</td>\n",
       "      <td>1919878</td>\n",
       "      <td>4791</td>\n",
       "    </tr>\n",
       "  </tbody>\n",
       "</table>\n",
       "</div>"
      ],
      "text/plain": [
       "       calls_duration  mb_used  messages_count\n",
       "month                                         \n",
       "1                3853   118263             304\n",
       "2                7131   282610             527\n",
       "3               13149   513603             741\n",
       "4               22821   813361            1446\n",
       "5               29244  1060482            2030\n",
       "6               33770  1292630            2534\n",
       "7               34729  1143313            2617\n",
       "8               41478  1517158            3512\n",
       "9               45351  1688649            3732\n",
       "10              48293  1740456            4345\n",
       "11              51037  1793083            4594\n",
       "12              53861  1919878            4791"
      ]
     },
     "execution_count": 36,
     "metadata": {},
     "output_type": "execute_result"
    }
   ],
   "source": [
    "users_consumption_summary_ultra = pd.pivot_table(\n",
    "    data=users_consumption_clean.loc[users_consumption_clean['tariff']=='ultra'],\n",
    "    index = 'month', values=columns_list , aggfunc=sum)\n",
    "users_consumption_summary_ultra"
   ]
  },
  {
   "cell_type": "markdown",
   "id": "a03e6089",
   "metadata": {},
   "source": [
    "Теперь тариф ультра\n",
    "\n"
   ]
  },
  {
   "cell_type": "code",
   "execution_count": 37,
   "id": "d16c4f4a",
   "metadata": {},
   "outputs": [],
   "source": [
    "users_consumption_clean_ultra = users_consumption_clean.loc[users_consumption_clean['tariff']=='ultra']"
   ]
  },
  {
   "cell_type": "code",
   "execution_count": 38,
   "id": "49e9edc2",
   "metadata": {},
   "outputs": [
    {
     "data": {
      "text/html": [
       "<div>\n",
       "<style scoped>\n",
       "    .dataframe tbody tr th:only-of-type {\n",
       "        vertical-align: middle;\n",
       "    }\n",
       "\n",
       "    .dataframe tbody tr th {\n",
       "        vertical-align: top;\n",
       "    }\n",
       "\n",
       "    .dataframe thead th {\n",
       "        text-align: right;\n",
       "    }\n",
       "</style>\n",
       "<table border=\"1\" class=\"dataframe\">\n",
       "  <thead>\n",
       "    <tr style=\"text-align: right;\">\n",
       "      <th></th>\n",
       "      <th>calls_duration</th>\n",
       "      <th>mb_used</th>\n",
       "      <th>messages_count</th>\n",
       "    </tr>\n",
       "  </thead>\n",
       "  <tbody>\n",
       "    <tr>\n",
       "      <th>count</th>\n",
       "      <td>796</td>\n",
       "      <td>796</td>\n",
       "      <td>796</td>\n",
       "    </tr>\n",
       "    <tr>\n",
       "      <th>mean</th>\n",
       "      <td>483</td>\n",
       "      <td>17441</td>\n",
       "      <td>39</td>\n",
       "    </tr>\n",
       "    <tr>\n",
       "      <th>std</th>\n",
       "      <td>266</td>\n",
       "      <td>8707</td>\n",
       "      <td>35</td>\n",
       "    </tr>\n",
       "    <tr>\n",
       "      <th>min</th>\n",
       "      <td>0</td>\n",
       "      <td>0</td>\n",
       "      <td>0</td>\n",
       "    </tr>\n",
       "    <tr>\n",
       "      <th>25%</th>\n",
       "      <td>280</td>\n",
       "      <td>10762</td>\n",
       "      <td>4</td>\n",
       "    </tr>\n",
       "    <tr>\n",
       "      <th>50%</th>\n",
       "      <td>497</td>\n",
       "      <td>17404</td>\n",
       "      <td>31</td>\n",
       "    </tr>\n",
       "    <tr>\n",
       "      <th>75%</th>\n",
       "      <td>683</td>\n",
       "      <td>23861</td>\n",
       "      <td>65</td>\n",
       "    </tr>\n",
       "    <tr>\n",
       "      <th>max</th>\n",
       "      <td>1045</td>\n",
       "      <td>34709</td>\n",
       "      <td>128</td>\n",
       "    </tr>\n",
       "  </tbody>\n",
       "</table>\n",
       "</div>"
      ],
      "text/plain": [
       "       calls_duration  mb_used  messages_count\n",
       "count             796      796             796\n",
       "mean              483    17441              39\n",
       "std               266     8707              35\n",
       "min                 0        0               0\n",
       "25%               280    10762               4\n",
       "50%               497    17404              31\n",
       "75%               683    23861              65\n",
       "max              1045    34709             128"
      ]
     },
     "execution_count": 38,
     "metadata": {},
     "output_type": "execute_result"
    }
   ],
   "source": [
    "users_consumption_clean_ultra[columns_list].describe().astype('int64')"
   ]
  },
  {
   "cell_type": "code",
   "execution_count": 39,
   "id": "0460a1f3",
   "metadata": {},
   "outputs": [
    {
     "name": "stdout",
     "output_type": "stream",
     "text": [
      "Среднее значение calls_duration тарифа smart отличается от  ultra на -68.3\n",
      "Медиана calls_duration тарифа smart отличается от  ultra на -77.5\n",
      "____________________\n",
      "Среднее значение mb_used тарифа smart отличается от  ultra на -1329.2\n",
      "Медиана mb_used тарифа smart отличается от  ultra на -947.0\n",
      "____________________\n",
      "Среднее значение messages_count тарифа smart отличается от  ultra на -6.2\n",
      "Медиана messages_count тарифа smart отличается от  ultra на -3.0\n",
      "____________________\n"
     ]
    }
   ],
   "source": [
    "# посмотрим на различия тарифа смарт от ультра\n",
    "for column in columns_list:\n",
    "    mean_difference = round(users_consumption_clean_smart[column].describe()[1] - users_consumption_clean_ultra[column].describe()[1]\n",
    "                            ,ndigits=1\n",
    "                           )\n",
    "    median_difference = round(users_consumption_clean_smart[column].describe()[5] - users_consumption_clean_ultra[column].describe()[5],\n",
    "                             ndigits=1)\n",
    "    print('Среднее значение {} тарифа smart отличается от  ultra на {}'.format(column, mean_difference))\n",
    "    print('Медиана {} тарифа smart отличается от  ultra на {}\\n____________________'.format(column, median_difference))"
   ]
  },
  {
   "cell_type": "code",
   "execution_count": 40,
   "id": "983c6ca2",
   "metadata": {},
   "outputs": [
    {
     "data": {
      "text/plain": [
       "tariff\n",
       "smart    351\n",
       "ultra    149\n",
       "Name: tariff, dtype: int64"
      ]
     },
     "metadata": {},
     "output_type": "display_data"
    },
    {
     "data": {
      "text/plain": [
       "<AxesSubplot:title={'center':'Доля тарифов в выборке'}, ylabel='tariff'>"
      ]
     },
     "execution_count": 40,
     "metadata": {},
     "output_type": "execute_result"
    },
    {
     "data": {
      "image/png": "[encoded data removed]",
      "text/plain": [
       "<Figure size 432x288 with 1 Axes>"
      ]
     },
     "metadata": {},
     "output_type": "display_data"
    }
   ],
   "source": [
    "display(users.groupby('tariff')['tariff'].count())\n",
    "users.groupby('tariff')['tariff'].count().plot(kind='pie',  title='Доля тарифов в выборке')"
   ]
  },
  {
   "cell_type": "markdown",
   "id": "2bd4788b",
   "metadata": {},
   "source": [
    "Пользователи тарифа ultra говорят в среднем на час дольше чем пользователя тарифа smart. Так же им, как правило, требуется больше трафика, в среднем потребление больше на +-1гб. В то время как разница в количестве сообщений почти не ощущается.\n",
    "\n",
    "Общее потребление пользователей тарифа smart по всем статьям выше тарифа ultra. Как минимум потому, что таких пользователей у нас больше. Интересно будет узнать как обстоит ситуация с выручкой от этих тарифов.\n",
    "\n",
    "Но прежде чем приступить к проверке гипотиз, посмотрим на распределение этих тарифов. Построим гистограммы плотности для каждого интересующего значения по каждому из тарифов."
   ]
  },
  {
   "cell_type": "code",
   "execution_count": 41,
   "id": "ce6b84f7",
   "metadata": {},
   "outputs": [
    {
     "data": {
      "image/png": "[encoded data removed]",
      "text/plain": [
       "<Figure size 1440x360 with 3 Axes>"
      ]
     },
     "metadata": {
      "needs_background": "light"
     },
     "output_type": "display_data"
    },
    {
     "data": {
      "image/png": "[encoded data removed]",
      "text/plain": [
       "<Figure size 1440x360 with 3 Axes>"
      ]
     },
     "metadata": {
      "needs_background": "light"
     },
     "output_type": "display_data"
    }
   ],
   "source": [
    "fig, axs = plt.subplots(1,3, figsize=[20,5])\n",
    "fig.suptitle('Гистограммы плотности для количества звонков, потраченного трафика и отправленных сообщений тарифа smart',fontsize=18)\n",
    "for i, column in enumerate(columns_list):\n",
    "    sns.distplot(users_consumption_clean_smart[column], ax=axs[i], color='green')\n",
    "    \n",
    "plt.show()\n",
    "\n",
    "fig, axs = plt.subplots(1,3, figsize=[20,5])\n",
    "fig.suptitle('Гистограммы плотности для количества звонков, потраченного трафика и отправленных сообщений тарифа ultra',fontsize=18)\n",
    "for i, column in enumerate(columns_list):\n",
    "    sns.distplot(users_consumption_clean_ultra[column], ax=axs[i], color='red')"
   ]
  },
  {
   "cell_type": "code",
   "execution_count": 42,
   "id": "753104e0",
   "metadata": {},
   "outputs": [
    {
     "name": "stdout",
     "output_type": "stream",
     "text": [
      "Выручка компании от каждого тарифа\n"
     ]
    },
    {
     "data": {
      "text/plain": [
       "tariff\n",
       "smart    2802583\n",
       "ultra    1570950\n",
       "Name: company_revenue, dtype: int64"
      ]
     },
     "metadata": {},
     "output_type": "display_data"
    },
    {
     "data": {
      "image/png": "[encoded data removed]",
      "text/plain": [
       "<Figure size 288x288 with 1 Axes>"
      ]
     },
     "metadata": {},
     "output_type": "display_data"
    }
   ],
   "source": [
    "print('Выручка компании от каждого тарифа')\n",
    "display(users_consumption_clean.groupby('tariff')['company_revenue'].sum().astype(int))\n",
    "users_consumption_clean.groupby('tariff')['company_revenue']\\\n",
    "    .sum().plot.pie(autopct='%.1f', fontsize=12, figsize=(4, 4))\n",
    "plt.show()"
   ]
  },
  {
   "cell_type": "markdown",
   "id": "0502d419",
   "metadata": {},
   "source": [
    "## Вывод\n",
    "Распределения обоих тарифов имеют схожие формы. Клиенты ведут себя примерно одинаково. Для звонков и трафика график почти симметричный, немного скошен влево. Сообщения же ассиметричны ввиду того, что мало кто использует сообщения. Так как тариф ультра включает в себя больше минут/мб/сообщений видим, что их потребление в тарифе ультра больше, чем у смарт (колокол \"шире\")."
   ]
  },
  {
   "cell_type": "markdown",
   "id": "6b8cbc81",
   "metadata": {},
   "source": [
    "# Шаг 5. Проверка гипотез"
   ]
  },
  {
   "cell_type": "markdown",
   "id": "8a559953",
   "metadata": {},
   "source": [
    "Приступим к проверке гипотиз и решим, какой же тариф лучше.\n",
    "\n",
    "Первая - средняя выручка компании от пользователей тарифов «Ультра» и «Смарт» различается\n",
    "\n",
    "Будем проверять две генеральные совокупности на равенство их средних (st.ttest_ind). Считаем, что первая ген совокупность это клиенты тарифа smart, вторая ultra. У нас больше 30 наблюдений в каждой выборке, соответственно можем применить t-критерий. Приступим к формулированию гипотиз исходя из поставленной задачи, держим в голове, что нулевая гипотеза всегда формируется со знаком равенства."
   ]
  },
  {
   "cell_type": "markdown",
   "id": "c12499f7",
   "metadata": {},
   "source": [
    "Гипотезы для статистического анализа:\n",
    "\n",
    "`Н0` - средняя выручка компании от пользователей тарифов «Ультра» и «Смарт» одинаковая\n",
    "\n",
    "`H1` - средняя выручка компании от пользователей тарифов «Ультра» и «Смарт» отличается\n",
    "Уровень значимости зададим равным 5%\n",
    "\n",
    "Прежде чем приступить, сравним дисперсии выборок (чтобы корректно выбрать значения аргумента `equal_var` метода `st.ttest_ind`."
   ]
  },
  {
   "cell_type": "code",
   "execution_count": 43,
   "id": "475ab6fd",
   "metadata": {},
   "outputs": [],
   "source": [
    "ultra = users_consumption_clean.query(\"tariff == 'ultra'\")\n",
    "smart = users_consumption_clean.query(\"tariff == 'smart'\")"
   ]
  },
  {
   "cell_type": "code",
   "execution_count": 44,
   "id": "baaf8170",
   "metadata": {},
   "outputs": [
    {
     "name": "stdout",
     "output_type": "stream",
     "text": [
      "Дисперсия выручки тарифа smart - 591361\n",
      "\n",
      "Дисперсия выручки тарифа ultra - 9801\n"
     ]
    }
   ],
   "source": [
    "print('Дисперсия выручки тарифа smart - {}'.format(int(smart['company_revenue'].describe()[2])**2))\n",
    "print()\n",
    "print('Дисперсия выручки тарифа ultra - {}'.format(int(ultra['company_revenue'].describe()[2])**2))"
   ]
  },
  {
   "cell_type": "markdown",
   "id": "b96f5799",
   "metadata": {},
   "source": [
    "Видим значительное отличие, в процессе проведения t-теста в методе пропишем equal_var=False.\n",
    "\n",
    "Подготовка закончена, приступим к проверке первой гипотезы."
   ]
  },
  {
   "cell_type": "code",
   "execution_count": 45,
   "id": "e7b18c91",
   "metadata": {},
   "outputs": [
    {
     "name": "stdout",
     "output_type": "stream",
     "text": [
      "p-значение: 0.0\n"
     ]
    }
   ],
   "source": [
    "result = st.ttest_ind(smart['company_revenue'], ultra['company_revenue'], equal_var=False)\n",
    "print('p-значение:', round(result.pvalue,ndigits=5))"
   ]
  },
  {
   "cell_type": "markdown",
   "id": "84b00e28",
   "metadata": {},
   "source": [
    "p-уровень значимости получился очень очень маленьким, что свидетельствует о ничтожно малом шансе жизнеспособности нашей нулевой гипотизи при условии, что H0 верна. Тоже самое справедливо, задай мы уровень значимости 1%"
   ]
  },
  {
   "cell_type": "markdown",
   "id": "df82d43b",
   "metadata": {},
   "source": [
    "Таким образом, Н0 отвергается, средняя выручка компании от тарифов Смарт и Ультра отличается."
   ]
  },
  {
   "cell_type": "code",
   "execution_count": 46,
   "id": "81130668",
   "metadata": {},
   "outputs": [
    {
     "name": "stdout",
     "output_type": "stream",
     "text": [
      "Средняя вырочка компании от тарифа smart - 1267.0 руб\n",
      "Вырочка компании от тарифа smart - 2802583 руб\n",
      "\n",
      "Средняя вырочка компании от тарифа ultra - 1973.6 руб\n",
      "Вырочка компании от тарифа ultra - 1570950 руб\n"
     ]
    }
   ],
   "source": [
    "print('Средняя вырочка компании от тарифа smart - {} руб'.format(round(smart['company_revenue'].describe()[1],ndigits=1)))\n",
    "print('Вырочка компании от тарифа smart - {} руб'.format(smart['company_revenue'].sum()))\n",
    "print()\n",
    "print('Средняя вырочка компании от тарифа ultra - {} руб'.format(round(ultra['company_revenue'].describe()[1],ndigits=1)))\n",
    "print('Вырочка компании от тарифа ultra - {} руб'.format(ultra['company_revenue'].sum()))"
   ]
  },
  {
   "cell_type": "markdown",
   "id": "a434b586",
   "metadata": {},
   "source": [
    "Средняя выручка компании от одного пользователя тарифа **ultra** больше, чем от **smart**. Кроме того, можно сделать вывод, что пользователи тариф **ultra**, в отличии от **smart**, укладываются в рамки своего тарифного плана и редко доплачивают за доп минуты/трафик/сообщения. Так как средняя выручка компании примерно равна стоимости пакета.\n",
    "\n",
    "Суммарные же показатели указывают на то, что в нашей выборке больше клиентов с тарифом smart, тем не менее, около 35% процентов всей выручки составляет выручка от тарифа **ultra**.\n",
    "\n",
    "Приступим к проверке второй гипотезы - средняя выручка пользователей из Москвы отличается от выручки пользователей из других регионов. Тест проведем по аналогии с предыдущим, пользователи из Москвы одна ген совокупность, остальные - другая. Для этого наложим фильтры на таблицу users_consumption_clean, проверим равенство дисперсий и проверим гипотизу."
   ]
  },
  {
   "cell_type": "markdown",
   "id": "c060249a",
   "metadata": {},
   "source": [
    "Гипотезы для статистического анализа:\n",
    "\n",
    "`Н0` - средняя выручка компании в Москве равна выручке из других регионов\n",
    "\n",
    "`H1` - средняя выручка компании в Москвы НЕ равна выручке из других регионов\n",
    "\n",
    "Уровень значимости установим на уровне *5%*"
   ]
  },
  {
   "cell_type": "code",
   "execution_count": 47,
   "id": "99a1cdcf",
   "metadata": {},
   "outputs": [
    {
     "data": {
      "text/plain": [
       "2538     550\n",
       "2173    1950\n",
       "1471    2121\n",
       "Name: company_revenue, dtype: int64"
      ]
     },
     "execution_count": 47,
     "metadata": {},
     "output_type": "execute_result"
    }
   ],
   "source": [
    "moskow_revenue = users_consumption_clean.loc[users_consumption_clean['city']== 'Москва','company_revenue'] \n",
    "moskow_revenue.sample(3)"
   ]
  },
  {
   "cell_type": "code",
   "execution_count": 48,
   "id": "19fd7b94",
   "metadata": {},
   "outputs": [
    {
     "data": {
      "text/plain": [
       "2383    2400\n",
       "1676    1150\n",
       "227      750\n",
       "Name: company_revenue, dtype: int64"
      ]
     },
     "execution_count": 48,
     "metadata": {},
     "output_type": "execute_result"
    }
   ],
   "source": [
    "regions_revenue = users_consumption_clean.loc[users_consumption_clean['city'] != 'Москва','company_revenue'] \n",
    "regions_revenue.sample(3)"
   ]
  },
  {
   "cell_type": "code",
   "execution_count": 49,
   "id": "a9667885",
   "metadata": {},
   "outputs": [
    {
     "name": "stdout",
     "output_type": "stream",
     "text": [
      "Дисперсия выручки в Москве - 483025\n",
      "\n",
      "Дисперсия выручки в регионах - 546121\n"
     ]
    }
   ],
   "source": [
    "print('Дисперсия выручки в Москве - {}'.format(int(moskow_revenue.describe()[2])**2))\n",
    "print()\n",
    "print('Дисперсия выручки в регионах - {}'.format(int(regions_revenue.describe()[2])**2))"
   ]
  },
  {
   "cell_type": "code",
   "execution_count": 50,
   "id": "99c73b2d",
   "metadata": {},
   "outputs": [
    {
     "name": "stdout",
     "output_type": "stream",
     "text": [
      "0.025255593644484205\n"
     ]
    }
   ],
   "source": [
    "# глазами получается не очевидно, поверим при помощи теста Левена, зададим уровень значимости 5%\n",
    "stat, p = st.levene(moskow_revenue, regions_revenue)\n",
    "print(p)"
   ]
  },
  {
   "cell_type": "markdown",
   "id": "4993e370",
   "metadata": {},
   "source": [
    "p-значение теста Левена оказалось меньше 5%, значит отвергаем нулевую гипотезу о равенстве дисперсий наших выборок, устанавливаем `equal_var=False`"
   ]
  },
  {
   "cell_type": "code",
   "execution_count": 51,
   "id": "1f9bb4c0",
   "metadata": {},
   "outputs": [
    {
     "name": "stdout",
     "output_type": "stream",
     "text": [
      "p-значение: 0.42081\n"
     ]
    }
   ],
   "source": [
    "result = st.ttest_ind(moskow_revenue, regions_revenue, equal_var=False)\n",
    "print('p-значение:', round(result.pvalue,ndigits=5))"
   ]
  },
  {
   "cell_type": "markdown",
   "id": "010ca837",
   "metadata": {},
   "source": [
    "p-уровень значимости получился равен 40%, что не позволяет нам отвергнуть нулевую гипотизу."
   ]
  },
  {
   "cell_type": "markdown",
   "id": "df3fcf61",
   "metadata": {},
   "source": [
    "Следовательно, выручка компании в Москве не отличается от выручки в регионах."
   ]
  },
  {
   "cell_type": "markdown",
   "id": "98bc0b8a",
   "metadata": {},
   "source": [
    "## Вывод\n",
    "При помощи t-теста (так как выборки содержат > 30 наблюдений) для выборок из двух разных генеральных совокупностей было проверено две гипотезы:\n",
    "\n",
    "- средняя выручка пользователей тарифов «Ультра» и «Смарт» \n",
    "- средняя выручка пользователей из Москвы отличается от выручки пользователей из других регионов \n",
    "\n",
    "*Первая гипотеза подтвердилась*, средняя выручка отличается, так же увидели, что средняя выручка тарифа ultra - больше. В тоже время, пользователи тарифа smart, как правило, докупают минуты/трафик/сообщения.\n",
    "\n",
    "*Вторая гипотеза не подтвердилась*, нет разницы в выручке между Москвой и регионами"
   ]
  },
  {
   "cell_type": "markdown",
   "id": "5f999a7e",
   "metadata": {},
   "source": [
    "# Шаг 7. Общие выводы\n",
    "В ходе анализа было изучено два тарифа телеком компании - `smart` & `ultra`. А именно:\n",
    "\n",
    "* Качество данных оказалось на достаточно высоком уровне, большой предобработки не потребовалось. Самая большая ошибка была в таблице Internet, туда попал лишний столбец.\n",
    "* Была подготовлена таблица с общим потреблением минут/трафика/сообщений для каждого пользователя в месяц, а так же рассчитана прибыль компании для каждого месяца.\n",
    "* Из последующего анализа исключили месяца, в которых пользователи израсходовали слишком много минут/трафика/сообщений\n",
    "* Распределение потребления минут и трафика нормальное, в то время как у сообщений сильно скошено вправо. Что указывает на не популярность СМС. Так же в процессе анализа выяснили, что в выборке больше клиентов с тарифом smart, что значительно сказывается на разнице потраченных минут/трафика/сообщений м/у тарифами.\n",
    "\n",
    "Перспективный тариф: С большой долей вероятность было установлено, что средняя выручка у разных тарифов не равна, и средняя выручка от клиента тарифа ultra оказалась выше, чем у тарифа smart, 1973 рубля против 1271 рубля.\n",
    "\n",
    "На данном этапе можно дать рекомендацию рассмотреть тариф ultra как наиболее перспективный.\n",
    "\n",
    "С одним заменичанием, необходимо проанализировать расходы связанные с обслуживанием/маркетингом/содержанием инфраструктуры и т.п. Может оказаться, что на привлечение и обслуживание тарифа smart мы тратим на много меньше и учтя все затраты будет уже не так очевидно кто перспективней. Необходимо всесторонне рассчитать экономику тарифов, чтобы сделать однозначный вывод.\n",
    "\n",
    "Важно отметить, что нет нужды концентрироваться только на Москве, так как не установлено значительного различие в выручке между Москвой и регионами.\n"
   ]
  }
 ],
 "metadata": {
  "ExecuteTimeLog": [
   {
    "duration": 1343,
    "start_time": "2022-03-27T05:46:46.175Z"
   },
   {
    "duration": 465,
    "start_time": "2022-03-27T05:46:47.520Z"
   },
   {
    "duration": 1123,
    "start_time": "2022-03-27T05:46:47.987Z"
   },
   {
    "duration": 5,
    "start_time": "2022-03-27T05:46:49.112Z"
   },
   {
    "duration": 40,
    "start_time": "2022-03-27T05:46:49.118Z"
   },
   {
    "duration": 23,
    "start_time": "2022-03-27T05:46:49.160Z"
   },
   {
    "duration": 74,
    "start_time": "2022-03-27T05:46:49.185Z"
   },
   {
    "duration": 23,
    "start_time": "2022-03-27T05:46:49.261Z"
   },
   {
    "duration": 33,
    "start_time": "2022-03-27T05:46:49.286Z"
   },
   {
    "duration": 41,
    "start_time": "2022-03-27T05:46:49.321Z"
   },
   {
    "duration": 61,
    "start_time": "2022-03-27T05:46:49.364Z"
   },
   {
    "duration": 15,
    "start_time": "2022-03-27T05:46:49.427Z"
   },
   {
    "duration": 22,
    "start_time": "2022-03-27T05:46:49.443Z"
   },
   {
    "duration": 55,
    "start_time": "2022-03-27T05:46:49.467Z"
   },
   {
    "duration": 10,
    "start_time": "2022-03-27T05:46:49.524Z"
   },
   {
    "duration": 31,
    "start_time": "2022-03-27T05:46:49.535Z"
   },
   {
    "duration": 10,
    "start_time": "2022-03-27T05:46:49.567Z"
   },
   {
    "duration": 51,
    "start_time": "2022-03-27T05:46:49.578Z"
   },
   {
    "duration": 30,
    "start_time": "2022-03-27T05:46:49.630Z"
   },
   {
    "duration": 4,
    "start_time": "2022-03-27T05:46:49.662Z"
   },
   {
    "duration": 6,
    "start_time": "2022-03-27T05:46:49.668Z"
   },
   {
    "duration": 1120,
    "start_time": "2022-03-27T05:46:49.676Z"
   },
   {
    "duration": 0,
    "start_time": "2022-03-27T05:46:50.800Z"
   },
   {
    "duration": 0,
    "start_time": "2022-03-27T05:46:50.801Z"
   },
   {
    "duration": 0,
    "start_time": "2022-03-27T05:46:50.803Z"
   },
   {
    "duration": 0,
    "start_time": "2022-03-27T05:46:50.805Z"
   },
   {
    "duration": 0,
    "start_time": "2022-03-27T05:46:50.806Z"
   },
   {
    "duration": 0,
    "start_time": "2022-03-27T05:46:50.808Z"
   },
   {
    "duration": 0,
    "start_time": "2022-03-27T05:46:50.809Z"
   },
   {
    "duration": 0,
    "start_time": "2022-03-27T05:46:50.811Z"
   },
   {
    "duration": 0,
    "start_time": "2022-03-27T05:46:50.812Z"
   },
   {
    "duration": 1,
    "start_time": "2022-03-27T05:46:50.813Z"
   },
   {
    "duration": 0,
    "start_time": "2022-03-27T05:46:50.815Z"
   },
   {
    "duration": 0,
    "start_time": "2022-03-27T05:46:50.817Z"
   },
   {
    "duration": 0,
    "start_time": "2022-03-27T05:46:50.818Z"
   },
   {
    "duration": 0,
    "start_time": "2022-03-27T05:46:50.819Z"
   },
   {
    "duration": 0,
    "start_time": "2022-03-27T05:46:50.821Z"
   },
   {
    "duration": 0,
    "start_time": "2022-03-27T05:46:50.822Z"
   },
   {
    "duration": 0,
    "start_time": "2022-03-27T05:46:50.824Z"
   },
   {
    "duration": 0,
    "start_time": "2022-03-27T05:46:50.825Z"
   },
   {
    "duration": 1,
    "start_time": "2022-03-27T05:46:50.826Z"
   },
   {
    "duration": 0,
    "start_time": "2022-03-27T05:46:50.828Z"
   },
   {
    "duration": 0,
    "start_time": "2022-03-27T05:46:50.829Z"
   },
   {
    "duration": 0,
    "start_time": "2022-03-27T05:46:50.831Z"
   },
   {
    "duration": 0,
    "start_time": "2022-03-27T05:46:50.832Z"
   },
   {
    "duration": 0,
    "start_time": "2022-03-27T05:46:50.834Z"
   },
   {
    "duration": 0,
    "start_time": "2022-03-27T05:46:50.835Z"
   },
   {
    "duration": 0,
    "start_time": "2022-03-27T05:46:50.836Z"
   },
   {
    "duration": 0,
    "start_time": "2022-03-27T05:46:50.837Z"
   },
   {
    "duration": 1131,
    "start_time": "2022-03-27T05:47:55.704Z"
   },
   {
    "duration": 393,
    "start_time": "2022-03-27T05:47:56.837Z"
   },
   {
    "duration": 879,
    "start_time": "2022-03-27T05:47:57.231Z"
   },
   {
    "duration": 5,
    "start_time": "2022-03-27T05:47:58.112Z"
   },
   {
    "duration": 37,
    "start_time": "2022-03-27T05:47:58.119Z"
   },
   {
    "duration": 21,
    "start_time": "2022-03-27T05:47:58.158Z"
   },
   {
    "duration": 77,
    "start_time": "2022-03-27T05:47:58.181Z"
   },
   {
    "duration": 22,
    "start_time": "2022-03-27T05:47:58.260Z"
   },
   {
    "duration": 31,
    "start_time": "2022-03-27T05:47:58.283Z"
   },
   {
    "duration": 44,
    "start_time": "2022-03-27T05:47:58.316Z"
   },
   {
    "duration": 57,
    "start_time": "2022-03-27T05:47:58.361Z"
   },
   {
    "duration": 15,
    "start_time": "2022-03-27T05:47:58.420Z"
   },
   {
    "duration": 13,
    "start_time": "2022-03-27T05:47:58.436Z"
   },
   {
    "duration": 62,
    "start_time": "2022-03-27T05:47:58.451Z"
   },
   {
    "duration": 9,
    "start_time": "2022-03-27T05:47:58.515Z"
   },
   {
    "duration": 36,
    "start_time": "2022-03-27T05:47:58.526Z"
   },
   {
    "duration": 10,
    "start_time": "2022-03-27T05:47:58.564Z"
   },
   {
    "duration": 42,
    "start_time": "2022-03-27T05:47:58.575Z"
   },
   {
    "duration": 28,
    "start_time": "2022-03-27T05:47:58.619Z"
   },
   {
    "duration": 3,
    "start_time": "2022-03-27T05:47:58.649Z"
   },
   {
    "duration": 9,
    "start_time": "2022-03-27T05:47:58.654Z"
   },
   {
    "duration": 1780,
    "start_time": "2022-03-27T05:47:58.664Z"
   },
   {
    "duration": 12,
    "start_time": "2022-03-27T05:48:00.446Z"
   },
   {
    "duration": 41,
    "start_time": "2022-03-27T05:48:00.459Z"
   },
   {
    "duration": 25,
    "start_time": "2022-03-27T05:48:00.502Z"
   },
   {
    "duration": 17,
    "start_time": "2022-03-27T05:48:00.529Z"
   },
   {
    "duration": 17,
    "start_time": "2022-03-27T05:48:00.548Z"
   },
   {
    "duration": 302,
    "start_time": "2022-03-27T05:48:00.569Z"
   },
   {
    "duration": 48,
    "start_time": "2022-03-27T05:48:00.873Z"
   },
   {
    "duration": 6,
    "start_time": "2022-03-27T05:48:00.923Z"
   },
   {
    "duration": 295,
    "start_time": "2022-03-27T05:48:00.930Z"
   },
   {
    "duration": 7,
    "start_time": "2022-03-27T05:48:01.227Z"
   },
   {
    "duration": 34,
    "start_time": "2022-03-27T05:48:01.236Z"
   },
   {
    "duration": 16,
    "start_time": "2022-03-27T05:48:01.272Z"
   },
   {
    "duration": 5,
    "start_time": "2022-03-27T05:48:01.290Z"
   },
   {
    "duration": 42,
    "start_time": "2022-03-27T05:48:01.296Z"
   },
   {
    "duration": 14,
    "start_time": "2022-03-27T05:48:01.339Z"
   },
   {
    "duration": 4,
    "start_time": "2022-03-27T05:48:01.355Z"
   },
   {
    "duration": 28,
    "start_time": "2022-03-27T05:48:01.360Z"
   },
   {
    "duration": 45,
    "start_time": "2022-03-27T05:48:01.389Z"
   },
   {
    "duration": 95,
    "start_time": "2022-03-27T05:48:01.435Z"
   },
   {
    "duration": 1057,
    "start_time": "2022-03-27T05:48:01.532Z"
   },
   {
    "duration": 80,
    "start_time": "2022-03-27T05:48:02.591Z"
   },
   {
    "duration": 9,
    "start_time": "2022-03-27T05:48:02.672Z"
   },
   {
    "duration": 28,
    "start_time": "2022-03-27T05:48:02.682Z"
   },
   {
    "duration": 7,
    "start_time": "2022-03-27T05:48:02.711Z"
   },
   {
    "duration": 17,
    "start_time": "2022-03-27T05:48:02.719Z"
   },
   {
    "duration": 8,
    "start_time": "2022-03-27T05:48:02.738Z"
   },
   {
    "duration": 12,
    "start_time": "2022-03-27T05:48:02.747Z"
   },
   {
    "duration": 51,
    "start_time": "2022-03-28T05:59:16.488Z"
   },
   {
    "duration": 1301,
    "start_time": "2022-03-28T05:59:25.503Z"
   },
   {
    "duration": 391,
    "start_time": "2022-03-28T05:59:26.807Z"
   },
   {
    "duration": 878,
    "start_time": "2022-03-28T05:59:27.200Z"
   },
   {
    "duration": 32,
    "start_time": "2022-03-28T05:59:28.080Z"
   },
   {
    "duration": 34,
    "start_time": "2022-03-28T05:59:28.113Z"
   },
   {
    "duration": 22,
    "start_time": "2022-03-28T05:59:28.148Z"
   },
   {
    "duration": 68,
    "start_time": "2022-03-28T05:59:28.172Z"
   },
   {
    "duration": 15,
    "start_time": "2022-03-28T05:59:28.242Z"
   },
   {
    "duration": 62,
    "start_time": "2022-03-28T05:59:28.258Z"
   },
   {
    "duration": 49,
    "start_time": "2022-03-28T05:59:28.323Z"
   },
   {
    "duration": 14,
    "start_time": "2022-03-28T05:59:28.374Z"
   },
   {
    "duration": 29,
    "start_time": "2022-03-28T05:59:28.390Z"
   },
   {
    "duration": 43,
    "start_time": "2022-03-28T05:59:28.420Z"
   },
   {
    "duration": 9,
    "start_time": "2022-03-28T05:59:28.464Z"
   },
   {
    "duration": 56,
    "start_time": "2022-03-28T05:59:28.475Z"
   },
   {
    "duration": 9,
    "start_time": "2022-03-28T05:59:28.533Z"
   },
   {
    "duration": 22,
    "start_time": "2022-03-28T05:59:28.543Z"
   },
   {
    "duration": 54,
    "start_time": "2022-03-28T05:59:28.566Z"
   },
   {
    "duration": 3,
    "start_time": "2022-03-28T05:59:28.622Z"
   },
   {
    "duration": 7,
    "start_time": "2022-03-28T05:59:28.626Z"
   },
   {
    "duration": 1850,
    "start_time": "2022-03-28T05:59:28.634Z"
   },
   {
    "duration": 12,
    "start_time": "2022-03-28T05:59:30.486Z"
   },
   {
    "duration": 11,
    "start_time": "2022-03-28T05:59:30.499Z"
   },
   {
    "duration": 20,
    "start_time": "2022-03-28T05:59:30.512Z"
   },
   {
    "duration": 20,
    "start_time": "2022-03-28T05:59:30.533Z"
   },
   {
    "duration": 10,
    "start_time": "2022-03-28T05:59:30.554Z"
   },
   {
    "duration": 286,
    "start_time": "2022-03-28T05:59:30.566Z"
   },
   {
    "duration": 31,
    "start_time": "2022-03-28T05:59:30.856Z"
   },
   {
    "duration": 6,
    "start_time": "2022-03-28T05:59:30.909Z"
   },
   {
    "duration": 283,
    "start_time": "2022-03-28T05:59:30.917Z"
   },
   {
    "duration": 9,
    "start_time": "2022-03-28T05:59:31.202Z"
   },
   {
    "duration": 16,
    "start_time": "2022-03-28T05:59:31.212Z"
   },
   {
    "duration": 10,
    "start_time": "2022-03-28T05:59:31.229Z"
   },
   {
    "duration": 8,
    "start_time": "2022-03-28T05:59:31.240Z"
   },
   {
    "duration": 31,
    "start_time": "2022-03-28T05:59:31.250Z"
   },
   {
    "duration": 15,
    "start_time": "2022-03-28T05:59:31.308Z"
   },
   {
    "duration": 6,
    "start_time": "2022-03-28T05:59:31.324Z"
   },
   {
    "duration": 18,
    "start_time": "2022-03-28T05:59:31.331Z"
   },
   {
    "duration": 27,
    "start_time": "2022-03-28T05:59:31.351Z"
   },
   {
    "duration": 98,
    "start_time": "2022-03-28T05:59:31.379Z"
   },
   {
    "duration": 1061,
    "start_time": "2022-03-28T05:59:31.478Z"
   },
   {
    "duration": 80,
    "start_time": "2022-03-28T05:59:32.541Z"
   },
   {
    "duration": 7,
    "start_time": "2022-03-28T05:59:32.623Z"
   },
   {
    "duration": 9,
    "start_time": "2022-03-28T05:59:32.632Z"
   },
   {
    "duration": 5,
    "start_time": "2022-03-28T05:59:32.643Z"
   },
   {
    "duration": 5,
    "start_time": "2022-03-28T05:59:32.650Z"
   },
   {
    "duration": 9,
    "start_time": "2022-03-28T05:59:32.657Z"
   },
   {
    "duration": 41,
    "start_time": "2022-03-28T05:59:32.667Z"
   },
   {
    "duration": 4,
    "start_time": "2022-03-28T05:59:32.710Z"
   },
   {
    "duration": 61,
    "start_time": "2022-03-28T06:00:46.511Z"
   },
   {
    "duration": 5,
    "start_time": "2022-03-28T06:00:56.647Z"
   },
   {
    "duration": 11,
    "start_time": "2022-03-28T06:01:43.411Z"
   },
   {
    "duration": 5,
    "start_time": "2022-03-28T06:01:44.907Z"
   },
   {
    "duration": 64,
    "start_time": "2022-03-28T06:01:55.120Z"
   },
   {
    "duration": 5,
    "start_time": "2022-03-28T06:01:57.691Z"
   },
   {
    "duration": 6,
    "start_time": "2022-03-28T06:02:01.167Z"
   },
   {
    "duration": 5,
    "start_time": "2022-03-28T06:02:03.863Z"
   },
   {
    "duration": 5,
    "start_time": "2022-03-28T06:02:08.245Z"
   },
   {
    "duration": 6,
    "start_time": "2022-03-28T06:02:45.855Z"
   },
   {
    "duration": 11,
    "start_time": "2022-03-28T06:03:52.387Z"
   },
   {
    "duration": 4,
    "start_time": "2022-03-28T06:07:23.315Z"
   },
   {
    "duration": 387,
    "start_time": "2022-03-28T06:07:23.321Z"
   },
   {
    "duration": 927,
    "start_time": "2022-03-28T06:07:23.710Z"
   },
   {
    "duration": 4,
    "start_time": "2022-03-28T06:07:24.639Z"
   },
   {
    "duration": 32,
    "start_time": "2022-03-28T06:07:24.646Z"
   },
   {
    "duration": 50,
    "start_time": "2022-03-28T06:07:24.680Z"
   },
   {
    "duration": 53,
    "start_time": "2022-03-28T06:07:24.732Z"
   },
   {
    "duration": 32,
    "start_time": "2022-03-28T06:07:24.787Z"
   },
   {
    "duration": 43,
    "start_time": "2022-03-28T06:07:24.820Z"
   },
   {
    "duration": 61,
    "start_time": "2022-03-28T06:07:24.865Z"
   },
   {
    "duration": 14,
    "start_time": "2022-03-28T06:07:24.929Z"
   },
   {
    "duration": 13,
    "start_time": "2022-03-28T06:07:24.944Z"
   },
   {
    "duration": 56,
    "start_time": "2022-03-28T06:07:24.959Z"
   },
   {
    "duration": 9,
    "start_time": "2022-03-28T06:07:25.016Z"
   },
   {
    "duration": 29,
    "start_time": "2022-03-28T06:07:25.027Z"
   },
   {
    "duration": 11,
    "start_time": "2022-03-28T06:07:25.058Z"
   },
   {
    "duration": 46,
    "start_time": "2022-03-28T06:07:25.071Z"
   },
   {
    "duration": 26,
    "start_time": "2022-03-28T06:07:25.119Z"
   },
   {
    "duration": 3,
    "start_time": "2022-03-28T06:07:25.147Z"
   },
   {
    "duration": 7,
    "start_time": "2022-03-28T06:07:25.151Z"
   },
   {
    "duration": 1850,
    "start_time": "2022-03-28T06:07:25.160Z"
   },
   {
    "duration": 12,
    "start_time": "2022-03-28T06:07:27.012Z"
   },
   {
    "duration": 6,
    "start_time": "2022-03-28T06:07:27.025Z"
   },
   {
    "duration": 16,
    "start_time": "2022-03-28T06:07:27.032Z"
   },
   {
    "duration": 9,
    "start_time": "2022-03-28T06:07:27.050Z"
   },
   {
    "duration": 4,
    "start_time": "2022-03-28T06:07:27.060Z"
   },
   {
    "duration": 300,
    "start_time": "2022-03-28T06:07:27.066Z"
   },
   {
    "duration": 49,
    "start_time": "2022-03-28T06:07:27.368Z"
   },
   {
    "duration": 7,
    "start_time": "2022-03-28T06:07:27.421Z"
   },
   {
    "duration": 297,
    "start_time": "2022-03-28T06:07:27.430Z"
   },
   {
    "duration": 7,
    "start_time": "2022-03-28T06:07:27.729Z"
   },
   {
    "duration": 16,
    "start_time": "2022-03-28T06:07:27.738Z"
   },
   {
    "duration": 13,
    "start_time": "2022-03-28T06:07:27.755Z"
   },
   {
    "duration": 5,
    "start_time": "2022-03-28T06:07:27.770Z"
   },
   {
    "duration": 36,
    "start_time": "2022-03-28T06:07:27.809Z"
   },
   {
    "duration": 15,
    "start_time": "2022-03-28T06:07:27.847Z"
   },
   {
    "duration": 4,
    "start_time": "2022-03-28T06:07:27.864Z"
   },
   {
    "duration": 52,
    "start_time": "2022-03-28T06:07:27.870Z"
   },
   {
    "duration": 27,
    "start_time": "2022-03-28T06:07:27.924Z"
   },
   {
    "duration": 98,
    "start_time": "2022-03-28T06:07:27.953Z"
   },
   {
    "duration": 1076,
    "start_time": "2022-03-28T06:07:28.053Z"
   },
   {
    "duration": 83,
    "start_time": "2022-03-28T06:07:29.131Z"
   },
   {
    "duration": 7,
    "start_time": "2022-03-28T06:07:29.216Z"
   },
   {
    "duration": 11,
    "start_time": "2022-03-28T06:07:29.225Z"
   },
   {
    "duration": 4,
    "start_time": "2022-03-28T06:07:29.237Z"
   },
   {
    "duration": 11,
    "start_time": "2022-03-28T06:07:29.243Z"
   },
   {
    "duration": 5,
    "start_time": "2022-03-28T06:07:29.256Z"
   },
   {
    "duration": 6,
    "start_time": "2022-03-28T06:07:29.263Z"
   },
   {
    "duration": 45,
    "start_time": "2022-03-28T06:07:29.271Z"
   },
   {
    "duration": 5,
    "start_time": "2022-03-28T06:07:29.317Z"
   },
   {
    "duration": 5,
    "start_time": "2022-03-28T06:07:29.324Z"
   },
   {
    "duration": 1386,
    "start_time": "2022-03-28T17:02:28.158Z"
   },
   {
    "duration": 447,
    "start_time": "2022-03-28T17:02:29.546Z"
   },
   {
    "duration": 1020,
    "start_time": "2022-03-28T17:02:29.995Z"
   },
   {
    "duration": 5,
    "start_time": "2022-03-28T17:02:31.017Z"
   },
   {
    "duration": 39,
    "start_time": "2022-03-28T17:02:31.024Z"
   },
   {
    "duration": 55,
    "start_time": "2022-03-28T17:02:31.065Z"
   },
   {
    "duration": 59,
    "start_time": "2022-03-28T17:02:31.121Z"
   },
   {
    "duration": 32,
    "start_time": "2022-03-28T17:02:31.181Z"
   },
   {
    "duration": 45,
    "start_time": "2022-03-28T17:02:31.215Z"
   },
   {
    "duration": 62,
    "start_time": "2022-03-28T17:02:31.263Z"
   },
   {
    "duration": 17,
    "start_time": "2022-03-28T17:02:31.327Z"
   },
   {
    "duration": 11,
    "start_time": "2022-03-28T17:02:31.346Z"
   },
   {
    "duration": 74,
    "start_time": "2022-03-28T17:02:31.358Z"
   },
   {
    "duration": 9,
    "start_time": "2022-03-28T17:02:31.434Z"
   },
   {
    "duration": 37,
    "start_time": "2022-03-28T17:02:31.444Z"
   },
   {
    "duration": 19,
    "start_time": "2022-03-28T17:02:31.483Z"
   },
   {
    "duration": 21,
    "start_time": "2022-03-28T17:02:31.503Z"
   },
   {
    "duration": 29,
    "start_time": "2022-03-28T17:02:31.526Z"
   },
   {
    "duration": 3,
    "start_time": "2022-03-28T17:02:31.556Z"
   },
   {
    "duration": 41,
    "start_time": "2022-03-28T17:02:31.561Z"
   },
   {
    "duration": 1733,
    "start_time": "2022-03-28T17:02:31.603Z"
   },
   {
    "duration": 11,
    "start_time": "2022-03-28T17:02:33.338Z"
   },
   {
    "duration": 5,
    "start_time": "2022-03-28T17:02:33.351Z"
   },
   {
    "duration": 21,
    "start_time": "2022-03-28T17:02:33.358Z"
   },
   {
    "duration": 32,
    "start_time": "2022-03-28T17:02:33.381Z"
   },
   {
    "duration": 7,
    "start_time": "2022-03-28T17:02:33.415Z"
   },
   {
    "duration": 298,
    "start_time": "2022-03-28T17:02:33.424Z"
   },
   {
    "duration": 29,
    "start_time": "2022-03-28T17:02:33.725Z"
   },
   {
    "duration": 7,
    "start_time": "2022-03-28T17:02:33.755Z"
   },
   {
    "duration": 273,
    "start_time": "2022-03-28T17:02:33.763Z"
   },
   {
    "duration": 6,
    "start_time": "2022-03-28T17:02:34.037Z"
   },
   {
    "duration": 14,
    "start_time": "2022-03-28T17:02:34.045Z"
   },
   {
    "duration": 13,
    "start_time": "2022-03-28T17:02:34.060Z"
   },
   {
    "duration": 30,
    "start_time": "2022-03-28T17:02:34.075Z"
   },
   {
    "duration": 31,
    "start_time": "2022-03-28T17:02:34.107Z"
   },
   {
    "duration": 14,
    "start_time": "2022-03-28T17:02:34.140Z"
   },
   {
    "duration": 5,
    "start_time": "2022-03-28T17:02:34.156Z"
   },
   {
    "duration": 48,
    "start_time": "2022-03-28T17:02:34.163Z"
   },
   {
    "duration": 24,
    "start_time": "2022-03-28T17:02:34.213Z"
   },
   {
    "duration": 92,
    "start_time": "2022-03-28T17:02:34.239Z"
   },
   {
    "duration": 1002,
    "start_time": "2022-03-28T17:02:34.333Z"
   },
   {
    "duration": 110,
    "start_time": "2022-03-28T17:02:35.337Z"
   },
   {
    "duration": 8,
    "start_time": "2022-03-28T17:02:35.449Z"
   },
   {
    "duration": 9,
    "start_time": "2022-03-28T17:02:35.459Z"
   },
   {
    "duration": 4,
    "start_time": "2022-03-28T17:02:35.469Z"
   },
   {
    "duration": 34,
    "start_time": "2022-03-28T17:02:35.475Z"
   },
   {
    "duration": 6,
    "start_time": "2022-03-28T17:02:35.511Z"
   },
   {
    "duration": 7,
    "start_time": "2022-03-28T17:02:35.518Z"
   },
   {
    "duration": 9,
    "start_time": "2022-03-28T17:02:35.526Z"
   },
   {
    "duration": 5,
    "start_time": "2022-03-28T17:02:35.537Z"
   },
   {
    "duration": 14,
    "start_time": "2022-03-28T17:02:35.544Z"
   }
  ],
  "kernelspec": {
   "display_name": "Python 3 (ipykernel)",
   "language": "python",
   "name": "python3"
  },
  "language_info": {
   "codemirror_mode": {
    "name": "ipython",
    "version": 3
   },
   "file_extension": ".py",
   "mimetype": "text/x-python",
   "name": "python",
   "nbconvert_exporter": "python",
   "pygments_lexer": "ipython3",
   "version": "3.9.5"
  },
  "toc": {
   "base_numbering": 1,
   "nav_menu": {},
   "number_sections": true,
   "sideBar": true,
   "skip_h1_title": true,
   "title_cell": "Table of Contents",
   "title_sidebar": "Contents",
   "toc_cell": false,
   "toc_position": {},
   "toc_section_display": true,
   "toc_window_display": false
  }
 },
 "nbformat": 4,
 "nbformat_minor": 5
}
