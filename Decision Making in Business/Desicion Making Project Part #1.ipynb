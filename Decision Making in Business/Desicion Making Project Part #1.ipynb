{
 "cells": [
  {
   "cell_type": "markdown",
   "metadata": {},
   "source": [
    "# Рынок заведений общественного питания Москвы"
   ]
  },
  {
   "cell_type": "markdown",
   "metadata": {},
   "source": [
    "# Описание проекта:"
   ]
  },
  {
   "cell_type": "markdown",
   "metadata": {},
   "source": [
    "**Контекст:**"
   ]
  },
  {
   "cell_type": "markdown",
   "metadata": {},
   "source": [
    "Чтобы открыть местный бизнес, предпринимателю необходимо понимать уровень потенциального спроса на его услуги или товары в конкретной точке. На самом деле, можно вложить миллионы, добиться отличного уровня сервиса, но бизнес разорится через пару месяцев, потому что в данном месте просто нет целевой аудитории.
     Раньше эта проблема решалась примитивными способами. Предприниматель выбирал несколько мест, которые казались ему перспективными. Затем он или специально нанятые люди просто наблюдали за прохожими, вручную анализировали здания и заведения, которые там уже существуют. Много данных таким образом не соберешь, но кое-какие выводы сделать можно.
     Сложность в том, что инвестиционные риски при таком анализе очень высоки. Ведь патентоспособность точки может быть отличной, но целевой аудитории в ней будет минимум. Начало бизнеса превращается в лотерею: повезет или нет.
     Анализ геоданных полностью меняет правила игры. С его помощью можно решить следующие вопросы:
     - точная оценка объема и платежеспособности целевой аудитории, заинтересованной в конкретных товарах или услугах;
     - анализ графика спроса-предложения в данном месте;
     - проверка конкурентной среды на насыщенность;
     - отслеживание наличия и стоимости свободных площадей для открытия бизнеса.
     Для предпринимателей это значительная возможность снизить риск ошибок при открытии бизнеса. А затраты на использование инструментов анализа данных составят менее 1% от общих операционных расходов. Таким образом, анализ геоданных является очень мощным инструментом, и его следует использовать непосредственно в процедуре выбора места для потенциального кафе."
   ]
  },
  {
   "cell_type": "markdown",
   "metadata": {},
   "source": [
    "# Оглавление:"
   ]
  },
  {
   "cell_type": "markdown",
   "metadata": {},
   "source": [
    "<a id='content'></a>\n",
    "**[1  Шаг. Подготовка данных к анализу](#part_1)** \n",
    "* [Проверим количество посадочных мест](#part_1.1)\n",
    "* [Вывод](#part_1.2)\n",
    "\n",
    "**[2 Шаг. Анализ данных](#part_2)**  \n",
    "* [Исследуем соотношение видов объектов общественного питания по количеству](#part_2.1)\n",
    "* [Соотношение сетевых и несетевых заведений](#part_2.2)\n",
    "* [Распределение сетевых заведений по типу объекта](#part_2.3)\n",
    "* [Изучим долю сетевых заведений от общего количества](#part_2.4)\n",
    "* [Найдем число улиц с одним объектом общественного питания](#part_2.5)\n",
    "* [Посмотрим на распределение количества посадочных мест для улиц с большим количеством объектов общественного питания.](#part_2.6)\n",
    "\n",
    "\n",
    "**[Вывод](#part_3)**  \n",
    "\n",
    "\n",
    "**[3  Шаг. Презентация](#part_4)**  \n"
   ]
  },
  {
   "cell_type": "markdown",
   "metadata": {},
   "source": [
    "## Шаг. Подготовка данных к анализу\n",
    "<a id='part_1'></a>"
   ]
  },
  {
   "cell_type": "markdown",
   "metadata": {},
   "source": [
    "Импортируем нужные нам библиотеки и проведем первичный анализ данных."
   ]
  },
  {
   "cell_type": "code",
   "execution_count": 1,
   "metadata": {},
   "outputs": [],
   "source": [
    "# импорт необходимых библиотек и настройка jupiter\n",
    "import pandas as pd\n",
    "import matplotlib.pyplot as plt\n",
    "import math\n",
    "import seaborn as sns\n",
    "from scipy import stats as st\n",
    "import numpy as np \n",
    "import datetime as dt\n",
    "import warnings\n",
    "warnings.filterwarnings('ignore')\n",
    "import plotly.express as px\n",
    "from plotly import graph_objects as go\n",
    "import requests \n",
    "import time\n",
    "from io import BytesIO\n",
    "\n",
    "# для отображения в jupiter всех колонок и столбцов df + сокращу количество цифр после запятой\n",
    "pd.options.display.max_colwidth = 100\n",
    "pd.set_option('display.max_columns', None)\n",
    "pd.set_option('display.max_rows', None)\n",
    "pd.set_option('display.precision',2)"
   ]
  },
  {
   "cell_type": "code",
   "execution_count": 2,
   "metadata": {},
   "outputs": [],
   "source": [
    "rest_data = pd.read_csv('/datasets/rest_data.csv')"
   ]
  },
  {
   "cell_type": "code",
   "execution_count": 3,
   "metadata": {},
   "outputs": [
    {
     "data": {
      "text/html": [
       "<div>\n",
       "<style scoped>\n",
       "    .dataframe tbody tr th:only-of-type {\n",
       "        vertical-align: middle;\n",
       "    }\n",
       "\n",
       "    .dataframe tbody tr th {\n",
       "        vertical-align: top;\n",
       "    }\n",
       "\n",
       "    .dataframe thead th {\n",
       "        text-align: right;\n",
       "    }\n",
       "</style>\n",
       "<table border=\"1\" class=\"dataframe\">\n",
       "  <thead>\n",
       "    <tr style=\"text-align: right;\">\n",
       "      <th></th>\n",
       "      <th>id</th>\n",
       "      <th>object_name</th>\n",
       "      <th>chain</th>\n",
       "      <th>object_type</th>\n",
       "      <th>address</th>\n",
       "      <th>number</th>\n",
       "    </tr>\n",
       "  </thead>\n",
       "  <tbody>\n",
       "    <tr>\n",
       "      <th>314</th>\n",
       "      <td>22640</td>\n",
       "      <td>Шоколадница</td>\n",
       "      <td>да</td>\n",
       "      <td>кафе</td>\n",
       "      <td>город Москва, улица Большая Якиманка, дом 32</td>\n",
       "      <td>50</td>\n",
       "    </tr>\n",
       "    <tr>\n",
       "      <th>6011</th>\n",
       "      <td>28866</td>\n",
       "      <td>ШКОЛА 451</td>\n",
       "      <td>нет</td>\n",
       "      <td>столовая</td>\n",
       "      <td>город Москва, шоссе Энтузиастов, дом 12, корпус 2, строение 1</td>\n",
       "      <td>160</td>\n",
       "    </tr>\n",
       "    <tr>\n",
       "      <th>14868</th>\n",
       "      <td>217689</td>\n",
       "      <td>Cinnabon</td>\n",
       "      <td>нет</td>\n",
       "      <td>кафе</td>\n",
       "      <td>город Москва, Ярцевская улица, дом 19</td>\n",
       "      <td>12</td>\n",
       "    </tr>\n",
       "    <tr>\n",
       "      <th>8246</th>\n",
       "      <td>157583</td>\n",
       "      <td>АВ-Дейли</td>\n",
       "      <td>нет</td>\n",
       "      <td>кафетерий</td>\n",
       "      <td>город Москва, 1-я Тверская-Ямская улица, дом 21</td>\n",
       "      <td>7</td>\n",
       "    </tr>\n",
       "    <tr>\n",
       "      <th>5960</th>\n",
       "      <td>80131</td>\n",
       "      <td>Кафе «Карамель»</td>\n",
       "      <td>нет</td>\n",
       "      <td>кафе</td>\n",
       "      <td>город Москва, Донецкая улица, дом 35</td>\n",
       "      <td>45</td>\n",
       "    </tr>\n",
       "  </tbody>\n",
       "</table>\n",
       "</div>"
      ],
      "text/plain": [
       "           id      object_name chain object_type  \\\n",
       "314     22640      Шоколадница    да        кафе   \n",
       "6011    28866        ШКОЛА 451   нет    столовая   \n",
       "14868  217689         Cinnabon   нет        кафе   \n",
       "8246   157583         АВ-Дейли   нет   кафетерий   \n",
       "5960    80131  Кафе «Карамель»   нет        кафе   \n",
       "\n",
       "                                                             address  number  \n",
       "314                     город Москва, улица Большая Якиманка, дом 32      50  \n",
       "6011   город Москва, шоссе Энтузиастов, дом 12, корпус 2, строение 1     160  \n",
       "14868                          город Москва, Ярцевская улица, дом 19      12  \n",
       "8246                 город Москва, 1-я Тверская-Ямская улица, дом 21       7  \n",
       "5960                            город Москва, Донецкая улица, дом 35      45  "
      ]
     },
     "metadata": {},
     "output_type": "display_data"
    },
    {
     "name": "stdout",
     "output_type": "stream",
     "text": [
      "<class 'pandas.core.frame.DataFrame'>\n",
      "RangeIndex: 15366 entries, 0 to 15365\n",
      "Data columns (total 6 columns):\n",
      " #   Column       Non-Null Count  Dtype \n",
      "---  ------       --------------  ----- \n",
      " 0   id           15366 non-null  int64 \n",
      " 1   object_name  15366 non-null  object\n",
      " 2   chain        15366 non-null  object\n",
      " 3   object_type  15366 non-null  object\n",
      " 4   address      15366 non-null  object\n",
      " 5   number       15366 non-null  int64 \n",
      "dtypes: int64(2), object(4)\n",
      "memory usage: 720.4+ KB\n"
     ]
    },
    {
     "data": {
      "text/html": [
       "<div>\n",
       "<style scoped>\n",
       "    .dataframe tbody tr th:only-of-type {\n",
       "        vertical-align: middle;\n",
       "    }\n",
       "\n",
       "    .dataframe tbody tr th {\n",
       "        vertical-align: top;\n",
       "    }\n",
       "\n",
       "    .dataframe thead th {\n",
       "        text-align: right;\n",
       "    }\n",
       "</style>\n",
       "<table border=\"1\" class=\"dataframe\">\n",
       "  <thead>\n",
       "    <tr style=\"text-align: right;\">\n",
       "      <th></th>\n",
       "      <th>id</th>\n",
       "      <th>number</th>\n",
       "    </tr>\n",
       "  </thead>\n",
       "  <tbody>\n",
       "    <tr>\n",
       "      <th>count</th>\n",
       "      <td>15366.00</td>\n",
       "      <td>15366.00</td>\n",
       "    </tr>\n",
       "    <tr>\n",
       "      <th>mean</th>\n",
       "      <td>119720.07</td>\n",
       "      <td>59.55</td>\n",
       "    </tr>\n",
       "    <tr>\n",
       "      <th>std</th>\n",
       "      <td>73036.13</td>\n",
       "      <td>74.74</td>\n",
       "    </tr>\n",
       "    <tr>\n",
       "      <th>min</th>\n",
       "      <td>838.00</td>\n",
       "      <td>0.00</td>\n",
       "    </tr>\n",
       "    <tr>\n",
       "      <th>25%</th>\n",
       "      <td>28524.00</td>\n",
       "      <td>12.00</td>\n",
       "    </tr>\n",
       "    <tr>\n",
       "      <th>50%</th>\n",
       "      <td>144974.50</td>\n",
       "      <td>40.00</td>\n",
       "    </tr>\n",
       "    <tr>\n",
       "      <th>75%</th>\n",
       "      <td>184262.25</td>\n",
       "      <td>80.00</td>\n",
       "    </tr>\n",
       "    <tr>\n",
       "      <th>max</th>\n",
       "      <td>223439.00</td>\n",
       "      <td>1700.00</td>\n",
       "    </tr>\n",
       "  </tbody>\n",
       "</table>\n",
       "</div>"
      ],
      "text/plain": [
       "              id    number\n",
       "count   15366.00  15366.00\n",
       "mean   119720.07     59.55\n",
       "std     73036.13     74.74\n",
       "min       838.00      0.00\n",
       "25%     28524.00     12.00\n",
       "50%    144974.50     40.00\n",
       "75%    184262.25     80.00\n",
       "max    223439.00   1700.00"
      ]
     },
     "metadata": {},
     "output_type": "display_data"
    },
    {
     "name": "stdout",
     "output_type": "stream",
     "text": [
      "Количество дубликатов: 82\n"
     ]
    }
   ],
   "source": [
    "display(rest_data.sample(5))\n",
    "rest_data.info()\n",
    "display(rest_data.describe())\n",
    "print('Количество дубликатов:', rest_data[['object_name','address','object_type','number']].duplicated().sum())"
   ]
  },
  {
   "cell_type": "markdown",
   "metadata": {},
   "source": [
    "Неявных дубликатов было выявлено 82, это немного и их удаление почти никак не повлияет на исследование, можем удалить."
   ]
  },
  {
   "cell_type": "code",
   "execution_count": 4,
   "metadata": {},
   "outputs": [
    {
     "name": "stdout",
     "output_type": "stream",
     "text": [
      "<class 'pandas.core.frame.DataFrame'>\n",
      "RangeIndex: 15284 entries, 0 to 15283\n",
      "Data columns (total 6 columns):\n",
      " #   Column       Non-Null Count  Dtype \n",
      "---  ------       --------------  ----- \n",
      " 0   id           15284 non-null  int64 \n",
      " 1   object_name  15284 non-null  object\n",
      " 2   chain        15284 non-null  object\n",
      " 3   object_type  15284 non-null  object\n",
      " 4   address      15284 non-null  object\n",
      " 5   number       15284 non-null  int64 \n",
      "dtypes: int64(2), object(4)\n",
      "memory usage: 716.6+ KB\n"
     ]
    },
    {
     "data": {
      "text/html": [
       "<div>\n",
       "<style scoped>\n",
       "    .dataframe tbody tr th:only-of-type {\n",
       "        vertical-align: middle;\n",
       "    }\n",
       "\n",
       "    .dataframe tbody tr th {\n",
       "        vertical-align: top;\n",
       "    }\n",
       "\n",
       "    .dataframe thead th {\n",
       "        text-align: right;\n",
       "    }\n",
       "</style>\n",
       "<table border=\"1\" class=\"dataframe\">\n",
       "  <thead>\n",
       "    <tr style=\"text-align: right;\">\n",
       "      <th></th>\n",
       "      <th>id</th>\n",
       "      <th>number</th>\n",
       "    </tr>\n",
       "  </thead>\n",
       "  <tbody>\n",
       "    <tr>\n",
       "      <th>count</th>\n",
       "      <td>15284.00</td>\n",
       "      <td>15284.00</td>\n",
       "    </tr>\n",
       "    <tr>\n",
       "      <th>mean</th>\n",
       "      <td>119539.12</td>\n",
       "      <td>59.78</td>\n",
       "    </tr>\n",
       "    <tr>\n",
       "      <th>std</th>\n",
       "      <td>73062.22</td>\n",
       "      <td>74.84</td>\n",
       "    </tr>\n",
       "    <tr>\n",
       "      <th>min</th>\n",
       "      <td>838.00</td>\n",
       "      <td>0.00</td>\n",
       "    </tr>\n",
       "    <tr>\n",
       "      <th>25%</th>\n",
       "      <td>28495.75</td>\n",
       "      <td>14.00</td>\n",
       "    </tr>\n",
       "    <tr>\n",
       "      <th>50%</th>\n",
       "      <td>144812.50</td>\n",
       "      <td>40.00</td>\n",
       "    </tr>\n",
       "    <tr>\n",
       "      <th>75%</th>\n",
       "      <td>184181.00</td>\n",
       "      <td>80.00</td>\n",
       "    </tr>\n",
       "    <tr>\n",
       "      <th>max</th>\n",
       "      <td>223439.00</td>\n",
       "      <td>1700.00</td>\n",
       "    </tr>\n",
       "  </tbody>\n",
       "</table>\n",
       "</div>"
      ],
      "text/plain": [
       "              id    number\n",
       "count   15284.00  15284.00\n",
       "mean   119539.12     59.78\n",
       "std     73062.22     74.84\n",
       "min       838.00      0.00\n",
       "25%     28495.75     14.00\n",
       "50%    144812.50     40.00\n",
       "75%    184181.00     80.00\n",
       "max    223439.00   1700.00"
      ]
     },
     "metadata": {},
     "output_type": "display_data"
    },
    {
     "name": "stdout",
     "output_type": "stream",
     "text": [
      "Количество дубликатов: 0\n"
     ]
    }
   ],
   "source": [
    "rest_data = (rest_data\n",
    "                .drop_duplicates(subset = ['object_name', 'address', 'object_type','number'], keep='last')\n",
    "                .dropna().reset_index(drop=True)\n",
    "          )\n",
    "rest_data.info()\n",
    "display(rest_data.describe())\n",
    "print('Количество дубликатов:', rest_data[['object_name','address','object_type','number']].duplicated().sum())"
   ]
  },
  {
   "cell_type": "markdown",
   "metadata": {},
   "source": [
    "Отлично, от дубликатов избавились, можем продолжать исследование."
   ]
  },
  {
   "cell_type": "code",
   "execution_count": 5,
   "metadata": {},
   "outputs": [
    {
     "data": {
      "text/plain": [
       "нет    12320\n",
       "да      2964\n",
       "Name: chain, dtype: int64"
      ]
     },
     "execution_count": 5,
     "metadata": {},
     "output_type": "execute_result"
    }
   ],
   "source": [
    "rest_data['chain'].value_counts()"
   ]
  },
  {
   "cell_type": "code",
   "execution_count": 6,
   "metadata": {},
   "outputs": [
    {
     "data": {
      "text/plain": [
       "кафе                                 6071\n",
       "столовая                             2584\n",
       "ресторан                             2282\n",
       "предприятие быстрого обслуживания    1898\n",
       "бар                                   855\n",
       "буфет                                 577\n",
       "кафетерий                             395\n",
       "закусочная                            349\n",
       "магазин (отдел кулинарии)             273\n",
       "Name: object_type, dtype: int64"
      ]
     },
     "execution_count": 6,
     "metadata": {},
     "output_type": "execute_result"
    }
   ],
   "source": [
    "rest_data['object_type'].value_counts()"
   ]
  },
  {
   "cell_type": "code",
   "execution_count": 7,
   "metadata": {
    "scrolled": true
   },
   "outputs": [
    {
     "data": {
      "text/plain": [
       "Столовая           267\n",
       "Шаурма             226\n",
       "Кафе               222\n",
       "KFC                155\n",
       "Шоколадница        142\n",
       "Бургер Кинг        122\n",
       "Макдоналдс         121\n",
       "Домино'с Пицца      86\n",
       "Теремок             84\n",
       "Крошка Картошка     82\n",
       "Name: object_name, dtype: int64"
      ]
     },
     "execution_count": 7,
     "metadata": {},
     "output_type": "execute_result"
    }
   ],
   "source": [
    "rest_data['object_name'].value_counts().head(10)"
   ]
  },
  {
   "cell_type": "code",
   "execution_count": 8,
   "metadata": {},
   "outputs": [
    {
     "data": {
      "text/plain": [
       "Мама Гочи                      1\n",
       "Булочная Батон                 1\n",
       "ШКОЛА 1242 КДП                 1\n",
       "Все твои друзья                1\n",
       "Аяна                           1\n",
       "Кафе ГУРМАН                    1\n",
       "Шаурма-24                      1\n",
       "Столовая при ГОУ СПО СК №41    1\n",
       "БАРБЕКЮ РЕСТОРАН               1\n",
       "ОАО «ФАБЕРЛИК КОСМЕТИК»        1\n",
       "Name: object_name, dtype: int64"
      ]
     },
     "execution_count": 8,
     "metadata": {},
     "output_type": "execute_result"
    }
   ],
   "source": [
    "rest_data['object_name'].value_counts().tail(10)"
   ]
  },
  {
   "cell_type": "markdown",
   "metadata": {},
   "source": [
    "Во-первых отметим проблему с регистрами, чтобы их группировать, нужно привести все наименования к единому регистру."
   ]
  },
  {
   "cell_type": "code",
   "execution_count": 9,
   "metadata": {},
   "outputs": [
    {
     "data": {
      "text/plain": [
       "столовая           321\n",
       "кафе               264\n",
       "шаурма             242\n",
       "шоколадница        158\n",
       "kfc                155\n",
       "макдоналдс         150\n",
       "бургер кинг        137\n",
       "теремок             94\n",
       "домино'с пицца      90\n",
       "крошка картошка     90\n",
       "Name: object_name, dtype: int64"
      ]
     },
     "execution_count": 9,
     "metadata": {},
     "output_type": "execute_result"
    }
   ],
   "source": [
    "rest_data['object_name'] = rest_data['object_name'].str.lower()\n",
    "rest_data['object_name'].value_counts().head(10)"
   ]
  },
  {
   "cell_type": "markdown",
   "metadata": {},
   "source": [
    "Сразу же поменялись исходные единицы количества заведений, значит, что одни и те же заведения имели разные регисты, поэтому последующий анализ будет более продуктивным."
   ]
  },
  {
   "cell_type": "markdown",
   "metadata": {},
   "source": [
    "### Проверим количество посадочных мест\n",
    "<a id='part_1.1'></a>"
   ]
  },
  {
   "cell_type": "code",
   "execution_count": 36,
   "metadata": {},
   "outputs": [
    {
     "data": {
      "image/png": "[encoded data removed]",
      "text/plain": [
       "<Figure size 432x288 with 1 Axes>"
      ]
     },
     "metadata": {
      "needs_background": "light"
     },
     "output_type": "display_data"
    }
   ],
   "source": [
    "sns.boxplot(data=rest_data['number'],width=0.5)\n",
    "plt.title('scattering of the number of seats');"
   ]
  },
  {
   "cell_type": "markdown",
   "metadata": {},
   "source": [
    "Заметим, основные значения находятся в количестве посадочных мест - до 750."
   ]
  },
  {
   "cell_type": "code",
   "execution_count": 11,
   "metadata": {},
   "outputs": [
    {
     "data": {
      "text/html": [
       "<div>\n",
       "<style scoped>\n",
       "    .dataframe tbody tr th:only-of-type {\n",
       "        vertical-align: middle;\n",
       "    }\n",
       "\n",
       "    .dataframe tbody tr th {\n",
       "        vertical-align: top;\n",
       "    }\n",
       "\n",
       "    .dataframe thead th {\n",
       "        text-align: right;\n",
       "    }\n",
       "</style>\n",
       "<table border=\"1\" class=\"dataframe\">\n",
       "  <thead>\n",
       "    <tr style=\"text-align: right;\">\n",
       "      <th></th>\n",
       "      <th>id</th>\n",
       "      <th>object_name</th>\n",
       "      <th>chain</th>\n",
       "      <th>object_type</th>\n",
       "      <th>address</th>\n",
       "      <th>number</th>\n",
       "    </tr>\n",
       "  </thead>\n",
       "  <tbody>\n",
       "    <tr>\n",
       "      <th>2313</th>\n",
       "      <td>26560</td>\n",
       "      <td>ресторан «альфа»</td>\n",
       "      <td>нет</td>\n",
       "      <td>ресторан</td>\n",
       "      <td>город Москва, Измайловское шоссе, дом 71, корпус А</td>\n",
       "      <td>1040</td>\n",
       "    </tr>\n",
       "    <tr>\n",
       "      <th>3683</th>\n",
       "      <td>27026</td>\n",
       "      <td>рум сервис</td>\n",
       "      <td>нет</td>\n",
       "      <td>ресторан</td>\n",
       "      <td>город Москва, площадь Европы, дом 2</td>\n",
       "      <td>1200</td>\n",
       "    </tr>\n",
       "    <tr>\n",
       "      <th>4476</th>\n",
       "      <td>27024</td>\n",
       "      <td>рум сервис</td>\n",
       "      <td>нет</td>\n",
       "      <td>ресторан</td>\n",
       "      <td>город Москва, Кутузовский проспект, дом 2/1, строение 1</td>\n",
       "      <td>1200</td>\n",
       "    </tr>\n",
       "    <tr>\n",
       "      <th>5637</th>\n",
       "      <td>29232</td>\n",
       "      <td>столовая московский гуманитарный университет</td>\n",
       "      <td>нет</td>\n",
       "      <td>столовая</td>\n",
       "      <td>город Москва, улица Юности, дом 5, строение 1</td>\n",
       "      <td>760</td>\n",
       "    </tr>\n",
       "    <tr>\n",
       "      <th>8120</th>\n",
       "      <td>80291</td>\n",
       "      <td>банкетный зал шелк</td>\n",
       "      <td>нет</td>\n",
       "      <td>ресторан</td>\n",
       "      <td>город Москва, Большой Саввинский переулок, дом 12, строение 10Г</td>\n",
       "      <td>1500</td>\n",
       "    </tr>\n",
       "    <tr>\n",
       "      <th>8317</th>\n",
       "      <td>27750</td>\n",
       "      <td>столовая-буфет</td>\n",
       "      <td>нет</td>\n",
       "      <td>столовая</td>\n",
       "      <td>город Москва, улица Волхонка, дом 15</td>\n",
       "      <td>1400</td>\n",
       "    </tr>\n",
       "    <tr>\n",
       "      <th>9034</th>\n",
       "      <td>19719</td>\n",
       "      <td>комбинат питания «управление академсервис»</td>\n",
       "      <td>нет</td>\n",
       "      <td>столовая</td>\n",
       "      <td>город Москва, проспект Вернадского, дом 84, строение 1</td>\n",
       "      <td>1288</td>\n",
       "    </tr>\n",
       "    <tr>\n",
       "      <th>9920</th>\n",
       "      <td>171116</td>\n",
       "      <td>eataly</td>\n",
       "      <td>нет</td>\n",
       "      <td>ресторан</td>\n",
       "      <td>город Москва, Киевская улица, дом 2</td>\n",
       "      <td>920</td>\n",
       "    </tr>\n",
       "    <tr>\n",
       "      <th>12667</th>\n",
       "      <td>199696</td>\n",
       "      <td>arena by soho family</td>\n",
       "      <td>нет</td>\n",
       "      <td>бар</td>\n",
       "      <td>город Москва, Кутузовский проспект, дом 36, строение 11</td>\n",
       "      <td>1700</td>\n",
       "    </tr>\n",
       "  </tbody>\n",
       "</table>\n",
       "</div>"
      ],
      "text/plain": [
       "           id                                   object_name chain object_type  \\\n",
       "2313    26560                              ресторан «альфа»   нет    ресторан   \n",
       "3683    27026                                    рум сервис   нет    ресторан   \n",
       "4476    27024                                    рум сервис   нет    ресторан   \n",
       "5637    29232  столовая московский гуманитарный университет   нет    столовая   \n",
       "8120    80291                            банкетный зал шелк   нет    ресторан   \n",
       "8317    27750                                столовая-буфет   нет    столовая   \n",
       "9034    19719    комбинат питания «управление академсервис»   нет    столовая   \n",
       "9920   171116                                        eataly   нет    ресторан   \n",
       "12667  199696                          arena by soho family   нет         бар   \n",
       "\n",
       "                                                               address  number  \n",
       "2313                город Москва, Измайловское шоссе, дом 71, корпус А    1040  \n",
       "3683                               город Москва, площадь Европы, дом 2    1200  \n",
       "4476           город Москва, Кутузовский проспект, дом 2/1, строение 1    1200  \n",
       "5637                     город Москва, улица Юности, дом 5, строение 1     760  \n",
       "8120   город Москва, Большой Саввинский переулок, дом 12, строение 10Г    1500  \n",
       "8317                              город Москва, улица Волхонка, дом 15    1400  \n",
       "9034            город Москва, проспект Вернадского, дом 84, строение 1    1288  \n",
       "9920                               город Москва, Киевская улица, дом 2     920  \n",
       "12667          город Москва, Кутузовский проспект, дом 36, строение 11    1700  "
      ]
     },
     "execution_count": 11,
     "metadata": {},
     "output_type": "execute_result"
    }
   ],
   "source": [
    "rest_data.query('number > 750').head(10)"
   ]
  },
  {
   "cell_type": "markdown",
   "metadata": {},
   "source": [
    "В основном это столовые и рестораны, всё логично."
   ]
  },
  {
   "cell_type": "code",
   "execution_count": 12,
   "metadata": {},
   "outputs": [
    {
     "data": {
      "text/html": [
       "<div>\n",
       "<style scoped>\n",
       "    .dataframe tbody tr th:only-of-type {\n",
       "        vertical-align: middle;\n",
       "    }\n",
       "\n",
       "    .dataframe tbody tr th {\n",
       "        vertical-align: top;\n",
       "    }\n",
       "\n",
       "    .dataframe thead th {\n",
       "        text-align: right;\n",
       "    }\n",
       "</style>\n",
       "<table border=\"1\" class=\"dataframe\">\n",
       "  <thead>\n",
       "    <tr style=\"text-align: right;\">\n",
       "      <th></th>\n",
       "      <th>id</th>\n",
       "      <th>object_name</th>\n",
       "      <th>chain</th>\n",
       "      <th>object_type</th>\n",
       "      <th>address</th>\n",
       "      <th>number</th>\n",
       "    </tr>\n",
       "  </thead>\n",
       "  <tbody>\n",
       "    <tr>\n",
       "      <th>9146</th>\n",
       "      <td>160834</td>\n",
       "      <td>кофейня «coffeeway»</td>\n",
       "      <td>нет</td>\n",
       "      <td>кафетерий</td>\n",
       "      <td>город Москва, улица Борисовские Пруды, дом 26, корпус 2</td>\n",
       "      <td>0</td>\n",
       "    </tr>\n",
       "    <tr>\n",
       "      <th>11944</th>\n",
       "      <td>187763</td>\n",
       "      <td>кофе с собой</td>\n",
       "      <td>да</td>\n",
       "      <td>предприятие быстрого обслуживания</td>\n",
       "      <td>город Москва, Сходненская улица, дом 37</td>\n",
       "      <td>0</td>\n",
       "    </tr>\n",
       "    <tr>\n",
       "      <th>9844</th>\n",
       "      <td>170669</td>\n",
       "      <td>узбекская кухня</td>\n",
       "      <td>нет</td>\n",
       "      <td>предприятие быстрого обслуживания</td>\n",
       "      <td>город Москва, Волгоградский проспект, дом 32, корпус 2</td>\n",
       "      <td>0</td>\n",
       "    </tr>\n",
       "    <tr>\n",
       "      <th>10108</th>\n",
       "      <td>172718</td>\n",
       "      <td>шаурма в пите</td>\n",
       "      <td>нет</td>\n",
       "      <td>закусочная</td>\n",
       "      <td>город Москва, улица Хачатуряна, дом 20А</td>\n",
       "      <td>0</td>\n",
       "    </tr>\n",
       "    <tr>\n",
       "      <th>14883</th>\n",
       "      <td>210862</td>\n",
       "      <td>гриль хауз</td>\n",
       "      <td>нет</td>\n",
       "      <td>предприятие быстрого обслуживания</td>\n",
       "      <td>город Москва, город Московский, улица Хабарова, дом 2</td>\n",
       "      <td>0</td>\n",
       "    </tr>\n",
       "    <tr>\n",
       "      <th>10504</th>\n",
       "      <td>185369</td>\n",
       "      <td>салаты выпечка</td>\n",
       "      <td>нет</td>\n",
       "      <td>закусочная</td>\n",
       "      <td>город Москва, Большая Серпуховская улица, дом 31, корпус 11</td>\n",
       "      <td>0</td>\n",
       "    </tr>\n",
       "    <tr>\n",
       "      <th>14709</th>\n",
       "      <td>213391</td>\n",
       "      <td>фо бо</td>\n",
       "      <td>нет</td>\n",
       "      <td>кафе</td>\n",
       "      <td>город Москва, поселение Сосенское, Калужское шоссе, 22-й километр, дом 10</td>\n",
       "      <td>0</td>\n",
       "    </tr>\n",
       "    <tr>\n",
       "      <th>11280</th>\n",
       "      <td>189869</td>\n",
       "      <td>бутово гриль</td>\n",
       "      <td>нет</td>\n",
       "      <td>предприятие быстрого обслуживания</td>\n",
       "      <td>город Москва, Старокачаловская улица, дом 5</td>\n",
       "      <td>0</td>\n",
       "    </tr>\n",
       "    <tr>\n",
       "      <th>13772</th>\n",
       "      <td>222493</td>\n",
       "      <td>пицерия пауло виктория</td>\n",
       "      <td>нет</td>\n",
       "      <td>закусочная</td>\n",
       "      <td>город Москва, Профсоюзная улица, дом 109</td>\n",
       "      <td>0</td>\n",
       "    </tr>\n",
       "    <tr>\n",
       "      <th>12166</th>\n",
       "      <td>192067</td>\n",
       "      <td>шаурма</td>\n",
       "      <td>нет</td>\n",
       "      <td>закусочная</td>\n",
       "      <td>город Москва, Ярославское шоссе, дом 10</td>\n",
       "      <td>0</td>\n",
       "    </tr>\n",
       "  </tbody>\n",
       "</table>\n",
       "</div>"
      ],
      "text/plain": [
       "           id             object_name chain  \\\n",
       "9146   160834     кофейня «coffeeway»   нет   \n",
       "11944  187763            кофе с собой    да   \n",
       "9844   170669         узбекская кухня   нет   \n",
       "10108  172718           шаурма в пите   нет   \n",
       "14883  210862              гриль хауз   нет   \n",
       "10504  185369          салаты выпечка   нет   \n",
       "14709  213391                   фо бо   нет   \n",
       "11280  189869            бутово гриль   нет   \n",
       "13772  222493  пицерия пауло виктория   нет   \n",
       "12166  192067                  шаурма   нет   \n",
       "\n",
       "                             object_type  \\\n",
       "9146                           кафетерий   \n",
       "11944  предприятие быстрого обслуживания   \n",
       "9844   предприятие быстрого обслуживания   \n",
       "10108                         закусочная   \n",
       "14883  предприятие быстрого обслуживания   \n",
       "10504                         закусочная   \n",
       "14709                               кафе   \n",
       "11280  предприятие быстрого обслуживания   \n",
       "13772                         закусочная   \n",
       "12166                         закусочная   \n",
       "\n",
       "                                                                         address  \\\n",
       "9146                     город Москва, улица Борисовские Пруды, дом 26, корпус 2   \n",
       "11944                                    город Москва, Сходненская улица, дом 37   \n",
       "9844                      город Москва, Волгоградский проспект, дом 32, корпус 2   \n",
       "10108                                    город Москва, улица Хачатуряна, дом 20А   \n",
       "14883                      город Москва, город Московский, улица Хабарова, дом 2   \n",
       "10504                город Москва, Большая Серпуховская улица, дом 31, корпус 11   \n",
       "14709  город Москва, поселение Сосенское, Калужское шоссе, 22-й километр, дом 10   \n",
       "11280                                город Москва, Старокачаловская улица, дом 5   \n",
       "13772                                   город Москва, Профсоюзная улица, дом 109   \n",
       "12166                                    город Москва, Ярославское шоссе, дом 10   \n",
       "\n",
       "       number  \n",
       "9146        0  \n",
       "11944       0  \n",
       "9844        0  \n",
       "10108       0  \n",
       "14883       0  \n",
       "10504       0  \n",
       "14709       0  \n",
       "11280       0  \n",
       "13772       0  \n",
       "12166       0  "
      ]
     },
     "execution_count": 12,
     "metadata": {},
     "output_type": "execute_result"
    }
   ],
   "source": [
    "rest_data.query('number == 0').sample(10)"
   ]
  },
  {
   "cell_type": "markdown",
   "metadata": {},
   "source": [
    "Буфеты, кафетерии и предприятия быстрого обслуживания, 0 посадочных мест для подобных заведений так же выглядит логичным."
   ]
  },
  {
   "cell_type": "markdown",
   "metadata": {},
   "source": [
    "Для удобства переименуем некоторые значения."
   ]
  },
  {
   "cell_type": "code",
   "execution_count": 13,
   "metadata": {},
   "outputs": [],
   "source": [
    "rest_data.loc[rest_data['object_type'] == 'предприятие быстрого обслуживания', 'object_type'] = 'фастфуд'\n",
    "rest_data.loc[rest_data['object_type'] == 'магазин (отдел кулинарии)', 'object_type'] = 'кулинария'"
   ]
  },
  {
   "cell_type": "code",
   "execution_count": 14,
   "metadata": {},
   "outputs": [
    {
     "data": {
      "text/plain": [
       "кафе          6071\n",
       "столовая      2584\n",
       "ресторан      2282\n",
       "фастфуд       1898\n",
       "бар            855\n",
       "буфет          577\n",
       "кафетерий      395\n",
       "закусочная     349\n",
       "кулинария      273\n",
       "Name: object_type, dtype: int64"
      ]
     },
     "execution_count": 14,
     "metadata": {},
     "output_type": "execute_result"
    }
   ],
   "source": [
    "rest_data['object_type'].value_counts()"
   ]
  },
  {
   "cell_type": "markdown",
   "metadata": {},
   "source": [
    "### Вывод:\n",
    "<a id='part_1.2'></a>"
   ]
  },
  {
   "cell_type": "markdown",
   "metadata": {},
   "source": [
    "Данные были изучены и подготовлены к анализу, основными проблемами являлся регистр, который мы своевременно исправили на нижний. Так же заменили некоторые названия для удобства. Были удалены неявные дубликаты, теперь данные \"чистыe\"."
   ]
  },
  {
   "cell_type": "markdown",
   "metadata": {},
   "source": [
    "## Шаг. Анализ данных.\n",
    "<a id='part_2'></a>"
   ]
  },
  {
   "cell_type": "markdown",
   "metadata": {},
   "source": [
    "### Исследуем соотношение видов объектов общественного питания по количеству\n",
    "<a id='part_2.1'></a>"
   ]
  },
  {
   "cell_type": "code",
   "execution_count": 37,
   "metadata": {},
   "outputs": [
    {
     "data": {
      "application/vnd.plotly.v1+json": {
       "config": {
        "plotlyServerURL": "https://plot.ly"
       },
       "data": [
        {
         "domain": {
          "x": [
           0,
           1
          ],
          "y": [
           0,
           1
          ]
         },
         "hovertemplate": "object_type=%{label}<br>id=%{value}<extra></extra>",
         "labels": [
          "кулинария",
          "закусочная",
          "кафетерий",
          "буфет",
          "бар",
          "ресторан",
          "фастфуд",
          "столовая",
          "кафе"
         ],
         "legendgroup": "",
         "name": "",
         "showlegend": true,
         "type": "pie",
         "values": [
          273,
          342,
          398,
          582,
          827,
          2152,
          2262,
          2568,
          5605
         ]
        }
       ],
       "layout": {
        "legend": {
         "tracegroupgap": 0
        },
        "template": {
         "data": {
          "bar": [
           {
            "error_x": {
             "color": "#2a3f5f"
            },
            "error_y": {
             "color": "#2a3f5f"
            },
            "marker": {
             "line": {
              "color": "#E5ECF6",
              "width": 0.5
             },
             "pattern": {
              "fillmode": "overlay",
              "size": 10,
              "solidity": 0.2
             }
            },
            "type": "bar"
           }
          ],
          "barpolar": [
           {
            "marker": {
             "line": {
              "color": "#E5ECF6",
              "width": 0.5
             },
             "pattern": {
              "fillmode": "overlay",
              "size": 10,
              "solidity": 0.2
             }
            },
            "type": "barpolar"
           }
          ],
          "carpet": [
           {
            "aaxis": {
             "endlinecolor": "#2a3f5f",
             "gridcolor": "white",
             "linecolor": "white",
             "minorgridcolor": "white",
             "startlinecolor": "#2a3f5f"
            },
            "baxis": {
             "endlinecolor": "#2a3f5f",
             "gridcolor": "white",
             "linecolor": "white",
             "minorgridcolor": "white",
             "startlinecolor": "#2a3f5f"
            },
            "type": "carpet"
           }
          ],
          "choropleth": [
           {
            "colorbar": {
             "outlinewidth": 0,
             "ticks": ""
            },
            "type": "choropleth"
           }
          ],
          "contour": [
           {
            "colorbar": {
             "outlinewidth": 0,
             "ticks": ""
            },
            "colorscale": [
             [
              0,
              "#0d0887"
             ],
             [
              0.1111111111111111,
              "#46039f"
             ],
             [
              0.2222222222222222,
              "#7201a8"
             ],
             [
              0.3333333333333333,
              "#9c179e"
             ],
             [
              0.4444444444444444,
              "#bd3786"
             ],
             [
              0.5555555555555556,
              "#d8576b"
             ],
             [
              0.6666666666666666,
              "#ed7953"
             ],
             [
              0.7777777777777778,
              "#fb9f3a"
             ],
             [
              0.8888888888888888,
              "#fdca26"
             ],
             [
              1,
              "#f0f921"
             ]
            ],
            "type": "contour"
           }
          ],
          "contourcarpet": [
           {
            "colorbar": {
             "outlinewidth": 0,
             "ticks": ""
            },
            "type": "contourcarpet"
           }
          ],
          "heatmap": [
           {
            "colorbar": {
             "outlinewidth": 0,
             "ticks": ""
            },
            "colorscale": [
             [
              0,
              "#0d0887"
             ],
             [
              0.1111111111111111,
              "#46039f"
             ],
             [
              0.2222222222222222,
              "#7201a8"
             ],
             [
              0.3333333333333333,
              "#9c179e"
             ],
             [
              0.4444444444444444,
              "#bd3786"
             ],
             [
              0.5555555555555556,
              "#d8576b"
             ],
             [
              0.6666666666666666,
              "#ed7953"
             ],
             [
              0.7777777777777778,
              "#fb9f3a"
             ],
             [
              0.8888888888888888,
              "#fdca26"
             ],
             [
              1,
              "#f0f921"
             ]
            ],
            "type": "heatmap"
           }
          ],
          "heatmapgl": [
           {
            "colorbar": {
             "outlinewidth": 0,
             "ticks": ""
            },
            "colorscale": [
             [
              0,
              "#0d0887"
             ],
             [
              0.1111111111111111,
              "#46039f"
             ],
             [
              0.2222222222222222,
              "#7201a8"
             ],
             [
              0.3333333333333333,
              "#9c179e"
             ],
             [
              0.4444444444444444,
              "#bd3786"
             ],
             [
              0.5555555555555556,
              "#d8576b"
             ],
             [
              0.6666666666666666,
              "#ed7953"
             ],
             [
              0.7777777777777778,
              "#fb9f3a"
             ],
             [
              0.8888888888888888,
              "#fdca26"
             ],
             [
              1,
              "#f0f921"
             ]
            ],
            "type": "heatmapgl"
           }
          ],
          "histogram": [
           {
            "marker": {
             "pattern": {
              "fillmode": "overlay",
              "size": 10,
              "solidity": 0.2
             }
            },
            "type": "histogram"
           }
          ],
          "histogram2d": [
           {
            "colorbar": {
             "outlinewidth": 0,
             "ticks": ""
            },
            "colorscale": [
             [
              0,
              "#0d0887"
             ],
             [
              0.1111111111111111,
              "#46039f"
             ],
             [
              0.2222222222222222,
              "#7201a8"
             ],
             [
              0.3333333333333333,
              "#9c179e"
             ],
             [
              0.4444444444444444,
              "#bd3786"
             ],
             [
              0.5555555555555556,
              "#d8576b"
             ],
             [
              0.6666666666666666,
              "#ed7953"
             ],
             [
              0.7777777777777778,
              "#fb9f3a"
             ],
             [
              0.8888888888888888,
              "#fdca26"
             ],
             [
              1,
              "#f0f921"
             ]
            ],
            "type": "histogram2d"
           }
          ],
          "histogram2dcontour": [
           {
            "colorbar": {
             "outlinewidth": 0,
             "ticks": ""
            },
            "colorscale": [
             [
              0,
              "#0d0887"
             ],
             [
              0.1111111111111111,
              "#46039f"
             ],
             [
              0.2222222222222222,
              "#7201a8"
             ],
             [
              0.3333333333333333,
              "#9c179e"
             ],
             [
              0.4444444444444444,
              "#bd3786"
             ],
             [
              0.5555555555555556,
              "#d8576b"
             ],
             [
              0.6666666666666666,
              "#ed7953"
             ],
             [
              0.7777777777777778,
              "#fb9f3a"
             ],
             [
              0.8888888888888888,
              "#fdca26"
             ],
             [
              1,
              "#f0f921"
             ]
            ],
            "type": "histogram2dcontour"
           }
          ],
          "mesh3d": [
           {
            "colorbar": {
             "outlinewidth": 0,
             "ticks": ""
            },
            "type": "mesh3d"
           }
          ],
          "parcoords": [
           {
            "line": {
             "colorbar": {
              "outlinewidth": 0,
              "ticks": ""
             }
            },
            "type": "parcoords"
           }
          ],
          "pie": [
           {
            "automargin": true,
            "type": "pie"
           }
          ],
          "scatter": [
           {
            "marker": {
             "colorbar": {
              "outlinewidth": 0,
              "ticks": ""
             }
            },
            "type": "scatter"
           }
          ],
          "scatter3d": [
           {
            "line": {
             "colorbar": {
              "outlinewidth": 0,
              "ticks": ""
             }
            },
            "marker": {
             "colorbar": {
              "outlinewidth": 0,
              "ticks": ""
             }
            },
            "type": "scatter3d"
           }
          ],
          "scattercarpet": [
           {
            "marker": {
             "colorbar": {
              "outlinewidth": 0,
              "ticks": ""
             }
            },
            "type": "scattercarpet"
           }
          ],
          "scattergeo": [
           {
            "marker": {
             "colorbar": {
              "outlinewidth": 0,
              "ticks": ""
             }
            },
            "type": "scattergeo"
           }
          ],
          "scattergl": [
           {
            "marker": {
             "colorbar": {
              "outlinewidth": 0,
              "ticks": ""
             }
            },
            "type": "scattergl"
           }
          ],
          "scattermapbox": [
           {
            "marker": {
             "colorbar": {
              "outlinewidth": 0,
              "ticks": ""
             }
            },
            "type": "scattermapbox"
           }
          ],
          "scatterpolar": [
           {
            "marker": {
             "colorbar": {
              "outlinewidth": 0,
              "ticks": ""
             }
            },
            "type": "scatterpolar"
           }
          ],
          "scatterpolargl": [
           {
            "marker": {
             "colorbar": {
              "outlinewidth": 0,
              "ticks": ""
             }
            },
            "type": "scatterpolargl"
           }
          ],
          "scatterternary": [
           {
            "marker": {
             "colorbar": {
              "outlinewidth": 0,
              "ticks": ""
             }
            },
            "type": "scatterternary"
           }
          ],
          "surface": [
           {
            "colorbar": {
             "outlinewidth": 0,
             "ticks": ""
            },
            "colorscale": [
             [
              0,
              "#0d0887"
             ],
             [
              0.1111111111111111,
              "#46039f"
             ],
             [
              0.2222222222222222,
              "#7201a8"
             ],
             [
              0.3333333333333333,
              "#9c179e"
             ],
             [
              0.4444444444444444,
              "#bd3786"
             ],
             [
              0.5555555555555556,
              "#d8576b"
             ],
             [
              0.6666666666666666,
              "#ed7953"
             ],
             [
              0.7777777777777778,
              "#fb9f3a"
             ],
             [
              0.8888888888888888,
              "#fdca26"
             ],
             [
              1,
              "#f0f921"
             ]
            ],
            "type": "surface"
           }
          ],
          "table": [
           {
            "cells": {
             "fill": {
              "color": "#EBF0F8"
             },
             "line": {
              "color": "white"
             }
            },
            "header": {
             "fill": {
              "color": "#C8D4E3"
             },
             "line": {
              "color": "white"
             }
            },
            "type": "table"
           }
          ]
         },
         "layout": {
          "annotationdefaults": {
           "arrowcolor": "#2a3f5f",
           "arrowhead": 0,
           "arrowwidth": 1
          },
          "autotypenumbers": "strict",
          "coloraxis": {
           "colorbar": {
            "outlinewidth": 0,
            "ticks": ""
           }
          },
          "colorscale": {
           "diverging": [
            [
             0,
             "#8e0152"
            ],
            [
             0.1,
             "#c51b7d"
            ],
            [
             0.2,
             "#de77ae"
            ],
            [
             0.3,
             "#f1b6da"
            ],
            [
             0.4,
             "#fde0ef"
            ],
            [
             0.5,
             "#f7f7f7"
            ],
            [
             0.6,
             "#e6f5d0"
            ],
            [
             0.7,
             "#b8e186"
            ],
            [
             0.8,
             "#7fbc41"
            ],
            [
             0.9,
             "#4d9221"
            ],
            [
             1,
             "#276419"
            ]
           ],
           "sequential": [
            [
             0,
             "#0d0887"
            ],
            [
             0.1111111111111111,
             "#46039f"
            ],
            [
             0.2222222222222222,
             "#7201a8"
            ],
            [
             0.3333333333333333,
             "#9c179e"
            ],
            [
             0.4444444444444444,
             "#bd3786"
            ],
            [
             0.5555555555555556,
             "#d8576b"
            ],
            [
             0.6666666666666666,
             "#ed7953"
            ],
            [
             0.7777777777777778,
             "#fb9f3a"
            ],
            [
             0.8888888888888888,
             "#fdca26"
            ],
            [
             1,
             "#f0f921"
            ]
           ],
           "sequentialminus": [
            [
             0,
             "#0d0887"
            ],
            [
             0.1111111111111111,
             "#46039f"
            ],
            [
             0.2222222222222222,
             "#7201a8"
            ],
            [
             0.3333333333333333,
             "#9c179e"
            ],
            [
             0.4444444444444444,
             "#bd3786"
            ],
            [
             0.5555555555555556,
             "#d8576b"
            ],
            [
             0.6666666666666666,
             "#ed7953"
            ],
            [
             0.7777777777777778,
             "#fb9f3a"
            ],
            [
             0.8888888888888888,
             "#fdca26"
            ],
            [
             1,
             "#f0f921"
            ]
           ]
          },
          "colorway": [
           "#636efa",
           "#EF553B",
           "#00cc96",
           "#ab63fa",
           "#FFA15A",
           "#19d3f3",
           "#FF6692",
           "#B6E880",
           "#FF97FF",
           "#FECB52"
          ],
          "font": {
           "color": "#2a3f5f"
          },
          "geo": {
           "bgcolor": "white",
           "lakecolor": "white",
           "landcolor": "#E5ECF6",
           "showlakes": true,
           "showland": true,
           "subunitcolor": "white"
          },
          "hoverlabel": {
           "align": "left"
          },
          "hovermode": "closest",
          "mapbox": {
           "style": "light"
          },
          "paper_bgcolor": "white",
          "plot_bgcolor": "#E5ECF6",
          "polar": {
           "angularaxis": {
            "gridcolor": "white",
            "linecolor": "white",
            "ticks": ""
           },
           "bgcolor": "#E5ECF6",
           "radialaxis": {
            "gridcolor": "white",
            "linecolor": "white",
            "ticks": ""
           }
          },
          "scene": {
           "xaxis": {
            "backgroundcolor": "#E5ECF6",
            "gridcolor": "white",
            "gridwidth": 2,
            "linecolor": "white",
            "showbackground": true,
            "ticks": "",
            "zerolinecolor": "white"
           },
           "yaxis": {
            "backgroundcolor": "#E5ECF6",
            "gridcolor": "white",
            "gridwidth": 2,
            "linecolor": "white",
            "showbackground": true,
            "ticks": "",
            "zerolinecolor": "white"
           },
           "zaxis": {
            "backgroundcolor": "#E5ECF6",
            "gridcolor": "white",
            "gridwidth": 2,
            "linecolor": "white",
            "showbackground": true,
            "ticks": "",
            "zerolinecolor": "white"
           }
          },
          "shapedefaults": {
           "line": {
            "color": "#2a3f5f"
           }
          },
          "ternary": {
           "aaxis": {
            "gridcolor": "white",
            "linecolor": "white",
            "ticks": ""
           },
           "baxis": {
            "gridcolor": "white",
            "linecolor": "white",
            "ticks": ""
           },
           "bgcolor": "#E5ECF6",
           "caxis": {
            "gridcolor": "white",
            "linecolor": "white",
            "ticks": ""
           }
          },
          "title": {
           "x": 0.05
          },
          "xaxis": {
           "automargin": true,
           "gridcolor": "white",
           "linecolor": "white",
           "ticks": "",
           "title": {
            "standoff": 15
           },
           "zerolinecolor": "white",
           "zerolinewidth": 2
          },
          "yaxis": {
           "automargin": true,
           "gridcolor": "white",
           "linecolor": "white",
           "ticks": "",
           "title": {
            "standoff": 15
           },
           "zerolinecolor": "white",
           "zerolinewidth": 2
          }
         }
        },
        "title": {
         "text": "ratio of types of catering facilities by number."
        }
       }
      },
      "text/html": [
       "<div>                            <div id=\"2ec324b0-dc00-4fc7-b0e6-0f29d2f0dd9a\" class=\"plotly-graph-div\" style=\"height:525px; width:100%;\"></div>            <script type=\"text/javascript\">                require([\"plotly\"], function(Plotly) {                    window.PLOTLYENV=window.PLOTLYENV || {};                                    if (document.getElementById(\"2ec324b0-dc00-4fc7-b0e6-0f29d2f0dd9a\")) {                    Plotly.newPlot(                        \"2ec324b0-dc00-4fc7-b0e6-0f29d2f0dd9a\",                        [{\"domain\":{\"x\":[0.0,1.0],\"y\":[0.0,1.0]},\"hovertemplate\":\"object_type=%{label}<br>id=%{value}<extra></extra>\",\"labels\":[\"\\u043a\\u0443\\u043b\\u0438\\u043d\\u0430\\u0440\\u0438\\u044f\",\"\\u0437\\u0430\\u043a\\u0443\\u0441\\u043e\\u0447\\u043d\\u0430\\u044f\",\"\\u043a\\u0430\\u0444\\u0435\\u0442\\u0435\\u0440\\u0438\\u0439\",\"\\u0431\\u0443\\u0444\\u0435\\u0442\",\"\\u0431\\u0430\\u0440\",\"\\u0440\\u0435\\u0441\\u0442\\u043e\\u0440\\u0430\\u043d\",\"\\u0444\\u0430\\u0441\\u0442\\u0444\\u0443\\u0434\",\"\\u0441\\u0442\\u043e\\u043b\\u043e\\u0432\\u0430\\u044f\",\"\\u043a\\u0430\\u0444\\u0435\"],\"legendgroup\":\"\",\"name\":\"\",\"showlegend\":true,\"values\":[273,342,398,582,827,2152,2262,2568,5605],\"type\":\"pie\"}],                        {\"template\":{\"data\":{\"bar\":[{\"error_x\":{\"color\":\"#2a3f5f\"},\"error_y\":{\"color\":\"#2a3f5f\"},\"marker\":{\"line\":{\"color\":\"#E5ECF6\",\"width\":0.5},\"pattern\":{\"fillmode\":\"overlay\",\"size\":10,\"solidity\":0.2}},\"type\":\"bar\"}],\"barpolar\":[{\"marker\":{\"line\":{\"color\":\"#E5ECF6\",\"width\":0.5},\"pattern\":{\"fillmode\":\"overlay\",\"size\":10,\"solidity\":0.2}},\"type\":\"barpolar\"}],\"carpet\":[{\"aaxis\":{\"endlinecolor\":\"#2a3f5f\",\"gridcolor\":\"white\",\"linecolor\":\"white\",\"minorgridcolor\":\"white\",\"startlinecolor\":\"#2a3f5f\"},\"baxis\":{\"endlinecolor\":\"#2a3f5f\",\"gridcolor\":\"white\",\"linecolor\":\"white\",\"minorgridcolor\":\"white\",\"startlinecolor\":\"#2a3f5f\"},\"type\":\"carpet\"}],\"choropleth\":[{\"colorbar\":{\"outlinewidth\":0,\"ticks\":\"\"},\"type\":\"choropleth\"}],\"contour\":[{\"colorbar\":{\"outlinewidth\":0,\"ticks\":\"\"},\"colorscale\":[[0.0,\"#0d0887\"],[0.1111111111111111,\"#46039f\"],[0.2222222222222222,\"#7201a8\"],[0.3333333333333333,\"#9c179e\"],[0.4444444444444444,\"#bd3786\"],[0.5555555555555556,\"#d8576b\"],[0.6666666666666666,\"#ed7953\"],[0.7777777777777778,\"#fb9f3a\"],[0.8888888888888888,\"#fdca26\"],[1.0,\"#f0f921\"]],\"type\":\"contour\"}],\"contourcarpet\":[{\"colorbar\":{\"outlinewidth\":0,\"ticks\":\"\"},\"type\":\"contourcarpet\"}],\"heatmap\":[{\"colorbar\":{\"outlinewidth\":0,\"ticks\":\"\"},\"colorscale\":[[0.0,\"#0d0887\"],[0.1111111111111111,\"#46039f\"],[0.2222222222222222,\"#7201a8\"],[0.3333333333333333,\"#9c179e\"],[0.4444444444444444,\"#bd3786\"],[0.5555555555555556,\"#d8576b\"],[0.6666666666666666,\"#ed7953\"],[0.7777777777777778,\"#fb9f3a\"],[0.8888888888888888,\"#fdca26\"],[1.0,\"#f0f921\"]],\"type\":\"heatmap\"}],\"heatmapgl\":[{\"colorbar\":{\"outlinewidth\":0,\"ticks\":\"\"},\"colorscale\":[[0.0,\"#0d0887\"],[0.1111111111111111,\"#46039f\"],[0.2222222222222222,\"#7201a8\"],[0.3333333333333333,\"#9c179e\"],[0.4444444444444444,\"#bd3786\"],[0.5555555555555556,\"#d8576b\"],[0.6666666666666666,\"#ed7953\"],[0.7777777777777778,\"#fb9f3a\"],[0.8888888888888888,\"#fdca26\"],[1.0,\"#f0f921\"]],\"type\":\"heatmapgl\"}],\"histogram\":[{\"marker\":{\"pattern\":{\"fillmode\":\"overlay\",\"size\":10,\"solidity\":0.2}},\"type\":\"histogram\"}],\"histogram2d\":[{\"colorbar\":{\"outlinewidth\":0,\"ticks\":\"\"},\"colorscale\":[[0.0,\"#0d0887\"],[0.1111111111111111,\"#46039f\"],[0.2222222222222222,\"#7201a8\"],[0.3333333333333333,\"#9c179e\"],[0.4444444444444444,\"#bd3786\"],[0.5555555555555556,\"#d8576b\"],[0.6666666666666666,\"#ed7953\"],[0.7777777777777778,\"#fb9f3a\"],[0.8888888888888888,\"#fdca26\"],[1.0,\"#f0f921\"]],\"type\":\"histogram2d\"}],\"histogram2dcontour\":[{\"colorbar\":{\"outlinewidth\":0,\"ticks\":\"\"},\"colorscale\":[[0.0,\"#0d0887\"],[0.1111111111111111,\"#46039f\"],[0.2222222222222222,\"#7201a8\"],[0.3333333333333333,\"#9c179e\"],[0.4444444444444444,\"#bd3786\"],[0.5555555555555556,\"#d8576b\"],[0.6666666666666666,\"#ed7953\"],[0.7777777777777778,\"#fb9f3a\"],[0.8888888888888888,\"#fdca26\"],[1.0,\"#f0f921\"]],\"type\":\"histogram2dcontour\"}],\"mesh3d\":[{\"colorbar\":{\"outlinewidth\":0,\"ticks\":\"\"},\"type\":\"mesh3d\"}],\"parcoords\":[{\"line\":{\"colorbar\":{\"outlinewidth\":0,\"ticks\":\"\"}},\"type\":\"parcoords\"}],\"pie\":[{\"automargin\":true,\"type\":\"pie\"}],\"scatter\":[{\"marker\":{\"colorbar\":{\"outlinewidth\":0,\"ticks\":\"\"}},\"type\":\"scatter\"}],\"scatter3d\":[{\"line\":{\"colorbar\":{\"outlinewidth\":0,\"ticks\":\"\"}},\"marker\":{\"colorbar\":{\"outlinewidth\":0,\"ticks\":\"\"}},\"type\":\"scatter3d\"}],\"scattercarpet\":[{\"marker\":{\"colorbar\":{\"outlinewidth\":0,\"ticks\":\"\"}},\"type\":\"scattercarpet\"}],\"scattergeo\":[{\"marker\":{\"colorbar\":{\"outlinewidth\":0,\"ticks\":\"\"}},\"type\":\"scattergeo\"}],\"scattergl\":[{\"marker\":{\"colorbar\":{\"outlinewidth\":0,\"ticks\":\"\"}},\"type\":\"scattergl\"}],\"scattermapbox\":[{\"marker\":{\"colorbar\":{\"outlinewidth\":0,\"ticks\":\"\"}},\"type\":\"scattermapbox\"}],\"scatterpolar\":[{\"marker\":{\"colorbar\":{\"outlinewidth\":0,\"ticks\":\"\"}},\"type\":\"scatterpolar\"}],\"scatterpolargl\":[{\"marker\":{\"colorbar\":{\"outlinewidth\":0,\"ticks\":\"\"}},\"type\":\"scatterpolargl\"}],\"scatterternary\":[{\"marker\":{\"colorbar\":{\"outlinewidth\":0,\"ticks\":\"\"}},\"type\":\"scatterternary\"}],\"surface\":[{\"colorbar\":{\"outlinewidth\":0,\"ticks\":\"\"},\"colorscale\":[[0.0,\"#0d0887\"],[0.1111111111111111,\"#46039f\"],[0.2222222222222222,\"#7201a8\"],[0.3333333333333333,\"#9c179e\"],[0.4444444444444444,\"#bd3786\"],[0.5555555555555556,\"#d8576b\"],[0.6666666666666666,\"#ed7953\"],[0.7777777777777778,\"#fb9f3a\"],[0.8888888888888888,\"#fdca26\"],[1.0,\"#f0f921\"]],\"type\":\"surface\"}],\"table\":[{\"cells\":{\"fill\":{\"color\":\"#EBF0F8\"},\"line\":{\"color\":\"white\"}},\"header\":{\"fill\":{\"color\":\"#C8D4E3\"},\"line\":{\"color\":\"white\"}},\"type\":\"table\"}]},\"layout\":{\"annotationdefaults\":{\"arrowcolor\":\"#2a3f5f\",\"arrowhead\":0,\"arrowwidth\":1},\"autotypenumbers\":\"strict\",\"coloraxis\":{\"colorbar\":{\"outlinewidth\":0,\"ticks\":\"\"}},\"colorscale\":{\"diverging\":[[0,\"#8e0152\"],[0.1,\"#c51b7d\"],[0.2,\"#de77ae\"],[0.3,\"#f1b6da\"],[0.4,\"#fde0ef\"],[0.5,\"#f7f7f7\"],[0.6,\"#e6f5d0\"],[0.7,\"#b8e186\"],[0.8,\"#7fbc41\"],[0.9,\"#4d9221\"],[1,\"#276419\"]],\"sequential\":[[0.0,\"#0d0887\"],[0.1111111111111111,\"#46039f\"],[0.2222222222222222,\"#7201a8\"],[0.3333333333333333,\"#9c179e\"],[0.4444444444444444,\"#bd3786\"],[0.5555555555555556,\"#d8576b\"],[0.6666666666666666,\"#ed7953\"],[0.7777777777777778,\"#fb9f3a\"],[0.8888888888888888,\"#fdca26\"],[1.0,\"#f0f921\"]],\"sequentialminus\":[[0.0,\"#0d0887\"],[0.1111111111111111,\"#46039f\"],[0.2222222222222222,\"#7201a8\"],[0.3333333333333333,\"#9c179e\"],[0.4444444444444444,\"#bd3786\"],[0.5555555555555556,\"#d8576b\"],[0.6666666666666666,\"#ed7953\"],[0.7777777777777778,\"#fb9f3a\"],[0.8888888888888888,\"#fdca26\"],[1.0,\"#f0f921\"]]},\"colorway\":[\"#636efa\",\"#EF553B\",\"#00cc96\",\"#ab63fa\",\"#FFA15A\",\"#19d3f3\",\"#FF6692\",\"#B6E880\",\"#FF97FF\",\"#FECB52\"],\"font\":{\"color\":\"#2a3f5f\"},\"geo\":{\"bgcolor\":\"white\",\"lakecolor\":\"white\",\"landcolor\":\"#E5ECF6\",\"showlakes\":true,\"showland\":true,\"subunitcolor\":\"white\"},\"hoverlabel\":{\"align\":\"left\"},\"hovermode\":\"closest\",\"mapbox\":{\"style\":\"light\"},\"paper_bgcolor\":\"white\",\"plot_bgcolor\":\"#E5ECF6\",\"polar\":{\"angularaxis\":{\"gridcolor\":\"white\",\"linecolor\":\"white\",\"ticks\":\"\"},\"bgcolor\":\"#E5ECF6\",\"radialaxis\":{\"gridcolor\":\"white\",\"linecolor\":\"white\",\"ticks\":\"\"}},\"scene\":{\"xaxis\":{\"backgroundcolor\":\"#E5ECF6\",\"gridcolor\":\"white\",\"gridwidth\":2,\"linecolor\":\"white\",\"showbackground\":true,\"ticks\":\"\",\"zerolinecolor\":\"white\"},\"yaxis\":{\"backgroundcolor\":\"#E5ECF6\",\"gridcolor\":\"white\",\"gridwidth\":2,\"linecolor\":\"white\",\"showbackground\":true,\"ticks\":\"\",\"zerolinecolor\":\"white\"},\"zaxis\":{\"backgroundcolor\":\"#E5ECF6\",\"gridcolor\":\"white\",\"gridwidth\":2,\"linecolor\":\"white\",\"showbackground\":true,\"ticks\":\"\",\"zerolinecolor\":\"white\"}},\"shapedefaults\":{\"line\":{\"color\":\"#2a3f5f\"}},\"ternary\":{\"aaxis\":{\"gridcolor\":\"white\",\"linecolor\":\"white\",\"ticks\":\"\"},\"baxis\":{\"gridcolor\":\"white\",\"linecolor\":\"white\",\"ticks\":\"\"},\"bgcolor\":\"#E5ECF6\",\"caxis\":{\"gridcolor\":\"white\",\"linecolor\":\"white\",\"ticks\":\"\"}},\"title\":{\"x\":0.05},\"xaxis\":{\"automargin\":true,\"gridcolor\":\"white\",\"linecolor\":\"white\",\"ticks\":\"\",\"title\":{\"standoff\":15},\"zerolinecolor\":\"white\",\"zerolinewidth\":2},\"yaxis\":{\"automargin\":true,\"gridcolor\":\"white\",\"linecolor\":\"white\",\"ticks\":\"\",\"title\":{\"standoff\":15},\"zerolinecolor\":\"white\",\"zerolinewidth\":2}}},\"legend\":{\"tracegroupgap\":0},\"title\":{\"text\":\"ratio of types of catering facilities by number.\"}},                        {\"responsive\": true}                    ).then(function(){\n",
       "                            \n",
       "var gd = document.getElementById('2ec324b0-dc00-4fc7-b0e6-0f29d2f0dd9a');\n",
       "var x = new MutationObserver(function (mutations, observer) {{\n",
       "        var display = window.getComputedStyle(gd).display;\n",
       "        if (!display || display === 'none') {{\n",
       "            console.log([gd, 'removed!']);\n",
       "            Plotly.purge(gd);\n",
       "            observer.disconnect();\n",
       "        }}\n",
       "}});\n",
       "\n",
       "// Listen for the removal of the full notebook cells\n",
       "var notebookContainer = gd.closest('#notebook-container');\n",
       "if (notebookContainer) {{\n",
       "    x.observe(notebookContainer, {childList: true});\n",
       "}}\n",
       "\n",
       "// Listen for the clearing of the current output cell\n",
       "var outputEl = gd.closest('.output');\n",
       "if (outputEl) {{\n",
       "    x.observe(outputEl, {childList: true});\n",
       "}}\n",
       "\n",
       "                        })                };                });            </script>        </div>"
      ]
     },
     "metadata": {},
     "output_type": "display_data"
    }
   ],
   "source": [
    "objects_count = rest_data.groupby('object_type').agg({'id':'count'}).reset_index().sort_values(by='id')\n",
    "fig = px.pie(objects_count, values='id', names='object_type', title='ratio of types of catering facilities by number.')\n",
    "fig.show()"
   ]
  },
  {
   "cell_type": "markdown",
   "metadata": {},
   "source": [
    "Больше всего кафе, столовых, фастфудов и ресторанов."
   ]
  },
  {
   "cell_type": "markdown",
   "metadata": {},
   "source": [
    "### Соотношение сетевых и несетевых заведений\n",
    "<a id='part_2.2'></a>"
   ]
  },
  {
   "cell_type": "code",
   "execution_count": 16,
   "metadata": {},
   "outputs": [],
   "source": [
    "chain_count = rest_data.groupby('chain', as_index=False)['id'].count()"
   ]
  },
  {
   "cell_type": "code",
   "execution_count": 17,
   "metadata": {},
   "outputs": [
    {
     "data": {
      "image/png": "[encoded data removed]",
      "text/plain": [
       "<Figure size 720x360 with 1 Axes>"
      ]
     },
     "metadata": {
      "needs_background": "light"
     },
     "output_type": "display_data"
    }
   ],
   "source": [
    "plt.style.use('seaborn-deep')\n",
    "\n",
    "plt.figure(figsize=(10, 5))\n",
    "fig = sns.barplot(x='chain',y='id', data=chain_count)\n",
    "plt.title('Соотношение сетевых и несетевых заведений',fontsize=16)\n",
    "plt.ylabel(' ',fontsize=12)\n",
    "plt.xlabel('chain',fontsize=12);"
   ]
  },
  {
   "cell_type": "markdown",
   "metadata": {},
   "source": [
    "Большинство заведений не сетевые."
   ]
  },
  {
   "cell_type": "markdown",
   "metadata": {},
   "source": [
    "<div class=\"alert alert-warning\">\n",
    "<b>Комментарий ревьюера:</b>⛅️ \n",
    "\n",
    "Чтобы избавиться от `Text(0.5, 0, 'chain')`, можно поставить `;` в конце строки или же написать `plt.show()`\n",
    "</div>\n"
   ]
  },
  {
   "cell_type": "markdown",
   "metadata": {},
   "source": [
    "<div class=\"alert alert-info\"> <b>Комментарий студента:</b> Исправил.</div>"
   ]
  },
  {
   "cell_type": "markdown",
   "metadata": {},
   "source": [
    "### Распределение сетевых заведений по типу объекта\n",
    "<a id='part_2.3'></a>"
   ]
  },
  {
   "cell_type": "code",
   "execution_count": 18,
   "metadata": {},
   "outputs": [
    {
     "data": {
      "image/png": "[encoded data removed]",
      "text/plain": [
       "<Figure size 720x360 with 1 Axes>"
      ]
     },
     "metadata": {
      "needs_background": "light"
     },
     "output_type": "display_data"
    }
   ],
   "source": [
    "fig, ax = plt.subplots(figsize=[10,5])\n",
    "object_type_x_chain = rest_data.pivot_table(index='object_type', values='id', columns='chain', aggfunc='count')\n",
    "object_type_x_chain.plot(kind = 'bar', ax=ax)\n",
    "plt.title('Распределение сетевых заведений по типу объекта',fontsize=16)\n",
    "plt.xticks(fontsize=12, rotation=45)\n",
    "plt.yticks(fontsize=12)\n",
    "plt.xlabel(' ',fontsize=13)\n",
    "plt.legend(fontsize ='large');"
   ]
  },
  {
   "cell_type": "markdown",
   "metadata": {},
   "source": [
    "Больше всего сетевых заведений среди кафе, ресторанов и фастфуда, так же учтём, что эти заведения составляют бóльшую часть из всех заведений."
   ]
  },
  {
   "cell_type": "markdown",
   "metadata": {},
   "source": [
    "### Изучим долю сетевых заведений от общего количества\n",
    "<a id='part_2.4'></a>"
   ]
  },
  {
   "cell_type": "code",
   "execution_count": 19,
   "metadata": {},
   "outputs": [],
   "source": [
    "chains_to_total = (((object_type_x_chain['да'] / (object_type_x_chain['да'] + object_type_x_chain['нет'])) * 100)\n",
    "                   .reset_index())"
   ]
  },
  {
   "cell_type": "code",
   "execution_count": 20,
   "metadata": {},
   "outputs": [],
   "source": [
    "chains_to_total.columns=['object_type','ratio']\n",
    "chains_to_total.sort_values(by='ratio', inplace=True, ascending=False)"
   ]
  },
  {
   "cell_type": "code",
   "execution_count": 21,
   "metadata": {},
   "outputs": [
    {
     "data": {
      "text/html": [
       "<div>\n",
       "<style scoped>\n",
       "    .dataframe tbody tr th:only-of-type {\n",
       "        vertical-align: middle;\n",
       "    }\n",
       "\n",
       "    .dataframe tbody tr th {\n",
       "        vertical-align: top;\n",
       "    }\n",
       "\n",
       "    .dataframe thead th {\n",
       "        text-align: right;\n",
       "    }\n",
       "</style>\n",
       "<table border=\"1\" class=\"dataframe\">\n",
       "  <thead>\n",
       "    <tr style=\"text-align: right;\">\n",
       "      <th></th>\n",
       "      <th>object_type</th>\n",
       "      <th>ratio</th>\n",
       "    </tr>\n",
       "  </thead>\n",
       "  <tbody>\n",
       "    <tr>\n",
       "      <th>8</th>\n",
       "      <td>фастфуд</td>\n",
       "      <td>41.52</td>\n",
       "    </tr>\n",
       "    <tr>\n",
       "      <th>5</th>\n",
       "      <td>кулинария</td>\n",
       "      <td>28.57</td>\n",
       "    </tr>\n",
       "    <tr>\n",
       "      <th>6</th>\n",
       "      <td>ресторан</td>\n",
       "      <td>23.79</td>\n",
       "    </tr>\n",
       "    <tr>\n",
       "      <th>3</th>\n",
       "      <td>кафе</td>\n",
       "      <td>22.99</td>\n",
       "    </tr>\n",
       "    <tr>\n",
       "      <th>2</th>\n",
       "      <td>закусочная</td>\n",
       "      <td>16.05</td>\n",
       "    </tr>\n",
       "    <tr>\n",
       "      <th>4</th>\n",
       "      <td>кафетерий</td>\n",
       "      <td>13.16</td>\n",
       "    </tr>\n",
       "    <tr>\n",
       "      <th>0</th>\n",
       "      <td>бар</td>\n",
       "      <td>4.33</td>\n",
       "    </tr>\n",
       "    <tr>\n",
       "      <th>1</th>\n",
       "      <td>буфет</td>\n",
       "      <td>1.91</td>\n",
       "    </tr>\n",
       "    <tr>\n",
       "      <th>7</th>\n",
       "      <td>столовая</td>\n",
       "      <td>0.12</td>\n",
       "    </tr>\n",
       "  </tbody>\n",
       "</table>\n",
       "</div>"
      ],
      "text/plain": [
       "  object_type  ratio\n",
       "8     фастфуд  41.52\n",
       "5   кулинария  28.57\n",
       "6    ресторан  23.79\n",
       "3        кафе  22.99\n",
       "2  закусочная  16.05\n",
       "4   кафетерий  13.16\n",
       "0         бар   4.33\n",
       "1       буфет   1.91\n",
       "7    столовая   0.12"
      ]
     },
     "execution_count": 21,
     "metadata": {},
     "output_type": "execute_result"
    }
   ],
   "source": [
    "chains_to_total"
   ]
  },
  {
   "cell_type": "code",
   "execution_count": 38,
   "metadata": {},
   "outputs": [
    {
     "data": {
      "image/png": "[encoded data removed]",
      "text/plain": [
       "<Figure size 720x360 with 1 Axes>"
      ]
     },
     "metadata": {
      "needs_background": "light"
     },
     "output_type": "display_data"
    }
   ],
   "source": [
    "sns.set_palette(\"pastel\")\n",
    "fig, ax = plt.subplots(figsize=[10,5])\n",
    "sns.barplot(data=chains_to_total, y='object_type', x='ratio')\n",
    "plt.title('chain establishments in the total number')\n",
    "plt.ylabel(' ',fontsize=13);\n",
    "plt.xlabel('ratio, %',fontsize=13);"
   ]
  },
  {
   "cell_type": "markdown",
   "metadata": {},
   "source": [
    "Cетевые фастфуды занимают почти 50% рынка фастфудов. Затем идут кулинарии, кафе и рестораны имеют примерно одинаковую долю, в то время как сетевых столовых почти нет.\n"
   ]
  },
  {
   "cell_type": "markdown",
   "metadata": {},
   "source": [
    "***Что характерно для сетевых заведений: много заведений с небольшим числом посадочных мест в каждом или мало заведений с большим количеством посадочных мест?***"
   ]
  },
  {
   "cell_type": "code",
   "execution_count": 40,
   "metadata": {},
   "outputs": [],
   "source": [
    "rest_data_chains_only = rest_data.query('chain == \"да\"').groupby('object_name').agg({'id': 'count', 'number': 'mean'})\n",
    "\n",
    "# Создадим две категории - много заведений = мало мест / мало заведений = много мест\n",
    "rest_data_chains_only['chain_size_group'] = 'few establishments'\n",
    "rest_data_chains_only.loc[rest_data_chains_only['id'] > rest_data_chains_only['id'].median(), 'chain_size_group'] = 'many establishments'\n",
    "rest_data_chains_only['chain_seats_group'] = 'few seats'\n",
    "rest_data_chains_only.loc[rest_data_chains_only['number'] > rest_data_chains_only['number'].median(), 'chain_seats_group'] = 'many seats'\n",
    "\n",
    "# Добавим для каждого заведения одну из 2-х групп\n",
    "rest_data_chains_only['group'] = rest_data_chains_only['chain_size_group'] + ' | ' + rest_data_chains_only['chain_seats_group']\n",
    "\n",
    "# Отфильтруем выбросы\n",
    "threshold = rest_data_chains_only['id'].quantile(.99)\n",
    "rest_data_chains_only = rest_data_chains_only.query('id < @threshold')"
   ]
  },
  {
   "cell_type": "code",
   "execution_count": 41,
   "metadata": {},
   "outputs": [
    {
     "data": {
      "image/png": "[encoded data removed]",
      "text/plain": [
       "<Figure size 1080x576 with 1 Axes>"
      ]
     },
     "metadata": {
      "needs_background": "light"
     },
     "output_type": "display_data"
    }
   ],
   "source": [
    "fig, ax = plt.subplots(figsize=(15, 8))\n",
    "\n",
    "sns.scatterplot(\n",
    "    data=rest_data_chains_only,\n",
    "    x='id',\n",
    "    y='number',\n",
    "    hue= 'group'\n",
    ")\n",
    "ax.legend(loc='upper right', frameon=False)\n",
    "ax.set(\n",
    "    title='Groups of network establishments by count of objects and seats',\n",
    "    xlabel='Number of establishments',\n",
    "    ylabel='Mean of seats'\n",
    ");"
   ]
  },
  {
   "cell_type": "markdown",
   "metadata": {},
   "source": [
    "По графику отметим, что в сетевых заведениях чаще всего встречаются меньшее количество заведений, но с большим количеством мест."
   ]
  },
  {
   "cell_type": "markdown",
   "metadata": {},
   "source": [
    "* Рассчитаем так же среднее значение по количеству посадочных мест по заведениям."
   ]
  },
  {
   "cell_type": "code",
   "execution_count": 25,
   "metadata": {},
   "outputs": [
    {
     "data": {
      "image/png": "[encoded data removed]",
      "text/plain": [
       "<Figure size 720x360 with 1 Axes>"
      ]
     },
     "metadata": {
      "needs_background": "light"
     },
     "output_type": "display_data"
    }
   ],
   "source": [
    "object_type_mean_number = rest_data[rest_data['number'] != 0].groupby('object_type').agg({'number':'mean'}).reset_index().sort_values(by='number', ascending=False)\n",
    "plt.figure(figsize=(10, 5))\n",
    "sns.barplot(data=object_type_mean_number, y='object_type', x='number' )\n",
    "plt.xticks(fontsize=12)\n",
    "plt.yticks(fontsize=12)\n",
    "plt.title('Среднее количество посадочных мест по типу объекта',fontsize=16)\n",
    "plt.xlabel('',fontsize=13)\n",
    "plt.ylabel(' ',fontsize=13);"
   ]
  },
  {
   "cell_type": "markdown",
   "metadata": {},
   "source": [
    "В среднем, столовые и рестораны имеют значительно больше посадочных мест в сравнении с прочими типами заведений."
   ]
  },
  {
   "cell_type": "markdown",
   "metadata": {},
   "source": [
    "Выделим в отдельный столбец улицу из адреса. \n",
    "\n",
    "Адрес нужно разбить по частям, через запятую методом split. Создадим проверочный список со словами, которые будут явно указывать на то, что именно в этой части сразбитой строки указан улица. \n",
    "\n",
    "Проверим каждую позицию в цикле на наличие этого слова. Если слово найдено, значит мы нашли улицу/проспект/площадь и т.п. "
   ]
  },
  {
   "cell_type": "code",
   "execution_count": 26,
   "metadata": {},
   "outputs": [],
   "source": [
    "list_for_street = ['проспект', \"площадь\", \"улица\", \"шоссе\", \n",
    "                   \"бульвар\", 'переулок','набережная','проезд',\n",
    "                   'тупик','микрорайон','территория','километр','посёлок','деревня'\n",
    "                   ,'аллея','просек','линия','квартал','село','вблизи' ]\n",
    "def get_street(row):\n",
    "    address = row['address'].split(', ')\n",
    "    parts = len(address)   \n",
    "    try:\n",
    "        for item in list_for_street:\n",
    "            for i in range(parts):\n",
    "                if item in address[i]:  \n",
    "                    return address[i]\n",
    "    except:\n",
    "        return 'Error'\n",
    "    \n",
    "rest_data['street'] = rest_data.apply(get_street, axis=1)"
   ]
  },
  {
   "cell_type": "code",
   "execution_count": 27,
   "metadata": {},
   "outputs": [
    {
     "data": {
      "text/html": [
       "<div>\n",
       "<style scoped>\n",
       "    .dataframe tbody tr th:only-of-type {\n",
       "        vertical-align: middle;\n",
       "    }\n",
       "\n",
       "    .dataframe tbody tr th {\n",
       "        vertical-align: top;\n",
       "    }\n",
       "\n",
       "    .dataframe thead th {\n",
       "        text-align: right;\n",
       "    }\n",
       "</style>\n",
       "<table border=\"1\" class=\"dataframe\">\n",
       "  <thead>\n",
       "    <tr style=\"text-align: right;\">\n",
       "      <th></th>\n",
       "      <th>id</th>\n",
       "      <th>object_name</th>\n",
       "      <th>chain</th>\n",
       "      <th>object_type</th>\n",
       "      <th>address</th>\n",
       "      <th>number</th>\n",
       "      <th>street</th>\n",
       "    </tr>\n",
       "  </thead>\n",
       "  <tbody>\n",
       "    <tr>\n",
       "      <th>12616</th>\n",
       "      <td>196660</td>\n",
       "      <td>горячее питание</td>\n",
       "      <td>нет</td>\n",
       "      <td>закусочная</td>\n",
       "      <td>город Москва, Ореховый бульвар, дом 15</td>\n",
       "      <td>0</td>\n",
       "      <td>Ореховый бульвар</td>\n",
       "    </tr>\n",
       "    <tr>\n",
       "      <th>2138</th>\n",
       "      <td>23867</td>\n",
       "      <td>чайхона фаиза</td>\n",
       "      <td>нет</td>\n",
       "      <td>ресторан</td>\n",
       "      <td>город Москва, Азовская улица, дом 18</td>\n",
       "      <td>88</td>\n",
       "      <td>Азовская улица</td>\n",
       "    </tr>\n",
       "  </tbody>\n",
       "</table>\n",
       "</div>"
      ],
      "text/plain": [
       "           id      object_name chain object_type  \\\n",
       "12616  196660  горячее питание   нет  закусочная   \n",
       "2138    23867    чайхона фаиза   нет    ресторан   \n",
       "\n",
       "                                      address  number            street  \n",
       "12616  город Москва, Ореховый бульвар, дом 15       0  Ореховый бульвар  \n",
       "2138     город Москва, Азовская улица, дом 18      88    Азовская улица  "
      ]
     },
     "metadata": {},
     "output_type": "display_data"
    }
   ],
   "source": [
    "display(rest_data.sample(2))"
   ]
  },
  {
   "cell_type": "code",
   "execution_count": 42,
   "metadata": {},
   "outputs": [
    {
     "data": {
      "image/png": "[encoded data removed]",
      "text/plain": [
       "<Figure size 720x360 with 1 Axes>"
      ]
     },
     "metadata": {
      "needs_background": "light"
     },
     "output_type": "display_data"
    }
   ],
   "source": [
    "top_10_streets = (rest_data['street'].value_counts().head(10).sort_values())\n",
    "plt.figure(figsize=(10, 5))\n",
    "top_10_streets.plot(kind='bar')\n",
    "plt.title('Top 10 streets by number of establishments')\n",
    "plt.xticks(fontsize=12)\n",
    "plt.yticks(fontsize=12);"
   ]
  },
  {
   "cell_type": "markdown",
   "metadata": {},
   "source": [
    "***В каких районах Москвы находятся эти улицы?***"
   ]
  },
  {
   "cell_type": "markdown",
   "metadata": {},
   "source": [
    "Получим координаты улиц, чтобы узнать в каком районе они находятся через запрос по порталу открытых данных правительства Москвы.\n",
    "`https://data.mos.ru/opendata/7710881420-obshchestvennoe-pitanie-v-moskve/row/637376221?versionNumber=1&releaseNumber=86`"
   ]
  },
  {
   "cell_type": "code",
   "execution_count": 29,
   "metadata": {
    "scrolled": false
   },
   "outputs": [],
   "source": [
    "spreadsheet_id = '1kWr9KF8Ger2jsha6l1rXv3hbXkOmcSPxBYwGkujy0R8'\n",
    "file_name = 'https://docs.google.com/spreadsheets/d/{}/export?format=csv'.format(spreadsheet_id)\n",
    "r = requests.get(file_name)\n",
    "rest_data = pd.read_csv(BytesIO(r.content))\n",
    "rest_data_top_10 = rest_data.loc[(rest_data['street'].isin(top_10_streets.reset_index()['index']))]\n",
    "sns.set_palette(\"GnBu_d\")"
   ]
  },
  {
   "cell_type": "code",
   "execution_count": 47,
   "metadata": {},
   "outputs": [
    {
     "data": {
      "image/png": "[encoded data removed]",
      "text/plain": [
       "<Figure size 1080x720 with 1 Axes>"
      ]
     },
     "metadata": {
      "needs_background": "light"
     },
     "output_type": "display_data"
    }
   ],
   "source": [
    "rest_data_top_10 = rest_data.loc[(rest_data['street'].isin(top_10_streets.reset_index()['index']))]\n",
    "plt.figure(figsize=(15, 10))\n",
    "rest_data_top_10['district'].value_counts().sort_values().plot(kind='bar')\n",
    "plt.title('What are the top districts in Moscow (by number of establishments)')\n",
    "plt.xticks(fontsize=12)\n",
    "plt.yticks(fontsize=12)\n",
    "plt.savefig('images\\topdistrict.png', bbox_inches = 'tight')"
   ]
  },
  {
   "cell_type": "markdown",
   "metadata": {},
   "source": [
    "Лучшие показатели у Пресненского района, Чертаново и Тропарёво-Никулино разделяют второе и третье место по популярности."
   ]
  },
  {
   "cell_type": "markdown",
   "metadata": {},
   "source": [
    "### Найдем число улиц с одним объектом общественного питания\n",
    "<a id='part_2.5'></a>"
   ]
  },
  {
   "cell_type": "code",
   "execution_count": 31,
   "metadata": {},
   "outputs": [],
   "source": [
    "streets_count = rest_data.groupby(['district','street'])['object_name'].count().reset_index()\n",
    "streets_one_object = streets_count[streets_count['object_name'] == 1]\n",
    "district_one_object = streets_one_object['district'].unique()"
   ]
  },
  {
   "cell_type": "code",
   "execution_count": 32,
   "metadata": {},
   "outputs": [
    {
     "name": "stdout",
     "output_type": "stream",
     "text": [
      "Количество улиц с одним заведением: 729\n",
      "Количество районов, в которых находятся улицы с одним заведением: 180\n"
     ]
    }
   ],
   "source": [
    "print(\"Количество улиц с одним заведением:\", streets_one_object['street'].count())\n",
    "print(\"Количество районов, в которых находятся улицы с одним заведением:\", len(district_one_object))"
   ]
  },
  {
   "cell_type": "code",
   "execution_count": 33,
   "metadata": {
    "scrolled": true
   },
   "outputs": [
    {
     "data": {
      "text/plain": [
       "array(['19-й микрорайон', 'Алексеевский район', 'Алтуфьевский район',\n",
       "       'Бабушкинский район', 'Басманный район', 'Бескудниковский район',\n",
       "       'Бутырский район', 'Войковский район', 'Гагаринский район',\n",
       "       'Головинский район', 'Даниловский район', 'Дмитровский район',\n",
       "       'Донской район', 'Красносельский район', 'Ломоносовский район',\n",
       "       'Лосиноостровский район', 'Мещанский район', 'Можайский район',\n",
       "       'Молжаниновский район', 'Московский', 'Нагорный район',\n",
       "       'Нижегородский район', 'Новые Черёмушки квартал 22-23',\n",
       "       'Новые Черёмушки квартал 32А', 'Обручевский район',\n",
       "       'Останкинский район', 'Пресненский район', 'Промышленный район',\n",
       "       'Рязанский район', 'Савёловский район', 'Таганский район',\n",
       "       'Тверской район', 'Тимирязевский район', 'Троицк',\n",
       "       'Хорошёвский район', 'Щербинка', 'Южнопортовый район',\n",
       "       'Ярославский район', 'деревня Внуково',\n",
       "       'жилой комплекс Лайф Митинская', 'квартал № 1', 'квартал № 10',\n",
       "       'квартал № 100', 'квартал № 104', 'квартал № 11', 'квартал № 112',\n",
       "       'квартал № 115', 'квартал № 12', 'квартал № 123', 'квартал № 130',\n",
       "       'квартал № 135', 'квартал № 142', 'квартал № 15', 'квартал № 150',\n",
       "       'квартал № 151', 'квартал № 155', 'квартал № 16', 'квартал № 163',\n",
       "       'квартал № 169', 'квартал № 17', 'квартал № 177', 'квартал № 181',\n",
       "       'квартал № 196', 'квартал № 2', 'квартал № 20', 'квартал № 249',\n",
       "       'квартал № 25', 'квартал № 253', 'квартал № 260', 'квартал № 295',\n",
       "       'квартал № 30', 'квартал № 334', 'квартал № 35', 'квартал № 40',\n",
       "       'квартал № 47', 'квартал № 51', 'квартал № 55', 'квартал № 552',\n",
       "       'квартал № 6', 'квартал № 64', 'квартал № 65', 'квартал № 66',\n",
       "       'квартал № 70', 'квартал № 71', 'квартал № 8', 'квартал № 80',\n",
       "       'квартал № 808', 'квартал № 81', 'квартал № 856', 'квартал № 89',\n",
       "       'квартал № 90', 'квартал № 92', 'квартал № 94', 'квартал № 98',\n",
       "       'микрорайон Дружба', 'микрорайон Ленинские Горы',\n",
       "       'микрорайон Переделкино Ближнее',\n",
       "       'муниципальный округ Московская Застава', 'поселок Николаевка',\n",
       "       'посёлок Коммунарка', 'посёлок имени Чапаева', 'район Арбат',\n",
       "       'район Аэропорт', 'район Беговой', 'район Бирюлёво Восточное',\n",
       "       'район Бирюлёво Западное', 'район Богородское', 'район Вешняки',\n",
       "       'район Внуково', 'район Восточное Дегунино',\n",
       "       'район Восточное Измайлово', 'район Восточный',\n",
       "       'район Выхино-Жулебино', 'район Гольяново', 'район Дорогомилово',\n",
       "       'район Замоскворечье', 'район Западное Дегунино', 'район Зюзино',\n",
       "       'район Ивановское', 'район Измайлово', 'район Капотня',\n",
       "       'район Коньково', 'район Коптево', 'район Косино-Ухтомский',\n",
       "       'район Котловка', 'район Крюково', 'район Кузьминки',\n",
       "       'район Кунцево', 'район Куркино', 'район Левобережный',\n",
       "       'район Лефортово', 'район Люблино', 'район Марфино',\n",
       "       'район Марьина Роща', 'район Марьино', 'район Метрогородок',\n",
       "       'район Митино', 'район Москворечье-Сабурово',\n",
       "       'район Нагатино-Садовники', 'район Некрасовка',\n",
       "       'район Ново-Переделкино', 'район Новогиреево', 'район Отрадное',\n",
       "       'район Очаково-Матвеевское', 'район Перово', 'район Печатники',\n",
       "       'район Покровское-Стрешнево', 'район Преображенское',\n",
       "       'район Раменки', 'район Ростокино', 'район Савёлки',\n",
       "       'район Свиблово', 'район Северное Бутово',\n",
       "       'район Северное Измайлово', 'район Северное Медведково',\n",
       "       'район Северный', 'район Силино', 'район Сокол',\n",
       "       'район Соколиная Гора', 'район Сокольники', 'район Солнцево',\n",
       "       'район Строгино', 'район Текстильщики', 'район Тёплый Стан',\n",
       "       'район Фили-Давыдково', 'район Филёвский Парк', 'район Хамовники',\n",
       "       'район Хорошёво-Мнёвники', 'район Царицыно',\n",
       "       'район Чертаново Северное', 'район Чертаново Южное',\n",
       "       'район Черёмушки', 'район Щукино', 'район Южное Бутово',\n",
       "       'район Южное Медведково', 'район Южное Тушино', 'район Якиманка',\n",
       "       'район Ясенево', 'территория Новая Деревня',\n",
       "       'учётный квартал № 70'], dtype=object)"
      ]
     },
     "execution_count": 33,
     "metadata": {},
     "output_type": "execute_result"
    }
   ],
   "source": [
    "district_one_object"
   ]
  },
  {
   "cell_type": "markdown",
   "metadata": {},
   "source": [
    "Узнали количество улиц и районы, где находятся заведения с одним объектом общественного питания."
   ]
  },
  {
   "cell_type": "markdown",
   "metadata": {},
   "source": [
    "### Посмотрим на распределение количества посадочных мест для улиц с большим количеством объектов общественного питания. \n",
    "<a id='part_2.6'></a>\n",
    "***Какие закономерности можно выявить?***"
   ]
  },
  {
   "cell_type": "code",
   "execution_count": 34,
   "metadata": {},
   "outputs": [],
   "source": [
    "col_order=['Пресненская набережная', 'Каширское шоссе','Кировоградская улица'\n",
    "           ,'Варшавское шоссе','Профсоюзная улица','проспект Мира', \n",
    "           'проспект Вернадского',  'Ленинградский проспект','Кутузовский проспект', 'Ленинский проспект']"
   ]
  },
  {
   "cell_type": "code",
   "execution_count": 35,
   "metadata": {
    "scrolled": false
   },
   "outputs": [
    {
     "data": {
      "text/plain": [
       "<seaborn.axisgrid.FacetGrid at 0x7f6b8663c5b0>"
      ]
     },
     "execution_count": 35,
     "metadata": {},
     "output_type": "execute_result"
    },
    {
     "data": {
      "image/png": "[encoded data removed]",
      "text/plain": [
       "<Figure size 1080x432 with 10 Axes>"
      ]
     },
     "metadata": {
      "needs_background": "light"
     },
     "output_type": "display_data"
    }
   ],
   "source": [
    "g = sns.FacetGrid(rest_data_top_10, col=\"street\", col_order=col_order ,col_wrap=5)\n",
    "g = g.map(sns.distplot, \"number\")\n",
    "g.set(xlim=[0,250])"
   ]
  },
  {
   "cell_type": "markdown",
   "metadata": {},
   "source": [
    "* Почти на всех улицах можно заметить количество заведений с количеством посадочных мест до 50. Больше всего на Пресненской набережной, Каширском шоссе, Кировоградской улице, Варшавском шоссе и Профсоюзной улице. \n",
    "* В топе 5 сильно выделяется доля с малым количеством мест. В то время как на остальных улица распределение более равномерное, особенно на Кутузовском проспекте. \n",
    "* Для каждой из улиц, в большей или меньше степени, доминирующим является небольшое количество посадочных мест."
   ]
  },
  {
   "cell_type": "markdown",
   "metadata": {},
   "source": [
    "# Вывод:\n",
    "<a id='part_3'></a>"
   ]
  },
  {
   "cell_type": "markdown",
   "metadata": {},
   "source": [
    "Данные получены и обработаны, в ходе исследования была получена исчерпывающая информация - отображение которой можно найти в графиках.\n",
    "* Рекомендуется выбирать места с хорошим трафиком, это топ-10 улиц полученных в исследовании.\n",
    "* 37% рынка - потенциальные конкуренты, большинство из них используют сетевую форму заведений.\n",
    "* Среднее количество посадочных мест по городу колеблится в районе 40-50, что соотвествует нашему типу заведения."
   ]
  },
  {
   "cell_type": "markdown",
   "metadata": {},
   "source": [
    "***Следующая часть кода была выполнена в PyCharm, после агрегации всех данных в новый датафрейм.***"
   ]
  }
 ],
 "metadata": {
  "ExecuteTimeLog": [
   {
    "duration": 1461,
    "start_time": "2022-05-07T11:38:22.011Z"
   },
   {
    "duration": 89,
    "start_time": "2022-05-07T11:39:20.259Z"
   },
   {
    "duration": 58,
    "start_time": "2022-05-07T11:39:23.899Z"
   },
   {
    "duration": 55,
    "start_time": "2022-05-07T11:40:22.658Z"
   },
   {
    "duration": 44,
    "start_time": "2022-05-07T11:40:42.540Z"
   },
   {
    "duration": 7,
    "start_time": "2022-05-07T11:40:56.927Z"
   },
   {
    "duration": 7,
    "start_time": "2022-05-07T11:41:02.918Z"
   },
   {
    "duration": 168,
    "start_time": "2022-05-07T11:41:32.279Z"
   },
   {
    "duration": 7,
    "start_time": "2022-05-07T11:43:08.603Z"
   },
   {
    "duration": 11,
    "start_time": "2022-05-07T11:43:23.343Z"
   },
   {
    "duration": 122,
    "start_time": "2022-05-07T11:44:38.459Z"
   },
   {
    "duration": 10,
    "start_time": "2022-05-07T11:45:00.855Z"
   },
   {
    "duration": 10,
    "start_time": "2022-05-07T11:45:13.155Z"
   },
   {
    "duration": 11,
    "start_time": "2022-05-07T11:45:20.967Z"
   },
   {
    "duration": 135,
    "start_time": "2022-05-07T11:45:30.238Z"
   },
   {
    "duration": 10,
    "start_time": "2022-05-07T11:46:03.795Z"
   },
   {
    "duration": 10,
    "start_time": "2022-05-07T11:46:07.795Z"
   },
   {
    "duration": 10,
    "start_time": "2022-05-07T11:46:54.991Z"
   },
   {
    "duration": 20,
    "start_time": "2022-05-07T11:47:03.399Z"
   },
   {
    "duration": 120,
    "start_time": "2022-05-07T11:52:16.015Z"
   },
   {
    "duration": 110,
    "start_time": "2022-05-07T11:52:21.208Z"
   },
   {
    "duration": 107,
    "start_time": "2022-05-07T11:52:25.894Z"
   },
   {
    "duration": 128,
    "start_time": "2022-05-07T11:52:31.211Z"
   },
   {
    "duration": 13,
    "start_time": "2022-05-07T11:54:33.135Z"
   },
   {
    "duration": 12,
    "start_time": "2022-05-07T11:55:57.247Z"
   },
   {
    "duration": 9,
    "start_time": "2022-05-07T11:57:36.432Z"
   },
   {
    "duration": 7,
    "start_time": "2022-05-07T12:01:03.514Z"
   },
   {
    "duration": 10,
    "start_time": "2022-05-07T12:01:08.246Z"
   },
   {
    "duration": 8,
    "start_time": "2022-05-07T12:01:20.056Z"
   },
   {
    "duration": 155,
    "start_time": "2022-05-07T12:06:05.263Z"
   },
   {
    "duration": 298,
    "start_time": "2022-05-07T12:06:29.447Z"
   },
   {
    "duration": 37,
    "start_time": "2022-05-07T12:08:03.363Z"
   },
   {
    "duration": 6,
    "start_time": "2022-05-07T12:08:39.895Z"
   },
   {
    "duration": 145,
    "start_time": "2022-05-07T12:08:54.096Z"
   },
   {
    "duration": 2312,
    "start_time": "2022-05-07T12:10:48.220Z"
   },
   {
    "duration": 224,
    "start_time": "2022-05-07T12:10:58.985Z"
   },
   {
    "duration": 6,
    "start_time": "2022-05-07T12:19:54.448Z"
   },
   {
    "duration": 4,
    "start_time": "2022-05-07T12:20:01.296Z"
   },
   {
    "duration": 8,
    "start_time": "2022-05-07T12:20:06.186Z"
   },
   {
    "duration": 189,
    "start_time": "2022-05-07T12:20:25.665Z"
   },
   {
    "duration": 180,
    "start_time": "2022-05-07T12:20:59.549Z"
   },
   {
    "duration": 5,
    "start_time": "2022-05-07T12:22:23.529Z"
   },
   {
    "duration": 3953,
    "start_time": "2022-05-07T12:22:30.754Z"
   },
   {
    "duration": 172,
    "start_time": "2022-05-07T12:27:43.526Z"
   },
   {
    "duration": 136,
    "start_time": "2022-05-07T12:34:39.455Z"
   },
   {
    "duration": 12,
    "start_time": "2022-05-07T12:35:09.764Z"
   },
   {
    "duration": 202,
    "start_time": "2022-05-07T12:35:46.464Z"
   },
   {
    "duration": 2072,
    "start_time": "2022-05-07T12:36:38.954Z"
   },
   {
    "duration": 2207,
    "start_time": "2022-05-07T12:37:29.152Z"
   },
   {
    "duration": 1421,
    "start_time": "2022-05-07T12:37:42.919Z"
   },
   {
    "duration": 955,
    "start_time": "2022-05-07T12:38:04.677Z"
   },
   {
    "duration": 416,
    "start_time": "2022-05-07T12:38:32.988Z"
   },
   {
    "duration": 886,
    "start_time": "2022-05-07T12:38:53.768Z"
   },
   {
    "duration": 5974,
    "start_time": "2022-05-07T12:39:26.841Z"
   },
   {
    "duration": 15301,
    "start_time": "2022-05-07T12:39:39.284Z"
   },
   {
    "duration": 777,
    "start_time": "2022-05-07T12:40:32.532Z"
   },
   {
    "duration": 973,
    "start_time": "2022-05-07T12:40:51.256Z"
   },
   {
    "duration": 1088,
    "start_time": "2022-05-07T12:41:17.696Z"
   },
   {
    "duration": 14,
    "start_time": "2022-05-07T12:43:28.676Z"
   },
   {
    "duration": 4,
    "start_time": "2022-05-07T12:43:36.992Z"
   },
   {
    "duration": 5,
    "start_time": "2022-05-07T12:44:29.473Z"
   },
   {
    "duration": 3,
    "start_time": "2022-05-07T12:47:01.030Z"
   },
   {
    "duration": 1787,
    "start_time": "2022-05-07T12:47:07.545Z"
   },
   {
    "duration": 5,
    "start_time": "2022-05-07T18:39:12.894Z"
   },
   {
    "duration": 58,
    "start_time": "2022-05-07T18:39:12.902Z"
   },
   {
    "duration": 70,
    "start_time": "2022-05-07T18:39:12.962Z"
   },
   {
    "duration": 7,
    "start_time": "2022-05-07T18:39:13.034Z"
   },
   {
    "duration": 10,
    "start_time": "2022-05-07T18:39:13.043Z"
   },
   {
    "duration": 14,
    "start_time": "2022-05-07T18:39:13.054Z"
   },
   {
    "duration": 12,
    "start_time": "2022-05-07T18:39:13.107Z"
   },
   {
    "duration": 30,
    "start_time": "2022-05-07T18:39:13.121Z"
   },
   {
    "duration": 150,
    "start_time": "2022-05-07T18:39:13.153Z"
   },
   {
    "duration": 14,
    "start_time": "2022-05-07T18:39:13.306Z"
   },
   {
    "duration": 13,
    "start_time": "2022-05-07T18:39:13.323Z"
   },
   {
    "duration": 8,
    "start_time": "2022-05-07T18:39:13.337Z"
   },
   {
    "duration": 10,
    "start_time": "2022-05-07T18:39:13.346Z"
   },
   {
    "duration": 80,
    "start_time": "2022-05-07T18:39:13.357Z"
   },
   {
    "duration": 6,
    "start_time": "2022-05-07T18:39:13.439Z"
   },
   {
    "duration": 169,
    "start_time": "2022-05-07T18:39:13.447Z"
   },
   {
    "duration": 236,
    "start_time": "2022-05-07T18:39:13.617Z"
   },
   {
    "duration": 5,
    "start_time": "2022-05-07T18:39:13.855Z"
   },
   {
    "duration": 5,
    "start_time": "2022-05-07T18:39:13.862Z"
   },
   {
    "duration": 39,
    "start_time": "2022-05-07T18:39:13.869Z"
   },
   {
    "duration": 212,
    "start_time": "2022-05-07T18:39:13.910Z"
   },
   {
    "duration": 6,
    "start_time": "2022-05-07T18:39:14.124Z"
   },
   {
    "duration": 4119,
    "start_time": "2022-05-07T18:39:14.131Z"
   },
   {
    "duration": 203,
    "start_time": "2022-05-07T18:39:18.252Z"
   },
   {
    "duration": 156,
    "start_time": "2022-05-07T18:39:18.457Z"
   },
   {
    "duration": 13,
    "start_time": "2022-05-07T18:39:18.615Z"
   },
   {
    "duration": 233,
    "start_time": "2022-05-07T18:39:18.631Z"
   },
   {
    "duration": 1047,
    "start_time": "2022-05-07T18:39:18.866Z"
   },
   {
    "duration": 71,
    "start_time": "2022-05-07T18:39:19.916Z"
   },
   {
    "duration": 0,
    "start_time": "2022-05-07T18:39:19.989Z"
   },
   {
    "duration": 0,
    "start_time": "2022-05-07T18:39:19.990Z"
   },
   {
    "duration": 0,
    "start_time": "2022-05-07T18:39:20.007Z"
   },
   {
    "duration": 0,
    "start_time": "2022-05-07T18:39:20.008Z"
   },
   {
    "duration": 35,
    "start_time": "2022-05-07T18:39:34.116Z"
   },
   {
    "duration": 55,
    "start_time": "2022-05-07T18:39:54.489Z"
   },
   {
    "duration": 1304,
    "start_time": "2022-05-07T18:39:58.753Z"
   },
   {
    "duration": 57,
    "start_time": "2022-05-07T18:40:00.059Z"
   },
   {
    "duration": 55,
    "start_time": "2022-05-07T18:40:00.118Z"
   },
   {
    "duration": 34,
    "start_time": "2022-05-07T18:40:00.175Z"
   },
   {
    "duration": 9,
    "start_time": "2022-05-07T18:40:00.211Z"
   },
   {
    "duration": 12,
    "start_time": "2022-05-07T18:40:00.223Z"
   },
   {
    "duration": 12,
    "start_time": "2022-05-07T18:40:00.238Z"
   },
   {
    "duration": 56,
    "start_time": "2022-05-07T18:40:00.252Z"
   },
   {
    "duration": 133,
    "start_time": "2022-05-07T18:40:00.310Z"
   },
   {
    "duration": 38,
    "start_time": "2022-05-07T18:40:00.445Z"
   },
   {
    "duration": 24,
    "start_time": "2022-05-07T18:40:00.485Z"
   },
   {
    "duration": 9,
    "start_time": "2022-05-07T18:40:00.511Z"
   },
   {
    "duration": 17,
    "start_time": "2022-05-07T18:40:00.522Z"
   },
   {
    "duration": 103,
    "start_time": "2022-05-07T18:40:00.541Z"
   },
   {
    "duration": 0,
    "start_time": "2022-05-07T18:40:00.646Z"
   },
   {
    "duration": 0,
    "start_time": "2022-05-07T18:40:00.648Z"
   },
   {
    "duration": 0,
    "start_time": "2022-05-07T18:40:00.649Z"
   },
   {
    "duration": 0,
    "start_time": "2022-05-07T18:40:00.650Z"
   },
   {
    "duration": 0,
    "start_time": "2022-05-07T18:40:00.651Z"
   },
   {
    "duration": 0,
    "start_time": "2022-05-07T18:40:00.652Z"
   },
   {
    "duration": 0,
    "start_time": "2022-05-07T18:40:00.653Z"
   },
   {
    "duration": 0,
    "start_time": "2022-05-07T18:40:00.654Z"
   },
   {
    "duration": 0,
    "start_time": "2022-05-07T18:40:00.656Z"
   },
   {
    "duration": 0,
    "start_time": "2022-05-07T18:40:00.657Z"
   },
   {
    "duration": 0,
    "start_time": "2022-05-07T18:40:00.658Z"
   },
   {
    "duration": 0,
    "start_time": "2022-05-07T18:40:00.659Z"
   },
   {
    "duration": 0,
    "start_time": "2022-05-07T18:40:00.660Z"
   },
   {
    "duration": 0,
    "start_time": "2022-05-07T18:40:00.661Z"
   },
   {
    "duration": 0,
    "start_time": "2022-05-07T18:40:00.662Z"
   },
   {
    "duration": 0,
    "start_time": "2022-05-07T18:40:00.663Z"
   },
   {
    "duration": 0,
    "start_time": "2022-05-07T18:40:00.665Z"
   },
   {
    "duration": 0,
    "start_time": "2022-05-07T18:40:00.666Z"
   },
   {
    "duration": 0,
    "start_time": "2022-05-07T18:40:00.667Z"
   },
   {
    "duration": 6,
    "start_time": "2022-05-07T18:40:59.524Z"
   },
   {
    "duration": 63,
    "start_time": "2022-05-07T18:40:59.532Z"
   },
   {
    "duration": 77,
    "start_time": "2022-05-07T18:40:59.597Z"
   },
   {
    "duration": 36,
    "start_time": "2022-05-07T18:40:59.676Z"
   },
   {
    "duration": 8,
    "start_time": "2022-05-07T18:40:59.715Z"
   },
   {
    "duration": 13,
    "start_time": "2022-05-07T18:40:59.724Z"
   },
   {
    "duration": 15,
    "start_time": "2022-05-07T18:40:59.739Z"
   },
   {
    "duration": 77,
    "start_time": "2022-05-07T18:40:59.756Z"
   },
   {
    "duration": 144,
    "start_time": "2022-05-07T18:40:59.835Z"
   },
   {
    "duration": 14,
    "start_time": "2022-05-07T18:40:59.981Z"
   },
   {
    "duration": 24,
    "start_time": "2022-05-07T18:40:59.997Z"
   },
   {
    "duration": 10,
    "start_time": "2022-05-07T18:41:00.024Z"
   },
   {
    "duration": 14,
    "start_time": "2022-05-07T18:41:00.036Z"
   },
   {
    "duration": 57,
    "start_time": "2022-05-07T18:41:00.052Z"
   },
   {
    "duration": 0,
    "start_time": "2022-05-07T18:41:00.111Z"
   },
   {
    "duration": 0,
    "start_time": "2022-05-07T18:41:00.113Z"
   },
   {
    "duration": 0,
    "start_time": "2022-05-07T18:41:00.114Z"
   },
   {
    "duration": 0,
    "start_time": "2022-05-07T18:41:00.115Z"
   },
   {
    "duration": 0,
    "start_time": "2022-05-07T18:41:00.116Z"
   },
   {
    "duration": 0,
    "start_time": "2022-05-07T18:41:00.117Z"
   },
   {
    "duration": 0,
    "start_time": "2022-05-07T18:41:00.118Z"
   },
   {
    "duration": 0,
    "start_time": "2022-05-07T18:41:00.120Z"
   },
   {
    "duration": 0,
    "start_time": "2022-05-07T18:41:00.122Z"
   },
   {
    "duration": 0,
    "start_time": "2022-05-07T18:41:00.124Z"
   },
   {
    "duration": 0,
    "start_time": "2022-05-07T18:41:00.126Z"
   },
   {
    "duration": 0,
    "start_time": "2022-05-07T18:41:00.127Z"
   },
   {
    "duration": 0,
    "start_time": "2022-05-07T18:41:00.129Z"
   },
   {
    "duration": 0,
    "start_time": "2022-05-07T18:41:00.130Z"
   },
   {
    "duration": 0,
    "start_time": "2022-05-07T18:41:00.132Z"
   },
   {
    "duration": 0,
    "start_time": "2022-05-07T18:41:00.133Z"
   },
   {
    "duration": 0,
    "start_time": "2022-05-07T18:41:00.135Z"
   },
   {
    "duration": 0,
    "start_time": "2022-05-07T18:41:00.137Z"
   },
   {
    "duration": 0,
    "start_time": "2022-05-07T18:41:00.138Z"
   },
   {
    "duration": 408,
    "start_time": "2022-05-07T18:42:37.879Z"
   },
   {
    "duration": 5,
    "start_time": "2022-05-07T18:42:47.835Z"
   },
   {
    "duration": 57,
    "start_time": "2022-05-07T18:42:47.846Z"
   },
   {
    "duration": 54,
    "start_time": "2022-05-07T18:42:47.905Z"
   },
   {
    "duration": 7,
    "start_time": "2022-05-07T18:42:47.960Z"
   },
   {
    "duration": 42,
    "start_time": "2022-05-07T18:42:47.969Z"
   },
   {
    "duration": 12,
    "start_time": "2022-05-07T18:42:48.013Z"
   },
   {
    "duration": 10,
    "start_time": "2022-05-07T18:42:48.027Z"
   },
   {
    "duration": 18,
    "start_time": "2022-05-07T18:42:48.039Z"
   },
   {
    "duration": 170,
    "start_time": "2022-05-07T18:42:48.059Z"
   },
   {
    "duration": 13,
    "start_time": "2022-05-07T18:42:48.231Z"
   },
   {
    "duration": 15,
    "start_time": "2022-05-07T18:42:48.248Z"
   },
   {
    "duration": 8,
    "start_time": "2022-05-07T18:42:48.265Z"
   },
   {
    "duration": 39,
    "start_time": "2022-05-07T18:42:48.275Z"
   },
   {
    "duration": 53,
    "start_time": "2022-05-07T18:42:48.316Z"
   },
   {
    "duration": 7,
    "start_time": "2022-05-07T18:42:48.371Z"
   },
   {
    "duration": 152,
    "start_time": "2022-05-07T18:42:48.407Z"
   },
   {
    "duration": 247,
    "start_time": "2022-05-07T18:42:48.561Z"
   },
   {
    "duration": 5,
    "start_time": "2022-05-07T18:42:48.810Z"
   },
   {
    "duration": 7,
    "start_time": "2022-05-07T18:42:48.816Z"
   },
   {
    "duration": 10,
    "start_time": "2022-05-07T18:42:48.824Z"
   },
   {
    "duration": 229,
    "start_time": "2022-05-07T18:42:48.835Z"
   },
   {
    "duration": 5,
    "start_time": "2022-05-07T18:42:49.067Z"
   },
   {
    "duration": 3984,
    "start_time": "2022-05-07T18:42:49.074Z"
   },
   {
    "duration": 197,
    "start_time": "2022-05-07T18:42:53.060Z"
   },
   {
    "duration": 162,
    "start_time": "2022-05-07T18:42:53.259Z"
   },
   {
    "duration": 13,
    "start_time": "2022-05-07T18:42:53.423Z"
   },
   {
    "duration": 217,
    "start_time": "2022-05-07T18:42:53.438Z"
   },
   {
    "duration": 102,
    "start_time": "2022-05-07T18:42:53.656Z"
   },
   {
    "duration": 0,
    "start_time": "2022-05-07T18:42:53.760Z"
   },
   {
    "duration": 0,
    "start_time": "2022-05-07T18:42:53.761Z"
   },
   {
    "duration": 0,
    "start_time": "2022-05-07T18:42:53.763Z"
   },
   {
    "duration": 0,
    "start_time": "2022-05-07T18:42:53.764Z"
   },
   {
    "duration": 1,
    "start_time": "2022-05-07T18:42:53.765Z"
   },
   {
    "duration": 206,
    "start_time": "2022-05-07T19:20:23.466Z"
   },
   {
    "duration": 21,
    "start_time": "2022-05-07T19:20:24.633Z"
   },
   {
    "duration": 1056,
    "start_time": "2022-05-07T19:23:38.324Z"
   },
   {
    "duration": 1214,
    "start_time": "2022-05-07T19:24:48.288Z"
   },
   {
    "duration": 1026,
    "start_time": "2022-05-07T19:25:17.742Z"
   },
   {
    "duration": 16,
    "start_time": "2022-05-07T19:25:53.651Z"
   },
   {
    "duration": 5,
    "start_time": "2022-05-07T19:26:02.755Z"
   },
   {
    "duration": 62,
    "start_time": "2022-05-07T19:26:02.762Z"
   },
   {
    "duration": 50,
    "start_time": "2022-05-07T19:26:02.826Z"
   },
   {
    "duration": 37,
    "start_time": "2022-05-07T19:26:02.877Z"
   },
   {
    "duration": 19,
    "start_time": "2022-05-07T19:26:02.917Z"
   },
   {
    "duration": 23,
    "start_time": "2022-05-07T19:26:02.937Z"
   },
   {
    "duration": 21,
    "start_time": "2022-05-07T19:26:02.962Z"
   },
   {
    "duration": 44,
    "start_time": "2022-05-07T19:26:02.986Z"
   },
   {
    "duration": 131,
    "start_time": "2022-05-07T19:26:03.032Z"
   },
   {
    "duration": 17,
    "start_time": "2022-05-07T19:26:03.166Z"
   },
   {
    "duration": 38,
    "start_time": "2022-05-07T19:26:03.186Z"
   },
   {
    "duration": 10,
    "start_time": "2022-05-07T19:26:03.226Z"
   },
   {
    "duration": 19,
    "start_time": "2022-05-07T19:26:03.237Z"
   },
   {
    "duration": 167,
    "start_time": "2022-05-07T19:26:03.258Z"
   },
   {
    "duration": 7,
    "start_time": "2022-05-07T19:26:03.426Z"
   },
   {
    "duration": 151,
    "start_time": "2022-05-07T19:26:03.436Z"
   },
   {
    "duration": 238,
    "start_time": "2022-05-07T19:26:03.589Z"
   },
   {
    "duration": 6,
    "start_time": "2022-05-07T19:26:03.829Z"
   },
   {
    "duration": 9,
    "start_time": "2022-05-07T19:26:03.836Z"
   },
   {
    "duration": 10,
    "start_time": "2022-05-07T19:26:03.846Z"
   },
   {
    "duration": 224,
    "start_time": "2022-05-07T19:26:03.858Z"
   },
   {
    "duration": 6,
    "start_time": "2022-05-07T19:26:04.084Z"
   },
   {
    "duration": 4075,
    "start_time": "2022-05-07T19:26:04.108Z"
   },
   {
    "duration": 203,
    "start_time": "2022-05-07T19:26:08.185Z"
   },
   {
    "duration": 168,
    "start_time": "2022-05-07T19:26:08.391Z"
   },
   {
    "duration": 20,
    "start_time": "2022-05-07T19:26:08.561Z"
   },
   {
    "duration": 236,
    "start_time": "2022-05-07T19:26:08.583Z"
   },
   {
    "duration": 1094,
    "start_time": "2022-05-07T19:26:08.821Z"
   },
   {
    "duration": 0,
    "start_time": "2022-05-07T19:26:09.917Z"
   },
   {
    "duration": 0,
    "start_time": "2022-05-07T19:26:09.918Z"
   },
   {
    "duration": 0,
    "start_time": "2022-05-07T19:26:09.919Z"
   },
   {
    "duration": 0,
    "start_time": "2022-05-07T19:26:09.920Z"
   },
   {
    "duration": 0,
    "start_time": "2022-05-07T19:26:09.921Z"
   },
   {
    "duration": 2720,
    "start_time": "2022-05-07T19:32:29.638Z"
   },
   {
    "duration": 1038,
    "start_time": "2022-05-07T19:32:32.360Z"
   },
   {
    "duration": 2835,
    "start_time": "2022-05-07T19:39:52.344Z"
   },
   {
    "duration": 1974,
    "start_time": "2022-05-07T19:40:02.536Z"
   },
   {
    "duration": 1039,
    "start_time": "2022-05-07T19:40:04.513Z"
   },
   {
    "duration": 6,
    "start_time": "2022-05-07T19:47:57.337Z"
   },
   {
    "duration": 12,
    "start_time": "2022-05-07T19:48:08.644Z"
   },
   {
    "duration": 11,
    "start_time": "2022-05-07T19:48:26.547Z"
   },
   {
    "duration": 31,
    "start_time": "2022-05-07T19:48:45.338Z"
   },
   {
    "duration": 3,
    "start_time": "2022-05-07T19:49:47.067Z"
   },
   {
    "duration": 4,
    "start_time": "2022-05-07T19:50:01.451Z"
   },
   {
    "duration": 2194,
    "start_time": "2022-05-07T19:55:11.525Z"
   },
   {
    "duration": 1145,
    "start_time": "2022-05-07T19:55:13.722Z"
   },
   {
    "duration": 14,
    "start_time": "2022-05-07T19:55:14.869Z"
   },
   {
    "duration": 5,
    "start_time": "2022-05-07T19:55:14.885Z"
   },
   {
    "duration": 5,
    "start_time": "2022-05-07T19:55:14.907Z"
   },
   {
    "duration": 3,
    "start_time": "2022-05-07T19:55:14.914Z"
   },
   {
    "duration": 1739,
    "start_time": "2022-05-07T19:55:14.919Z"
   },
   {
    "duration": 4261,
    "start_time": "2022-05-07T20:13:12.289Z"
   },
   {
    "duration": 0,
    "start_time": "2022-05-07T20:13:16.553Z"
   },
   {
    "duration": 1947,
    "start_time": "2022-05-07T20:15:39.024Z"
   },
   {
    "duration": 1094,
    "start_time": "2022-05-07T20:15:40.973Z"
   },
   {
    "duration": 2127,
    "start_time": "2022-05-07T20:16:15.305Z"
   },
   {
    "duration": 1066,
    "start_time": "2022-05-07T20:16:17.435Z"
   },
   {
    "duration": 3477,
    "start_time": "2022-05-07T20:16:37.458Z"
   },
   {
    "duration": 0,
    "start_time": "2022-05-07T20:16:40.937Z"
   },
   {
    "duration": 1076,
    "start_time": "2022-05-07T20:17:35.594Z"
   },
   {
    "duration": 1657,
    "start_time": "2022-05-07T20:17:51.936Z"
   },
   {
    "duration": 1626,
    "start_time": "2022-05-07T20:17:55.505Z"
   },
   {
    "duration": 1132,
    "start_time": "2022-05-07T20:17:57.134Z"
   },
   {
    "duration": 5,
    "start_time": "2022-05-07T20:19:47.742Z"
   },
   {
    "duration": 60,
    "start_time": "2022-05-07T20:19:47.749Z"
   },
   {
    "duration": 59,
    "start_time": "2022-05-07T20:19:47.812Z"
   },
   {
    "duration": 38,
    "start_time": "2022-05-07T20:19:47.874Z"
   },
   {
    "duration": 9,
    "start_time": "2022-05-07T20:19:47.915Z"
   },
   {
    "duration": 24,
    "start_time": "2022-05-07T20:19:47.927Z"
   },
   {
    "duration": 15,
    "start_time": "2022-05-07T20:19:47.952Z"
   },
   {
    "duration": 54,
    "start_time": "2022-05-07T20:19:47.969Z"
   },
   {
    "duration": 131,
    "start_time": "2022-05-07T20:19:48.025Z"
   },
   {
    "duration": 13,
    "start_time": "2022-05-07T20:19:48.159Z"
   },
   {
    "duration": 33,
    "start_time": "2022-05-07T20:19:48.175Z"
   },
   {
    "duration": 9,
    "start_time": "2022-05-07T20:19:48.210Z"
   },
   {
    "duration": 9,
    "start_time": "2022-05-07T20:19:48.221Z"
   },
   {
    "duration": 75,
    "start_time": "2022-05-07T20:19:48.232Z"
   },
   {
    "duration": 7,
    "start_time": "2022-05-07T20:19:48.309Z"
   },
   {
    "duration": 153,
    "start_time": "2022-05-07T20:19:48.318Z"
   },
   {
    "duration": 230,
    "start_time": "2022-05-07T20:19:48.473Z"
   },
   {
    "duration": 6,
    "start_time": "2022-05-07T20:19:48.705Z"
   },
   {
    "duration": 6,
    "start_time": "2022-05-07T20:19:48.713Z"
   },
   {
    "duration": 12,
    "start_time": "2022-05-07T20:19:48.721Z"
   },
   {
    "duration": 236,
    "start_time": "2022-05-07T20:19:48.735Z"
   },
   {
    "duration": 6,
    "start_time": "2022-05-07T20:19:48.973Z"
   },
   {
    "duration": 4012,
    "start_time": "2022-05-07T20:19:48.982Z"
   },
   {
    "duration": 215,
    "start_time": "2022-05-07T20:19:52.996Z"
   },
   {
    "duration": 146,
    "start_time": "2022-05-07T20:19:53.212Z"
   },
   {
    "duration": 13,
    "start_time": "2022-05-07T20:19:53.360Z"
   },
   {
    "duration": 222,
    "start_time": "2022-05-07T20:19:53.375Z"
   },
   {
    "duration": 1749,
    "start_time": "2022-05-07T20:19:53.599Z"
   },
   {
    "duration": 1000,
    "start_time": "2022-05-07T20:19:55.351Z"
   },
   {
    "duration": 15,
    "start_time": "2022-05-07T20:19:56.352Z"
   },
   {
    "duration": 3,
    "start_time": "2022-05-07T20:19:56.369Z"
   },
   {
    "duration": 6,
    "start_time": "2022-05-07T20:19:56.374Z"
   },
   {
    "duration": 3,
    "start_time": "2022-05-07T20:19:56.408Z"
   },
   {
    "duration": 1858,
    "start_time": "2022-05-07T20:19:56.412Z"
   },
   {
    "duration": 6,
    "start_time": "2022-05-07T20:32:32.677Z"
   },
   {
    "duration": 63,
    "start_time": "2022-05-07T20:32:32.685Z"
   },
   {
    "duration": 96,
    "start_time": "2022-05-07T20:32:32.751Z"
   },
   {
    "duration": 9,
    "start_time": "2022-05-07T20:32:32.849Z"
   },
   {
    "duration": 14,
    "start_time": "2022-05-07T20:32:32.861Z"
   },
   {
    "duration": 50,
    "start_time": "2022-05-07T20:32:32.877Z"
   },
   {
    "duration": 16,
    "start_time": "2022-05-07T20:32:32.928Z"
   },
   {
    "duration": 20,
    "start_time": "2022-05-07T20:32:32.946Z"
   },
   {
    "duration": 146,
    "start_time": "2022-05-07T20:32:32.968Z"
   },
   {
    "duration": 13,
    "start_time": "2022-05-07T20:32:33.116Z"
   },
   {
    "duration": 14,
    "start_time": "2022-05-07T20:32:33.132Z"
   },
   {
    "duration": 7,
    "start_time": "2022-05-07T20:32:33.148Z"
   },
   {
    "duration": 12,
    "start_time": "2022-05-07T20:32:33.157Z"
   },
   {
    "duration": 73,
    "start_time": "2022-05-07T20:32:33.171Z"
   },
   {
    "duration": 7,
    "start_time": "2022-05-07T20:32:33.246Z"
   },
   {
    "duration": 156,
    "start_time": "2022-05-07T20:32:33.254Z"
   },
   {
    "duration": 238,
    "start_time": "2022-05-07T20:32:33.412Z"
   },
   {
    "duration": 7,
    "start_time": "2022-05-07T20:32:33.652Z"
   },
   {
    "duration": 8,
    "start_time": "2022-05-07T20:32:33.661Z"
   },
   {
    "duration": 12,
    "start_time": "2022-05-07T20:32:33.670Z"
   },
   {
    "duration": 222,
    "start_time": "2022-05-07T20:32:33.683Z"
   },
   {
    "duration": 7,
    "start_time": "2022-05-07T20:32:33.908Z"
   },
   {
    "duration": 3918,
    "start_time": "2022-05-07T20:32:33.917Z"
   },
   {
    "duration": 200,
    "start_time": "2022-05-07T20:32:37.838Z"
   },
   {
    "duration": 148,
    "start_time": "2022-05-07T20:32:38.041Z"
   },
   {
    "duration": 22,
    "start_time": "2022-05-07T20:32:38.191Z"
   },
   {
    "duration": 234,
    "start_time": "2022-05-07T20:32:38.215Z"
   },
   {
    "duration": 2307,
    "start_time": "2022-05-07T20:32:38.451Z"
   },
   {
    "duration": 1174,
    "start_time": "2022-05-07T20:32:40.761Z"
   },
   {
    "duration": 15,
    "start_time": "2022-05-07T20:32:41.937Z"
   },
   {
    "duration": 4,
    "start_time": "2022-05-07T20:32:41.954Z"
   },
   {
    "duration": 6,
    "start_time": "2022-05-07T20:32:41.960Z"
   },
   {
    "duration": 3,
    "start_time": "2022-05-07T20:32:41.968Z"
   },
   {
    "duration": 1691,
    "start_time": "2022-05-07T20:32:41.972Z"
   },
   {
    "duration": 1283,
    "start_time": "2022-05-08T08:46:14.628Z"
   },
   {
    "duration": 60,
    "start_time": "2022-05-08T08:46:15.913Z"
   },
   {
    "duration": 72,
    "start_time": "2022-05-08T08:46:15.976Z"
   },
   {
    "duration": 28,
    "start_time": "2022-05-08T08:46:16.051Z"
   },
   {
    "duration": 12,
    "start_time": "2022-05-08T08:46:16.081Z"
   },
   {
    "duration": 17,
    "start_time": "2022-05-08T08:46:16.096Z"
   },
   {
    "duration": 14,
    "start_time": "2022-05-08T08:46:16.115Z"
   },
   {
    "duration": 53,
    "start_time": "2022-05-08T08:46:16.131Z"
   },
   {
    "duration": 115,
    "start_time": "2022-05-08T08:46:16.186Z"
   },
   {
    "duration": 12,
    "start_time": "2022-05-08T08:46:16.304Z"
   },
   {
    "duration": 11,
    "start_time": "2022-05-08T08:46:16.317Z"
   },
   {
    "duration": 7,
    "start_time": "2022-05-08T08:46:16.330Z"
   },
   {
    "duration": 9,
    "start_time": "2022-05-08T08:46:16.338Z"
   },
   {
    "duration": 556,
    "start_time": "2022-05-08T08:46:16.374Z"
   },
   {
    "duration": 45,
    "start_time": "2022-05-08T08:46:16.932Z"
   },
   {
    "duration": 138,
    "start_time": "2022-05-08T08:46:16.979Z"
   },
   {
    "duration": 225,
    "start_time": "2022-05-08T08:46:17.119Z"
   },
   {
    "duration": 5,
    "start_time": "2022-05-08T08:46:17.346Z"
   },
   {
    "duration": 20,
    "start_time": "2022-05-08T08:46:17.353Z"
   },
   {
    "duration": 12,
    "start_time": "2022-05-08T08:46:17.375Z"
   },
   {
    "duration": 194,
    "start_time": "2022-05-08T08:46:17.389Z"
   },
   {
    "duration": 5,
    "start_time": "2022-05-08T08:46:17.585Z"
   },
   {
    "duration": 3710,
    "start_time": "2022-05-08T08:46:17.592Z"
   },
   {
    "duration": 167,
    "start_time": "2022-05-08T08:46:21.303Z"
   },
   {
    "duration": 126,
    "start_time": "2022-05-08T08:46:21.473Z"
   },
   {
    "duration": 12,
    "start_time": "2022-05-08T08:46:21.601Z"
   },
   {
    "duration": 203,
    "start_time": "2022-05-08T08:46:21.614Z"
   },
   {
    "duration": 2345,
    "start_time": "2022-05-08T08:46:21.820Z"
   },
   {
    "duration": 1000,
    "start_time": "2022-05-08T08:46:24.167Z"
   },
   {
    "duration": 13,
    "start_time": "2022-05-08T08:46:25.173Z"
   },
   {
    "duration": 7,
    "start_time": "2022-05-08T08:46:25.188Z"
   },
   {
    "duration": 12,
    "start_time": "2022-05-08T08:46:25.197Z"
   },
   {
    "duration": 5,
    "start_time": "2022-05-08T08:46:25.211Z"
   },
   {
    "duration": 1782,
    "start_time": "2022-05-08T08:46:25.218Z"
   },
   {
    "duration": 120,
    "start_time": "2022-05-08T09:06:52.164Z"
   },
   {
    "duration": 51,
    "start_time": "2022-05-08T09:12:46.978Z"
   },
   {
    "duration": 55,
    "start_time": "2022-05-08T09:12:58.252Z"
   },
   {
    "duration": 48,
    "start_time": "2022-05-08T09:13:31.588Z"
   },
   {
    "duration": 55,
    "start_time": "2022-05-08T09:14:24.532Z"
   },
   {
    "duration": 48,
    "start_time": "2022-05-08T09:20:57.384Z"
   },
   {
    "duration": 1394,
    "start_time": "2022-05-08T09:21:09.561Z"
   },
   {
    "duration": 63,
    "start_time": "2022-05-08T09:21:10.957Z"
   },
   {
    "duration": 69,
    "start_time": "2022-05-08T09:21:11.022Z"
   },
   {
    "duration": 6,
    "start_time": "2022-05-08T09:21:11.093Z"
   },
   {
    "duration": 9,
    "start_time": "2022-05-08T09:21:11.101Z"
   },
   {
    "duration": 20,
    "start_time": "2022-05-08T09:21:11.111Z"
   },
   {
    "duration": 10,
    "start_time": "2022-05-08T09:21:11.133Z"
   },
   {
    "duration": 19,
    "start_time": "2022-05-08T09:21:11.145Z"
   },
   {
    "duration": 127,
    "start_time": "2022-05-08T09:21:11.165Z"
   },
   {
    "duration": 63,
    "start_time": "2022-05-08T09:21:11.295Z"
   },
   {
    "duration": 14,
    "start_time": "2022-05-08T09:21:11.359Z"
   },
   {
    "duration": 7,
    "start_time": "2022-05-08T09:21:11.375Z"
   },
   {
    "duration": 8,
    "start_time": "2022-05-08T09:21:11.384Z"
   },
   {
    "duration": 639,
    "start_time": "2022-05-08T09:21:11.394Z"
   },
   {
    "duration": 7,
    "start_time": "2022-05-08T09:21:12.034Z"
   },
   {
    "duration": 309,
    "start_time": "2022-05-08T09:21:12.043Z"
   },
   {
    "duration": 297,
    "start_time": "2022-05-08T09:21:12.354Z"
   },
   {
    "duration": 5,
    "start_time": "2022-05-08T09:21:12.653Z"
   },
   {
    "duration": 6,
    "start_time": "2022-05-08T09:21:12.660Z"
   },
   {
    "duration": 9,
    "start_time": "2022-05-08T09:21:12.667Z"
   },
   {
    "duration": 227,
    "start_time": "2022-05-08T09:21:12.678Z"
   },
   {
    "duration": 7,
    "start_time": "2022-05-08T09:21:12.909Z"
   },
   {
    "duration": 4137,
    "start_time": "2022-05-08T09:21:12.918Z"
   },
   {
    "duration": 197,
    "start_time": "2022-05-08T09:21:17.057Z"
   },
   {
    "duration": 155,
    "start_time": "2022-05-08T09:21:17.256Z"
   },
   {
    "duration": 14,
    "start_time": "2022-05-08T09:21:17.413Z"
   },
   {
    "duration": 233,
    "start_time": "2022-05-08T09:21:17.429Z"
   },
   {
    "duration": 2013,
    "start_time": "2022-05-08T09:21:17.665Z"
   },
   {
    "duration": 1077,
    "start_time": "2022-05-08T09:21:19.680Z"
   },
   {
    "duration": 16,
    "start_time": "2022-05-08T09:21:20.760Z"
   },
   {
    "duration": 4,
    "start_time": "2022-05-08T09:21:20.778Z"
   },
   {
    "duration": 6,
    "start_time": "2022-05-08T09:21:20.810Z"
   },
   {
    "duration": 4,
    "start_time": "2022-05-08T09:21:20.819Z"
   },
   {
    "duration": 1920,
    "start_time": "2022-05-08T09:21:20.826Z"
   },
   {
    "duration": 74,
    "start_time": "2022-05-08T09:25:18.791Z"
   },
   {
    "duration": 60,
    "start_time": "2022-05-08T09:25:35.543Z"
   },
   {
    "duration": 187,
    "start_time": "2022-05-08T09:31:25.210Z"
   },
   {
    "duration": 296,
    "start_time": "2022-05-08T09:32:07.411Z"
   },
   {
    "duration": 218,
    "start_time": "2022-05-08T09:32:10.561Z"
   },
   {
    "duration": 140,
    "start_time": "2022-05-08T09:32:15.775Z"
   },
   {
    "duration": 218,
    "start_time": "2022-05-08T09:32:18.721Z"
   },
   {
    "duration": 122,
    "start_time": "2022-05-08T09:34:33.965Z"
   },
   {
    "duration": 126,
    "start_time": "2022-05-08T09:34:56.144Z"
   },
   {
    "duration": 262,
    "start_time": "2022-05-08T09:35:05.065Z"
   },
   {
    "duration": 216,
    "start_time": "2022-05-08T09:35:13.248Z"
   },
   {
    "duration": 222,
    "start_time": "2022-05-08T09:35:16.807Z"
   },
   {
    "duration": 27,
    "start_time": "2022-05-08T09:42:30.864Z"
   },
   {
    "duration": 12,
    "start_time": "2022-05-08T09:43:07.569Z"
   },
   {
    "duration": 21,
    "start_time": "2022-05-08T09:43:08.799Z"
   },
   {
    "duration": 18,
    "start_time": "2022-05-08T09:43:21.272Z"
   },
   {
    "duration": 22,
    "start_time": "2022-05-08T09:43:55.759Z"
   },
   {
    "duration": 14,
    "start_time": "2022-05-08T09:44:30.992Z"
   },
   {
    "duration": 140,
    "start_time": "2022-05-08T09:45:12.967Z"
   },
   {
    "duration": 133,
    "start_time": "2022-05-08T09:45:26.928Z"
   },
   {
    "duration": 175,
    "start_time": "2022-05-08T09:45:41.098Z"
   },
   {
    "duration": 159,
    "start_time": "2022-05-08T09:45:46.247Z"
   },
   {
    "duration": 20,
    "start_time": "2022-05-08T09:53:42.646Z"
   },
   {
    "duration": 194,
    "start_time": "2022-05-08T09:53:43.501Z"
   },
   {
    "duration": 994,
    "start_time": "2022-05-08T09:54:37.872Z"
   },
   {
    "duration": 210,
    "start_time": "2022-05-08T09:54:39.190Z"
   },
   {
    "duration": 21,
    "start_time": "2022-05-08T09:55:13.248Z"
   },
   {
    "duration": 220,
    "start_time": "2022-05-08T09:55:14.189Z"
   },
   {
    "duration": 313,
    "start_time": "2022-05-08T09:55:47.437Z"
   },
   {
    "duration": 292,
    "start_time": "2022-05-08T09:56:12.861Z"
   },
   {
    "duration": 298,
    "start_time": "2022-05-08T10:00:54.798Z"
   },
   {
    "duration": 1516,
    "start_time": "2022-11-06T21:13:54.442Z"
   },
   {
    "duration": 280,
    "start_time": "2022-11-06T21:13:55.960Z"
   },
   {
    "duration": 64,
    "start_time": "2022-11-06T21:13:56.242Z"
   },
   {
    "duration": 79,
    "start_time": "2022-11-06T21:13:56.309Z"
   },
   {
    "duration": 8,
    "start_time": "2022-11-06T21:13:56.390Z"
   },
   {
    "duration": 21,
    "start_time": "2022-11-06T21:13:56.401Z"
   },
   {
    "duration": 20,
    "start_time": "2022-11-06T21:13:56.434Z"
   },
   {
    "duration": 21,
    "start_time": "2022-11-06T21:13:56.456Z"
   },
   {
    "duration": 77,
    "start_time": "2022-11-06T21:13:56.479Z"
   },
   {
    "duration": 141,
    "start_time": "2022-11-06T21:13:56.560Z"
   },
   {
    "duration": 16,
    "start_time": "2022-11-06T21:13:56.703Z"
   },
   {
    "duration": 25,
    "start_time": "2022-11-06T21:13:56.721Z"
   },
   {
    "duration": 9,
    "start_time": "2022-11-06T21:13:56.749Z"
   },
   {
    "duration": 23,
    "start_time": "2022-11-06T21:13:56.759Z"
   },
   {
    "duration": 470,
    "start_time": "2022-11-06T21:13:56.784Z"
   },
   {
    "duration": 6,
    "start_time": "2022-11-06T21:13:57.256Z"
   },
   {
    "duration": 229,
    "start_time": "2022-11-06T21:13:57.264Z"
   },
   {
    "duration": 248,
    "start_time": "2022-11-06T21:13:57.495Z"
   },
   {
    "duration": 5,
    "start_time": "2022-11-06T21:13:57.745Z"
   },
   {
    "duration": 9,
    "start_time": "2022-11-06T21:13:57.752Z"
   },
   {
    "duration": 11,
    "start_time": "2022-11-06T21:13:57.763Z"
   },
   {
    "duration": 202,
    "start_time": "2022-11-06T21:13:57.775Z"
   },
   {
    "duration": 20,
    "start_time": "2022-11-06T21:13:57.978Z"
   },
   {
    "duration": 355,
    "start_time": "2022-11-06T21:13:58.000Z"
   },
   {
    "duration": 198,
    "start_time": "2022-11-06T21:13:58.357Z"
   },
   {
    "duration": 147,
    "start_time": "2022-11-06T21:13:58.556Z"
   },
   {
    "duration": 14,
    "start_time": "2022-11-06T21:13:58.705Z"
   },
   {
    "duration": 237,
    "start_time": "2022-11-06T21:13:58.721Z"
   },
   {
    "duration": 2354,
    "start_time": "2022-11-06T21:13:58.960Z"
   },
   {
    "duration": 996,
    "start_time": "2022-11-06T21:14:01.316Z"
   },
   {
    "duration": 24,
    "start_time": "2022-11-06T21:14:02.313Z"
   },
   {
    "duration": 3,
    "start_time": "2022-11-06T21:14:02.339Z"
   },
   {
    "duration": 11,
    "start_time": "2022-11-06T21:14:02.344Z"
   },
   {
    "duration": 24,
    "start_time": "2022-11-06T21:14:02.357Z"
   },
   {
    "duration": 1837,
    "start_time": "2022-11-06T21:14:02.382Z"
   },
   {
    "duration": 1529,
    "start_time": "2022-11-21T07:40:35.061Z"
   },
   {
    "duration": 124,
    "start_time": "2022-11-21T07:40:36.592Z"
   },
   {
    "duration": 55,
    "start_time": "2022-11-21T07:40:36.718Z"
   },
   {
    "duration": 60,
    "start_time": "2022-11-21T07:40:36.775Z"
   },
   {
    "duration": 8,
    "start_time": "2022-11-21T07:40:36.837Z"
   },
   {
    "duration": 41,
    "start_time": "2022-11-21T07:40:36.847Z"
   },
   {
    "duration": 19,
    "start_time": "2022-11-21T07:40:36.889Z"
   },
   {
    "duration": 10,
    "start_time": "2022-11-21T07:40:36.910Z"
   },
   {
    "duration": 18,
    "start_time": "2022-11-21T07:40:36.922Z"
   },
   {
    "duration": 155,
    "start_time": "2022-11-21T07:40:36.943Z"
   },
   {
    "duration": 13,
    "start_time": "2022-11-21T07:40:37.100Z"
   },
   {
    "duration": 13,
    "start_time": "2022-11-21T07:40:37.115Z"
   },
   {
    "duration": 8,
    "start_time": "2022-11-21T07:40:37.130Z"
   },
   {
    "duration": 11,
    "start_time": "2022-11-21T07:40:37.140Z"
   },
   {
    "duration": 521,
    "start_time": "2022-11-21T07:40:37.184Z"
   },
   {
    "duration": 8,
    "start_time": "2022-11-21T07:40:37.706Z"
   },
   {
    "duration": 280,
    "start_time": "2022-11-21T07:40:37.716Z"
   },
   {
    "duration": 250,
    "start_time": "2022-11-21T07:40:37.998Z"
   },
   {
    "duration": 6,
    "start_time": "2022-11-21T07:40:38.250Z"
   },
   {
    "duration": 37,
    "start_time": "2022-11-21T07:40:38.258Z"
   },
   {
    "duration": 28,
    "start_time": "2022-11-21T07:40:38.297Z"
   },
   {
    "duration": 200,
    "start_time": "2022-11-21T07:40:38.327Z"
   },
   {
    "duration": 21,
    "start_time": "2022-11-21T07:40:38.528Z"
   },
   {
    "duration": 354,
    "start_time": "2022-11-21T07:40:38.551Z"
   },
   {
    "duration": 195,
    "start_time": "2022-11-21T07:40:38.906Z"
   },
   {
    "duration": 156,
    "start_time": "2022-11-21T07:40:39.102Z"
   },
   {
    "duration": 27,
    "start_time": "2022-11-21T07:40:39.260Z"
   },
   {
    "duration": 222,
    "start_time": "2022-11-21T07:40:39.295Z"
   },
   {
    "duration": 2138,
    "start_time": "2022-11-21T07:40:39.518Z"
   },
   {
    "duration": 1038,
    "start_time": "2022-11-21T07:40:41.658Z"
   },
   {
    "duration": 15,
    "start_time": "2022-11-21T07:40:42.697Z"
   },
   {
    "duration": 4,
    "start_time": "2022-11-21T07:40:42.714Z"
   },
   {
    "duration": 7,
    "start_time": "2022-11-21T07:40:42.719Z"
   },
   {
    "duration": 5,
    "start_time": "2022-11-21T07:40:42.728Z"
   },
   {
    "duration": 1998,
    "start_time": "2022-11-21T07:40:42.735Z"
   },
   {
    "duration": 116,
    "start_time": "2022-11-21T07:42:34.624Z"
   },
   {
    "duration": 51,
    "start_time": "2022-11-21T07:49:36.841Z"
   },
   {
    "duration": 275,
    "start_time": "2022-11-21T07:55:23.646Z"
   },
   {
    "duration": 323,
    "start_time": "2022-11-21T07:59:29.798Z"
   },
   {
    "duration": 19,
    "start_time": "2022-11-21T08:00:21.550Z"
   },
   {
    "duration": 323,
    "start_time": "2022-11-21T08:00:22.039Z"
   },
   {
    "duration": 208,
    "start_time": "2022-11-21T08:05:26.553Z"
   },
   {
    "duration": 3076,
    "start_time": "2022-11-21T08:10:25.365Z"
   },
   {
    "duration": 423,
    "start_time": "2022-11-21T08:11:42.123Z"
   },
   {
    "duration": 464,
    "start_time": "2022-11-21T08:11:59.322Z"
   },
   {
    "duration": 3031,
    "start_time": "2022-11-21T08:12:12.154Z"
   },
   {
    "duration": 2947,
    "start_time": "2022-11-21T08:13:33.994Z"
   }
  ],
  "kernelspec": {
   "display_name": "Python 3 (ipykernel)",
   "language": "python",
   "name": "python3"
  },
  "language_info": {
   "codemirror_mode": {
    "name": "ipython",
    "version": 3
   },
   "file_extension": ".py",
   "mimetype": "text/x-python",
   "name": "python",
   "nbconvert_exporter": "python",
   "pygments_lexer": "ipython3",
   "version": "3.9.5"
  },
  "toc": {
   "base_numbering": 1,
   "nav_menu": {},
   "number_sections": true,
   "sideBar": true,
   "skip_h1_title": true,
   "title_cell": "Table of Contents",
   "title_sidebar": "Contents",
   "toc_cell": false,
   "toc_position": {},
   "toc_section_display": true,
   "toc_window_display": false
  }
 },
 "nbformat": 4,
 "nbformat_minor": 2
}
